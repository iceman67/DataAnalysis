{
 "cells": [
  {
   "cell_type": "code",
   "execution_count": 1,
   "metadata": {},
   "outputs": [],
   "source": [
    "from bs4 import BeautifulSoup"
   ]
  },
  {
   "cell_type": "code",
   "execution_count": 2,
   "metadata": {},
   "outputs": [],
   "source": [
    "html_doc = \"\"\"\n",
    "<html><head><title>The Dormouse's story</title></head>\n",
    "\n",
    "<p class=\"title\"><b>The Dormouse's story</b></p>\n",
    "\n",
    "<p class=\"story\">Once upon a time there were three little sisters; and their names were\n",
    "<a href=\"http://example.com/elsie\" class=\"sister\" id=\"link1\">Elsie</a>,\n",
    "<a href=\"http://example.com/lacie\" class=\"sister\" id=\"link2\">Lacie</a> and\n",
    "<a href=\"http://example.com/tillie\" class=\"sister\" id=\"link3\">Tillie</a>;\n",
    "and they lived at the bottom of a well.</p>\n",
    "\n",
    "<p class=\"story\">...</p>\n",
    "\"\"\""
   ]
  },
  {
   "cell_type": "code",
   "execution_count": 3,
   "metadata": {},
   "outputs": [
    {
     "name": "stdout",
     "output_type": "stream",
     "text": [
      "<html>\n",
      " <head>\n",
      "  <title>\n",
      "   The Dormouse's story\n",
      "  </title>\n",
      " </head>\n",
      " <body>\n",
      "  <p class=\"title\">\n",
      "   <b>\n",
      "    The Dormouse's story\n",
      "   </b>\n",
      "  </p>\n",
      "  <p class=\"story\">\n",
      "   Once upon a time there were three little sisters; and their names were\n",
      "   <a class=\"sister\" href=\"http://example.com/elsie\" id=\"link1\">\n",
      "    Elsie\n",
      "   </a>\n",
      "   ,\n",
      "   <a class=\"sister\" href=\"http://example.com/lacie\" id=\"link2\">\n",
      "    Lacie\n",
      "   </a>\n",
      "   and\n",
      "   <a class=\"sister\" href=\"http://example.com/tillie\" id=\"link3\">\n",
      "    Tillie\n",
      "   </a>\n",
      "   ;\n",
      "and they lived at the bottom of a well.\n",
      "  </p>\n",
      "  <p class=\"story\">\n",
      "   ...\n",
      "  </p>\n",
      " </body>\n",
      "</html>\n"
     ]
    }
   ],
   "source": [
    "soup = BeautifulSoup(html_doc)\n",
    "\n",
    "print(soup.prettify())"
   ]
  },
  {
   "cell_type": "code",
   "execution_count": 4,
   "metadata": {},
   "outputs": [
    {
     "data": {
      "text/plain": [
       "<title>The Dormouse's story</title>"
      ]
     },
     "execution_count": 4,
     "metadata": {},
     "output_type": "execute_result"
    }
   ],
   "source": [
    "soup.title\n",
    "# <title>The Dormouse's story</title>"
   ]
  },
  {
   "cell_type": "code",
   "execution_count": 5,
   "metadata": {},
   "outputs": [
    {
     "data": {
      "text/plain": [
       "'title'"
      ]
     },
     "execution_count": 5,
     "metadata": {},
     "output_type": "execute_result"
    }
   ],
   "source": [
    "soup.title.name\n",
    "# u'title'"
   ]
  },
  {
   "cell_type": "code",
   "execution_count": 6,
   "metadata": {},
   "outputs": [
    {
     "data": {
      "text/plain": [
       "\"The Dormouse's story\""
      ]
     },
     "execution_count": 6,
     "metadata": {},
     "output_type": "execute_result"
    }
   ],
   "source": [
    "soup.title.string\n",
    "# u'The Dormouse's story'"
   ]
  },
  {
   "cell_type": "code",
   "execution_count": 7,
   "metadata": {},
   "outputs": [
    {
     "data": {
      "text/plain": [
       "<p class=\"title\"><b>The Dormouse's story</b></p>"
      ]
     },
     "execution_count": 7,
     "metadata": {},
     "output_type": "execute_result"
    }
   ],
   "source": [
    "soup.p\n",
    "# <p class=\"title\"><b>The Dormouse's story</b></p>"
   ]
  },
  {
   "cell_type": "code",
   "execution_count": 8,
   "metadata": {},
   "outputs": [
    {
     "data": {
      "text/plain": [
       "['title']"
      ]
     },
     "execution_count": 8,
     "metadata": {},
     "output_type": "execute_result"
    }
   ],
   "source": [
    "soup.p['class']\n",
    "# u'title'"
   ]
  },
  {
   "cell_type": "code",
   "execution_count": 9,
   "metadata": {},
   "outputs": [
    {
     "data": {
      "text/plain": [
       "'head'"
      ]
     },
     "execution_count": 9,
     "metadata": {},
     "output_type": "execute_result"
    }
   ],
   "source": [
    "soup.title.parent.name\n",
    "# u'head'"
   ]
  },
  {
   "cell_type": "code",
   "execution_count": 10,
   "metadata": {},
   "outputs": [
    {
     "data": {
      "text/plain": [
       "<a class=\"sister\" href=\"http://example.com/elsie\" id=\"link1\">Elsie</a>"
      ]
     },
     "execution_count": 10,
     "metadata": {},
     "output_type": "execute_result"
    }
   ],
   "source": [
    "soup.a\n",
    "# <a class=\"sister\" href=\"http://example.com/elsie\" id=\"link1\">Elsie</a>"
   ]
  },
  {
   "cell_type": "code",
   "execution_count": 11,
   "metadata": {},
   "outputs": [
    {
     "data": {
      "text/plain": [
       "[<a class=\"sister\" href=\"http://example.com/elsie\" id=\"link1\">Elsie</a>,\n",
       " <a class=\"sister\" href=\"http://example.com/lacie\" id=\"link2\">Lacie</a>,\n",
       " <a class=\"sister\" href=\"http://example.com/tillie\" id=\"link3\">Tillie</a>]"
      ]
     },
     "execution_count": 11,
     "metadata": {},
     "output_type": "execute_result"
    }
   ],
   "source": [
    "soup.find_all('a')\n",
    "# [<a class=\"sister\" href=\"http://example.com/elsie\" id=\"link1\">Elsie</a>,\n",
    "#  <a class=\"sister\" href=\"http://example.com/lacie\" id=\"link2\">Lacie</a>,\n",
    "#  <a class=\"sister\" href=\"http://example.com/tillie\" id=\"link3\">Tillie</a>]"
   ]
  },
  {
   "cell_type": "code",
   "execution_count": 12,
   "metadata": {},
   "outputs": [
    {
     "data": {
      "text/plain": [
       "<a class=\"sister\" href=\"http://example.com/tillie\" id=\"link3\">Tillie</a>"
      ]
     },
     "execution_count": 12,
     "metadata": {},
     "output_type": "execute_result"
    }
   ],
   "source": [
    "soup.find(id=\"link3\")\n",
    "# <a class=\"sister\" href=\"http://example.com/tillie\" id=\"link3\">Tillie</a>"
   ]
  },
  {
   "cell_type": "code",
   "execution_count": 13,
   "metadata": {},
   "outputs": [
    {
     "name": "stdout",
     "output_type": "stream",
     "text": [
      "http://example.com/elsie\n",
      "http://example.com/lacie\n",
      "http://example.com/tillie\n"
     ]
    }
   ],
   "source": [
    "for link in soup.find_all('a'):\n",
    "    print(link.get('href'))\n",
    "# http://example.com/elsie\n",
    "# http://example.com/lacie\n",
    "# http://example.com/tillie"
   ]
  },
  {
   "cell_type": "markdown",
   "metadata": {},
   "source": [
    "XML 문서 파싱 및 처리"
   ]
  },
  {
   "cell_type": "code",
   "execution_count": 14,
   "metadata": {},
   "outputs": [],
   "source": [
    "from bs4 import BeautifulSoup"
   ]
  },
  {
   "cell_type": "code",
   "execution_count": 15,
   "metadata": {},
   "outputs": [],
   "source": [
    "with open(\"book.xml\", \"r\", encoding = \"utf-8\") as book_xml:\n",
    "      xml = book_xml.read()\n",
    "soup = BeautifulSoup(xml,\"html.parser\")\n"
   ]
  },
  {
   "cell_type": "code",
   "execution_count": 16,
   "metadata": {},
   "outputs": [
    {
     "name": "stdout",
     "output_type": "stream",
     "text": [
      "태백산맥\n",
      "Inside XML\n",
      "쉽게 배우는 영어\n"
     ]
    }
   ],
   "source": [
    "titles = soup.find_all('title')\n",
    "for title in titles:\n",
    "    print(title.get_text())\n",
    "  "
   ]
  },
  {
   "cell_type": "code",
   "execution_count": 17,
   "metadata": {},
   "outputs": [],
   "source": [
    "titles = soup.find_all('title')\n",
    "authors = soup.find_all('author')\n",
    "publishers = soup.find_all('publisher')\n",
    "prices = soup.find_all('price')"
   ]
  },
  {
   "cell_type": "code",
   "execution_count": 18,
   "metadata": {},
   "outputs": [
    {
     "name": "stdout",
     "output_type": "stream",
     "text": [
      "태백산맥,조정래,25000 원 \n",
      "Inside XML,홍질동,35000 원 \n",
      "쉽게 배우는 영어,채규태,20000 원 \n"
     ]
    }
   ],
   "source": [
    "for i in range(0, len(titles)):\n",
    "    print(titles[i].get_text(), end=',')\n",
    "    print(authors[i].get_text(),end=',')\n",
    "    print(prices[i].get_text(), \"원 \")\n",
    "     "
   ]
  },
  {
   "cell_type": "code",
   "execution_count": 19,
   "metadata": {},
   "outputs": [],
   "source": [
    "from bs4 import BeautifulSoup\n",
    "import requests as req\n",
    "    \n",
    "basic_url = \"http://www.kma.go.kr/XML/weather/sfc_web_map.xml\"\n",
    "resp = req.get(basic_url)\n",
    "#resp.content"
   ]
  },
  {
   "cell_type": "code",
   "execution_count": 20,
   "metadata": {},
   "outputs": [],
   "source": [
    "soup = BeautifulSoup(resp.content, \"xml\") "
   ]
  },
  {
   "cell_type": "code",
   "execution_count": 21,
   "metadata": {},
   "outputs": [
    {
     "data": {
      "text/plain": [
       "<?xml version=\"1.0\" encoding=\"utf-8\"?>\n",
       "<current xmlns:=\"current\">\n",
       "<weather day=\"05\" hour=\"00\" month=\"06\" year=\"2020\">\n",
       "<local desc=\"맑음\" icon=\"01\" stn_id=\"90\" ta=\"24.1\">속초</local>\n",
       "<local desc=\"박무\" icon=\"17\" stn_id=\"93\" ta=\"19.8\">북춘천</local>\n",
       "<local desc=\"구름많음\" icon=\"03\" stn_id=\"95\" ta=\"18.2\">철원</local>\n",
       "<local desc=\"구름많음\" icon=\"03\" stn_id=\"98\" ta=\"18.8\">동두천</local>\n",
       "<local desc=\"구름많음\" icon=\"03\" stn_id=\"99\" ta=\"18.3\">파주</local>\n",
       "<local desc=\"맑음\" icon=\"01\" stn_id=\"100\" ta=\"18.7\">대관령</local>\n",
       "<local desc=\"-\" icon=\"\" stn_id=\"101\" ta=\"21.8\">춘천</local>\n",
       "<local desc=\"맑음\" icon=\"01\" rn_hr1=\"0.0\" stn_id=\"102\" ta=\"14.1\">백령도</local>\n",
       "<local desc=\"맑음\" icon=\"01\" stn_id=\"104\" ta=\"23.0\">북강릉</local>\n",
       "<local desc=\"맑음\" icon=\"01\" stn_id=\"105\" ta=\"25.7\">강릉</local>\n",
       "<local desc=\"맑음\" icon=\"01\" stn_id=\"106\" ta=\"25.2\">동해</local>\n",
       "<local desc=\"흐림\" icon=\"04\" rn_hr1=\"0.2\" stn_id=\"108\" ta=\"19.7\">서울</local>\n",
       "<local desc=\"비\" icon=\"08\" rn_hr1=\"0.9\" stn_id=\"112\" ta=\"18.1\">인천</local>\n",
       "<local desc=\"구름많음\" icon=\"03\" stn_id=\"114\" ta=\"22.6\">원주</local>\n",
       "<local desc=\"맑음\" icon=\"01\" stn_id=\"115\" ta=\"25.8\">울릉도</local>\n",
       "<local desc=\"비\" icon=\"08\" rn_hr1=\"0.4\" stn_id=\"119\" ta=\"19.1\">수원</local>\n",
       "<local desc=\"구름많음\" icon=\"03\" stn_id=\"121\" ta=\"23.6\">영월</local>\n",
       "<local desc=\"구름많음\" icon=\"03\" stn_id=\"127\" ta=\"23.1\">충주</local>\n",
       "<local desc=\"흐림\" icon=\"04\" stn_id=\"129\" ta=\"18.4\">서산</local>\n",
       "<local desc=\"구름조금\" icon=\"02\" stn_id=\"130\" ta=\"25.2\">울진</local>\n",
       "<local desc=\"박무\" icon=\"17\" stn_id=\"131\" ta=\"23.1\">청주</local>\n",
       "<local desc=\"흐림\" icon=\"04\" stn_id=\"133\" ta=\"22.7\">대전</local>\n",
       "<local desc=\"맑음\" icon=\"01\" stn_id=\"135\" ta=\"22.0\">추풍령</local>\n",
       "<local desc=\"맑음\" icon=\"01\" stn_id=\"136\" ta=\"23.6\">안동</local>\n",
       "<local desc=\"맑음\" icon=\"01\" stn_id=\"137\" ta=\"23.7\">상주</local>\n",
       "<local desc=\"맑음\" icon=\"01\" stn_id=\"138\" ta=\"27.4\">포항</local>\n",
       "<local desc=\"구름많음\" icon=\"03\" stn_id=\"140\" ta=\"21.1\">군산</local>\n",
       "<local desc=\"맑음\" icon=\"01\" stn_id=\"143\" ta=\"27.0\">대구</local>\n",
       "<local desc=\"맑음\" icon=\"01\" stn_id=\"146\" ta=\"21.0\">전주</local>\n",
       "<local desc=\"맑음\" icon=\"01\" stn_id=\"152\" ta=\"25.1\">울산</local>\n",
       "<local desc=\"맑음\" icon=\"01\" stn_id=\"155\" ta=\"20.1\">창원</local>\n",
       "<local desc=\"맑음\" icon=\"01\" stn_id=\"156\" ta=\"21.9\">광주</local>\n",
       "<local desc=\"맑음\" icon=\"01\" stn_id=\"159\" ta=\"22.2\">부산</local>\n",
       "<local desc=\"맑음\" icon=\"01\" stn_id=\"162\" ta=\"19.4\">통영</local>\n",
       "<local desc=\"박무\" icon=\"17\" stn_id=\"165\" ta=\"19.9\">목포</local>\n",
       "<local desc=\"맑음\" icon=\"01\" stn_id=\"168\" ta=\"20.9\">여수</local>\n",
       "<local desc=\"안개\" icon=\"15\" stn_id=\"169\" ta=\"15.0\">흑산도</local>\n",
       "<local desc=\"맑음\" icon=\"01\" stn_id=\"170\" ta=\"19.2\">완도</local>\n",
       "<local desc=\"맑음\" icon=\"01\" stn_id=\"172\" ta=\"20.5\">고창</local>\n",
       "<local desc=\"맑음\" icon=\"01\" stn_id=\"174\" ta=\"18.8\">순천</local>\n",
       "<local desc=\"비\" icon=\"08\" rn_hr1=\"0.0\" stn_id=\"177\" ta=\"18.9\">홍성</local>\n",
       "<local desc=\"구름많음\" icon=\"03\" stn_id=\"184\" ta=\"19.2\">제주</local>\n",
       "<local desc=\"맑음\" icon=\"01\" stn_id=\"185\" ta=\"19.1\">고산</local>\n",
       "<local desc=\"맑음\" icon=\"01\" stn_id=\"188\" ta=\"17.9\">성산</local>\n",
       "<local desc=\"맑음\" icon=\"01\" stn_id=\"189\" ta=\"21.7\">서귀포</local>\n",
       "<local desc=\"맑음\" icon=\"01\" stn_id=\"192\" ta=\"19.9\">진주</local>\n",
       "<local desc=\"구름조금\" icon=\"02\" rn_hr1=\"0.2\" stn_id=\"201\" ta=\"16.7\">강화</local>\n",
       "<local desc=\"구름많음\" icon=\"03\" stn_id=\"202\" ta=\"21.6\">양평</local>\n",
       "<local desc=\"흐림\" icon=\"04\" rn_hr1=\"0.0\" stn_id=\"203\" ta=\"21.3\">이천</local>\n",
       "<local desc=\"맑음\" icon=\"01\" stn_id=\"211\" ta=\"18.9\">인제</local>\n",
       "<local desc=\"구름조금\" icon=\"02\" stn_id=\"212\" ta=\"22.4\">홍천</local>\n",
       "<local desc=\"맑음\" icon=\"01\" stn_id=\"216\" ta=\"21.3\">태백</local>\n",
       "<local desc=\"구름조금\" icon=\"02\" stn_id=\"217\" ta=\"22.5\">정선군</local>\n",
       "<local desc=\"구름많음\" icon=\"03\" stn_id=\"221\" ta=\"22.6\">제천</local>\n",
       "<local desc=\"흐림\" icon=\"04\" stn_id=\"226\" ta=\"22.4\">보은</local>\n",
       "<local desc=\"흐림\" icon=\"04\" stn_id=\"232\" ta=\"22.4\">천안</local>\n",
       "<local desc=\"흐림\" icon=\"04\" rn_hr1=\"0.2\" stn_id=\"235\" ta=\"18.5\">보령</local>\n",
       "<local desc=\"흐림\" icon=\"04\" stn_id=\"236\" ta=\"20.4\">부여</local>\n",
       "<local desc=\"구름많음\" icon=\"03\" stn_id=\"238\" ta=\"22.5\">금산</local>\n",
       "<local desc=\"구름많음\" icon=\"03\" stn_id=\"239\" ta=\"21.7\">세종</local>\n",
       "<local desc=\"맑음\" icon=\"01\" stn_id=\"243\" ta=\"20.6\">부안</local>\n",
       "<local desc=\"맑음\" icon=\"01\" stn_id=\"244\" ta=\"18.9\">임실</local>\n",
       "<local desc=\"맑음\" icon=\"01\" rn_hr1=\"0.0\" stn_id=\"245\" ta=\"19.7\">정읍</local>\n",
       "<local desc=\"맑음\" icon=\"01\" rn_hr1=\"0.3\" stn_id=\"247\" ta=\"21.5\">남원</local>\n",
       "<local desc=\"맑음\" icon=\"01\" stn_id=\"248\" ta=\"18.8\">장수</local>\n",
       "<local desc=\"맑음\" icon=\"01\" stn_id=\"251\" ta=\"19.7\">고창군</local>\n",
       "<local desc=\"맑음\" icon=\"01\" stn_id=\"252\" ta=\"20.1\">영광군</local>\n",
       "<local desc=\"맑음\" icon=\"01\" stn_id=\"253\" ta=\"21.6\">김해시</local>\n",
       "<local desc=\"맑음\" icon=\"01\" stn_id=\"254\" ta=\"21.6\">순창군</local>\n",
       "<local desc=\"맑음\" icon=\"01\" stn_id=\"255\" ta=\"21.6\">북창원</local>\n",
       "<local desc=\"맑음\" icon=\"01\" stn_id=\"257\" ta=\"21.7\">양산시</local>\n",
       "<local desc=\"맑음\" icon=\"01\" stn_id=\"258\" ta=\"21.5\">보성군</local>\n",
       "<local desc=\"맑음\" icon=\"01\" stn_id=\"259\" ta=\"20.2\">강진군</local>\n",
       "<local desc=\"맑음\" icon=\"01\" stn_id=\"260\" ta=\"19.5\">장흥</local>\n",
       "<local desc=\"구름조금\" icon=\"02\" stn_id=\"261\" ta=\"18.8\">해남</local>\n",
       "<local desc=\"맑음\" icon=\"01\" stn_id=\"262\" ta=\"20.1\">고흥</local>\n",
       "<local desc=\"맑음\" icon=\"01\" stn_id=\"263\" ta=\"23.2\">의령군</local>\n",
       "<local desc=\"맑음\" icon=\"01\" stn_id=\"264\" ta=\"24.1\">함양군</local>\n",
       "<local desc=\"맑음\" icon=\"01\" stn_id=\"266\" ta=\"21.4\">광양시</local>\n",
       "<local desc=\"구름많음\" icon=\"03\" stn_id=\"268\" ta=\"18.3\">진도군</local>\n",
       "<local desc=\"맑음\" icon=\"01\" stn_id=\"271\" ta=\"18.0\">봉화</local>\n",
       "<local desc=\"구름조금\" icon=\"02\" stn_id=\"272\" ta=\"23.5\">영주</local>\n",
       "<local desc=\"구름조금\" icon=\"02\" stn_id=\"273\" ta=\"22.7\">문경</local>\n",
       "<local desc=\"맑음\" icon=\"01\" stn_id=\"276\" ta=\"18.4\">청송군</local>\n",
       "<local desc=\"맑음\" icon=\"01\" stn_id=\"277\" ta=\"26.7\">영덕</local>\n",
       "<local desc=\"맑음\" icon=\"01\" stn_id=\"278\" ta=\"19.3\">의성</local>\n",
       "<local desc=\"맑음\" icon=\"01\" stn_id=\"279\" ta=\"23.1\">구미</local>\n",
       "<local desc=\"맑음\" icon=\"01\" stn_id=\"281\" ta=\"22.4\">영천</local>\n",
       "<local desc=\"맑음\" icon=\"01\" stn_id=\"283\" ta=\"23.2\">경주시</local>\n",
       "<local desc=\"맑음\" icon=\"01\" stn_id=\"284\" ta=\"20.9\">거창</local>\n",
       "<local desc=\"맑음\" icon=\"01\" stn_id=\"285\" ta=\"22.6\">합천</local>\n",
       "<local desc=\"맑음\" icon=\"01\" stn_id=\"288\" ta=\"22.0\">밀양</local>\n",
       "<local desc=\"맑음\" icon=\"01\" stn_id=\"289\" ta=\"21.4\">산청</local>\n",
       "<local desc=\"맑음\" icon=\"01\" stn_id=\"294\" ta=\"22.7\">거제</local>\n",
       "<local desc=\"맑음\" icon=\"01\" stn_id=\"295\" ta=\"23.6\">남해</local>\n",
       "</weather>\n",
       "</current>"
      ]
     },
     "execution_count": 21,
     "metadata": {},
     "output_type": "execute_result"
    }
   ],
   "source": [
    "soup"
   ]
  },
  {
   "cell_type": "code",
   "execution_count": 22,
   "metadata": {},
   "outputs": [],
   "source": [
    "locals = soup.find_all('local')"
   ]
  },
  {
   "cell_type": "code",
   "execution_count": 23,
   "metadata": {},
   "outputs": [
    {
     "name": "stdout",
     "output_type": "stream",
     "text": [
      "속초,24.1,맑음\n",
      "북춘천,19.8,박무\n",
      "철원,18.2,구름많음\n",
      "동두천,18.8,구름많음\n",
      "파주,18.3,구름많음\n",
      "대관령,18.7,맑음\n",
      "춘천,21.8,-\n",
      "백령도,14.1,맑음\n",
      "북강릉,23.0,맑음\n",
      "강릉,25.7,맑음\n",
      "동해,25.2,맑음\n",
      "서울,19.7,흐림\n",
      "인천,18.1,비\n",
      "원주,22.6,구름많음\n",
      "울릉도,25.8,맑음\n",
      "수원,19.1,비\n",
      "영월,23.6,구름많음\n",
      "충주,23.1,구름많음\n",
      "서산,18.4,흐림\n",
      "울진,25.2,구름조금\n",
      "청주,23.1,박무\n",
      "대전,22.7,흐림\n",
      "추풍령,22.0,맑음\n",
      "안동,23.6,맑음\n",
      "상주,23.7,맑음\n",
      "포항,27.4,맑음\n",
      "군산,21.1,구름많음\n",
      "대구,27.0,맑음\n",
      "전주,21.0,맑음\n",
      "울산,25.1,맑음\n",
      "창원,20.1,맑음\n",
      "광주,21.9,맑음\n",
      "부산,22.2,맑음\n",
      "통영,19.4,맑음\n",
      "목포,19.9,박무\n",
      "여수,20.9,맑음\n",
      "흑산도,15.0,안개\n",
      "완도,19.2,맑음\n",
      "고창,20.5,맑음\n",
      "순천,18.8,맑음\n",
      "홍성,18.9,비\n",
      "제주,19.2,구름많음\n",
      "고산,19.1,맑음\n",
      "성산,17.9,맑음\n",
      "서귀포,21.7,맑음\n",
      "진주,19.9,맑음\n",
      "강화,16.7,구름조금\n",
      "양평,21.6,구름많음\n",
      "이천,21.3,흐림\n",
      "인제,18.9,맑음\n",
      "홍천,22.4,구름조금\n",
      "태백,21.3,맑음\n",
      "정선군,22.5,구름조금\n",
      "제천,22.6,구름많음\n",
      "보은,22.4,흐림\n",
      "천안,22.4,흐림\n",
      "보령,18.5,흐림\n",
      "부여,20.4,흐림\n",
      "금산,22.5,구름많음\n",
      "세종,21.7,구름많음\n",
      "부안,20.6,맑음\n",
      "임실,18.9,맑음\n",
      "정읍,19.7,맑음\n",
      "남원,21.5,맑음\n",
      "장수,18.8,맑음\n",
      "고창군,19.7,맑음\n",
      "영광군,20.1,맑음\n",
      "김해시,21.6,맑음\n",
      "순창군,21.6,맑음\n",
      "북창원,21.6,맑음\n",
      "양산시,21.7,맑음\n",
      "보성군,21.5,맑음\n",
      "강진군,20.2,맑음\n",
      "장흥,19.5,맑음\n",
      "해남,18.8,구름조금\n",
      "고흥,20.1,맑음\n",
      "의령군,23.2,맑음\n",
      "함양군,24.1,맑음\n",
      "광양시,21.4,맑음\n",
      "진도군,18.3,구름많음\n",
      "봉화,18.0,맑음\n",
      "영주,23.5,구름조금\n",
      "문경,22.7,구름조금\n",
      "청송군,18.4,맑음\n",
      "영덕,26.7,맑음\n",
      "의성,19.3,맑음\n",
      "구미,23.1,맑음\n",
      "영천,22.4,맑음\n",
      "경주시,23.2,맑음\n",
      "거창,20.9,맑음\n",
      "합천,22.6,맑음\n",
      "밀양,22.0,맑음\n",
      "산청,21.4,맑음\n",
      "거제,22.7,맑음\n",
      "남해,23.6,맑음\n"
     ]
    }
   ],
   "source": [
    "temp = []\n",
    "for i in range(0, len(locals)):\n",
    "    print(locals[i].get_text(), end=\",\")\n",
    "    print(locals[i]['ta'], end=\",\")\n",
    "    print(locals[i]['desc'])\n",
    "    temp.append(float(locals[i]['ta']))"
   ]
  },
  {
   "cell_type": "code",
   "execution_count": 24,
   "metadata": {},
   "outputs": [],
   "source": [
    "import numpy as np\n",
    "\n",
    "ar = np.array(temp)"
   ]
  },
  {
   "cell_type": "code",
   "execution_count": 25,
   "metadata": {},
   "outputs": [
    {
     "data": {
      "text/plain": [
       "27.4"
      ]
     },
     "execution_count": 25,
     "metadata": {},
     "output_type": "execute_result"
    }
   ],
   "source": [
    "ar.max()"
   ]
  },
  {
   "cell_type": "code",
   "execution_count": 26,
   "metadata": {},
   "outputs": [
    {
     "data": {
      "text/plain": [
       "14.1"
      ]
     },
     "execution_count": 26,
     "metadata": {},
     "output_type": "execute_result"
    }
   ],
   "source": [
    "ar.min()"
   ]
  }
 ],
 "metadata": {
  "kernelspec": {
   "display_name": "Python 3",
   "language": "python",
   "name": "python3"
  },
  "language_info": {
   "codemirror_mode": {
    "name": "ipython",
    "version": 3
   },
   "file_extension": ".py",
   "mimetype": "text/x-python",
   "name": "python",
   "nbconvert_exporter": "python",
   "pygments_lexer": "ipython3",
   "version": "3.7.4"
  }
 },
 "nbformat": 4,
 "nbformat_minor": 2
}
