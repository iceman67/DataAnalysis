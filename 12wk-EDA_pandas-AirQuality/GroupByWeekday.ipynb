{
 "cells": [
  {
   "cell_type": "code",
   "execution_count": 1,
   "metadata": {},
   "outputs": [],
   "source": [
    "import pandas as pd\n",
    "import matplotlib.pyplot as plt"
   ]
  },
  {
   "cell_type": "markdown",
   "metadata": {},
   "source": [
    "센서 값에 따른 자료특성 변화"
   ]
  },
  {
   "cell_type": "code",
   "execution_count": 2,
   "metadata": {},
   "outputs": [],
   "source": [
    "my_url= \"April_sensor_data.csv\"\n",
    "#my_url= \"April_All.csv\"\n",
    "\n",
    "#data frame\n",
    "df = pd.read_csv(my_url, parse_dates=['REG_DATE'])"
   ]
  },
  {
   "cell_type": "code",
   "execution_count": 3,
   "metadata": {},
   "outputs": [
    {
     "data": {
      "text/plain": [
       "(25920, 8)"
      ]
     },
     "execution_count": 3,
     "metadata": {},
     "output_type": "execute_result"
    }
   ],
   "source": [
    "df.shape"
   ]
  },
  {
   "cell_type": "code",
   "execution_count": 4,
   "metadata": {},
   "outputs": [
    {
     "data": {
      "text/html": [
       "<div>\n",
       "<style scoped>\n",
       "    .dataframe tbody tr th:only-of-type {\n",
       "        vertical-align: middle;\n",
       "    }\n",
       "\n",
       "    .dataframe tbody tr th {\n",
       "        vertical-align: top;\n",
       "    }\n",
       "\n",
       "    .dataframe thead th {\n",
       "        text-align: right;\n",
       "    }\n",
       "</style>\n",
       "<table border=\"1\" class=\"dataframe\">\n",
       "  <thead>\n",
       "    <tr style=\"text-align: right;\">\n",
       "      <th></th>\n",
       "      <th>NO</th>\n",
       "      <th>REG_DATE</th>\n",
       "      <th>PM2.5</th>\n",
       "      <th>PM10.0</th>\n",
       "      <th>Temperature</th>\n",
       "      <th>Huminity</th>\n",
       "      <th>TVOC</th>\n",
       "      <th>CO2</th>\n",
       "    </tr>\n",
       "  </thead>\n",
       "  <tbody>\n",
       "    <tr>\n",
       "      <th>0</th>\n",
       "      <td>1</td>\n",
       "      <td>2020-04-02 00:00:00</td>\n",
       "      <td>7.54</td>\n",
       "      <td>6.19</td>\n",
       "      <td>21.6</td>\n",
       "      <td>22.1</td>\n",
       "      <td>1.86</td>\n",
       "      <td>4.16</td>\n",
       "    </tr>\n",
       "    <tr>\n",
       "      <th>1</th>\n",
       "      <td>2</td>\n",
       "      <td>2020-04-02 00:01:00</td>\n",
       "      <td>7.83</td>\n",
       "      <td>6.19</td>\n",
       "      <td>21.6</td>\n",
       "      <td>22.1</td>\n",
       "      <td>1.85</td>\n",
       "      <td>4.15</td>\n",
       "    </tr>\n",
       "    <tr>\n",
       "      <th>2</th>\n",
       "      <td>3</td>\n",
       "      <td>2020-04-02 00:02:00</td>\n",
       "      <td>7.54</td>\n",
       "      <td>6.19</td>\n",
       "      <td>21.6</td>\n",
       "      <td>22.1</td>\n",
       "      <td>1.86</td>\n",
       "      <td>4.20</td>\n",
       "    </tr>\n",
       "    <tr>\n",
       "      <th>3</th>\n",
       "      <td>4</td>\n",
       "      <td>2020-04-02 00:03:00</td>\n",
       "      <td>7.83</td>\n",
       "      <td>6.19</td>\n",
       "      <td>21.5</td>\n",
       "      <td>22.1</td>\n",
       "      <td>1.81</td>\n",
       "      <td>4.17</td>\n",
       "    </tr>\n",
       "    <tr>\n",
       "      <th>4</th>\n",
       "      <td>5</td>\n",
       "      <td>2020-04-02 00:04:00</td>\n",
       "      <td>8.12</td>\n",
       "      <td>6.19</td>\n",
       "      <td>21.6</td>\n",
       "      <td>22.1</td>\n",
       "      <td>1.85</td>\n",
       "      <td>4.20</td>\n",
       "    </tr>\n",
       "  </tbody>\n",
       "</table>\n",
       "</div>"
      ],
      "text/plain": [
       "   NO            REG_DATE  PM2.5  PM10.0  Temperature  Huminity  TVOC   CO2\n",
       "0   1 2020-04-02 00:00:00   7.54    6.19         21.6      22.1  1.86  4.16\n",
       "1   2 2020-04-02 00:01:00   7.83    6.19         21.6      22.1  1.85  4.15\n",
       "2   3 2020-04-02 00:02:00   7.54    6.19         21.6      22.1  1.86  4.20\n",
       "3   4 2020-04-02 00:03:00   7.83    6.19         21.5      22.1  1.81  4.17\n",
       "4   5 2020-04-02 00:04:00   8.12    6.19         21.6      22.1  1.85  4.20"
      ]
     },
     "execution_count": 4,
     "metadata": {},
     "output_type": "execute_result"
    }
   ],
   "source": [
    "df.head()"
   ]
  },
  {
   "cell_type": "code",
   "execution_count": 5,
   "metadata": {},
   "outputs": [
    {
     "name": "stdout",
     "output_type": "stream",
     "text": [
      "Index(['REG_DATE', 'PM2.5', 'PM10.0', 'Temperature', 'Huminity', 'TVOC', 'CO2',\n",
      "       'weekday'],\n",
      "      dtype='object')\n"
     ]
    }
   ],
   "source": [
    "# index 컬럼 지정 \n",
    "df = df.set_index(\"NO\", drop = True)\n",
    "\n",
    "df['weekday'] = df['REG_DATE'].dt.day_name()\n",
    "print(df.columns)"
   ]
  },
  {
   "cell_type": "code",
   "execution_count": 6,
   "metadata": {},
   "outputs": [
    {
     "data": {
      "text/plain": [
       "(25920, 8)"
      ]
     },
     "execution_count": 6,
     "metadata": {},
     "output_type": "execute_result"
    }
   ],
   "source": [
    "df.shape"
   ]
  },
  {
   "cell_type": "code",
   "execution_count": 7,
   "metadata": {},
   "outputs": [
    {
     "data": {
      "text/html": [
       "<div>\n",
       "<style scoped>\n",
       "    .dataframe tbody tr th:only-of-type {\n",
       "        vertical-align: middle;\n",
       "    }\n",
       "\n",
       "    .dataframe tbody tr th {\n",
       "        vertical-align: top;\n",
       "    }\n",
       "\n",
       "    .dataframe thead th {\n",
       "        text-align: right;\n",
       "    }\n",
       "</style>\n",
       "<table border=\"1\" class=\"dataframe\">\n",
       "  <thead>\n",
       "    <tr style=\"text-align: right;\">\n",
       "      <th></th>\n",
       "      <th>REG_DATE</th>\n",
       "      <th>PM2.5</th>\n",
       "      <th>PM10.0</th>\n",
       "      <th>Temperature</th>\n",
       "      <th>Huminity</th>\n",
       "      <th>TVOC</th>\n",
       "      <th>CO2</th>\n",
       "      <th>weekday</th>\n",
       "    </tr>\n",
       "    <tr>\n",
       "      <th>NO</th>\n",
       "      <th></th>\n",
       "      <th></th>\n",
       "      <th></th>\n",
       "      <th></th>\n",
       "      <th></th>\n",
       "      <th></th>\n",
       "      <th></th>\n",
       "      <th></th>\n",
       "    </tr>\n",
       "  </thead>\n",
       "  <tbody>\n",
       "    <tr>\n",
       "      <th>1</th>\n",
       "      <td>2020-04-02 00:00:00</td>\n",
       "      <td>7.54</td>\n",
       "      <td>6.19</td>\n",
       "      <td>21.6</td>\n",
       "      <td>22.1</td>\n",
       "      <td>1.86</td>\n",
       "      <td>4.16</td>\n",
       "      <td>Thursday</td>\n",
       "    </tr>\n",
       "    <tr>\n",
       "      <th>2</th>\n",
       "      <td>2020-04-02 00:01:00</td>\n",
       "      <td>7.83</td>\n",
       "      <td>6.19</td>\n",
       "      <td>21.6</td>\n",
       "      <td>22.1</td>\n",
       "      <td>1.85</td>\n",
       "      <td>4.15</td>\n",
       "      <td>Thursday</td>\n",
       "    </tr>\n",
       "    <tr>\n",
       "      <th>3</th>\n",
       "      <td>2020-04-02 00:02:00</td>\n",
       "      <td>7.54</td>\n",
       "      <td>6.19</td>\n",
       "      <td>21.6</td>\n",
       "      <td>22.1</td>\n",
       "      <td>1.86</td>\n",
       "      <td>4.20</td>\n",
       "      <td>Thursday</td>\n",
       "    </tr>\n",
       "  </tbody>\n",
       "</table>\n",
       "</div>"
      ],
      "text/plain": [
       "              REG_DATE  PM2.5  PM10.0  Temperature  Huminity  TVOC   CO2  \\\n",
       "NO                                                                         \n",
       "1  2020-04-02 00:00:00   7.54    6.19         21.6      22.1  1.86  4.16   \n",
       "2  2020-04-02 00:01:00   7.83    6.19         21.6      22.1  1.85  4.15   \n",
       "3  2020-04-02 00:02:00   7.54    6.19         21.6      22.1  1.86  4.20   \n",
       "\n",
       "     weekday  \n",
       "NO            \n",
       "1   Thursday  \n",
       "2   Thursday  \n",
       "3   Thursday  "
      ]
     },
     "execution_count": 7,
     "metadata": {},
     "output_type": "execute_result"
    }
   ],
   "source": [
    "df.head(3)"
   ]
  },
  {
   "cell_type": "code",
   "execution_count": 8,
   "metadata": {},
   "outputs": [
    {
     "data": {
      "text/html": [
       "<div>\n",
       "<style scoped>\n",
       "    .dataframe tbody tr th:only-of-type {\n",
       "        vertical-align: middle;\n",
       "    }\n",
       "\n",
       "    .dataframe tbody tr th {\n",
       "        vertical-align: top;\n",
       "    }\n",
       "\n",
       "    .dataframe thead th {\n",
       "        text-align: right;\n",
       "    }\n",
       "</style>\n",
       "<table border=\"1\" class=\"dataframe\">\n",
       "  <thead>\n",
       "    <tr style=\"text-align: right;\">\n",
       "      <th></th>\n",
       "      <th>REG_DATE</th>\n",
       "      <th>PM2.5</th>\n",
       "      <th>PM10.0</th>\n",
       "      <th>Temperature</th>\n",
       "      <th>Huminity</th>\n",
       "      <th>TVOC</th>\n",
       "      <th>CO2</th>\n",
       "      <th>weekday</th>\n",
       "    </tr>\n",
       "    <tr>\n",
       "      <th>NO</th>\n",
       "      <th></th>\n",
       "      <th></th>\n",
       "      <th></th>\n",
       "      <th></th>\n",
       "      <th></th>\n",
       "      <th></th>\n",
       "      <th></th>\n",
       "      <th></th>\n",
       "    </tr>\n",
       "  </thead>\n",
       "  <tbody>\n",
       "    <tr>\n",
       "      <th>17276</th>\n",
       "      <td>2020-04-13 23:55:00</td>\n",
       "      <td>11.32</td>\n",
       "      <td>12.38</td>\n",
       "      <td>19.5</td>\n",
       "      <td>25.4</td>\n",
       "      <td>2.04</td>\n",
       "      <td>4.27</td>\n",
       "      <td>Monday</td>\n",
       "    </tr>\n",
       "    <tr>\n",
       "      <th>17277</th>\n",
       "      <td>2020-04-13 23:56:00</td>\n",
       "      <td>12.19</td>\n",
       "      <td>12.38</td>\n",
       "      <td>19.6</td>\n",
       "      <td>25.4</td>\n",
       "      <td>2.04</td>\n",
       "      <td>4.29</td>\n",
       "      <td>Monday</td>\n",
       "    </tr>\n",
       "    <tr>\n",
       "      <th>17278</th>\n",
       "      <td>2020-04-13 23:57:00</td>\n",
       "      <td>12.48</td>\n",
       "      <td>12.38</td>\n",
       "      <td>19.6</td>\n",
       "      <td>25.4</td>\n",
       "      <td>2.07</td>\n",
       "      <td>4.24</td>\n",
       "      <td>Monday</td>\n",
       "    </tr>\n",
       "    <tr>\n",
       "      <th>17279</th>\n",
       "      <td>2020-04-13 23:58:00</td>\n",
       "      <td>10.74</td>\n",
       "      <td>12.38</td>\n",
       "      <td>19.6</td>\n",
       "      <td>25.4</td>\n",
       "      <td>2.06</td>\n",
       "      <td>4.28</td>\n",
       "      <td>Monday</td>\n",
       "    </tr>\n",
       "    <tr>\n",
       "      <th>17280</th>\n",
       "      <td>2020-04-13 23:59:00</td>\n",
       "      <td>11.03</td>\n",
       "      <td>12.38</td>\n",
       "      <td>19.6</td>\n",
       "      <td>25.4</td>\n",
       "      <td>2.04</td>\n",
       "      <td>4.30</td>\n",
       "      <td>Monday</td>\n",
       "    </tr>\n",
       "  </tbody>\n",
       "</table>\n",
       "</div>"
      ],
      "text/plain": [
       "                 REG_DATE  PM2.5  PM10.0  Temperature  Huminity  TVOC   CO2  \\\n",
       "NO                                                                            \n",
       "17276 2020-04-13 23:55:00  11.32   12.38         19.5      25.4  2.04  4.27   \n",
       "17277 2020-04-13 23:56:00  12.19   12.38         19.6      25.4  2.04  4.29   \n",
       "17278 2020-04-13 23:57:00  12.48   12.38         19.6      25.4  2.07  4.24   \n",
       "17279 2020-04-13 23:58:00  10.74   12.38         19.6      25.4  2.06  4.28   \n",
       "17280 2020-04-13 23:59:00  11.03   12.38         19.6      25.4  2.04  4.30   \n",
       "\n",
       "      weekday  \n",
       "NO             \n",
       "17276  Monday  \n",
       "17277  Monday  \n",
       "17278  Monday  \n",
       "17279  Monday  \n",
       "17280  Monday  "
      ]
     },
     "execution_count": 8,
     "metadata": {},
     "output_type": "execute_result"
    }
   ],
   "source": [
    "df_monday = df[df['weekday']=='Monday']\n",
    "df_monday.tail()"
   ]
  },
  {
   "cell_type": "code",
   "execution_count": 9,
   "metadata": {},
   "outputs": [],
   "source": [
    "df_monday = df[df['weekday']=='Monday']\n",
    "df_tuesday = df[df['weekday']=='Tuesday']\n",
    "df_wednesday = df[df['weekday']=='Wednesday']\n",
    "df_thursday = df[df['weekday']=='Thursday']\n",
    "df_friday = df[df['weekday']=='Friday']\n",
    "\n",
    "df_saturday = df[df['weekday']=='Saturday']\n",
    "df_sunday = df[df['weekday']=='Sunday']\n"
   ]
  },
  {
   "cell_type": "code",
   "execution_count": 10,
   "metadata": {},
   "outputs": [
    {
     "data": {
      "text/plain": [
       "(4320, 8)"
      ]
     },
     "execution_count": 10,
     "metadata": {},
     "output_type": "execute_result"
    }
   ],
   "source": [
    "df_sunday.shape"
   ]
  },
  {
   "cell_type": "code",
   "execution_count": 11,
   "metadata": {},
   "outputs": [
    {
     "data": {
      "text/html": [
       "<div>\n",
       "<style scoped>\n",
       "    .dataframe tbody tr th:only-of-type {\n",
       "        vertical-align: middle;\n",
       "    }\n",
       "\n",
       "    .dataframe tbody tr th {\n",
       "        vertical-align: top;\n",
       "    }\n",
       "\n",
       "    .dataframe thead th {\n",
       "        text-align: right;\n",
       "    }\n",
       "</style>\n",
       "<table border=\"1\" class=\"dataframe\">\n",
       "  <thead>\n",
       "    <tr style=\"text-align: right;\">\n",
       "      <th></th>\n",
       "      <th>REG_DATE</th>\n",
       "      <th>PM2.5</th>\n",
       "      <th>PM10.0</th>\n",
       "      <th>Temperature</th>\n",
       "      <th>Huminity</th>\n",
       "      <th>TVOC</th>\n",
       "      <th>CO2</th>\n",
       "      <th>weekday</th>\n",
       "    </tr>\n",
       "    <tr>\n",
       "      <th>NO</th>\n",
       "      <th></th>\n",
       "      <th></th>\n",
       "      <th></th>\n",
       "      <th></th>\n",
       "      <th></th>\n",
       "      <th></th>\n",
       "      <th></th>\n",
       "      <th></th>\n",
       "    </tr>\n",
       "  </thead>\n",
       "  <tbody>\n",
       "    <tr>\n",
       "      <th>25916</th>\n",
       "      <td>2020-04-19 23:55:00</td>\n",
       "      <td>4.35</td>\n",
       "      <td>4.35</td>\n",
       "      <td>20.6</td>\n",
       "      <td>42.3</td>\n",
       "      <td>1.76</td>\n",
       "      <td>7.70</td>\n",
       "      <td>Sunday</td>\n",
       "    </tr>\n",
       "    <tr>\n",
       "      <th>25917</th>\n",
       "      <td>2020-04-19 23:56:00</td>\n",
       "      <td>4.21</td>\n",
       "      <td>4.22</td>\n",
       "      <td>20.6</td>\n",
       "      <td>42.3</td>\n",
       "      <td>1.78</td>\n",
       "      <td>7.69</td>\n",
       "      <td>Sunday</td>\n",
       "    </tr>\n",
       "    <tr>\n",
       "      <th>25918</th>\n",
       "      <td>2020-04-19 23:57:00</td>\n",
       "      <td>5.07</td>\n",
       "      <td>5.07</td>\n",
       "      <td>20.6</td>\n",
       "      <td>42.3</td>\n",
       "      <td>1.76</td>\n",
       "      <td>7.66</td>\n",
       "      <td>Sunday</td>\n",
       "    </tr>\n",
       "    <tr>\n",
       "      <th>25919</th>\n",
       "      <td>2020-04-19 23:58:00</td>\n",
       "      <td>3.90</td>\n",
       "      <td>3.90</td>\n",
       "      <td>20.6</td>\n",
       "      <td>42.3</td>\n",
       "      <td>1.77</td>\n",
       "      <td>7.71</td>\n",
       "      <td>Sunday</td>\n",
       "    </tr>\n",
       "    <tr>\n",
       "      <th>25920</th>\n",
       "      <td>2020-04-19 23:59:00</td>\n",
       "      <td>4.64</td>\n",
       "      <td>4.64</td>\n",
       "      <td>20.6</td>\n",
       "      <td>42.3</td>\n",
       "      <td>1.74</td>\n",
       "      <td>7.70</td>\n",
       "      <td>Sunday</td>\n",
       "    </tr>\n",
       "  </tbody>\n",
       "</table>\n",
       "</div>"
      ],
      "text/plain": [
       "                 REG_DATE  PM2.5  PM10.0  Temperature  Huminity  TVOC   CO2  \\\n",
       "NO                                                                            \n",
       "25916 2020-04-19 23:55:00   4.35    4.35         20.6      42.3  1.76  7.70   \n",
       "25917 2020-04-19 23:56:00   4.21    4.22         20.6      42.3  1.78  7.69   \n",
       "25918 2020-04-19 23:57:00   5.07    5.07         20.6      42.3  1.76  7.66   \n",
       "25919 2020-04-19 23:58:00   3.90    3.90         20.6      42.3  1.77  7.71   \n",
       "25920 2020-04-19 23:59:00   4.64    4.64         20.6      42.3  1.74  7.70   \n",
       "\n",
       "      weekday  \n",
       "NO             \n",
       "25916  Sunday  \n",
       "25917  Sunday  \n",
       "25918  Sunday  \n",
       "25919  Sunday  \n",
       "25920  Sunday  "
      ]
     },
     "execution_count": 11,
     "metadata": {},
     "output_type": "execute_result"
    }
   ],
   "source": [
    "df_sunday.tail()"
   ]
  },
  {
   "cell_type": "code",
   "execution_count": 12,
   "metadata": {},
   "outputs": [],
   "source": [
    "\n",
    "df_workday = pd.concat([df_monday,df_tuesday, df_wednesday, df_thursday, df_friday])\n",
    "df_weekend = pd.concat([df_saturday,df_sunday])\n",
    "#df_weekend = pd.concat([df_saturday])"
   ]
  },
  {
   "cell_type": "code",
   "execution_count": 13,
   "metadata": {},
   "outputs": [
    {
     "data": {
      "text/plain": [
       "(8640, 8)"
      ]
     },
     "execution_count": 13,
     "metadata": {},
     "output_type": "execute_result"
    }
   ],
   "source": [
    "df_weekend.shape"
   ]
  },
  {
   "cell_type": "code",
   "execution_count": 14,
   "metadata": {},
   "outputs": [
    {
     "data": {
      "text/html": [
       "<div>\n",
       "<style scoped>\n",
       "    .dataframe tbody tr th:only-of-type {\n",
       "        vertical-align: middle;\n",
       "    }\n",
       "\n",
       "    .dataframe tbody tr th {\n",
       "        vertical-align: top;\n",
       "    }\n",
       "\n",
       "    .dataframe thead th {\n",
       "        text-align: right;\n",
       "    }\n",
       "</style>\n",
       "<table border=\"1\" class=\"dataframe\">\n",
       "  <thead>\n",
       "    <tr style=\"text-align: right;\">\n",
       "      <th></th>\n",
       "      <th>PM2.5</th>\n",
       "      <th>PM10.0</th>\n",
       "      <th>Temperature</th>\n",
       "      <th>Huminity</th>\n",
       "      <th>TVOC</th>\n",
       "      <th>CO2</th>\n",
       "    </tr>\n",
       "  </thead>\n",
       "  <tbody>\n",
       "    <tr>\n",
       "      <th>count</th>\n",
       "      <td>17280.000000</td>\n",
       "      <td>17280.000000</td>\n",
       "      <td>17280.000000</td>\n",
       "      <td>17280.000000</td>\n",
       "      <td>17279.000000</td>\n",
       "      <td>17279.000000</td>\n",
       "    </tr>\n",
       "    <tr>\n",
       "      <th>mean</th>\n",
       "      <td>14.795528</td>\n",
       "      <td>14.822488</td>\n",
       "      <td>20.295770</td>\n",
       "      <td>25.242321</td>\n",
       "      <td>2.088653</td>\n",
       "      <td>4.455054</td>\n",
       "    </tr>\n",
       "    <tr>\n",
       "      <th>std</th>\n",
       "      <td>7.727320</td>\n",
       "      <td>7.411921</td>\n",
       "      <td>1.169316</td>\n",
       "      <td>5.078978</td>\n",
       "      <td>0.290255</td>\n",
       "      <td>1.038293</td>\n",
       "    </tr>\n",
       "    <tr>\n",
       "      <th>min</th>\n",
       "      <td>3.480000</td>\n",
       "      <td>6.190000</td>\n",
       "      <td>18.100000</td>\n",
       "      <td>15.000000</td>\n",
       "      <td>1.100000</td>\n",
       "      <td>2.150000</td>\n",
       "    </tr>\n",
       "    <tr>\n",
       "      <th>25%</th>\n",
       "      <td>9.870000</td>\n",
       "      <td>12.380000</td>\n",
       "      <td>19.300000</td>\n",
       "      <td>22.300000</td>\n",
       "      <td>1.930000</td>\n",
       "      <td>3.840000</td>\n",
       "    </tr>\n",
       "    <tr>\n",
       "      <th>50%</th>\n",
       "      <td>13.060000</td>\n",
       "      <td>12.380000</td>\n",
       "      <td>20.200000</td>\n",
       "      <td>24.500000</td>\n",
       "      <td>2.060000</td>\n",
       "      <td>4.310000</td>\n",
       "    </tr>\n",
       "    <tr>\n",
       "      <th>75%</th>\n",
       "      <td>18.080000</td>\n",
       "      <td>18.570000</td>\n",
       "      <td>21.000000</td>\n",
       "      <td>26.800000</td>\n",
       "      <td>2.230000</td>\n",
       "      <td>4.880000</td>\n",
       "    </tr>\n",
       "    <tr>\n",
       "      <th>max</th>\n",
       "      <td>74.570000</td>\n",
       "      <td>61.900000</td>\n",
       "      <td>25.200000</td>\n",
       "      <td>43.300000</td>\n",
       "      <td>6.860000</td>\n",
       "      <td>8.310000</td>\n",
       "    </tr>\n",
       "  </tbody>\n",
       "</table>\n",
       "</div>"
      ],
      "text/plain": [
       "              PM2.5        PM10.0   Temperature      Huminity          TVOC  \\\n",
       "count  17280.000000  17280.000000  17280.000000  17280.000000  17279.000000   \n",
       "mean      14.795528     14.822488     20.295770     25.242321      2.088653   \n",
       "std        7.727320      7.411921      1.169316      5.078978      0.290255   \n",
       "min        3.480000      6.190000     18.100000     15.000000      1.100000   \n",
       "25%        9.870000     12.380000     19.300000     22.300000      1.930000   \n",
       "50%       13.060000     12.380000     20.200000     24.500000      2.060000   \n",
       "75%       18.080000     18.570000     21.000000     26.800000      2.230000   \n",
       "max       74.570000     61.900000     25.200000     43.300000      6.860000   \n",
       "\n",
       "                CO2  \n",
       "count  17279.000000  \n",
       "mean       4.455054  \n",
       "std        1.038293  \n",
       "min        2.150000  \n",
       "25%        3.840000  \n",
       "50%        4.310000  \n",
       "75%        4.880000  \n",
       "max        8.310000  "
      ]
     },
     "execution_count": 14,
     "metadata": {},
     "output_type": "execute_result"
    }
   ],
   "source": [
    "df_workday.describe()"
   ]
  },
  {
   "cell_type": "code",
   "execution_count": 15,
   "metadata": {},
   "outputs": [
    {
     "data": {
      "text/html": [
       "<div>\n",
       "<style scoped>\n",
       "    .dataframe tbody tr th:only-of-type {\n",
       "        vertical-align: middle;\n",
       "    }\n",
       "\n",
       "    .dataframe tbody tr th {\n",
       "        vertical-align: top;\n",
       "    }\n",
       "\n",
       "    .dataframe thead th {\n",
       "        text-align: right;\n",
       "    }\n",
       "</style>\n",
       "<table border=\"1\" class=\"dataframe\">\n",
       "  <thead>\n",
       "    <tr style=\"text-align: right;\">\n",
       "      <th></th>\n",
       "      <th>PM2.5</th>\n",
       "      <th>PM10.0</th>\n",
       "      <th>Temperature</th>\n",
       "      <th>Huminity</th>\n",
       "      <th>TVOC</th>\n",
       "      <th>CO2</th>\n",
       "    </tr>\n",
       "  </thead>\n",
       "  <tbody>\n",
       "    <tr>\n",
       "      <th>count</th>\n",
       "      <td>8640.000000</td>\n",
       "      <td>8640.000000</td>\n",
       "      <td>8639.000000</td>\n",
       "      <td>8639.000000</td>\n",
       "      <td>8640.000000</td>\n",
       "      <td>8640.000000</td>\n",
       "    </tr>\n",
       "    <tr>\n",
       "      <th>mean</th>\n",
       "      <td>11.999606</td>\n",
       "      <td>11.973071</td>\n",
       "      <td>20.154786</td>\n",
       "      <td>29.661824</td>\n",
       "      <td>1.901799</td>\n",
       "      <td>5.217382</td>\n",
       "    </tr>\n",
       "    <tr>\n",
       "      <th>std</th>\n",
       "      <td>8.427809</td>\n",
       "      <td>7.610504</td>\n",
       "      <td>0.765153</td>\n",
       "      <td>8.768501</td>\n",
       "      <td>0.219557</td>\n",
       "      <td>1.781602</td>\n",
       "    </tr>\n",
       "    <tr>\n",
       "      <th>min</th>\n",
       "      <td>1.480000</td>\n",
       "      <td>0.000000</td>\n",
       "      <td>18.600000</td>\n",
       "      <td>13.300000</td>\n",
       "      <td>1.440000</td>\n",
       "      <td>1.880000</td>\n",
       "    </tr>\n",
       "    <tr>\n",
       "      <th>25%</th>\n",
       "      <td>6.670000</td>\n",
       "      <td>6.190000</td>\n",
       "      <td>19.500000</td>\n",
       "      <td>23.700000</td>\n",
       "      <td>1.770000</td>\n",
       "      <td>3.940000</td>\n",
       "    </tr>\n",
       "    <tr>\n",
       "      <th>50%</th>\n",
       "      <td>10.440000</td>\n",
       "      <td>11.840000</td>\n",
       "      <td>20.300000</td>\n",
       "      <td>30.500000</td>\n",
       "      <td>1.880000</td>\n",
       "      <td>5.160000</td>\n",
       "    </tr>\n",
       "    <tr>\n",
       "      <th>75%</th>\n",
       "      <td>13.930000</td>\n",
       "      <td>12.380000</td>\n",
       "      <td>20.800000</td>\n",
       "      <td>37.300000</td>\n",
       "      <td>2.020000</td>\n",
       "      <td>6.930000</td>\n",
       "    </tr>\n",
       "    <tr>\n",
       "      <th>max</th>\n",
       "      <td>67.030000</td>\n",
       "      <td>55.710000</td>\n",
       "      <td>22.000000</td>\n",
       "      <td>43.400000</td>\n",
       "      <td>2.470000</td>\n",
       "      <td>8.020000</td>\n",
       "    </tr>\n",
       "  </tbody>\n",
       "</table>\n",
       "</div>"
      ],
      "text/plain": [
       "             PM2.5       PM10.0  Temperature     Huminity         TVOC  \\\n",
       "count  8640.000000  8640.000000  8639.000000  8639.000000  8640.000000   \n",
       "mean     11.999606    11.973071    20.154786    29.661824     1.901799   \n",
       "std       8.427809     7.610504     0.765153     8.768501     0.219557   \n",
       "min       1.480000     0.000000    18.600000    13.300000     1.440000   \n",
       "25%       6.670000     6.190000    19.500000    23.700000     1.770000   \n",
       "50%      10.440000    11.840000    20.300000    30.500000     1.880000   \n",
       "75%      13.930000    12.380000    20.800000    37.300000     2.020000   \n",
       "max      67.030000    55.710000    22.000000    43.400000     2.470000   \n",
       "\n",
       "               CO2  \n",
       "count  8640.000000  \n",
       "mean      5.217382  \n",
       "std       1.781602  \n",
       "min       1.880000  \n",
       "25%       3.940000  \n",
       "50%       5.160000  \n",
       "75%       6.930000  \n",
       "max       8.020000  "
      ]
     },
     "execution_count": 15,
     "metadata": {},
     "output_type": "execute_result"
    }
   ],
   "source": [
    "df_weekend.describe()"
   ]
  },
  {
   "cell_type": "code",
   "execution_count": 16,
   "metadata": {},
   "outputs": [
    {
     "data": {
      "text/html": [
       "<div>\n",
       "<style scoped>\n",
       "    .dataframe tbody tr th:only-of-type {\n",
       "        vertical-align: middle;\n",
       "    }\n",
       "\n",
       "    .dataframe tbody tr th {\n",
       "        vertical-align: top;\n",
       "    }\n",
       "\n",
       "    .dataframe thead th {\n",
       "        text-align: right;\n",
       "    }\n",
       "</style>\n",
       "<table border=\"1\" class=\"dataframe\">\n",
       "  <thead>\n",
       "    <tr style=\"text-align: right;\">\n",
       "      <th></th>\n",
       "      <th>REG_DATE</th>\n",
       "      <th>PM2.5</th>\n",
       "      <th>PM10.0</th>\n",
       "      <th>Temperature</th>\n",
       "      <th>Huminity</th>\n",
       "      <th>TVOC</th>\n",
       "      <th>CO2</th>\n",
       "      <th>weekday</th>\n",
       "    </tr>\n",
       "    <tr>\n",
       "      <th>NO</th>\n",
       "      <th></th>\n",
       "      <th></th>\n",
       "      <th></th>\n",
       "      <th></th>\n",
       "      <th></th>\n",
       "      <th></th>\n",
       "      <th></th>\n",
       "      <th></th>\n",
       "    </tr>\n",
       "  </thead>\n",
       "  <tbody>\n",
       "    <tr>\n",
       "      <th>5761</th>\n",
       "      <td>2020-04-06 00:00:00</td>\n",
       "      <td>7.83</td>\n",
       "      <td>6.19</td>\n",
       "      <td>19.1</td>\n",
       "      <td>23.8</td>\n",
       "      <td>1.95</td>\n",
       "      <td>3.92</td>\n",
       "      <td>Monday</td>\n",
       "    </tr>\n",
       "    <tr>\n",
       "      <th>5762</th>\n",
       "      <td>2020-04-06 00:01:00</td>\n",
       "      <td>7.83</td>\n",
       "      <td>6.19</td>\n",
       "      <td>19.1</td>\n",
       "      <td>23.8</td>\n",
       "      <td>1.94</td>\n",
       "      <td>3.89</td>\n",
       "      <td>Monday</td>\n",
       "    </tr>\n",
       "    <tr>\n",
       "      <th>5763</th>\n",
       "      <td>2020-04-06 00:02:00</td>\n",
       "      <td>8.12</td>\n",
       "      <td>6.19</td>\n",
       "      <td>19.1</td>\n",
       "      <td>23.9</td>\n",
       "      <td>1.92</td>\n",
       "      <td>3.92</td>\n",
       "      <td>Monday</td>\n",
       "    </tr>\n",
       "    <tr>\n",
       "      <th>5764</th>\n",
       "      <td>2020-04-06 00:03:00</td>\n",
       "      <td>10.16</td>\n",
       "      <td>12.38</td>\n",
       "      <td>19.1</td>\n",
       "      <td>23.8</td>\n",
       "      <td>1.91</td>\n",
       "      <td>3.91</td>\n",
       "      <td>Monday</td>\n",
       "    </tr>\n",
       "    <tr>\n",
       "      <th>5765</th>\n",
       "      <td>2020-04-06 00:04:00</td>\n",
       "      <td>11.90</td>\n",
       "      <td>12.38</td>\n",
       "      <td>19.1</td>\n",
       "      <td>23.9</td>\n",
       "      <td>1.93</td>\n",
       "      <td>3.95</td>\n",
       "      <td>Monday</td>\n",
       "    </tr>\n",
       "  </tbody>\n",
       "</table>\n",
       "</div>"
      ],
      "text/plain": [
       "                REG_DATE  PM2.5  PM10.0  Temperature  Huminity  TVOC   CO2  \\\n",
       "NO                                                                           \n",
       "5761 2020-04-06 00:00:00   7.83    6.19         19.1      23.8  1.95  3.92   \n",
       "5762 2020-04-06 00:01:00   7.83    6.19         19.1      23.8  1.94  3.89   \n",
       "5763 2020-04-06 00:02:00   8.12    6.19         19.1      23.9  1.92  3.92   \n",
       "5764 2020-04-06 00:03:00  10.16   12.38         19.1      23.8  1.91  3.91   \n",
       "5765 2020-04-06 00:04:00  11.90   12.38         19.1      23.9  1.93  3.95   \n",
       "\n",
       "     weekday  \n",
       "NO            \n",
       "5761  Monday  \n",
       "5762  Monday  \n",
       "5763  Monday  \n",
       "5764  Monday  \n",
       "5765  Monday  "
      ]
     },
     "execution_count": 16,
     "metadata": {},
     "output_type": "execute_result"
    }
   ],
   "source": [
    "df_workday.head()"
   ]
  },
  {
   "cell_type": "markdown",
   "metadata": {},
   "source": [
    "### group by a single column\n",
    "df.groupby('column1')"
   ]
  },
  {
   "cell_type": "code",
   "execution_count": 17,
   "metadata": {},
   "outputs": [
    {
     "data": {
      "text/plain": [
       "<pandas.core.groupby.groupby.DataFrameGroupBy object at 0x000002595575F2C8>"
      ]
     },
     "execution_count": 17,
     "metadata": {},
     "output_type": "execute_result"
    }
   ],
   "source": [
    "df.groupby('weekday')"
   ]
  },
  {
   "cell_type": "code",
   "execution_count": 18,
   "metadata": {},
   "outputs": [],
   "source": [
    "week_df = df.groupby(df['weekday']).mean()"
   ]
  },
  {
   "cell_type": "code",
   "execution_count": 19,
   "metadata": {},
   "outputs": [
    {
     "data": {
      "text/html": [
       "<div>\n",
       "<style scoped>\n",
       "    .dataframe tbody tr th:only-of-type {\n",
       "        vertical-align: middle;\n",
       "    }\n",
       "\n",
       "    .dataframe tbody tr th {\n",
       "        vertical-align: top;\n",
       "    }\n",
       "\n",
       "    .dataframe thead th {\n",
       "        text-align: right;\n",
       "    }\n",
       "</style>\n",
       "<table border=\"1\" class=\"dataframe\">\n",
       "  <thead>\n",
       "    <tr style=\"text-align: right;\">\n",
       "      <th></th>\n",
       "      <th>PM2.5</th>\n",
       "      <th>PM10.0</th>\n",
       "      <th>Temperature</th>\n",
       "      <th>Huminity</th>\n",
       "      <th>TVOC</th>\n",
       "      <th>CO2</th>\n",
       "    </tr>\n",
       "    <tr>\n",
       "      <th>weekday</th>\n",
       "      <th></th>\n",
       "      <th></th>\n",
       "      <th></th>\n",
       "      <th></th>\n",
       "      <th></th>\n",
       "      <th></th>\n",
       "    </tr>\n",
       "  </thead>\n",
       "  <tbody>\n",
       "    <tr>\n",
       "      <th>Friday</th>\n",
       "      <td>17.002421</td>\n",
       "      <td>16.502553</td>\n",
       "      <td>20.953241</td>\n",
       "      <td>29.277060</td>\n",
       "      <td>2.243400</td>\n",
       "      <td>5.413275</td>\n",
       "    </tr>\n",
       "    <tr>\n",
       "      <th>Monday</th>\n",
       "      <td>8.378153</td>\n",
       "      <td>8.730479</td>\n",
       "      <td>19.610347</td>\n",
       "      <td>23.084792</td>\n",
       "      <td>1.949441</td>\n",
       "      <td>3.890170</td>\n",
       "    </tr>\n",
       "    <tr>\n",
       "      <th>Saturday</th>\n",
       "      <td>13.114808</td>\n",
       "      <td>13.139979</td>\n",
       "      <td>20.404168</td>\n",
       "      <td>30.553508</td>\n",
       "      <td>1.986215</td>\n",
       "      <td>5.449787</td>\n",
       "    </tr>\n",
       "    <tr>\n",
       "      <th>Sunday</th>\n",
       "      <td>10.884405</td>\n",
       "      <td>10.806162</td>\n",
       "      <td>19.905463</td>\n",
       "      <td>28.770347</td>\n",
       "      <td>1.817382</td>\n",
       "      <td>4.984977</td>\n",
       "    </tr>\n",
       "    <tr>\n",
       "      <th>Thursday</th>\n",
       "      <td>15.080028</td>\n",
       "      <td>15.104558</td>\n",
       "      <td>20.793750</td>\n",
       "      <td>22.629282</td>\n",
       "      <td>2.072097</td>\n",
       "      <td>4.080234</td>\n",
       "    </tr>\n",
       "    <tr>\n",
       "      <th>Tuesday</th>\n",
       "      <td>13.542538</td>\n",
       "      <td>13.804740</td>\n",
       "      <td>19.885139</td>\n",
       "      <td>28.634375</td>\n",
       "      <td>2.186941</td>\n",
       "      <td>4.935684</td>\n",
       "    </tr>\n",
       "    <tr>\n",
       "      <th>Wednesday</th>\n",
       "      <td>18.728806</td>\n",
       "      <td>18.989042</td>\n",
       "      <td>19.658646</td>\n",
       "      <td>21.875243</td>\n",
       "      <td>1.922243</td>\n",
       "      <td>3.664010</td>\n",
       "    </tr>\n",
       "  </tbody>\n",
       "</table>\n",
       "</div>"
      ],
      "text/plain": [
       "               PM2.5     PM10.0  Temperature   Huminity      TVOC       CO2\n",
       "weekday                                                                    \n",
       "Friday     17.002421  16.502553    20.953241  29.277060  2.243400  5.413275\n",
       "Monday      8.378153   8.730479    19.610347  23.084792  1.949441  3.890170\n",
       "Saturday   13.114808  13.139979    20.404168  30.553508  1.986215  5.449787\n",
       "Sunday     10.884405  10.806162    19.905463  28.770347  1.817382  4.984977\n",
       "Thursday   15.080028  15.104558    20.793750  22.629282  2.072097  4.080234\n",
       "Tuesday    13.542538  13.804740    19.885139  28.634375  2.186941  4.935684\n",
       "Wednesday  18.728806  18.989042    19.658646  21.875243  1.922243  3.664010"
      ]
     },
     "execution_count": 19,
     "metadata": {},
     "output_type": "execute_result"
    }
   ],
   "source": [
    "week_df"
   ]
  },
  {
   "cell_type": "code",
   "execution_count": 20,
   "metadata": {},
   "outputs": [
    {
     "data": {
      "text/plain": [
       "{'Friday': Int64Index([ 1441,  1442,  1443,  1444,  1445,  1446,  1447,  1448,  1449,\n",
       "              1450,\n",
       "             ...\n",
       "             23031, 23032, 23033, 23034, 23035, 23036, 23037, 23038, 23039,\n",
       "             23040],\n",
       "            dtype='int64', name='NO', length=4320),\n",
       " 'Monday': Int64Index([ 5761,  5762,  5763,  5764,  5765,  5766,  5767,  5768,  5769,\n",
       "              5770,\n",
       "             ...\n",
       "             17271, 17272, 17273, 17274, 17275, 17276, 17277, 17278, 17279,\n",
       "             17280],\n",
       "            dtype='int64', name='NO', length=2880),\n",
       " 'Saturday': Int64Index([ 2881,  2882,  2883,  2884,  2885,  2886,  2887,  2888,  2889,\n",
       "              2890,\n",
       "             ...\n",
       "             24471, 24472, 24473, 24474, 24475, 24476, 24477, 24478, 24479,\n",
       "             24480],\n",
       "            dtype='int64', name='NO', length=4320),\n",
       " 'Sunday': Int64Index([ 4321,  4322,  4323,  4324,  4325,  4326,  4327,  4328,  4329,\n",
       "              4330,\n",
       "             ...\n",
       "             25911, 25912, 25913, 25914, 25915, 25916, 25917, 25918, 25919,\n",
       "             25920],\n",
       "            dtype='int64', name='NO', length=4320),\n",
       " 'Thursday': Int64Index([    1,     2,     3,     4,     5,     6,     7,     8,     9,\n",
       "                10,\n",
       "             ...\n",
       "             21591, 21592, 21593, 21594, 21595, 21596, 21597, 21598, 21599,\n",
       "             21600],\n",
       "            dtype='int64', name='NO', length=4320),\n",
       " 'Tuesday': Int64Index([ 7201,  7202,  7203,  7204,  7205,  7206,  7207,  7208,  7209,\n",
       "              7210,\n",
       "             ...\n",
       "             18711, 18712, 18713, 18714, 18715, 18716, 18717, 18718, 18719,\n",
       "             18720],\n",
       "            dtype='int64', name='NO', length=2880),\n",
       " 'Wednesday': Int64Index([ 8641,  8642,  8643,  8644,  8645,  8646,  8647,  8648,  8649,\n",
       "              8650,\n",
       "             ...\n",
       "             20151, 20152, 20153, 20154, 20155, 20156, 20157, 20158, 20159,\n",
       "             20160],\n",
       "            dtype='int64', name='NO', length=2880)}"
      ]
     },
     "execution_count": 20,
     "metadata": {},
     "output_type": "execute_result"
    }
   ],
   "source": [
    "df.groupby('weekday').groups"
   ]
  },
  {
   "cell_type": "code",
   "execution_count": 21,
   "metadata": {},
   "outputs": [],
   "source": [
    "df_workday = df_workday.rename(columns={'Huminity': 'Humidity', 'PM2.5' :'PM25', 'PM10.0':'PM100'})"
   ]
  },
  {
   "cell_type": "code",
   "execution_count": 22,
   "metadata": {},
   "outputs": [],
   "source": [
    "df_weekend = df_weekend.rename(columns={'Huminity': 'Humidity', 'PM2.5' :'PM25', 'PM10.0':'PM100'})"
   ]
  },
  {
   "cell_type": "code",
   "execution_count": 23,
   "metadata": {},
   "outputs": [
    {
     "data": {
      "text/plain": [
       "Index(['REG_DATE', 'PM25', 'PM100', 'Temperature', 'Humidity', 'TVOC', 'CO2',\n",
       "       'weekday'],\n",
       "      dtype='object')"
      ]
     },
     "execution_count": 23,
     "metadata": {},
     "output_type": "execute_result"
    }
   ],
   "source": [
    "df_weekend.columns"
   ]
  },
  {
   "cell_type": "code",
   "execution_count": 38,
   "metadata": {},
   "outputs": [
    {
     "data": {
      "image/png": "[encoded data removed]",
      "text/plain": [
       "<Figure size 720x1440 with 10 Axes>"
      ]
     },
     "metadata": {
      "needs_background": "light"
     },
     "output_type": "display_data"
    }
   ],
   "source": [
    "fig, axes = plt.subplots(5,2, figsize=(10,20))\n",
    "x  = list(range(len(df_workday['PM25'])))\n",
    "axes[0][0].plot(x, df_workday['PM25'])\n",
    "axes[0][0].set_title ('workday PM2.5')\n",
    "\n",
    "x1  = list(range(len(df_weekend['PM25'])))\n",
    "axes[0][1].plot(x1, df_weekend['PM25'])\n",
    "axes[0][1].set_title ('weekend PM2.5') \n",
    "\n",
    "\n",
    "axes[1][0].plot(x, df_workday['Temperature'])\n",
    "axes[1][0].set_title ('workday Temperature')\n",
    "\n",
    "axes[1][1].plot(x1, df_weekend['Temperature'])\n",
    "axes[1][1].set_title ('weekend Temperature') \n",
    "\n",
    "axes[2][0].plot(x, df_workday['CO2'])\n",
    "axes[2][0].set_title ('workday CO2')\n",
    "\n",
    "axes[2][1].plot(x1, df_weekend['CO2'])\n",
    "axes[2][1].set_title ('weekend CO2') \n",
    "\n",
    "axes[3][0].plot(x, df_workday['Humidity'])\n",
    "axes[3][0].set_title ('workday Humidity')\n",
    "\n",
    "axes[3][1].plot(x1, df_weekend['Humidity'])\n",
    "axes[3][1].set_title ('weekend Humidity') \n",
    "\n",
    "axes[4][0].plot(x, df_workday['TVOC'])\n",
    "axes[4][0].set_title ('workday TVOC')\n",
    "\n",
    "axes[4][1].plot(x1, df_weekend['TVOC'])\n",
    "axes[4][1].set_title ('weekend TVOC') \n",
    "\n",
    "plt.show()"
   ]
  },
  {
   "cell_type": "code",
   "execution_count": 25,
   "metadata": {},
   "outputs": [],
   "source": [
    "import numpy as np\n",
    "\n",
    "def is_outlier(points, threshold=1):\n",
    "    if len(points.shape) == 1:\n",
    "        points = points[:, None]\n",
    "    \n",
    "    median = np.median(points, axis=0)\n",
    "    \n",
    "    diff = np.sum((points - median)**2, axis=-1)\n",
    "    diff = np.sqrt(diff)\n",
    "    \n",
    "    med_abs_deviation = np.median(diff)\n",
    "    modified_z_score = 0.6745 * diff / med_abs_deviation\n",
    "    \n",
    "    return modified_z_score > threshold\n",
    "\n"
   ]
  },
  {
   "cell_type": "code",
   "execution_count": 26,
   "metadata": {},
   "outputs": [
    {
     "data": {
      "text/plain": [
       "(17280,)"
      ]
     },
     "execution_count": 26,
     "metadata": {},
     "output_type": "execute_result"
    }
   ],
   "source": [
    "df_workday['PM25'].shape"
   ]
  },
  {
   "cell_type": "code",
   "execution_count": 27,
   "metadata": {},
   "outputs": [
    {
     "data": {
      "text/html": [
       "<div>\n",
       "<style scoped>\n",
       "    .dataframe tbody tr th:only-of-type {\n",
       "        vertical-align: middle;\n",
       "    }\n",
       "\n",
       "    .dataframe tbody tr th {\n",
       "        vertical-align: top;\n",
       "    }\n",
       "\n",
       "    .dataframe thead th {\n",
       "        text-align: right;\n",
       "    }\n",
       "</style>\n",
       "<table border=\"1\" class=\"dataframe\">\n",
       "  <thead>\n",
       "    <tr style=\"text-align: right;\">\n",
       "      <th></th>\n",
       "      <th>REG_DATE</th>\n",
       "      <th>PM25</th>\n",
       "      <th>PM100</th>\n",
       "      <th>Temperature</th>\n",
       "      <th>Humidity</th>\n",
       "      <th>TVOC</th>\n",
       "      <th>CO2</th>\n",
       "      <th>weekday</th>\n",
       "    </tr>\n",
       "    <tr>\n",
       "      <th>NO</th>\n",
       "      <th></th>\n",
       "      <th></th>\n",
       "      <th></th>\n",
       "      <th></th>\n",
       "      <th></th>\n",
       "      <th></th>\n",
       "      <th></th>\n",
       "      <th></th>\n",
       "    </tr>\n",
       "  </thead>\n",
       "  <tbody>\n",
       "    <tr>\n",
       "      <th>5761</th>\n",
       "      <td>2020-04-06 00:00:00</td>\n",
       "      <td>7.83</td>\n",
       "      <td>6.19</td>\n",
       "      <td>19.1</td>\n",
       "      <td>23.8</td>\n",
       "      <td>1.95</td>\n",
       "      <td>3.92</td>\n",
       "      <td>Monday</td>\n",
       "    </tr>\n",
       "    <tr>\n",
       "      <th>5762</th>\n",
       "      <td>2020-04-06 00:01:00</td>\n",
       "      <td>7.83</td>\n",
       "      <td>6.19</td>\n",
       "      <td>19.1</td>\n",
       "      <td>23.8</td>\n",
       "      <td>1.94</td>\n",
       "      <td>3.89</td>\n",
       "      <td>Monday</td>\n",
       "    </tr>\n",
       "    <tr>\n",
       "      <th>5763</th>\n",
       "      <td>2020-04-06 00:02:00</td>\n",
       "      <td>8.12</td>\n",
       "      <td>6.19</td>\n",
       "      <td>19.1</td>\n",
       "      <td>23.9</td>\n",
       "      <td>1.92</td>\n",
       "      <td>3.92</td>\n",
       "      <td>Monday</td>\n",
       "    </tr>\n",
       "    <tr>\n",
       "      <th>5764</th>\n",
       "      <td>2020-04-06 00:03:00</td>\n",
       "      <td>10.16</td>\n",
       "      <td>12.38</td>\n",
       "      <td>19.1</td>\n",
       "      <td>23.8</td>\n",
       "      <td>1.91</td>\n",
       "      <td>3.91</td>\n",
       "      <td>Monday</td>\n",
       "    </tr>\n",
       "    <tr>\n",
       "      <th>5765</th>\n",
       "      <td>2020-04-06 00:04:00</td>\n",
       "      <td>11.90</td>\n",
       "      <td>12.38</td>\n",
       "      <td>19.1</td>\n",
       "      <td>23.9</td>\n",
       "      <td>1.93</td>\n",
       "      <td>3.95</td>\n",
       "      <td>Monday</td>\n",
       "    </tr>\n",
       "  </tbody>\n",
       "</table>\n",
       "</div>"
      ],
      "text/plain": [
       "                REG_DATE   PM25  PM100  Temperature  Humidity  TVOC   CO2  \\\n",
       "NO                                                                          \n",
       "5761 2020-04-06 00:00:00   7.83   6.19         19.1      23.8  1.95  3.92   \n",
       "5762 2020-04-06 00:01:00   7.83   6.19         19.1      23.8  1.94  3.89   \n",
       "5763 2020-04-06 00:02:00   8.12   6.19         19.1      23.9  1.92  3.92   \n",
       "5764 2020-04-06 00:03:00  10.16  12.38         19.1      23.8  1.91  3.91   \n",
       "5765 2020-04-06 00:04:00  11.90  12.38         19.1      23.9  1.93  3.95   \n",
       "\n",
       "     weekday  \n",
       "NO            \n",
       "5761  Monday  \n",
       "5762  Monday  \n",
       "5763  Monday  \n",
       "5764  Monday  \n",
       "5765  Monday  "
      ]
     },
     "execution_count": 27,
     "metadata": {},
     "output_type": "execute_result"
    }
   ],
   "source": [
    "filtered = df_workday[~is_outlier(df_workday['PM25'])]\n",
    "\n",
    "filtered.head()"
   ]
  },
  {
   "cell_type": "code",
   "execution_count": 28,
   "metadata": {},
   "outputs": [
    {
     "data": {
      "image/png": "[encoded data removed]",
      "text/plain": [
       "<Figure size 432x288 with 2 Axes>"
      ]
     },
     "metadata": {
      "needs_background": "light"
     },
     "output_type": "display_data"
    }
   ],
   "source": [
    "buckets=30\n",
    "\n",
    "plt.figure()\n",
    "\n",
    "plt.subplot(211)\n",
    "plt.hist(df_workday['PM25'], buckets)\n",
    "plt.xlabel('Raw')\n",
    "\n",
    "plt.subplot(212)\n",
    "plt.hist(filtered['PM25'], buckets)\n",
    "plt.xlabel('Cleaned')\n",
    "\n",
    "plt.show()\n"
   ]
  },
  {
   "cell_type": "code",
   "execution_count": 29,
   "metadata": {},
   "outputs": [],
   "source": [
    "filtered1 = df_weekend[~is_outlier(df_weekend['PM25'])]"
   ]
  },
  {
   "cell_type": "code",
   "execution_count": 30,
   "metadata": {},
   "outputs": [
    {
     "data": {
      "image/png": "[encoded data removed]",
      "text/plain": [
       "<Figure size 432x288 with 2 Axes>"
      ]
     },
     "metadata": {
      "needs_background": "light"
     },
     "output_type": "display_data"
    }
   ],
   "source": [
    "buckets=30\n",
    "\n",
    "plt.figure()\n",
    "\n",
    "plt.subplot(211)\n",
    "plt.hist(df_weekend['PM25'], buckets)\n",
    "plt.xlabel('Raw')\n",
    "\n",
    "plt.subplot(212)\n",
    "plt.hist(filtered1['PM25'], buckets)\n",
    "plt.xlabel('Cleaned')\n",
    "\n",
    "plt.show()"
   ]
  },
  {
   "cell_type": "code",
   "execution_count": 31,
   "metadata": {},
   "outputs": [
    {
     "name": "stderr",
     "output_type": "stream",
     "text": [
      "C:\\Users\\Yunhee\\Anaconda3\\lib\\site-packages\\numpy\\lib\\function_base.py:3405: RuntimeWarning: Invalid value encountered in median for 1 results\n",
      "  r = func(a, **kwargs)\n",
      "C:\\Users\\Yunhee\\Anaconda3\\lib\\site-packages\\numpy\\lib\\function_base.py:3405: RuntimeWarning: Invalid value encountered in median\n",
      "  r = func(a, **kwargs)\n",
      "C:\\Users\\Yunhee\\Anaconda3\\lib\\site-packages\\ipykernel_launcher.py:15: RuntimeWarning: invalid value encountered in greater\n",
      "  from ipykernel import kernelapp as app\n"
     ]
    }
   ],
   "source": [
    "filtered = df_weekend[~is_outlier(df_weekend['CO2'])]\n",
    "filtered1 = df_workday[~is_outlier(df_workday['CO2'])]"
   ]
  },
  {
   "cell_type": "code",
   "execution_count": 32,
   "metadata": {},
   "outputs": [
    {
     "data": {
      "image/png": "[encoded data removed]",
      "text/plain": [
       "<Figure size 432x288 with 2 Axes>"
      ]
     },
     "metadata": {
      "needs_background": "light"
     },
     "output_type": "display_data"
    }
   ],
   "source": [
    "buckets=30\n",
    "sensor_name = 'CO2'\n",
    "plt.figure()\n",
    "\n",
    "plt.subplot(211)\n",
    "plt.hist(df_weekend[sensor_name], buckets)\n",
    "plt.xlabel('Raw')\n",
    "\n",
    "plt.subplot(212)\n",
    "plt.hist(filtered[sensor_name], buckets)\n",
    "plt.xlabel('Cleaned')\n",
    "\n",
    "plt.show()"
   ]
  },
  {
   "cell_type": "code",
   "execution_count": 33,
   "metadata": {},
   "outputs": [
    {
     "name": "stderr",
     "output_type": "stream",
     "text": [
      "C:\\Users\\Yunhee\\Anaconda3\\lib\\site-packages\\numpy\\lib\\histograms.py:824: RuntimeWarning: invalid value encountered in greater_equal\n",
      "  keep = (tmp_a >= first_edge)\n",
      "C:\\Users\\Yunhee\\Anaconda3\\lib\\site-packages\\numpy\\lib\\histograms.py:825: RuntimeWarning: invalid value encountered in less_equal\n",
      "  keep &= (tmp_a <= last_edge)\n"
     ]
    },
    {
     "data": {
      "image/png": "[encoded data removed]",
      "text/plain": [
       "<Figure size 432x288 with 2 Axes>"
      ]
     },
     "metadata": {
      "needs_background": "light"
     },
     "output_type": "display_data"
    }
   ],
   "source": [
    "buckets=30\n",
    "sensor_name = 'CO2'\n",
    "plt.figure()\n",
    "\n",
    "plt.subplot(211)\n",
    "plt.hist(df_workday[sensor_name], buckets)\n",
    "plt.xlabel('Raw')\n",
    "\n",
    "plt.subplot(212)\n",
    "plt.hist(filtered1[sensor_name], buckets)\n",
    "plt.xlabel('Cleaned')\n",
    "\n",
    "plt.show()"
   ]
  },
  {
   "cell_type": "code",
   "execution_count": 34,
   "metadata": {},
   "outputs": [],
   "source": [
    "from pylab import *\n",
    "def moving_average(interval, window_size):\n",
    "    window = ones(int(window_size)) / float(window_size)\n",
    "    return convolve(interval, window, 'same')"
   ]
  },
  {
   "cell_type": "code",
   "execution_count": 35,
   "metadata": {},
   "outputs": [
    {
     "data": {
      "text/plain": [
       "[<matplotlib.lines.Line2D at 0x25958743fc8>]"
      ]
     },
     "execution_count": 35,
     "metadata": {},
     "output_type": "execute_result"
    },
    {
     "data": {
      "image/png": "[encoded data removed]",
      "text/plain": [
       "<Figure size 432x288 with 1 Axes>"
      ]
     },
     "metadata": {
      "needs_background": "light"
     },
     "output_type": "display_data"
    }
   ],
   "source": [
    "x  = list(range(len(df_workday['PM25'])))\n",
    "plt.plot(x, df_workday['PM25'])\n",
    " \n",
    "\n",
    "y_av = moving_average(df_workday['PM25'],10)\n",
    "plt.plot(x, y_av)"
   ]
  },
  {
   "cell_type": "code",
   "execution_count": 36,
   "metadata": {},
   "outputs": [
    {
     "data": {
      "text/plain": [
       "[<matplotlib.lines.Line2D at 0x25956c60c48>]"
      ]
     },
     "execution_count": 36,
     "metadata": {},
     "output_type": "execute_result"
    },
    {
     "data": {
      "image/png": "[encoded data removed]",
      "text/plain": [
       "<Figure size 432x288 with 1 Axes>"
      ]
     },
     "metadata": {
      "needs_background": "light"
     },
     "output_type": "display_data"
    }
   ],
   "source": [
    " \n",
    "x  = list(range(len(df_workday['CO2'])))\n",
    "plt.plot(x, df_workday['CO2'])\n",
    " \n",
    "\n",
    "y_av = moving_average(df_workday['CO2'],10)\n",
    "plt.plot(x, y_av)"
   ]
  },
  {
   "cell_type": "code",
   "execution_count": 37,
   "metadata": {},
   "outputs": [
    {
     "data": {
      "text/plain": [
       "[<matplotlib.lines.Line2D at 0x259586a0d88>]"
      ]
     },
     "execution_count": 37,
     "metadata": {},
     "output_type": "execute_result"
    },
    {
     "data": {
      "image/png": "[encoded data removed]",
      "text/plain": [
       "<Figure size 432x288 with 1 Axes>"
      ]
     },
     "metadata": {
      "needs_background": "light"
     },
     "output_type": "display_data"
    }
   ],
   "source": [
    "x  = list(range(len(df_weekend['CO2'])))\n",
    "plt.plot(x, df_weekend['CO2'], 'k.')\n",
    " \n",
    "\n",
    "y_av = moving_average(df_weekend['CO2'],10)\n",
    "plt.plot(x, y_av, 'r')"
   ]
  },
  {
   "cell_type": "code",
   "execution_count": null,
   "metadata": {},
   "outputs": [],
   "source": []
  }
 ],
 "metadata": {
  "kernelspec": {
   "display_name": "Python 3",
   "language": "python",
   "name": "python3"
  },
  "language_info": {
   "codemirror_mode": {
    "name": "ipython",
    "version": 3
   },
   "file_extension": ".py",
   "mimetype": "text/x-python",
   "name": "python",
   "nbconvert_exporter": "python",
   "pygments_lexer": "ipython3",
   "version": "3.7.4"
  }
 },
 "nbformat": 4,
 "nbformat_minor": 2
}
