{
 "cells": [
  {
   "cell_type": "code",
   "execution_count": 1,
   "metadata": {},
   "outputs": [],
   "source": [
    "import pandas as pd\n",
    "import matplotlib.pyplot as plt"
   ]
  },
  {
   "cell_type": "markdown",
   "metadata": {},
   "source": [
    "Entropy 의 값에 따른 자료특성 변화"
   ]
  },
  {
   "cell_type": "code",
   "execution_count": 2,
   "metadata": {},
   "outputs": [],
   "source": [
    "#my_url= \"April_sensor_data.csv\"\n",
    "my_url= \"April_All.csv\"\n",
    "#data frame\n",
    "df = pd.read_csv(my_url, parse_dates=['REG_DATE'])"
   ]
  },
  {
   "cell_type": "code",
   "execution_count": 3,
   "metadata": {},
   "outputs": [
    {
     "name": "stdout",
     "output_type": "stream",
     "text": [
      "Index(['REG_DATE', 'PM2.5', 'PM10.0', 'Temperature', 'Huminity', 'TVOC', 'CO2',\n",
      "       'weekday'],\n",
      "      dtype='object')\n"
     ]
    }
   ],
   "source": [
    "# index 컬럼 지정 \n",
    "df = df.set_index(\"NO\", drop = True)\n",
    "\n",
    "df['weekday'] = df['REG_DATE'].dt.day_name()\n",
    "print(df.columns)"
   ]
  },
  {
   "cell_type": "code",
   "execution_count": 4,
   "metadata": {},
   "outputs": [],
   "source": [
    "df_monday = df[df['weekday']=='Monday']\n",
    "df_tuesday = df[df['weekday']=='Tuesday']\n",
    "df_wednesday = df[df['weekday']=='Wednesday']\n",
    "df_thursday = df[df['weekday']=='Thursday']\n",
    "df_friday = df[df['weekday']=='Friday']\n",
    "\n",
    "df_saturday = df[df['weekday']=='Saturday']\n",
    "df_sunday = df[df['weekday']=='Sunday']\n",
    "\n",
    "\n",
    "df_workday = pd.concat([df_monday,df_tuesday, df_wednesday, df_thursday, df_friday])\n",
    "#df_weekend = pd.concat([df_saturday,df_sunday])\n",
    "df_weekend = pd.concat([df_saturday])\n"
   ]
  },
  {
   "cell_type": "code",
   "execution_count": 5,
   "metadata": {},
   "outputs": [
    {
     "data": {
      "text/html": [
       "<div>\n",
       "<style scoped>\n",
       "    .dataframe tbody tr th:only-of-type {\n",
       "        vertical-align: middle;\n",
       "    }\n",
       "\n",
       "    .dataframe tbody tr th {\n",
       "        vertical-align: top;\n",
       "    }\n",
       "\n",
       "    .dataframe thead th {\n",
       "        text-align: right;\n",
       "    }\n",
       "</style>\n",
       "<table border=\"1\" class=\"dataframe\">\n",
       "  <thead>\n",
       "    <tr style=\"text-align: right;\">\n",
       "      <th></th>\n",
       "      <th>PM2.5</th>\n",
       "      <th>PM10.0</th>\n",
       "      <th>Temperature</th>\n",
       "      <th>Huminity</th>\n",
       "      <th>TVOC</th>\n",
       "      <th>CO2</th>\n",
       "    </tr>\n",
       "  </thead>\n",
       "  <tbody>\n",
       "    <tr>\n",
       "      <th>count</th>\n",
       "      <td>25291.000000</td>\n",
       "      <td>25291.000000</td>\n",
       "      <td>25289.000000</td>\n",
       "      <td>25289.000000</td>\n",
       "      <td>25290.000000</td>\n",
       "      <td>25290.000000</td>\n",
       "    </tr>\n",
       "    <tr>\n",
       "      <th>mean</th>\n",
       "      <td>12.094452</td>\n",
       "      <td>12.138252</td>\n",
       "      <td>19.974839</td>\n",
       "      <td>26.335778</td>\n",
       "      <td>1.896103</td>\n",
       "      <td>4.567800</td>\n",
       "    </tr>\n",
       "    <tr>\n",
       "      <th>std</th>\n",
       "      <td>7.842068</td>\n",
       "      <td>7.620814</td>\n",
       "      <td>1.168353</td>\n",
       "      <td>5.861616</td>\n",
       "      <td>0.443588</td>\n",
       "      <td>1.154949</td>\n",
       "    </tr>\n",
       "    <tr>\n",
       "      <th>min</th>\n",
       "      <td>1.020000</td>\n",
       "      <td>1.020000</td>\n",
       "      <td>17.000000</td>\n",
       "      <td>15.000000</td>\n",
       "      <td>0.670000</td>\n",
       "      <td>2.150000</td>\n",
       "    </tr>\n",
       "    <tr>\n",
       "      <th>25%</th>\n",
       "      <td>5.860000</td>\n",
       "      <td>6.190000</td>\n",
       "      <td>19.100000</td>\n",
       "      <td>22.500000</td>\n",
       "      <td>1.580000</td>\n",
       "      <td>3.760000</td>\n",
       "    </tr>\n",
       "    <tr>\n",
       "      <th>50%</th>\n",
       "      <td>11.030000</td>\n",
       "      <td>12.380000</td>\n",
       "      <td>19.800000</td>\n",
       "      <td>24.900000</td>\n",
       "      <td>1.970000</td>\n",
       "      <td>4.320000</td>\n",
       "    </tr>\n",
       "    <tr>\n",
       "      <th>75%</th>\n",
       "      <td>15.670000</td>\n",
       "      <td>16.390000</td>\n",
       "      <td>20.700000</td>\n",
       "      <td>28.600000</td>\n",
       "      <td>2.150000</td>\n",
       "      <td>5.017500</td>\n",
       "    </tr>\n",
       "    <tr>\n",
       "      <th>max</th>\n",
       "      <td>74.570000</td>\n",
       "      <td>61.900000</td>\n",
       "      <td>25.200000</td>\n",
       "      <td>44.100000</td>\n",
       "      <td>8.880000</td>\n",
       "      <td>8.310000</td>\n",
       "    </tr>\n",
       "  </tbody>\n",
       "</table>\n",
       "</div>"
      ],
      "text/plain": [
       "              PM2.5        PM10.0   Temperature      Huminity          TVOC  \\\n",
       "count  25291.000000  25291.000000  25289.000000  25289.000000  25290.000000   \n",
       "mean      12.094452     12.138252     19.974839     26.335778      1.896103   \n",
       "std        7.842068      7.620814      1.168353      5.861616      0.443588   \n",
       "min        1.020000      1.020000     17.000000     15.000000      0.670000   \n",
       "25%        5.860000      6.190000     19.100000     22.500000      1.580000   \n",
       "50%       11.030000     12.380000     19.800000     24.900000      1.970000   \n",
       "75%       15.670000     16.390000     20.700000     28.600000      2.150000   \n",
       "max       74.570000     61.900000     25.200000     44.100000      8.880000   \n",
       "\n",
       "                CO2  \n",
       "count  25290.000000  \n",
       "mean       4.567800  \n",
       "std        1.154949  \n",
       "min        2.150000  \n",
       "25%        3.760000  \n",
       "50%        4.320000  \n",
       "75%        5.017500  \n",
       "max        8.310000  "
      ]
     },
     "execution_count": 5,
     "metadata": {},
     "output_type": "execute_result"
    }
   ],
   "source": [
    "df_workday.describe()"
   ]
  },
  {
   "cell_type": "code",
   "execution_count": 6,
   "metadata": {},
   "outputs": [
    {
     "data": {
      "text/html": [
       "<div>\n",
       "<style scoped>\n",
       "    .dataframe tbody tr th:only-of-type {\n",
       "        vertical-align: middle;\n",
       "    }\n",
       "\n",
       "    .dataframe tbody tr th {\n",
       "        vertical-align: top;\n",
       "    }\n",
       "\n",
       "    .dataframe thead th {\n",
       "        text-align: right;\n",
       "    }\n",
       "</style>\n",
       "<table border=\"1\" class=\"dataframe\">\n",
       "  <thead>\n",
       "    <tr style=\"text-align: right;\">\n",
       "      <th></th>\n",
       "      <th>PM2.5</th>\n",
       "      <th>PM10.0</th>\n",
       "      <th>Temperature</th>\n",
       "      <th>Huminity</th>\n",
       "      <th>TVOC</th>\n",
       "      <th>CO2</th>\n",
       "    </tr>\n",
       "  </thead>\n",
       "  <tbody>\n",
       "    <tr>\n",
       "      <th>count</th>\n",
       "      <td>5760.000000</td>\n",
       "      <td>5760.000000</td>\n",
       "      <td>5759.000000</td>\n",
       "      <td>5759.000000</td>\n",
       "      <td>5760.00000</td>\n",
       "      <td>5760.000000</td>\n",
       "    </tr>\n",
       "    <tr>\n",
       "      <th>mean</th>\n",
       "      <td>12.643045</td>\n",
       "      <td>12.663531</td>\n",
       "      <td>20.124032</td>\n",
       "      <td>31.119934</td>\n",
       "      <td>1.90245</td>\n",
       "      <td>5.457269</td>\n",
       "    </tr>\n",
       "    <tr>\n",
       "      <th>std</th>\n",
       "      <td>9.416471</td>\n",
       "      <td>8.453577</td>\n",
       "      <td>0.809776</td>\n",
       "      <td>6.581850</td>\n",
       "      <td>0.25640</td>\n",
       "      <td>1.319640</td>\n",
       "    </tr>\n",
       "    <tr>\n",
       "      <th>min</th>\n",
       "      <td>1.480000</td>\n",
       "      <td>0.000000</td>\n",
       "      <td>18.600000</td>\n",
       "      <td>14.800000</td>\n",
       "      <td>1.40000</td>\n",
       "      <td>2.280000</td>\n",
       "    </tr>\n",
       "    <tr>\n",
       "      <th>25%</th>\n",
       "      <td>6.440000</td>\n",
       "      <td>6.220000</td>\n",
       "      <td>19.500000</td>\n",
       "      <td>29.100000</td>\n",
       "      <td>1.75000</td>\n",
       "      <td>4.910000</td>\n",
       "    </tr>\n",
       "    <tr>\n",
       "      <th>50%</th>\n",
       "      <td>10.755000</td>\n",
       "      <td>12.380000</td>\n",
       "      <td>20.100000</td>\n",
       "      <td>30.800000</td>\n",
       "      <td>1.90000</td>\n",
       "      <td>5.180000</td>\n",
       "    </tr>\n",
       "    <tr>\n",
       "      <th>75%</th>\n",
       "      <td>14.800000</td>\n",
       "      <td>14.525000</td>\n",
       "      <td>20.700000</td>\n",
       "      <td>36.000000</td>\n",
       "      <td>2.04000</td>\n",
       "      <td>6.425000</td>\n",
       "    </tr>\n",
       "    <tr>\n",
       "      <th>max</th>\n",
       "      <td>67.030000</td>\n",
       "      <td>55.710000</td>\n",
       "      <td>22.000000</td>\n",
       "      <td>43.100000</td>\n",
       "      <td>2.47000</td>\n",
       "      <td>8.020000</td>\n",
       "    </tr>\n",
       "  </tbody>\n",
       "</table>\n",
       "</div>"
      ],
      "text/plain": [
       "             PM2.5       PM10.0  Temperature     Huminity        TVOC  \\\n",
       "count  5760.000000  5760.000000  5759.000000  5759.000000  5760.00000   \n",
       "mean     12.643045    12.663531    20.124032    31.119934     1.90245   \n",
       "std       9.416471     8.453577     0.809776     6.581850     0.25640   \n",
       "min       1.480000     0.000000    18.600000    14.800000     1.40000   \n",
       "25%       6.440000     6.220000    19.500000    29.100000     1.75000   \n",
       "50%      10.755000    12.380000    20.100000    30.800000     1.90000   \n",
       "75%      14.800000    14.525000    20.700000    36.000000     2.04000   \n",
       "max      67.030000    55.710000    22.000000    43.100000     2.47000   \n",
       "\n",
       "               CO2  \n",
       "count  5760.000000  \n",
       "mean      5.457269  \n",
       "std       1.319640  \n",
       "min       2.280000  \n",
       "25%       4.910000  \n",
       "50%       5.180000  \n",
       "75%       6.425000  \n",
       "max       8.020000  "
      ]
     },
     "execution_count": 6,
     "metadata": {},
     "output_type": "execute_result"
    }
   ],
   "source": [
    "df_weekend.describe()"
   ]
  },
  {
   "cell_type": "code",
   "execution_count": 7,
   "metadata": {},
   "outputs": [
    {
     "data": {
      "text/html": [
       "<div>\n",
       "<style scoped>\n",
       "    .dataframe tbody tr th:only-of-type {\n",
       "        vertical-align: middle;\n",
       "    }\n",
       "\n",
       "    .dataframe tbody tr th {\n",
       "        vertical-align: top;\n",
       "    }\n",
       "\n",
       "    .dataframe thead th {\n",
       "        text-align: right;\n",
       "    }\n",
       "</style>\n",
       "<table border=\"1\" class=\"dataframe\">\n",
       "  <thead>\n",
       "    <tr style=\"text-align: right;\">\n",
       "      <th></th>\n",
       "      <th>REG_DATE</th>\n",
       "      <th>PM2.5</th>\n",
       "      <th>PM10.0</th>\n",
       "      <th>Temperature</th>\n",
       "      <th>Huminity</th>\n",
       "      <th>TVOC</th>\n",
       "      <th>CO2</th>\n",
       "      <th>weekday</th>\n",
       "    </tr>\n",
       "    <tr>\n",
       "      <th>NO</th>\n",
       "      <th></th>\n",
       "      <th></th>\n",
       "      <th></th>\n",
       "      <th></th>\n",
       "      <th></th>\n",
       "      <th></th>\n",
       "      <th></th>\n",
       "      <th></th>\n",
       "    </tr>\n",
       "  </thead>\n",
       "  <tbody>\n",
       "    <tr>\n",
       "      <th>5761</th>\n",
       "      <td>2020-04-06 00:00:00</td>\n",
       "      <td>7.83</td>\n",
       "      <td>6.19</td>\n",
       "      <td>19.1</td>\n",
       "      <td>23.8</td>\n",
       "      <td>1.95</td>\n",
       "      <td>3.92</td>\n",
       "      <td>Monday</td>\n",
       "    </tr>\n",
       "    <tr>\n",
       "      <th>5762</th>\n",
       "      <td>2020-04-06 00:01:00</td>\n",
       "      <td>7.83</td>\n",
       "      <td>6.19</td>\n",
       "      <td>19.1</td>\n",
       "      <td>23.8</td>\n",
       "      <td>1.94</td>\n",
       "      <td>3.89</td>\n",
       "      <td>Monday</td>\n",
       "    </tr>\n",
       "    <tr>\n",
       "      <th>5763</th>\n",
       "      <td>2020-04-06 00:02:00</td>\n",
       "      <td>8.12</td>\n",
       "      <td>6.19</td>\n",
       "      <td>19.1</td>\n",
       "      <td>23.9</td>\n",
       "      <td>1.92</td>\n",
       "      <td>3.92</td>\n",
       "      <td>Monday</td>\n",
       "    </tr>\n",
       "    <tr>\n",
       "      <th>5764</th>\n",
       "      <td>2020-04-06 00:03:00</td>\n",
       "      <td>10.16</td>\n",
       "      <td>12.38</td>\n",
       "      <td>19.1</td>\n",
       "      <td>23.8</td>\n",
       "      <td>1.91</td>\n",
       "      <td>3.91</td>\n",
       "      <td>Monday</td>\n",
       "    </tr>\n",
       "    <tr>\n",
       "      <th>5765</th>\n",
       "      <td>2020-04-06 00:04:00</td>\n",
       "      <td>11.90</td>\n",
       "      <td>12.38</td>\n",
       "      <td>19.1</td>\n",
       "      <td>23.9</td>\n",
       "      <td>1.93</td>\n",
       "      <td>3.95</td>\n",
       "      <td>Monday</td>\n",
       "    </tr>\n",
       "  </tbody>\n",
       "</table>\n",
       "</div>"
      ],
      "text/plain": [
       "                REG_DATE  PM2.5  PM10.0  Temperature  Huminity  TVOC   CO2  \\\n",
       "NO                                                                           \n",
       "5761 2020-04-06 00:00:00   7.83    6.19         19.1      23.8  1.95  3.92   \n",
       "5762 2020-04-06 00:01:00   7.83    6.19         19.1      23.8  1.94  3.89   \n",
       "5763 2020-04-06 00:02:00   8.12    6.19         19.1      23.9  1.92  3.92   \n",
       "5764 2020-04-06 00:03:00  10.16   12.38         19.1      23.8  1.91  3.91   \n",
       "5765 2020-04-06 00:04:00  11.90   12.38         19.1      23.9  1.93  3.95   \n",
       "\n",
       "     weekday  \n",
       "NO            \n",
       "5761  Monday  \n",
       "5762  Monday  \n",
       "5763  Monday  \n",
       "5764  Monday  \n",
       "5765  Monday  "
      ]
     },
     "execution_count": 7,
     "metadata": {},
     "output_type": "execute_result"
    }
   ],
   "source": [
    "df_workday.head()"
   ]
  },
  {
   "cell_type": "markdown",
   "metadata": {},
   "source": [
    "### group by a single column\n",
    "df.groupby('column1')"
   ]
  },
  {
   "cell_type": "code",
   "execution_count": 8,
   "metadata": {},
   "outputs": [
    {
     "data": {
      "text/plain": [
       "<pandas.core.groupby.groupby.DataFrameGroupBy object at 0x00000283DA8A8C48>"
      ]
     },
     "execution_count": 8,
     "metadata": {},
     "output_type": "execute_result"
    }
   ],
   "source": [
    "df.groupby('weekday')"
   ]
  },
  {
   "cell_type": "code",
   "execution_count": 9,
   "metadata": {},
   "outputs": [],
   "source": [
    "week_df = df.groupby(df['weekday']).mean()"
   ]
  },
  {
   "cell_type": "code",
   "execution_count": 10,
   "metadata": {},
   "outputs": [
    {
     "data": {
      "text/html": [
       "<div>\n",
       "<style scoped>\n",
       "    .dataframe tbody tr th:only-of-type {\n",
       "        vertical-align: middle;\n",
       "    }\n",
       "\n",
       "    .dataframe tbody tr th {\n",
       "        vertical-align: top;\n",
       "    }\n",
       "\n",
       "    .dataframe thead th {\n",
       "        text-align: right;\n",
       "    }\n",
       "</style>\n",
       "<table border=\"1\" class=\"dataframe\">\n",
       "  <thead>\n",
       "    <tr style=\"text-align: right;\">\n",
       "      <th></th>\n",
       "      <th>PM2.5</th>\n",
       "      <th>PM10.0</th>\n",
       "      <th>Temperature</th>\n",
       "      <th>Huminity</th>\n",
       "      <th>TVOC</th>\n",
       "      <th>CO2</th>\n",
       "    </tr>\n",
       "    <tr>\n",
       "      <th>weekday</th>\n",
       "      <th></th>\n",
       "      <th></th>\n",
       "      <th></th>\n",
       "      <th></th>\n",
       "      <th></th>\n",
       "      <th></th>\n",
       "    </tr>\n",
       "  </thead>\n",
       "  <tbody>\n",
       "    <tr>\n",
       "      <th>Friday</th>\n",
       "      <td>14.199453</td>\n",
       "      <td>13.837120</td>\n",
       "      <td>20.468918</td>\n",
       "      <td>29.021688</td>\n",
       "      <td>2.083778</td>\n",
       "      <td>5.217681</td>\n",
       "    </tr>\n",
       "    <tr>\n",
       "      <th>Monday</th>\n",
       "      <td>8.767100</td>\n",
       "      <td>8.981487</td>\n",
       "      <td>19.778990</td>\n",
       "      <td>29.293101</td>\n",
       "      <td>1.854292</td>\n",
       "      <td>5.051125</td>\n",
       "    </tr>\n",
       "    <tr>\n",
       "      <th>Saturday</th>\n",
       "      <td>12.643045</td>\n",
       "      <td>12.663531</td>\n",
       "      <td>20.124032</td>\n",
       "      <td>31.119934</td>\n",
       "      <td>1.902450</td>\n",
       "      <td>5.457269</td>\n",
       "    </tr>\n",
       "    <tr>\n",
       "      <th>Sunday</th>\n",
       "      <td>10.204038</td>\n",
       "      <td>10.146889</td>\n",
       "      <td>19.769670</td>\n",
       "      <td>28.733594</td>\n",
       "      <td>1.699844</td>\n",
       "      <td>4.927045</td>\n",
       "    </tr>\n",
       "    <tr>\n",
       "      <th>Thursday</th>\n",
       "      <td>12.786047</td>\n",
       "      <td>12.810311</td>\n",
       "      <td>20.276558</td>\n",
       "      <td>22.996788</td>\n",
       "      <td>1.871736</td>\n",
       "      <td>4.025123</td>\n",
       "    </tr>\n",
       "    <tr>\n",
       "      <th>Tuesday</th>\n",
       "      <td>10.583877</td>\n",
       "      <td>10.766368</td>\n",
       "      <td>19.780486</td>\n",
       "      <td>28.220787</td>\n",
       "      <td>1.956965</td>\n",
       "      <td>4.827870</td>\n",
       "    </tr>\n",
       "    <tr>\n",
       "      <th>Wednesday</th>\n",
       "      <td>13.828231</td>\n",
       "      <td>14.098289</td>\n",
       "      <td>19.340926</td>\n",
       "      <td>21.808889</td>\n",
       "      <td>1.667148</td>\n",
       "      <td>3.590845</td>\n",
       "    </tr>\n",
       "  </tbody>\n",
       "</table>\n",
       "</div>"
      ],
      "text/plain": [
       "               PM2.5     PM10.0  Temperature   Huminity      TVOC       CO2\n",
       "weekday                                                                    \n",
       "Friday     14.199453  13.837120    20.468918  29.021688  2.083778  5.217681\n",
       "Monday      8.767100   8.981487    19.778990  29.293101  1.854292  5.051125\n",
       "Saturday   12.643045  12.663531    20.124032  31.119934  1.902450  5.457269\n",
       "Sunday     10.204038  10.146889    19.769670  28.733594  1.699844  4.927045\n",
       "Thursday   12.786047  12.810311    20.276558  22.996788  1.871736  4.025123\n",
       "Tuesday    10.583877  10.766368    19.780486  28.220787  1.956965  4.827870\n",
       "Wednesday  13.828231  14.098289    19.340926  21.808889  1.667148  3.590845"
      ]
     },
     "execution_count": 10,
     "metadata": {},
     "output_type": "execute_result"
    }
   ],
   "source": [
    "week_df"
   ]
  },
  {
   "cell_type": "code",
   "execution_count": 11,
   "metadata": {},
   "outputs": [
    {
     "data": {
      "text/plain": [
       "{'Friday': Int64Index([ 1441,  1442,  1443,  1444,  1445,  1446,  1447,  1448,  1449,\n",
       "              1450,\n",
       "             ...\n",
       "             33111, 33112, 33113, 33114, 33115, 33116, 33117, 33118, 33119,\n",
       "             33120],\n",
       "            dtype='int64', name='NO', length=5760),\n",
       " 'Monday': Int64Index([ 5761,  5762,  5763,  5764,  5765,  5766,  5767,  5768,  5769,\n",
       "              5770,\n",
       "             ...\n",
       "             36802, 36803, 36804, 36805, 36806, 36807, 36808, 36809, 36810,\n",
       "             36811],\n",
       "            dtype='int64', name='NO', length=5131),\n",
       " 'Saturday': Int64Index([ 2881,  2882,  2883,  2884,  2885,  2886,  2887,  2888,  2889,\n",
       "              2890,\n",
       "             ...\n",
       "             34551, 34552, 34553, 34554, 34555, 34556, 34557, 34558, 34559,\n",
       "             34560],\n",
       "            dtype='int64', name='NO', length=5760),\n",
       " 'Sunday': Int64Index([ 4321,  4322,  4323,  4324,  4325,  4326,  4327,  4328,  4329,\n",
       "              4330,\n",
       "             ...\n",
       "             35991, 35992, 35993, 35994, 35995, 35996, 35997, 35998, 35999,\n",
       "             36000],\n",
       "            dtype='int64', name='NO', length=5760),\n",
       " 'Thursday': Int64Index([    1,     2,     3,     4,     5,     6,     7,     8,     9,\n",
       "                10,\n",
       "             ...\n",
       "             31671, 31672, 31673, 31674, 31675, 31676, 31677, 31678, 31679,\n",
       "             31680],\n",
       "            dtype='int64', name='NO', length=5760),\n",
       " 'Tuesday': Int64Index([ 7201,  7202,  7203,  7204,  7205,  7206,  7207,  7208,  7209,\n",
       "              7210,\n",
       "             ...\n",
       "             28791, 28792, 28793, 28794, 28795, 28796, 28797, 28798, 28799,\n",
       "             28800],\n",
       "            dtype='int64', name='NO', length=4320),\n",
       " 'Wednesday': Int64Index([ 8641,  8642,  8643,  8644,  8645,  8646,  8647,  8648,  8649,\n",
       "              8650,\n",
       "             ...\n",
       "             30231, 30232, 30233, 30234, 30235, 30236, 30237, 30238, 30239,\n",
       "             30240],\n",
       "            dtype='int64', name='NO', length=4320)}"
      ]
     },
     "execution_count": 11,
     "metadata": {},
     "output_type": "execute_result"
    }
   ],
   "source": [
    "df.groupby('weekday').groups"
   ]
  },
  {
   "cell_type": "code",
   "execution_count": 12,
   "metadata": {},
   "outputs": [],
   "source": [
    "def grouping(week):\n",
    "    if week in ['Monday', 'Tuesday', 'Wednesday', 'Thursday']:\n",
    "        return 'Group1'\n",
    "    else:\n",
    "        return 'Group2'\n"
   ]
  },
  {
   "cell_type": "code",
   "execution_count": 13,
   "metadata": {},
   "outputs": [
    {
     "data": {
      "text/plain": [
       "'Group2'"
      ]
     },
     "execution_count": 13,
     "metadata": {},
     "output_type": "execute_result"
    }
   ],
   "source": [
    "grouping('Sunday')"
   ]
  },
  {
   "cell_type": "code",
   "execution_count": 14,
   "metadata": {},
   "outputs": [],
   "source": [
    "df_group = df.groupby(grouping).groups"
   ]
  },
  {
   "cell_type": "code",
   "execution_count": 15,
   "metadata": {},
   "outputs": [],
   "source": [
    "df_group = df.groupby('weekday')"
   ]
  },
  {
   "cell_type": "code",
   "execution_count": 16,
   "metadata": {},
   "outputs": [],
   "source": [
    "#df_group.get_group('Saturday')\n",
    "\n",
    "MT = pd.merge(df[df['weekday']=='Monday'], df[df['weekday']=='Tuesday'])"
   ]
  },
  {
   "cell_type": "code",
   "execution_count": 17,
   "metadata": {},
   "outputs": [
    {
     "data": {
      "text/html": [
       "<div>\n",
       "<style scoped>\n",
       "    .dataframe tbody tr th:only-of-type {\n",
       "        vertical-align: middle;\n",
       "    }\n",
       "\n",
       "    .dataframe tbody tr th {\n",
       "        vertical-align: top;\n",
       "    }\n",
       "\n",
       "    .dataframe thead th {\n",
       "        text-align: right;\n",
       "    }\n",
       "</style>\n",
       "<table border=\"1\" class=\"dataframe\">\n",
       "  <thead>\n",
       "    <tr style=\"text-align: right;\">\n",
       "      <th></th>\n",
       "      <th>REG_DATE</th>\n",
       "      <th>PM2.5</th>\n",
       "      <th>PM10.0</th>\n",
       "      <th>Temperature</th>\n",
       "      <th>Huminity</th>\n",
       "      <th>TVOC</th>\n",
       "      <th>CO2</th>\n",
       "      <th>weekday</th>\n",
       "    </tr>\n",
       "  </thead>\n",
       "  <tbody>\n",
       "  </tbody>\n",
       "</table>\n",
       "</div>"
      ],
      "text/plain": [
       "Empty DataFrame\n",
       "Columns: [REG_DATE, PM2.5, PM10.0, Temperature, Huminity, TVOC, CO2, weekday]\n",
       "Index: []"
      ]
     },
     "execution_count": 17,
     "metadata": {},
     "output_type": "execute_result"
    }
   ],
   "source": [
    "MT.head()"
   ]
  },
  {
   "cell_type": "code",
   "execution_count": 18,
   "metadata": {},
   "outputs": [
    {
     "data": {
      "text/plain": [
       "7"
      ]
     },
     "execution_count": 18,
     "metadata": {},
     "output_type": "execute_result"
    }
   ],
   "source": [
    "len(df_group)"
   ]
  },
  {
   "cell_type": "code",
   "execution_count": 19,
   "metadata": {},
   "outputs": [],
   "source": [
    "friday_url= \"friday.csv\"\n",
    "sunday_url =\"sunday.csv\" \n",
    "df_friday = pd.read_csv(friday_url, parse_dates=['REG_DATE'])\n",
    "df_sunday = pd.read_csv(sunday_url, parse_dates=['REG_DATE'])\n",
    "\n",
    "# index 컬럼 지정 \n",
    "df_friday = df_friday.set_index(\"NO\", drop = True)\n",
    "df_sunday = df_sunday.set_index(\"NO\", drop = True)\n",
    "\n"
   ]
  },
  {
   "cell_type": "code",
   "execution_count": 20,
   "metadata": {},
   "outputs": [],
   "source": [
    "df_workday = df_workday.rename(columns={'Huminity': 'Humidity', 'PM2.5' :'PM25', 'PM10.0':'PM100'})"
   ]
  },
  {
   "cell_type": "code",
   "execution_count": 21,
   "metadata": {},
   "outputs": [],
   "source": [
    "df_weekend = df_weekend.rename(columns={'Huminity': 'Humidity', 'PM2.5' :'PM25', 'PM10.0':'PM100'})"
   ]
  },
  {
   "cell_type": "code",
   "execution_count": 22,
   "metadata": {},
   "outputs": [
    {
     "data": {
      "text/plain": [
       "Index(['REG_DATE', 'PM25', 'PM100', 'Temperature', 'Humidity', 'TVOC', 'CO2',\n",
       "       'weekday'],\n",
       "      dtype='object')"
      ]
     },
     "execution_count": 22,
     "metadata": {},
     "output_type": "execute_result"
    }
   ],
   "source": [
    "df_weekend.columns"
   ]
  },
  {
   "cell_type": "code",
   "execution_count": 23,
   "metadata": {},
   "outputs": [
    {
     "data": {
      "text/plain": [
       "Text(0.5, 1.0, 'weekend TVOC')"
      ]
     },
     "execution_count": 23,
     "metadata": {},
     "output_type": "execute_result"
    },
    {
     "data": {
      "image/png": "[encoded data removed]",
      "text/plain": [
       "<Figure size 720x1440 with 10 Axes>"
      ]
     },
     "metadata": {
      "needs_background": "light"
     },
     "output_type": "display_data"
    }
   ],
   "source": [
    "fig, axes = plt.subplots(5,2, figsize=(10,20))\n",
    "x  = list(range(len(df_workday['PM25'])))\n",
    "axes[0][0].plot(x, df_workday['PM25'])\n",
    "axes[0][0].set_title ('workday PM2.5')\n",
    "\n",
    "x1  = list(range(len(df_weekend['PM25'])))\n",
    "axes[0][1].plot(x1, df_weekend['PM25'])\n",
    "axes[0][1].set_title ('weekend PM2.5') \n",
    "\n",
    "'''\n",
    "axes[1][0].plot(x, df_workday['Temperature'])\n",
    "axes[1][0].set_title ('workday Temperature')\n",
    "\n",
    "axes[1][1].plot(x1, df_weekend['Temperature'])\n",
    "axes[1][1].set_title ('weekend Temperature') \n",
    "'''\n",
    "axes[2][0].plot(x, df_workday['CO2'])\n",
    "axes[2][0].set_title ('workday CO2')\n",
    "\n",
    "axes[2][1].plot(x1, df_weekend['CO2'])\n",
    "axes[2][1].set_title ('weekend CO2') \n",
    "\n",
    "axes[3][0].plot(x, df_workday['Humidity'])\n",
    "axes[3][0].set_title ('workday Humidity')\n",
    "\n",
    "axes[3][1].plot(x1, df_weekend['Humidity'])\n",
    "axes[3][1].set_title ('weekend Humidity') \n",
    "\n",
    "axes[4][0].plot(x, df_workday['TVOC'])\n",
    "axes[4][0].set_title ('workday TVOC')\n",
    "\n",
    "axes[4][1].plot(x1, df_weekend['TVOC'])\n",
    "axes[4][1].set_title ('weekend TVOC') \n"
   ]
  },
  {
   "cell_type": "code",
   "execution_count": 24,
   "metadata": {},
   "outputs": [],
   "source": [
    "import numpy as np\n",
    "\n",
    "def is_outlier(points, threshold=1):\n",
    "    if len(points.shape) == 1:\n",
    "        points = points[:, None]\n",
    "    \n",
    "    median = np.median(points, axis=0)\n",
    "    \n",
    "    diff = np.sum((points - median)**2, axis=-1)\n",
    "    diff = np.sqrt(diff)\n",
    "    \n",
    "    med_abs_deviation = np.median(diff)\n",
    "    modified_z_score = 0.6745 * diff / med_abs_deviation\n",
    "    \n",
    "    return modified_z_score > threshold\n",
    "\n"
   ]
  },
  {
   "cell_type": "code",
   "execution_count": 25,
   "metadata": {},
   "outputs": [
    {
     "data": {
      "text/plain": [
       "(25291,)"
      ]
     },
     "execution_count": 25,
     "metadata": {},
     "output_type": "execute_result"
    }
   ],
   "source": [
    "df_workday['PM25'].shape"
   ]
  },
  {
   "cell_type": "code",
   "execution_count": 26,
   "metadata": {},
   "outputs": [
    {
     "data": {
      "text/html": [
       "<div>\n",
       "<style scoped>\n",
       "    .dataframe tbody tr th:only-of-type {\n",
       "        vertical-align: middle;\n",
       "    }\n",
       "\n",
       "    .dataframe tbody tr th {\n",
       "        vertical-align: top;\n",
       "    }\n",
       "\n",
       "    .dataframe thead th {\n",
       "        text-align: right;\n",
       "    }\n",
       "</style>\n",
       "<table border=\"1\" class=\"dataframe\">\n",
       "  <thead>\n",
       "    <tr style=\"text-align: right;\">\n",
       "      <th></th>\n",
       "      <th>REG_DATE</th>\n",
       "      <th>PM25</th>\n",
       "      <th>PM100</th>\n",
       "      <th>Temperature</th>\n",
       "      <th>Humidity</th>\n",
       "      <th>TVOC</th>\n",
       "      <th>CO2</th>\n",
       "      <th>weekday</th>\n",
       "    </tr>\n",
       "    <tr>\n",
       "      <th>NO</th>\n",
       "      <th></th>\n",
       "      <th></th>\n",
       "      <th></th>\n",
       "      <th></th>\n",
       "      <th></th>\n",
       "      <th></th>\n",
       "      <th></th>\n",
       "      <th></th>\n",
       "    </tr>\n",
       "  </thead>\n",
       "  <tbody>\n",
       "    <tr>\n",
       "      <th>5761</th>\n",
       "      <td>2020-04-06 00:00:00</td>\n",
       "      <td>7.83</td>\n",
       "      <td>6.19</td>\n",
       "      <td>19.1</td>\n",
       "      <td>23.8</td>\n",
       "      <td>1.95</td>\n",
       "      <td>3.92</td>\n",
       "      <td>Monday</td>\n",
       "    </tr>\n",
       "    <tr>\n",
       "      <th>5762</th>\n",
       "      <td>2020-04-06 00:01:00</td>\n",
       "      <td>7.83</td>\n",
       "      <td>6.19</td>\n",
       "      <td>19.1</td>\n",
       "      <td>23.8</td>\n",
       "      <td>1.94</td>\n",
       "      <td>3.89</td>\n",
       "      <td>Monday</td>\n",
       "    </tr>\n",
       "    <tr>\n",
       "      <th>5763</th>\n",
       "      <td>2020-04-06 00:02:00</td>\n",
       "      <td>8.12</td>\n",
       "      <td>6.19</td>\n",
       "      <td>19.1</td>\n",
       "      <td>23.9</td>\n",
       "      <td>1.92</td>\n",
       "      <td>3.92</td>\n",
       "      <td>Monday</td>\n",
       "    </tr>\n",
       "    <tr>\n",
       "      <th>5764</th>\n",
       "      <td>2020-04-06 00:03:00</td>\n",
       "      <td>10.16</td>\n",
       "      <td>12.38</td>\n",
       "      <td>19.1</td>\n",
       "      <td>23.8</td>\n",
       "      <td>1.91</td>\n",
       "      <td>3.91</td>\n",
       "      <td>Monday</td>\n",
       "    </tr>\n",
       "    <tr>\n",
       "      <th>5765</th>\n",
       "      <td>2020-04-06 00:04:00</td>\n",
       "      <td>11.90</td>\n",
       "      <td>12.38</td>\n",
       "      <td>19.1</td>\n",
       "      <td>23.9</td>\n",
       "      <td>1.93</td>\n",
       "      <td>3.95</td>\n",
       "      <td>Monday</td>\n",
       "    </tr>\n",
       "  </tbody>\n",
       "</table>\n",
       "</div>"
      ],
      "text/plain": [
       "                REG_DATE   PM25  PM100  Temperature  Humidity  TVOC   CO2  \\\n",
       "NO                                                                          \n",
       "5761 2020-04-06 00:00:00   7.83   6.19         19.1      23.8  1.95  3.92   \n",
       "5762 2020-04-06 00:01:00   7.83   6.19         19.1      23.8  1.94  3.89   \n",
       "5763 2020-04-06 00:02:00   8.12   6.19         19.1      23.9  1.92  3.92   \n",
       "5764 2020-04-06 00:03:00  10.16  12.38         19.1      23.8  1.91  3.91   \n",
       "5765 2020-04-06 00:04:00  11.90  12.38         19.1      23.9  1.93  3.95   \n",
       "\n",
       "     weekday  \n",
       "NO            \n",
       "5761  Monday  \n",
       "5762  Monday  \n",
       "5763  Monday  \n",
       "5764  Monday  \n",
       "5765  Monday  "
      ]
     },
     "execution_count": 26,
     "metadata": {},
     "output_type": "execute_result"
    }
   ],
   "source": [
    "filtered = df_workday[~is_outlier(df_workday['PM25'])]\n",
    "\n",
    "filtered.head()"
   ]
  },
  {
   "cell_type": "code",
   "execution_count": 40,
   "metadata": {},
   "outputs": [
    {
     "data": {
      "image/png": "[encoded data removed]",
      "text/plain": [
       "<Figure size 432x288 with 2 Axes>"
      ]
     },
     "metadata": {
      "needs_background": "light"
     },
     "output_type": "display_data"
    }
   ],
   "source": [
    "buckets=30\n",
    "\n",
    "plt.figure()\n",
    "\n",
    "plt.subplot(211)\n",
    "plt.hist(df_workday['PM25'], buckets)\n",
    "plt.xlabel('Raw')\n",
    "\n",
    "plt.subplot(212)\n",
    "plt.hist(filtered['PM25'], buckets)\n",
    "plt.xlabel('Cleaned')\n",
    "\n",
    "plt.show()\n"
   ]
  },
  {
   "cell_type": "code",
   "execution_count": 28,
   "metadata": {},
   "outputs": [],
   "source": [
    "filtered1 = df_weekend[~is_outlier(df_weekend['PM25'])]"
   ]
  },
  {
   "cell_type": "code",
   "execution_count": 39,
   "metadata": {},
   "outputs": [
    {
     "data": {
      "image/png": "[encoded data removed]",
      "text/plain": [
       "<Figure size 432x288 with 2 Axes>"
      ]
     },
     "metadata": {
      "needs_background": "light"
     },
     "output_type": "display_data"
    }
   ],
   "source": [
    "buckets=30\n",
    "\n",
    "plt.figure()\n",
    "\n",
    "plt.subplot(211)\n",
    "plt.hist(df_weekend['PM25'], buckets)\n",
    "plt.xlabel('Raw')\n",
    "\n",
    "plt.subplot(212)\n",
    "plt.hist(filtered1['PM25'], buckets)\n",
    "plt.xlabel('Cleaned')\n",
    "\n",
    "plt.show()"
   ]
  },
  {
   "cell_type": "code",
   "execution_count": 38,
   "metadata": {},
   "outputs": [
    {
     "name": "stderr",
     "output_type": "stream",
     "text": [
      "C:\\Users\\Yunhee\\Anaconda3\\lib\\site-packages\\ipykernel_launcher.py:15: RuntimeWarning: invalid value encountered in greater\n",
      "  from ipykernel import kernelapp as app\n"
     ]
    }
   ],
   "source": [
    "filtered = df_weekend[~is_outlier(df_weekend['CO2'])]\n",
    "filtered1 = df_workday[~is_outlier(df_workday['CO2'])]"
   ]
  },
  {
   "cell_type": "code",
   "execution_count": 36,
   "metadata": {},
   "outputs": [
    {
     "data": {
      "image/png": "[encoded data removed]",
      "text/plain": [
       "<Figure size 432x288 with 2 Axes>"
      ]
     },
     "metadata": {
      "needs_background": "light"
     },
     "output_type": "display_data"
    }
   ],
   "source": [
    "buckets=30\n",
    "sensor_name = 'CO2'\n",
    "plt.figure()\n",
    "\n",
    "plt.subplot(211)\n",
    "plt.hist(df_weekend[sensor_name], buckets)\n",
    "plt.xlabel('Raw')\n",
    "\n",
    "plt.subplot(212)\n",
    "plt.hist(filtered[sensor_name], buckets)\n",
    "plt.xlabel('Cleaned')\n",
    "\n",
    "plt.show()"
   ]
  },
  {
   "cell_type": "code",
   "execution_count": 37,
   "metadata": {},
   "outputs": [
    {
     "data": {
      "image/png": "[encoded data removed]",
      "text/plain": [
       "<Figure size 432x288 with 2 Axes>"
      ]
     },
     "metadata": {
      "needs_background": "light"
     },
     "output_type": "display_data"
    }
   ],
   "source": [
    "buckets=30\n",
    "sensor_name = 'CO2'\n",
    "plt.figure()\n",
    "\n",
    "plt.subplot(211)\n",
    "plt.hist(df_workday[sensor_name], buckets)\n",
    "plt.xlabel('Raw')\n",
    "\n",
    "plt.subplot(212)\n",
    "plt.hist(filtered1[sensor_name], buckets)\n",
    "plt.xlabel('Cleaned')\n",
    "\n",
    "plt.show()"
   ]
  },
  {
   "cell_type": "code",
   "execution_count": 43,
   "metadata": {},
   "outputs": [],
   "source": [
    "from pylab import *\n",
    "def moving_average(interval, window_size):\n",
    "    window = ones(int(window_size)) / float(window_size)\n",
    "    return convolve(interval, window, 'same')"
   ]
  },
  {
   "cell_type": "code",
   "execution_count": 49,
   "metadata": {},
   "outputs": [
    {
     "data": {
      "text/plain": [
       "[<matplotlib.lines.Line2D at 0x283dc53db48>]"
      ]
     },
     "execution_count": 49,
     "metadata": {},
     "output_type": "execute_result"
    },
    {
     "data": {
      "image/png": "[encoded data removed]",
      "text/plain": [
       "<Figure size 432x288 with 1 Axes>"
      ]
     },
     "metadata": {
      "needs_background": "light"
     },
     "output_type": "display_data"
    }
   ],
   "source": [
    "x  = list(range(len(df_workday['PM25'])))\n",
    "plt.plot(x, df_workday['PM25'])\n",
    " \n",
    "\n",
    "y_av = moving_average(df_workday['PM25'],10)\n",
    "plt.plot(x, y_av)"
   ]
  },
  {
   "cell_type": "code",
   "execution_count": 48,
   "metadata": {},
   "outputs": [
    {
     "data": {
      "text/plain": [
       "[<matplotlib.lines.Line2D at 0x283ddf6be48>]"
      ]
     },
     "execution_count": 48,
     "metadata": {},
     "output_type": "execute_result"
    },
    {
     "data": {
      "image/png": "[encoded data removed]",
      "text/plain": [
       "<Figure size 432x288 with 1 Axes>"
      ]
     },
     "metadata": {
      "needs_background": "light"
     },
     "output_type": "display_data"
    }
   ],
   "source": [
    " \n",
    "x  = list(range(len(df_workday['CO2'])))\n",
    "plt.plot(x, df_workday['CO2'])\n",
    " \n",
    "\n",
    "y_av = moving_average(df_workday['CO2'],10)\n",
    "plt.plot(x, y_av)"
   ]
  },
  {
   "cell_type": "code",
   "execution_count": 52,
   "metadata": {},
   "outputs": [
    {
     "data": {
      "text/plain": [
       "[<matplotlib.lines.Line2D at 0x283ddf9cb88>]"
      ]
     },
     "execution_count": 52,
     "metadata": {},
     "output_type": "execute_result"
    },
    {
     "data": {
      "image/png": "[encoded data removed]",
      "text/plain": [
       "<Figure size 432x288 with 1 Axes>"
      ]
     },
     "metadata": {
      "needs_background": "light"
     },
     "output_type": "display_data"
    }
   ],
   "source": [
    "x  = list(range(len(df_weekend['CO2'])))\n",
    "plt.plot(x, df_weekend['CO2'], 'k.')\n",
    " \n",
    "\n",
    "y_av = moving_average(df_weekend['CO2'],10)\n",
    "plt.plot(x, y_av, 'r')"
   ]
  },
  {
   "cell_type": "code",
   "execution_count": null,
   "metadata": {},
   "outputs": [],
   "source": []
  }
 ],
 "metadata": {
  "kernelspec": {
   "display_name": "Python 3",
   "language": "python",
   "name": "python3"
  },
  "language_info": {
   "codemirror_mode": {
    "name": "ipython",
    "version": 3
   },
   "file_extension": ".py",
   "mimetype": "text/x-python",
   "name": "python",
   "nbconvert_exporter": "python",
   "pygments_lexer": "ipython3",
   "version": "3.7.4"
  }
 },
 "nbformat": 4,
 "nbformat_minor": 2
}
