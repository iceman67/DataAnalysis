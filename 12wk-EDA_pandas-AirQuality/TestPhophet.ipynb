{
 "cells": [
  {
   "cell_type": "code",
   "execution_count": 63,
   "metadata": {},
   "outputs": [],
   "source": [
    "import pandas as pd\n",
    "import matplotlib.pyplot as plt"
   ]
  },
  {
   "cell_type": "markdown",
   "metadata": {},
   "source": [
    "센서 값에 따른 자료특성 변화"
   ]
  },
  {
   "cell_type": "code",
   "execution_count": 93,
   "metadata": {},
   "outputs": [],
   "source": [
    "#my_url= \"April_sensor_data.csv\"\n",
    "my_url= \"April_All.csv\"\n",
    "\n",
    "#data frame\n",
    "df = pd.read_csv(my_url, parse_dates=['REG_DATE'])"
   ]
  },
  {
   "cell_type": "code",
   "execution_count": 94,
   "metadata": {},
   "outputs": [
    {
     "data": {
      "text/plain": [
       "(36811, 8)"
      ]
     },
     "execution_count": 94,
     "metadata": {},
     "output_type": "execute_result"
    }
   ],
   "source": [
    "df.shape"
   ]
  },
  {
   "cell_type": "code",
   "execution_count": 95,
   "metadata": {},
   "outputs": [
    {
     "data": {
      "text/html": [
       "<div>\n",
       "<style scoped>\n",
       "    .dataframe tbody tr th:only-of-type {\n",
       "        vertical-align: middle;\n",
       "    }\n",
       "\n",
       "    .dataframe tbody tr th {\n",
       "        vertical-align: top;\n",
       "    }\n",
       "\n",
       "    .dataframe thead th {\n",
       "        text-align: right;\n",
       "    }\n",
       "</style>\n",
       "<table border=\"1\" class=\"dataframe\">\n",
       "  <thead>\n",
       "    <tr style=\"text-align: right;\">\n",
       "      <th></th>\n",
       "      <th>NO</th>\n",
       "      <th>REG_DATE</th>\n",
       "      <th>PM2.5</th>\n",
       "      <th>PM10.0</th>\n",
       "      <th>Temperature</th>\n",
       "      <th>Huminity</th>\n",
       "      <th>TVOC</th>\n",
       "      <th>CO2</th>\n",
       "    </tr>\n",
       "  </thead>\n",
       "  <tbody>\n",
       "    <tr>\n",
       "      <th>0</th>\n",
       "      <td>1</td>\n",
       "      <td>2020-04-02 00:00:00</td>\n",
       "      <td>7.54</td>\n",
       "      <td>6.19</td>\n",
       "      <td>21.6</td>\n",
       "      <td>22.1</td>\n",
       "      <td>1.86</td>\n",
       "      <td>4.16</td>\n",
       "    </tr>\n",
       "    <tr>\n",
       "      <th>1</th>\n",
       "      <td>2</td>\n",
       "      <td>2020-04-02 00:01:00</td>\n",
       "      <td>7.83</td>\n",
       "      <td>6.19</td>\n",
       "      <td>21.6</td>\n",
       "      <td>22.1</td>\n",
       "      <td>1.85</td>\n",
       "      <td>4.15</td>\n",
       "    </tr>\n",
       "    <tr>\n",
       "      <th>2</th>\n",
       "      <td>3</td>\n",
       "      <td>2020-04-02 00:02:00</td>\n",
       "      <td>7.54</td>\n",
       "      <td>6.19</td>\n",
       "      <td>21.6</td>\n",
       "      <td>22.1</td>\n",
       "      <td>1.86</td>\n",
       "      <td>4.20</td>\n",
       "    </tr>\n",
       "    <tr>\n",
       "      <th>3</th>\n",
       "      <td>4</td>\n",
       "      <td>2020-04-02 00:03:00</td>\n",
       "      <td>7.83</td>\n",
       "      <td>6.19</td>\n",
       "      <td>21.5</td>\n",
       "      <td>22.1</td>\n",
       "      <td>1.81</td>\n",
       "      <td>4.17</td>\n",
       "    </tr>\n",
       "    <tr>\n",
       "      <th>4</th>\n",
       "      <td>5</td>\n",
       "      <td>2020-04-02 00:04:00</td>\n",
       "      <td>8.12</td>\n",
       "      <td>6.19</td>\n",
       "      <td>21.6</td>\n",
       "      <td>22.1</td>\n",
       "      <td>1.85</td>\n",
       "      <td>4.20</td>\n",
       "    </tr>\n",
       "  </tbody>\n",
       "</table>\n",
       "</div>"
      ],
      "text/plain": [
       "   NO            REG_DATE  PM2.5  PM10.0  Temperature  Huminity  TVOC   CO2\n",
       "0   1 2020-04-02 00:00:00   7.54    6.19         21.6      22.1  1.86  4.16\n",
       "1   2 2020-04-02 00:01:00   7.83    6.19         21.6      22.1  1.85  4.15\n",
       "2   3 2020-04-02 00:02:00   7.54    6.19         21.6      22.1  1.86  4.20\n",
       "3   4 2020-04-02 00:03:00   7.83    6.19         21.5      22.1  1.81  4.17\n",
       "4   5 2020-04-02 00:04:00   8.12    6.19         21.6      22.1  1.85  4.20"
      ]
     },
     "execution_count": 95,
     "metadata": {},
     "output_type": "execute_result"
    }
   ],
   "source": [
    "df.head()"
   ]
  },
  {
   "cell_type": "code",
   "execution_count": 97,
   "metadata": {},
   "outputs": [],
   "source": [
    "df['ds'] = df['REG_DATE']"
   ]
  },
  {
   "cell_type": "code",
   "execution_count": 98,
   "metadata": {},
   "outputs": [
    {
     "data": {
      "text/html": [
       "<div>\n",
       "<style scoped>\n",
       "    .dataframe tbody tr th:only-of-type {\n",
       "        vertical-align: middle;\n",
       "    }\n",
       "\n",
       "    .dataframe tbody tr th {\n",
       "        vertical-align: top;\n",
       "    }\n",
       "\n",
       "    .dataframe thead th {\n",
       "        text-align: right;\n",
       "    }\n",
       "</style>\n",
       "<table border=\"1\" class=\"dataframe\">\n",
       "  <thead>\n",
       "    <tr style=\"text-align: right;\">\n",
       "      <th></th>\n",
       "      <th>NO</th>\n",
       "      <th>REG_DATE</th>\n",
       "      <th>PM2.5</th>\n",
       "      <th>PM10.0</th>\n",
       "      <th>Temperature</th>\n",
       "      <th>Huminity</th>\n",
       "      <th>TVOC</th>\n",
       "      <th>CO2</th>\n",
       "      <th>ds</th>\n",
       "    </tr>\n",
       "  </thead>\n",
       "  <tbody>\n",
       "    <tr>\n",
       "      <th>1907</th>\n",
       "      <td>1908</td>\n",
       "      <td>2020-04-03 07:47:00</td>\n",
       "      <td>74.57</td>\n",
       "      <td>55.71</td>\n",
       "      <td>20.1</td>\n",
       "      <td>29.8</td>\n",
       "      <td>2.19</td>\n",
       "      <td>5.23</td>\n",
       "      <td>2020-04-03 07:47:00</td>\n",
       "    </tr>\n",
       "    <tr>\n",
       "      <th>2125</th>\n",
       "      <td>2126</td>\n",
       "      <td>2020-04-03 11:25:00</td>\n",
       "      <td>71.38</td>\n",
       "      <td>61.90</td>\n",
       "      <td>21.6</td>\n",
       "      <td>26.1</td>\n",
       "      <td>1.90</td>\n",
       "      <td>4.94</td>\n",
       "      <td>2020-04-03 11:25:00</td>\n",
       "    </tr>\n",
       "    <tr>\n",
       "      <th>2110</th>\n",
       "      <td>2111</td>\n",
       "      <td>2020-04-03 11:10:00</td>\n",
       "      <td>68.77</td>\n",
       "      <td>55.71</td>\n",
       "      <td>22.4</td>\n",
       "      <td>25.0</td>\n",
       "      <td>1.97</td>\n",
       "      <td>4.96</td>\n",
       "      <td>2020-04-03 11:10:00</td>\n",
       "    </tr>\n",
       "    <tr>\n",
       "      <th>3310</th>\n",
       "      <td>3311</td>\n",
       "      <td>2020-04-04 07:10:00</td>\n",
       "      <td>67.03</td>\n",
       "      <td>55.71</td>\n",
       "      <td>20.3</td>\n",
       "      <td>32.0</td>\n",
       "      <td>2.38</td>\n",
       "      <td>5.72</td>\n",
       "      <td>2020-04-04 07:10:00</td>\n",
       "    </tr>\n",
       "    <tr>\n",
       "      <th>2136</th>\n",
       "      <td>2137</td>\n",
       "      <td>2020-04-03 11:36:00</td>\n",
       "      <td>65.00</td>\n",
       "      <td>55.71</td>\n",
       "      <td>21.9</td>\n",
       "      <td>25.7</td>\n",
       "      <td>2.01</td>\n",
       "      <td>4.97</td>\n",
       "      <td>2020-04-03 11:36:00</td>\n",
       "    </tr>\n",
       "    <tr>\n",
       "      <th>1862</th>\n",
       "      <td>1863</td>\n",
       "      <td>2020-04-03 07:02:00</td>\n",
       "      <td>64.70</td>\n",
       "      <td>49.52</td>\n",
       "      <td>20.2</td>\n",
       "      <td>29.1</td>\n",
       "      <td>2.19</td>\n",
       "      <td>5.13</td>\n",
       "      <td>2020-04-03 07:02:00</td>\n",
       "    </tr>\n",
       "    <tr>\n",
       "      <th>2129</th>\n",
       "      <td>2130</td>\n",
       "      <td>2020-04-03 11:29:00</td>\n",
       "      <td>62.96</td>\n",
       "      <td>55.71</td>\n",
       "      <td>21.6</td>\n",
       "      <td>25.8</td>\n",
       "      <td>1.91</td>\n",
       "      <td>4.98</td>\n",
       "      <td>2020-04-03 11:29:00</td>\n",
       "    </tr>\n",
       "    <tr>\n",
       "      <th>2068</th>\n",
       "      <td>2069</td>\n",
       "      <td>2020-04-03 10:28:00</td>\n",
       "      <td>61.51</td>\n",
       "      <td>49.52</td>\n",
       "      <td>22.3</td>\n",
       "      <td>25.8</td>\n",
       "      <td>1.97</td>\n",
       "      <td>5.19</td>\n",
       "      <td>2020-04-03 10:28:00</td>\n",
       "    </tr>\n",
       "    <tr>\n",
       "      <th>2113</th>\n",
       "      <td>2114</td>\n",
       "      <td>2020-04-03 11:13:00</td>\n",
       "      <td>61.51</td>\n",
       "      <td>55.71</td>\n",
       "      <td>22.2</td>\n",
       "      <td>25.1</td>\n",
       "      <td>1.92</td>\n",
       "      <td>4.92</td>\n",
       "      <td>2020-04-03 11:13:00</td>\n",
       "    </tr>\n",
       "    <tr>\n",
       "      <th>1885</th>\n",
       "      <td>1886</td>\n",
       "      <td>2020-04-03 07:25:00</td>\n",
       "      <td>61.22</td>\n",
       "      <td>49.52</td>\n",
       "      <td>20.1</td>\n",
       "      <td>29.4</td>\n",
       "      <td>2.17</td>\n",
       "      <td>5.19</td>\n",
       "      <td>2020-04-03 07:25:00</td>\n",
       "    </tr>\n",
       "  </tbody>\n",
       "</table>\n",
       "</div>"
      ],
      "text/plain": [
       "        NO            REG_DATE  PM2.5  PM10.0  Temperature  Huminity  TVOC  \\\n",
       "1907  1908 2020-04-03 07:47:00  74.57   55.71         20.1      29.8  2.19   \n",
       "2125  2126 2020-04-03 11:25:00  71.38   61.90         21.6      26.1  1.90   \n",
       "2110  2111 2020-04-03 11:10:00  68.77   55.71         22.4      25.0  1.97   \n",
       "3310  3311 2020-04-04 07:10:00  67.03   55.71         20.3      32.0  2.38   \n",
       "2136  2137 2020-04-03 11:36:00  65.00   55.71         21.9      25.7  2.01   \n",
       "1862  1863 2020-04-03 07:02:00  64.70   49.52         20.2      29.1  2.19   \n",
       "2129  2130 2020-04-03 11:29:00  62.96   55.71         21.6      25.8  1.91   \n",
       "2068  2069 2020-04-03 10:28:00  61.51   49.52         22.3      25.8  1.97   \n",
       "2113  2114 2020-04-03 11:13:00  61.51   55.71         22.2      25.1  1.92   \n",
       "1885  1886 2020-04-03 07:25:00  61.22   49.52         20.1      29.4  2.17   \n",
       "\n",
       "       CO2                  ds  \n",
       "1907  5.23 2020-04-03 07:47:00  \n",
       "2125  4.94 2020-04-03 11:25:00  \n",
       "2110  4.96 2020-04-03 11:10:00  \n",
       "3310  5.72 2020-04-04 07:10:00  \n",
       "2136  4.97 2020-04-03 11:36:00  \n",
       "1862  5.13 2020-04-03 07:02:00  \n",
       "2129  4.98 2020-04-03 11:29:00  \n",
       "2068  5.19 2020-04-03 10:28:00  \n",
       "2113  4.92 2020-04-03 11:13:00  \n",
       "1885  5.19 2020-04-03 07:25:00  "
      ]
     },
     "execution_count": 98,
     "metadata": {},
     "output_type": "execute_result"
    }
   ],
   "source": [
    "df.nlargest(10, columns='PM2.5')"
   ]
  },
  {
   "cell_type": "code",
   "execution_count": 99,
   "metadata": {},
   "outputs": [
    {
     "data": {
      "text/html": [
       "<div>\n",
       "<style scoped>\n",
       "    .dataframe tbody tr th:only-of-type {\n",
       "        vertical-align: middle;\n",
       "    }\n",
       "\n",
       "    .dataframe tbody tr th {\n",
       "        vertical-align: top;\n",
       "    }\n",
       "\n",
       "    .dataframe thead th {\n",
       "        text-align: right;\n",
       "    }\n",
       "</style>\n",
       "<table border=\"1\" class=\"dataframe\">\n",
       "  <thead>\n",
       "    <tr style=\"text-align: right;\">\n",
       "      <th></th>\n",
       "      <th>NO</th>\n",
       "      <th>REG_DATE</th>\n",
       "      <th>PM2.5</th>\n",
       "      <th>PM10.0</th>\n",
       "      <th>Temperature</th>\n",
       "      <th>Huminity</th>\n",
       "      <th>TVOC</th>\n",
       "      <th>CO2</th>\n",
       "      <th>ds</th>\n",
       "    </tr>\n",
       "  </thead>\n",
       "  <tbody>\n",
       "    <tr>\n",
       "      <th>26275</th>\n",
       "      <td>26276</td>\n",
       "      <td>2020-04-20 05:55:00</td>\n",
       "      <td>1.02</td>\n",
       "      <td>1.02</td>\n",
       "      <td>20.3</td>\n",
       "      <td>39.4</td>\n",
       "      <td>1.51</td>\n",
       "      <td>7.08</td>\n",
       "      <td>2020-04-20 05:55:00</td>\n",
       "    </tr>\n",
       "    <tr>\n",
       "      <th>26246</th>\n",
       "      <td>26247</td>\n",
       "      <td>2020-04-20 05:26:00</td>\n",
       "      <td>1.03</td>\n",
       "      <td>1.03</td>\n",
       "      <td>20.3</td>\n",
       "      <td>39.7</td>\n",
       "      <td>1.54</td>\n",
       "      <td>7.09</td>\n",
       "      <td>2020-04-20 05:26:00</td>\n",
       "    </tr>\n",
       "    <tr>\n",
       "      <th>26302</th>\n",
       "      <td>26303</td>\n",
       "      <td>2020-04-20 06:22:00</td>\n",
       "      <td>1.04</td>\n",
       "      <td>1.04</td>\n",
       "      <td>20.3</td>\n",
       "      <td>39.3</td>\n",
       "      <td>1.47</td>\n",
       "      <td>7.10</td>\n",
       "      <td>2020-04-20 06:22:00</td>\n",
       "    </tr>\n",
       "    <tr>\n",
       "      <th>26262</th>\n",
       "      <td>26263</td>\n",
       "      <td>2020-04-20 05:42:00</td>\n",
       "      <td>1.05</td>\n",
       "      <td>1.05</td>\n",
       "      <td>20.4</td>\n",
       "      <td>39.5</td>\n",
       "      <td>1.52</td>\n",
       "      <td>7.08</td>\n",
       "      <td>2020-04-20 05:42:00</td>\n",
       "    </tr>\n",
       "    <tr>\n",
       "      <th>26308</th>\n",
       "      <td>26309</td>\n",
       "      <td>2020-04-20 06:28:00</td>\n",
       "      <td>1.06</td>\n",
       "      <td>1.06</td>\n",
       "      <td>20.3</td>\n",
       "      <td>39.4</td>\n",
       "      <td>1.48</td>\n",
       "      <td>7.04</td>\n",
       "      <td>2020-04-20 06:28:00</td>\n",
       "    </tr>\n",
       "    <tr>\n",
       "      <th>26332</th>\n",
       "      <td>26333</td>\n",
       "      <td>2020-04-20 06:52:00</td>\n",
       "      <td>1.12</td>\n",
       "      <td>1.12</td>\n",
       "      <td>20.3</td>\n",
       "      <td>39.5</td>\n",
       "      <td>1.48</td>\n",
       "      <td>7.06</td>\n",
       "      <td>2020-04-20 06:52:00</td>\n",
       "    </tr>\n",
       "    <tr>\n",
       "      <th>26256</th>\n",
       "      <td>26257</td>\n",
       "      <td>2020-04-20 05:36:00</td>\n",
       "      <td>1.14</td>\n",
       "      <td>1.14</td>\n",
       "      <td>20.3</td>\n",
       "      <td>39.6</td>\n",
       "      <td>1.51</td>\n",
       "      <td>7.06</td>\n",
       "      <td>2020-04-20 05:36:00</td>\n",
       "    </tr>\n",
       "    <tr>\n",
       "      <th>26271</th>\n",
       "      <td>26272</td>\n",
       "      <td>2020-04-20 05:51:00</td>\n",
       "      <td>1.14</td>\n",
       "      <td>1.14</td>\n",
       "      <td>20.3</td>\n",
       "      <td>39.5</td>\n",
       "      <td>1.50</td>\n",
       "      <td>7.10</td>\n",
       "      <td>2020-04-20 05:51:00</td>\n",
       "    </tr>\n",
       "    <tr>\n",
       "      <th>26300</th>\n",
       "      <td>26301</td>\n",
       "      <td>2020-04-20 06:20:00</td>\n",
       "      <td>1.14</td>\n",
       "      <td>1.14</td>\n",
       "      <td>20.3</td>\n",
       "      <td>39.3</td>\n",
       "      <td>1.49</td>\n",
       "      <td>7.08</td>\n",
       "      <td>2020-04-20 06:20:00</td>\n",
       "    </tr>\n",
       "    <tr>\n",
       "      <th>26201</th>\n",
       "      <td>26202</td>\n",
       "      <td>2020-04-20 04:41:00</td>\n",
       "      <td>1.15</td>\n",
       "      <td>1.15</td>\n",
       "      <td>20.4</td>\n",
       "      <td>40.2</td>\n",
       "      <td>1.56</td>\n",
       "      <td>7.16</td>\n",
       "      <td>2020-04-20 04:41:00</td>\n",
       "    </tr>\n",
       "  </tbody>\n",
       "</table>\n",
       "</div>"
      ],
      "text/plain": [
       "          NO            REG_DATE  PM2.5  PM10.0  Temperature  Huminity  TVOC  \\\n",
       "26275  26276 2020-04-20 05:55:00   1.02    1.02         20.3      39.4  1.51   \n",
       "26246  26247 2020-04-20 05:26:00   1.03    1.03         20.3      39.7  1.54   \n",
       "26302  26303 2020-04-20 06:22:00   1.04    1.04         20.3      39.3  1.47   \n",
       "26262  26263 2020-04-20 05:42:00   1.05    1.05         20.4      39.5  1.52   \n",
       "26308  26309 2020-04-20 06:28:00   1.06    1.06         20.3      39.4  1.48   \n",
       "26332  26333 2020-04-20 06:52:00   1.12    1.12         20.3      39.5  1.48   \n",
       "26256  26257 2020-04-20 05:36:00   1.14    1.14         20.3      39.6  1.51   \n",
       "26271  26272 2020-04-20 05:51:00   1.14    1.14         20.3      39.5  1.50   \n",
       "26300  26301 2020-04-20 06:20:00   1.14    1.14         20.3      39.3  1.49   \n",
       "26201  26202 2020-04-20 04:41:00   1.15    1.15         20.4      40.2  1.56   \n",
       "\n",
       "        CO2                  ds  \n",
       "26275  7.08 2020-04-20 05:55:00  \n",
       "26246  7.09 2020-04-20 05:26:00  \n",
       "26302  7.10 2020-04-20 06:22:00  \n",
       "26262  7.08 2020-04-20 05:42:00  \n",
       "26308  7.04 2020-04-20 06:28:00  \n",
       "26332  7.06 2020-04-20 06:52:00  \n",
       "26256  7.06 2020-04-20 05:36:00  \n",
       "26271  7.10 2020-04-20 05:51:00  \n",
       "26300  7.08 2020-04-20 06:20:00  \n",
       "26201  7.16 2020-04-20 04:41:00  "
      ]
     },
     "execution_count": 99,
     "metadata": {},
     "output_type": "execute_result"
    }
   ],
   "source": [
    "df.nsmallest(10, columns='PM2.5')"
   ]
  },
  {
   "cell_type": "code",
   "execution_count": 6,
   "metadata": {},
   "outputs": [],
   "source": [
    "#df['y'] = df['Huminity']"
   ]
  },
  {
   "cell_type": "code",
   "execution_count": 100,
   "metadata": {},
   "outputs": [],
   "source": [
    "#df['y'] = df['PM2.5']\n",
    "df['y'] = df['CO2']"
   ]
  },
  {
   "cell_type": "code",
   "execution_count": 101,
   "metadata": {},
   "outputs": [
    {
     "ename": "KeyError",
     "evalue": "'PM25'",
     "output_type": "error",
     "traceback": [
      "\u001b[1;31m---------------------------------------------------------------------------\u001b[0m",
      "\u001b[1;31mKeyError\u001b[0m                                  Traceback (most recent call last)",
      "\u001b[1;32m~\\anaconda3\\lib\\site-packages\\pandas\\core\\indexes\\base.py\u001b[0m in \u001b[0;36mget_loc\u001b[1;34m(self, key, method, tolerance)\u001b[0m\n\u001b[0;32m   2645\u001b[0m             \u001b[1;32mtry\u001b[0m\u001b[1;33m:\u001b[0m\u001b[1;33m\u001b[0m\u001b[1;33m\u001b[0m\u001b[0m\n\u001b[1;32m-> 2646\u001b[1;33m                 \u001b[1;32mreturn\u001b[0m \u001b[0mself\u001b[0m\u001b[1;33m.\u001b[0m\u001b[0m_engine\u001b[0m\u001b[1;33m.\u001b[0m\u001b[0mget_loc\u001b[0m\u001b[1;33m(\u001b[0m\u001b[0mkey\u001b[0m\u001b[1;33m)\u001b[0m\u001b[1;33m\u001b[0m\u001b[1;33m\u001b[0m\u001b[0m\n\u001b[0m\u001b[0;32m   2647\u001b[0m             \u001b[1;32mexcept\u001b[0m \u001b[0mKeyError\u001b[0m\u001b[1;33m:\u001b[0m\u001b[1;33m\u001b[0m\u001b[1;33m\u001b[0m\u001b[0m\n",
      "\u001b[1;32mpandas\\_libs\\index.pyx\u001b[0m in \u001b[0;36mpandas._libs.index.IndexEngine.get_loc\u001b[1;34m()\u001b[0m\n",
      "\u001b[1;32mpandas\\_libs\\index.pyx\u001b[0m in \u001b[0;36mpandas._libs.index.IndexEngine.get_loc\u001b[1;34m()\u001b[0m\n",
      "\u001b[1;32mpandas\\_libs\\hashtable_class_helper.pxi\u001b[0m in \u001b[0;36mpandas._libs.hashtable.PyObjectHashTable.get_item\u001b[1;34m()\u001b[0m\n",
      "\u001b[1;32mpandas\\_libs\\hashtable_class_helper.pxi\u001b[0m in \u001b[0;36mpandas._libs.hashtable.PyObjectHashTable.get_item\u001b[1;34m()\u001b[0m\n",
      "\u001b[1;31mKeyError\u001b[0m: 'PM25'",
      "\nDuring handling of the above exception, another exception occurred:\n",
      "\u001b[1;31mKeyError\u001b[0m                                  Traceback (most recent call last)",
      "\u001b[1;32m<ipython-input-101-689f8f769b57>\u001b[0m in \u001b[0;36m<module>\u001b[1;34m\u001b[0m\n\u001b[1;32m----> 1\u001b[1;33m \u001b[0mdf\u001b[0m\u001b[1;33m.\u001b[0m\u001b[0mnlargest\u001b[0m\u001b[1;33m(\u001b[0m\u001b[1;36m20\u001b[0m\u001b[1;33m,\u001b[0m \u001b[0mcolumns\u001b[0m\u001b[1;33m=\u001b[0m\u001b[1;34m'PM25'\u001b[0m\u001b[1;33m)\u001b[0m\u001b[1;33m\u001b[0m\u001b[1;33m\u001b[0m\u001b[0m\n\u001b[0m",
      "\u001b[1;32m~\\anaconda3\\lib\\site-packages\\pandas\\core\\frame.py\u001b[0m in \u001b[0;36mnlargest\u001b[1;34m(self, n, columns, keep)\u001b[0m\n\u001b[0;32m   5123\u001b[0m         \u001b[0mBrunei\u001b[0m      \u001b[1;36m434000\u001b[0m    \u001b[1;36m12128\u001b[0m      \u001b[0mBN\u001b[0m\u001b[1;33m\u001b[0m\u001b[1;33m\u001b[0m\u001b[0m\n\u001b[0;32m   5124\u001b[0m         \"\"\"\n\u001b[1;32m-> 5125\u001b[1;33m         \u001b[1;32mreturn\u001b[0m \u001b[0malgorithms\u001b[0m\u001b[1;33m.\u001b[0m\u001b[0mSelectNFrame\u001b[0m\u001b[1;33m(\u001b[0m\u001b[0mself\u001b[0m\u001b[1;33m,\u001b[0m \u001b[0mn\u001b[0m\u001b[1;33m=\u001b[0m\u001b[0mn\u001b[0m\u001b[1;33m,\u001b[0m \u001b[0mkeep\u001b[0m\u001b[1;33m=\u001b[0m\u001b[0mkeep\u001b[0m\u001b[1;33m,\u001b[0m \u001b[0mcolumns\u001b[0m\u001b[1;33m=\u001b[0m\u001b[0mcolumns\u001b[0m\u001b[1;33m)\u001b[0m\u001b[1;33m.\u001b[0m\u001b[0mnlargest\u001b[0m\u001b[1;33m(\u001b[0m\u001b[1;33m)\u001b[0m\u001b[1;33m\u001b[0m\u001b[1;33m\u001b[0m\u001b[0m\n\u001b[0m\u001b[0;32m   5126\u001b[0m \u001b[1;33m\u001b[0m\u001b[0m\n\u001b[0;32m   5127\u001b[0m     \u001b[1;32mdef\u001b[0m \u001b[0mnsmallest\u001b[0m\u001b[1;33m(\u001b[0m\u001b[0mself\u001b[0m\u001b[1;33m,\u001b[0m \u001b[0mn\u001b[0m\u001b[1;33m,\u001b[0m \u001b[0mcolumns\u001b[0m\u001b[1;33m,\u001b[0m \u001b[0mkeep\u001b[0m\u001b[1;33m=\u001b[0m\u001b[1;34m\"first\"\u001b[0m\u001b[1;33m)\u001b[0m \u001b[1;33m->\u001b[0m \u001b[1;34m\"DataFrame\"\u001b[0m\u001b[1;33m:\u001b[0m\u001b[1;33m\u001b[0m\u001b[1;33m\u001b[0m\u001b[0m\n",
      "\u001b[1;32m~\\anaconda3\\lib\\site-packages\\pandas\\core\\algorithms.py\u001b[0m in \u001b[0;36mnlargest\u001b[1;34m(self)\u001b[0m\n\u001b[0;32m   1081\u001b[0m \u001b[1;33m\u001b[0m\u001b[0m\n\u001b[0;32m   1082\u001b[0m     \u001b[1;32mdef\u001b[0m \u001b[0mnlargest\u001b[0m\u001b[1;33m(\u001b[0m\u001b[0mself\u001b[0m\u001b[1;33m)\u001b[0m\u001b[1;33m:\u001b[0m\u001b[1;33m\u001b[0m\u001b[1;33m\u001b[0m\u001b[0m\n\u001b[1;32m-> 1083\u001b[1;33m         \u001b[1;32mreturn\u001b[0m \u001b[0mself\u001b[0m\u001b[1;33m.\u001b[0m\u001b[0mcompute\u001b[0m\u001b[1;33m(\u001b[0m\u001b[1;34m\"nlargest\"\u001b[0m\u001b[1;33m)\u001b[0m\u001b[1;33m\u001b[0m\u001b[1;33m\u001b[0m\u001b[0m\n\u001b[0m\u001b[0;32m   1084\u001b[0m \u001b[1;33m\u001b[0m\u001b[0m\n\u001b[0;32m   1085\u001b[0m     \u001b[1;32mdef\u001b[0m \u001b[0mnsmallest\u001b[0m\u001b[1;33m(\u001b[0m\u001b[0mself\u001b[0m\u001b[1;33m)\u001b[0m\u001b[1;33m:\u001b[0m\u001b[1;33m\u001b[0m\u001b[1;33m\u001b[0m\u001b[0m\n",
      "\u001b[1;32m~\\anaconda3\\lib\\site-packages\\pandas\\core\\algorithms.py\u001b[0m in \u001b[0;36mcompute\u001b[1;34m(self, method)\u001b[0m\n\u001b[0;32m   1195\u001b[0m \u001b[1;33m\u001b[0m\u001b[0m\n\u001b[0;32m   1196\u001b[0m         \u001b[1;32mfor\u001b[0m \u001b[0mcolumn\u001b[0m \u001b[1;32min\u001b[0m \u001b[0mcolumns\u001b[0m\u001b[1;33m:\u001b[0m\u001b[1;33m\u001b[0m\u001b[1;33m\u001b[0m\u001b[0m\n\u001b[1;32m-> 1197\u001b[1;33m             \u001b[0mdtype\u001b[0m \u001b[1;33m=\u001b[0m \u001b[0mframe\u001b[0m\u001b[1;33m[\u001b[0m\u001b[0mcolumn\u001b[0m\u001b[1;33m]\u001b[0m\u001b[1;33m.\u001b[0m\u001b[0mdtype\u001b[0m\u001b[1;33m\u001b[0m\u001b[1;33m\u001b[0m\u001b[0m\n\u001b[0m\u001b[0;32m   1198\u001b[0m             \u001b[1;32mif\u001b[0m \u001b[1;32mnot\u001b[0m \u001b[0mself\u001b[0m\u001b[1;33m.\u001b[0m\u001b[0mis_valid_dtype_n_method\u001b[0m\u001b[1;33m(\u001b[0m\u001b[0mdtype\u001b[0m\u001b[1;33m)\u001b[0m\u001b[1;33m:\u001b[0m\u001b[1;33m\u001b[0m\u001b[1;33m\u001b[0m\u001b[0m\n\u001b[0;32m   1199\u001b[0m                 raise TypeError(\n",
      "\u001b[1;32m~\\anaconda3\\lib\\site-packages\\pandas\\core\\frame.py\u001b[0m in \u001b[0;36m__getitem__\u001b[1;34m(self, key)\u001b[0m\n\u001b[0;32m   2798\u001b[0m             \u001b[1;32mif\u001b[0m \u001b[0mself\u001b[0m\u001b[1;33m.\u001b[0m\u001b[0mcolumns\u001b[0m\u001b[1;33m.\u001b[0m\u001b[0mnlevels\u001b[0m \u001b[1;33m>\u001b[0m \u001b[1;36m1\u001b[0m\u001b[1;33m:\u001b[0m\u001b[1;33m\u001b[0m\u001b[1;33m\u001b[0m\u001b[0m\n\u001b[0;32m   2799\u001b[0m                 \u001b[1;32mreturn\u001b[0m \u001b[0mself\u001b[0m\u001b[1;33m.\u001b[0m\u001b[0m_getitem_multilevel\u001b[0m\u001b[1;33m(\u001b[0m\u001b[0mkey\u001b[0m\u001b[1;33m)\u001b[0m\u001b[1;33m\u001b[0m\u001b[1;33m\u001b[0m\u001b[0m\n\u001b[1;32m-> 2800\u001b[1;33m             \u001b[0mindexer\u001b[0m \u001b[1;33m=\u001b[0m \u001b[0mself\u001b[0m\u001b[1;33m.\u001b[0m\u001b[0mcolumns\u001b[0m\u001b[1;33m.\u001b[0m\u001b[0mget_loc\u001b[0m\u001b[1;33m(\u001b[0m\u001b[0mkey\u001b[0m\u001b[1;33m)\u001b[0m\u001b[1;33m\u001b[0m\u001b[1;33m\u001b[0m\u001b[0m\n\u001b[0m\u001b[0;32m   2801\u001b[0m             \u001b[1;32mif\u001b[0m \u001b[0mis_integer\u001b[0m\u001b[1;33m(\u001b[0m\u001b[0mindexer\u001b[0m\u001b[1;33m)\u001b[0m\u001b[1;33m:\u001b[0m\u001b[1;33m\u001b[0m\u001b[1;33m\u001b[0m\u001b[0m\n\u001b[0;32m   2802\u001b[0m                 \u001b[0mindexer\u001b[0m \u001b[1;33m=\u001b[0m \u001b[1;33m[\u001b[0m\u001b[0mindexer\u001b[0m\u001b[1;33m]\u001b[0m\u001b[1;33m\u001b[0m\u001b[1;33m\u001b[0m\u001b[0m\n",
      "\u001b[1;32m~\\anaconda3\\lib\\site-packages\\pandas\\core\\indexes\\base.py\u001b[0m in \u001b[0;36mget_loc\u001b[1;34m(self, key, method, tolerance)\u001b[0m\n\u001b[0;32m   2646\u001b[0m                 \u001b[1;32mreturn\u001b[0m \u001b[0mself\u001b[0m\u001b[1;33m.\u001b[0m\u001b[0m_engine\u001b[0m\u001b[1;33m.\u001b[0m\u001b[0mget_loc\u001b[0m\u001b[1;33m(\u001b[0m\u001b[0mkey\u001b[0m\u001b[1;33m)\u001b[0m\u001b[1;33m\u001b[0m\u001b[1;33m\u001b[0m\u001b[0m\n\u001b[0;32m   2647\u001b[0m             \u001b[1;32mexcept\u001b[0m \u001b[0mKeyError\u001b[0m\u001b[1;33m:\u001b[0m\u001b[1;33m\u001b[0m\u001b[1;33m\u001b[0m\u001b[0m\n\u001b[1;32m-> 2648\u001b[1;33m                 \u001b[1;32mreturn\u001b[0m \u001b[0mself\u001b[0m\u001b[1;33m.\u001b[0m\u001b[0m_engine\u001b[0m\u001b[1;33m.\u001b[0m\u001b[0mget_loc\u001b[0m\u001b[1;33m(\u001b[0m\u001b[0mself\u001b[0m\u001b[1;33m.\u001b[0m\u001b[0m_maybe_cast_indexer\u001b[0m\u001b[1;33m(\u001b[0m\u001b[0mkey\u001b[0m\u001b[1;33m)\u001b[0m\u001b[1;33m)\u001b[0m\u001b[1;33m\u001b[0m\u001b[1;33m\u001b[0m\u001b[0m\n\u001b[0m\u001b[0;32m   2649\u001b[0m         \u001b[0mindexer\u001b[0m \u001b[1;33m=\u001b[0m \u001b[0mself\u001b[0m\u001b[1;33m.\u001b[0m\u001b[0mget_indexer\u001b[0m\u001b[1;33m(\u001b[0m\u001b[1;33m[\u001b[0m\u001b[0mkey\u001b[0m\u001b[1;33m]\u001b[0m\u001b[1;33m,\u001b[0m \u001b[0mmethod\u001b[0m\u001b[1;33m=\u001b[0m\u001b[0mmethod\u001b[0m\u001b[1;33m,\u001b[0m \u001b[0mtolerance\u001b[0m\u001b[1;33m=\u001b[0m\u001b[0mtolerance\u001b[0m\u001b[1;33m)\u001b[0m\u001b[1;33m\u001b[0m\u001b[1;33m\u001b[0m\u001b[0m\n\u001b[0;32m   2650\u001b[0m         \u001b[1;32mif\u001b[0m \u001b[0mindexer\u001b[0m\u001b[1;33m.\u001b[0m\u001b[0mndim\u001b[0m \u001b[1;33m>\u001b[0m \u001b[1;36m1\u001b[0m \u001b[1;32mor\u001b[0m \u001b[0mindexer\u001b[0m\u001b[1;33m.\u001b[0m\u001b[0msize\u001b[0m \u001b[1;33m>\u001b[0m \u001b[1;36m1\u001b[0m\u001b[1;33m:\u001b[0m\u001b[1;33m\u001b[0m\u001b[1;33m\u001b[0m\u001b[0m\n",
      "\u001b[1;32mpandas\\_libs\\index.pyx\u001b[0m in \u001b[0;36mpandas._libs.index.IndexEngine.get_loc\u001b[1;34m()\u001b[0m\n",
      "\u001b[1;32mpandas\\_libs\\index.pyx\u001b[0m in \u001b[0;36mpandas._libs.index.IndexEngine.get_loc\u001b[1;34m()\u001b[0m\n",
      "\u001b[1;32mpandas\\_libs\\hashtable_class_helper.pxi\u001b[0m in \u001b[0;36mpandas._libs.hashtable.PyObjectHashTable.get_item\u001b[1;34m()\u001b[0m\n",
      "\u001b[1;32mpandas\\_libs\\hashtable_class_helper.pxi\u001b[0m in \u001b[0;36mpandas._libs.hashtable.PyObjectHashTable.get_item\u001b[1;34m()\u001b[0m\n",
      "\u001b[1;31mKeyError\u001b[0m: 'PM25'"
     ]
    }
   ],
   "source": [
    "df.nlargest(20, columns='PM25')"
   ]
  },
  {
   "cell_type": "code",
   "execution_count": 102,
   "metadata": {},
   "outputs": [
    {
     "data": {
      "text/plain": [
       "Index(['NO', 'REG_DATE', 'PM2.5', 'PM10.0', 'Temperature', 'Huminity', 'TVOC',\n",
       "       'CO2', 'ds', 'y'],\n",
       "      dtype='object')"
      ]
     },
     "execution_count": 102,
     "metadata": {},
     "output_type": "execute_result"
    }
   ],
   "source": [
    "df.columns"
   ]
  },
  {
   "cell_type": "code",
   "execution_count": 103,
   "metadata": {},
   "outputs": [
    {
     "data": {
      "text/plain": [
       "<fbprophet.forecaster.Prophet at 0x286cdd3b0c8>"
      ]
     },
     "execution_count": 103,
     "metadata": {},
     "output_type": "execute_result"
    }
   ],
   "source": [
    "from fbprophet import Prophet \n",
    "m = Prophet()\n",
    "m.fit(df)"
   ]
  },
  {
   "cell_type": "code",
   "execution_count": 104,
   "metadata": {},
   "outputs": [],
   "source": [
    "import logging\n",
    "logging.getLogger('fbprophet').setLevel(logging.WARNING)"
   ]
  },
  {
   "cell_type": "code",
   "execution_count": 107,
   "metadata": {},
   "outputs": [
    {
     "data": {
      "text/html": [
       "<div>\n",
       "<style scoped>\n",
       "    .dataframe tbody tr th:only-of-type {\n",
       "        vertical-align: middle;\n",
       "    }\n",
       "\n",
       "    .dataframe tbody tr th {\n",
       "        vertical-align: top;\n",
       "    }\n",
       "\n",
       "    .dataframe thead th {\n",
       "        text-align: right;\n",
       "    }\n",
       "</style>\n",
       "<table border=\"1\" class=\"dataframe\">\n",
       "  <thead>\n",
       "    <tr style=\"text-align: right;\">\n",
       "      <th></th>\n",
       "      <th>ds</th>\n",
       "    </tr>\n",
       "  </thead>\n",
       "  <tbody>\n",
       "    <tr>\n",
       "      <th>36856</th>\n",
       "      <td>2020-06-12 13:30:00</td>\n",
       "    </tr>\n",
       "    <tr>\n",
       "      <th>36857</th>\n",
       "      <td>2020-06-13 13:30:00</td>\n",
       "    </tr>\n",
       "    <tr>\n",
       "      <th>36858</th>\n",
       "      <td>2020-06-14 13:30:00</td>\n",
       "    </tr>\n",
       "    <tr>\n",
       "      <th>36859</th>\n",
       "      <td>2020-06-15 13:30:00</td>\n",
       "    </tr>\n",
       "    <tr>\n",
       "      <th>36860</th>\n",
       "      <td>2020-06-16 13:30:00</td>\n",
       "    </tr>\n",
       "  </tbody>\n",
       "</table>\n",
       "</div>"
      ],
      "text/plain": [
       "                       ds\n",
       "36856 2020-06-12 13:30:00\n",
       "36857 2020-06-13 13:30:00\n",
       "36858 2020-06-14 13:30:00\n",
       "36859 2020-06-15 13:30:00\n",
       "36860 2020-06-16 13:30:00"
      ]
     },
     "execution_count": 107,
     "metadata": {},
     "output_type": "execute_result"
    }
   ],
   "source": [
    "future = m.make_future_dataframe(periods=50)\n",
    "future.tail()"
   ]
  },
  {
   "cell_type": "code",
   "execution_count": 108,
   "metadata": {},
   "outputs": [
    {
     "data": {
      "text/html": [
       "<div>\n",
       "<style scoped>\n",
       "    .dataframe tbody tr th:only-of-type {\n",
       "        vertical-align: middle;\n",
       "    }\n",
       "\n",
       "    .dataframe tbody tr th {\n",
       "        vertical-align: top;\n",
       "    }\n",
       "\n",
       "    .dataframe thead th {\n",
       "        text-align: right;\n",
       "    }\n",
       "</style>\n",
       "<table border=\"1\" class=\"dataframe\">\n",
       "  <thead>\n",
       "    <tr style=\"text-align: right;\">\n",
       "      <th></th>\n",
       "      <th>ds</th>\n",
       "      <th>trend</th>\n",
       "      <th>yhat_lower</th>\n",
       "      <th>yhat_upper</th>\n",
       "      <th>trend_lower</th>\n",
       "      <th>trend_upper</th>\n",
       "      <th>additive_terms</th>\n",
       "      <th>additive_terms_lower</th>\n",
       "      <th>additive_terms_upper</th>\n",
       "      <th>daily</th>\n",
       "      <th>daily_lower</th>\n",
       "      <th>daily_upper</th>\n",
       "      <th>weekly</th>\n",
       "      <th>weekly_lower</th>\n",
       "      <th>weekly_upper</th>\n",
       "      <th>multiplicative_terms</th>\n",
       "      <th>multiplicative_terms_lower</th>\n",
       "      <th>multiplicative_terms_upper</th>\n",
       "      <th>yhat</th>\n",
       "    </tr>\n",
       "  </thead>\n",
       "  <tbody>\n",
       "    <tr>\n",
       "      <th>36856</th>\n",
       "      <td>2020-06-12 13:30:00</td>\n",
       "      <td>32.120651</td>\n",
       "      <td>-802.091565</td>\n",
       "      <td>823.443593</td>\n",
       "      <td>-802.756464</td>\n",
       "      <td>822.923661</td>\n",
       "      <td>0.154716</td>\n",
       "      <td>0.154716</td>\n",
       "      <td>0.154716</td>\n",
       "      <td>0.025963</td>\n",
       "      <td>0.025963</td>\n",
       "      <td>0.025963</td>\n",
       "      <td>0.128753</td>\n",
       "      <td>0.128753</td>\n",
       "      <td>0.128753</td>\n",
       "      <td>0.0</td>\n",
       "      <td>0.0</td>\n",
       "      <td>0.0</td>\n",
       "      <td>32.275368</td>\n",
       "    </tr>\n",
       "    <tr>\n",
       "      <th>36857</th>\n",
       "      <td>2020-06-13 13:30:00</td>\n",
       "      <td>32.684919</td>\n",
       "      <td>-839.379119</td>\n",
       "      <td>851.619553</td>\n",
       "      <td>-840.022458</td>\n",
       "      <td>850.876999</td>\n",
       "      <td>0.611633</td>\n",
       "      <td>0.611633</td>\n",
       "      <td>0.611633</td>\n",
       "      <td>0.025963</td>\n",
       "      <td>0.025963</td>\n",
       "      <td>0.025963</td>\n",
       "      <td>0.585669</td>\n",
       "      <td>0.585669</td>\n",
       "      <td>0.585669</td>\n",
       "      <td>0.0</td>\n",
       "      <td>0.0</td>\n",
       "      <td>0.0</td>\n",
       "      <td>33.296552</td>\n",
       "    </tr>\n",
       "    <tr>\n",
       "      <th>36858</th>\n",
       "      <td>2020-06-14 13:30:00</td>\n",
       "      <td>33.249187</td>\n",
       "      <td>-859.746079</td>\n",
       "      <td>877.282656</td>\n",
       "      <td>-859.404212</td>\n",
       "      <td>878.409651</td>\n",
       "      <td>-0.828636</td>\n",
       "      <td>-0.828636</td>\n",
       "      <td>-0.828636</td>\n",
       "      <td>0.025963</td>\n",
       "      <td>0.025963</td>\n",
       "      <td>0.025963</td>\n",
       "      <td>-0.854599</td>\n",
       "      <td>-0.854599</td>\n",
       "      <td>-0.854599</td>\n",
       "      <td>0.0</td>\n",
       "      <td>0.0</td>\n",
       "      <td>0.0</td>\n",
       "      <td>32.420552</td>\n",
       "    </tr>\n",
       "    <tr>\n",
       "      <th>36859</th>\n",
       "      <td>2020-06-15 13:30:00</td>\n",
       "      <td>33.813455</td>\n",
       "      <td>-890.422869</td>\n",
       "      <td>907.544718</td>\n",
       "      <td>-890.625903</td>\n",
       "      <td>908.146695</td>\n",
       "      <td>-0.140980</td>\n",
       "      <td>-0.140980</td>\n",
       "      <td>-0.140980</td>\n",
       "      <td>0.025963</td>\n",
       "      <td>0.025963</td>\n",
       "      <td>0.025963</td>\n",
       "      <td>-0.166944</td>\n",
       "      <td>-0.166944</td>\n",
       "      <td>-0.166944</td>\n",
       "      <td>0.0</td>\n",
       "      <td>0.0</td>\n",
       "      <td>0.0</td>\n",
       "      <td>33.672475</td>\n",
       "    </tr>\n",
       "    <tr>\n",
       "      <th>36860</th>\n",
       "      <td>2020-06-16 13:30:00</td>\n",
       "      <td>34.377723</td>\n",
       "      <td>-907.378921</td>\n",
       "      <td>938.257619</td>\n",
       "      <td>-907.245106</td>\n",
       "      <td>937.857226</td>\n",
       "      <td>0.356712</td>\n",
       "      <td>0.356712</td>\n",
       "      <td>0.356712</td>\n",
       "      <td>0.025963</td>\n",
       "      <td>0.025963</td>\n",
       "      <td>0.025963</td>\n",
       "      <td>0.330749</td>\n",
       "      <td>0.330749</td>\n",
       "      <td>0.330749</td>\n",
       "      <td>0.0</td>\n",
       "      <td>0.0</td>\n",
       "      <td>0.0</td>\n",
       "      <td>34.734435</td>\n",
       "    </tr>\n",
       "  </tbody>\n",
       "</table>\n",
       "</div>"
      ],
      "text/plain": [
       "                       ds      trend  yhat_lower  yhat_upper  trend_lower  \\\n",
       "36856 2020-06-12 13:30:00  32.120651 -802.091565  823.443593  -802.756464   \n",
       "36857 2020-06-13 13:30:00  32.684919 -839.379119  851.619553  -840.022458   \n",
       "36858 2020-06-14 13:30:00  33.249187 -859.746079  877.282656  -859.404212   \n",
       "36859 2020-06-15 13:30:00  33.813455 -890.422869  907.544718  -890.625903   \n",
       "36860 2020-06-16 13:30:00  34.377723 -907.378921  938.257619  -907.245106   \n",
       "\n",
       "       trend_upper  additive_terms  additive_terms_lower  \\\n",
       "36856   822.923661        0.154716              0.154716   \n",
       "36857   850.876999        0.611633              0.611633   \n",
       "36858   878.409651       -0.828636             -0.828636   \n",
       "36859   908.146695       -0.140980             -0.140980   \n",
       "36860   937.857226        0.356712              0.356712   \n",
       "\n",
       "       additive_terms_upper     daily  daily_lower  daily_upper    weekly  \\\n",
       "36856              0.154716  0.025963     0.025963     0.025963  0.128753   \n",
       "36857              0.611633  0.025963     0.025963     0.025963  0.585669   \n",
       "36858             -0.828636  0.025963     0.025963     0.025963 -0.854599   \n",
       "36859             -0.140980  0.025963     0.025963     0.025963 -0.166944   \n",
       "36860              0.356712  0.025963     0.025963     0.025963  0.330749   \n",
       "\n",
       "       weekly_lower  weekly_upper  multiplicative_terms  \\\n",
       "36856      0.128753      0.128753                   0.0   \n",
       "36857      0.585669      0.585669                   0.0   \n",
       "36858     -0.854599     -0.854599                   0.0   \n",
       "36859     -0.166944     -0.166944                   0.0   \n",
       "36860      0.330749      0.330749                   0.0   \n",
       "\n",
       "       multiplicative_terms_lower  multiplicative_terms_upper       yhat  \n",
       "36856                         0.0                         0.0  32.275368  \n",
       "36857                         0.0                         0.0  33.296552  \n",
       "36858                         0.0                         0.0  32.420552  \n",
       "36859                         0.0                         0.0  33.672475  \n",
       "36860                         0.0                         0.0  34.734435  "
      ]
     },
     "execution_count": 108,
     "metadata": {},
     "output_type": "execute_result"
    }
   ],
   "source": [
    "forecast = m.predict(future)\n",
    "forecast.tail()"
   ]
  },
  {
   "cell_type": "code",
   "execution_count": 111,
   "metadata": {},
   "outputs": [
    {
     "data": {
      "text/plain": [
       "<matplotlib.axes._subplots.AxesSubplot at 0x286acfe5288>"
      ]
     },
     "execution_count": 111,
     "metadata": {},
     "output_type": "execute_result"
    },
    {
     "data": {
      "image/png": "[encoded data removed]",
      "text/plain": [
       "<Figure size 432x288 with 1 Axes>"
      ]
     },
     "metadata": {
      "needs_background": "light"
     },
     "output_type": "display_data"
    }
   ],
   "source": [
    "forecast.iloc[-50:, :].yhat.plot()"
   ]
  },
  {
   "cell_type": "code",
   "execution_count": 112,
   "metadata": {},
   "outputs": [
    {
     "data": {
      "image/png": "[encoded data removed]",
      "text/plain": [
       "<Figure size 720x432 with 1 Axes>"
      ]
     },
     "metadata": {},
     "output_type": "display_data"
    }
   ],
   "source": [
    "fig1 = m.plot(forecast, uncertainty=False)\n",
    "plt.show()"
   ]
  },
  {
   "cell_type": "code",
   "execution_count": 88,
   "metadata": {},
   "outputs": [
    {
     "data": {
      "image/png": "[encoded data removed]",
      "text/plain": [
       "<Figure size 648x648 with 3 Axes>"
      ]
     },
     "metadata": {},
     "output_type": "display_data"
    }
   ],
   "source": [
    "fig2 = m.plot_components(forecast)\n",
    "plt.show()"
   ]
  },
  {
   "cell_type": "code",
   "execution_count": 89,
   "metadata": {},
   "outputs": [
    {
     "name": "stdout",
     "output_type": "stream",
     "text": [
      "Index(['REG_DATE', 'PM2.5', 'PM10.0', 'Temperature', 'Huminity', 'TVOC', 'CO2',\n",
      "       'ds', 'y', 'weekday'],\n",
      "      dtype='object')\n"
     ]
    }
   ],
   "source": [
    "# index 컬럼 지정 \n",
    "df = df.set_index(\"NO\", drop = True)\n",
    "\n",
    "df['weekday'] = df['REG_DATE'].dt.day_name()\n",
    "print(df.columns)"
   ]
  },
  {
   "cell_type": "code",
   "execution_count": 90,
   "metadata": {},
   "outputs": [
    {
     "data": {
      "text/plain": [
       "(25920, 10)"
      ]
     },
     "execution_count": 90,
     "metadata": {},
     "output_type": "execute_result"
    }
   ],
   "source": [
    "df.shape"
   ]
  },
  {
   "cell_type": "code",
   "execution_count": 91,
   "metadata": {},
   "outputs": [
    {
     "data": {
      "text/html": [
       "<div>\n",
       "<style scoped>\n",
       "    .dataframe tbody tr th:only-of-type {\n",
       "        vertical-align: middle;\n",
       "    }\n",
       "\n",
       "    .dataframe tbody tr th {\n",
       "        vertical-align: top;\n",
       "    }\n",
       "\n",
       "    .dataframe thead th {\n",
       "        text-align: right;\n",
       "    }\n",
       "</style>\n",
       "<table border=\"1\" class=\"dataframe\">\n",
       "  <thead>\n",
       "    <tr style=\"text-align: right;\">\n",
       "      <th></th>\n",
       "      <th>REG_DATE</th>\n",
       "      <th>PM2.5</th>\n",
       "      <th>PM10.0</th>\n",
       "      <th>Temperature</th>\n",
       "      <th>Huminity</th>\n",
       "      <th>TVOC</th>\n",
       "      <th>CO2</th>\n",
       "      <th>ds</th>\n",
       "      <th>y</th>\n",
       "      <th>weekday</th>\n",
       "    </tr>\n",
       "    <tr>\n",
       "      <th>NO</th>\n",
       "      <th></th>\n",
       "      <th></th>\n",
       "      <th></th>\n",
       "      <th></th>\n",
       "      <th></th>\n",
       "      <th></th>\n",
       "      <th></th>\n",
       "      <th></th>\n",
       "      <th></th>\n",
       "      <th></th>\n",
       "    </tr>\n",
       "  </thead>\n",
       "  <tbody>\n",
       "    <tr>\n",
       "      <th>1</th>\n",
       "      <td>2020-04-02 00:00:00</td>\n",
       "      <td>7.54</td>\n",
       "      <td>6.19</td>\n",
       "      <td>21.6</td>\n",
       "      <td>22.1</td>\n",
       "      <td>1.86</td>\n",
       "      <td>4.16</td>\n",
       "      <td>2020-04-02 00:00:00</td>\n",
       "      <td>4.16</td>\n",
       "      <td>Thursday</td>\n",
       "    </tr>\n",
       "    <tr>\n",
       "      <th>2</th>\n",
       "      <td>2020-04-02 00:01:00</td>\n",
       "      <td>7.83</td>\n",
       "      <td>6.19</td>\n",
       "      <td>21.6</td>\n",
       "      <td>22.1</td>\n",
       "      <td>1.85</td>\n",
       "      <td>4.15</td>\n",
       "      <td>2020-04-02 00:01:00</td>\n",
       "      <td>4.15</td>\n",
       "      <td>Thursday</td>\n",
       "    </tr>\n",
       "    <tr>\n",
       "      <th>3</th>\n",
       "      <td>2020-04-02 00:02:00</td>\n",
       "      <td>7.54</td>\n",
       "      <td>6.19</td>\n",
       "      <td>21.6</td>\n",
       "      <td>22.1</td>\n",
       "      <td>1.86</td>\n",
       "      <td>4.20</td>\n",
       "      <td>2020-04-02 00:02:00</td>\n",
       "      <td>4.20</td>\n",
       "      <td>Thursday</td>\n",
       "    </tr>\n",
       "  </tbody>\n",
       "</table>\n",
       "</div>"
      ],
      "text/plain": [
       "              REG_DATE  PM2.5  PM10.0  Temperature  Huminity  TVOC   CO2  \\\n",
       "NO                                                                         \n",
       "1  2020-04-02 00:00:00   7.54    6.19         21.6      22.1  1.86  4.16   \n",
       "2  2020-04-02 00:01:00   7.83    6.19         21.6      22.1  1.85  4.15   \n",
       "3  2020-04-02 00:02:00   7.54    6.19         21.6      22.1  1.86  4.20   \n",
       "\n",
       "                    ds     y   weekday  \n",
       "NO                                      \n",
       "1  2020-04-02 00:00:00  4.16  Thursday  \n",
       "2  2020-04-02 00:01:00  4.15  Thursday  \n",
       "3  2020-04-02 00:02:00  4.20  Thursday  "
      ]
     },
     "execution_count": 91,
     "metadata": {},
     "output_type": "execute_result"
    }
   ],
   "source": [
    "df.head(3)"
   ]
  },
  {
   "cell_type": "code",
   "execution_count": 92,
   "metadata": {},
   "outputs": [
    {
     "data": {
      "text/html": [
       "<div>\n",
       "<style scoped>\n",
       "    .dataframe tbody tr th:only-of-type {\n",
       "        vertical-align: middle;\n",
       "    }\n",
       "\n",
       "    .dataframe tbody tr th {\n",
       "        vertical-align: top;\n",
       "    }\n",
       "\n",
       "    .dataframe thead th {\n",
       "        text-align: right;\n",
       "    }\n",
       "</style>\n",
       "<table border=\"1\" class=\"dataframe\">\n",
       "  <thead>\n",
       "    <tr style=\"text-align: right;\">\n",
       "      <th></th>\n",
       "      <th>REG_DATE</th>\n",
       "      <th>PM2.5</th>\n",
       "      <th>PM10.0</th>\n",
       "      <th>Temperature</th>\n",
       "      <th>Huminity</th>\n",
       "      <th>TVOC</th>\n",
       "      <th>CO2</th>\n",
       "      <th>ds</th>\n",
       "      <th>y</th>\n",
       "      <th>weekday</th>\n",
       "    </tr>\n",
       "    <tr>\n",
       "      <th>NO</th>\n",
       "      <th></th>\n",
       "      <th></th>\n",
       "      <th></th>\n",
       "      <th></th>\n",
       "      <th></th>\n",
       "      <th></th>\n",
       "      <th></th>\n",
       "      <th></th>\n",
       "      <th></th>\n",
       "      <th></th>\n",
       "    </tr>\n",
       "  </thead>\n",
       "  <tbody>\n",
       "    <tr>\n",
       "      <th>17276</th>\n",
       "      <td>2020-04-13 23:55:00</td>\n",
       "      <td>11.32</td>\n",
       "      <td>12.38</td>\n",
       "      <td>19.5</td>\n",
       "      <td>25.4</td>\n",
       "      <td>2.04</td>\n",
       "      <td>4.27</td>\n",
       "      <td>2020-04-13 23:55:00</td>\n",
       "      <td>4.27</td>\n",
       "      <td>Monday</td>\n",
       "    </tr>\n",
       "    <tr>\n",
       "      <th>17277</th>\n",
       "      <td>2020-04-13 23:56:00</td>\n",
       "      <td>12.19</td>\n",
       "      <td>12.38</td>\n",
       "      <td>19.6</td>\n",
       "      <td>25.4</td>\n",
       "      <td>2.04</td>\n",
       "      <td>4.29</td>\n",
       "      <td>2020-04-13 23:56:00</td>\n",
       "      <td>4.29</td>\n",
       "      <td>Monday</td>\n",
       "    </tr>\n",
       "    <tr>\n",
       "      <th>17278</th>\n",
       "      <td>2020-04-13 23:57:00</td>\n",
       "      <td>12.48</td>\n",
       "      <td>12.38</td>\n",
       "      <td>19.6</td>\n",
       "      <td>25.4</td>\n",
       "      <td>2.07</td>\n",
       "      <td>4.24</td>\n",
       "      <td>2020-04-13 23:57:00</td>\n",
       "      <td>4.24</td>\n",
       "      <td>Monday</td>\n",
       "    </tr>\n",
       "    <tr>\n",
       "      <th>17279</th>\n",
       "      <td>2020-04-13 23:58:00</td>\n",
       "      <td>10.74</td>\n",
       "      <td>12.38</td>\n",
       "      <td>19.6</td>\n",
       "      <td>25.4</td>\n",
       "      <td>2.06</td>\n",
       "      <td>4.28</td>\n",
       "      <td>2020-04-13 23:58:00</td>\n",
       "      <td>4.28</td>\n",
       "      <td>Monday</td>\n",
       "    </tr>\n",
       "    <tr>\n",
       "      <th>17280</th>\n",
       "      <td>2020-04-13 23:59:00</td>\n",
       "      <td>11.03</td>\n",
       "      <td>12.38</td>\n",
       "      <td>19.6</td>\n",
       "      <td>25.4</td>\n",
       "      <td>2.04</td>\n",
       "      <td>4.30</td>\n",
       "      <td>2020-04-13 23:59:00</td>\n",
       "      <td>4.30</td>\n",
       "      <td>Monday</td>\n",
       "    </tr>\n",
       "  </tbody>\n",
       "</table>\n",
       "</div>"
      ],
      "text/plain": [
       "                 REG_DATE  PM2.5  PM10.0  Temperature  Huminity  TVOC   CO2  \\\n",
       "NO                                                                            \n",
       "17276 2020-04-13 23:55:00  11.32   12.38         19.5      25.4  2.04  4.27   \n",
       "17277 2020-04-13 23:56:00  12.19   12.38         19.6      25.4  2.04  4.29   \n",
       "17278 2020-04-13 23:57:00  12.48   12.38         19.6      25.4  2.07  4.24   \n",
       "17279 2020-04-13 23:58:00  10.74   12.38         19.6      25.4  2.06  4.28   \n",
       "17280 2020-04-13 23:59:00  11.03   12.38         19.6      25.4  2.04  4.30   \n",
       "\n",
       "                       ds     y weekday  \n",
       "NO                                       \n",
       "17276 2020-04-13 23:55:00  4.27  Monday  \n",
       "17277 2020-04-13 23:56:00  4.29  Monday  \n",
       "17278 2020-04-13 23:57:00  4.24  Monday  \n",
       "17279 2020-04-13 23:58:00  4.28  Monday  \n",
       "17280 2020-04-13 23:59:00  4.30  Monday  "
      ]
     },
     "execution_count": 92,
     "metadata": {},
     "output_type": "execute_result"
    }
   ],
   "source": [
    "df_monday = df[df['weekday']=='Monday']\n",
    "df_monday.tail()"
   ]
  },
  {
   "cell_type": "code",
   "execution_count": 20,
   "metadata": {},
   "outputs": [],
   "source": [
    "df_monday = df[df['weekday']=='Monday']\n",
    "df_tuesday = df[df['weekday']=='Tuesday']\n",
    "df_wednesday = df[df['weekday']=='Wednesday']\n",
    "df_thursday = df[df['weekday']=='Thursday']\n",
    "df_friday = df[df['weekday']=='Friday']\n",
    "\n",
    "df_saturday = df[df['weekday']=='Saturday']\n",
    "df_sunday = df[df['weekday']=='Sunday']\n"
   ]
  },
  {
   "cell_type": "code",
   "execution_count": 21,
   "metadata": {},
   "outputs": [
    {
     "data": {
      "text/plain": [
       "(4320, 10)"
      ]
     },
     "execution_count": 21,
     "metadata": {},
     "output_type": "execute_result"
    }
   ],
   "source": [
    "df_sunday.shape"
   ]
  },
  {
   "cell_type": "code",
   "execution_count": 22,
   "metadata": {},
   "outputs": [
    {
     "data": {
      "text/html": [
       "<div>\n",
       "<style scoped>\n",
       "    .dataframe tbody tr th:only-of-type {\n",
       "        vertical-align: middle;\n",
       "    }\n",
       "\n",
       "    .dataframe tbody tr th {\n",
       "        vertical-align: top;\n",
       "    }\n",
       "\n",
       "    .dataframe thead th {\n",
       "        text-align: right;\n",
       "    }\n",
       "</style>\n",
       "<table border=\"1\" class=\"dataframe\">\n",
       "  <thead>\n",
       "    <tr style=\"text-align: right;\">\n",
       "      <th></th>\n",
       "      <th>REG_DATE</th>\n",
       "      <th>PM2.5</th>\n",
       "      <th>PM10.0</th>\n",
       "      <th>Temperature</th>\n",
       "      <th>Huminity</th>\n",
       "      <th>TVOC</th>\n",
       "      <th>CO2</th>\n",
       "      <th>ds</th>\n",
       "      <th>y</th>\n",
       "      <th>weekday</th>\n",
       "    </tr>\n",
       "    <tr>\n",
       "      <th>NO</th>\n",
       "      <th></th>\n",
       "      <th></th>\n",
       "      <th></th>\n",
       "      <th></th>\n",
       "      <th></th>\n",
       "      <th></th>\n",
       "      <th></th>\n",
       "      <th></th>\n",
       "      <th></th>\n",
       "      <th></th>\n",
       "    </tr>\n",
       "  </thead>\n",
       "  <tbody>\n",
       "    <tr>\n",
       "      <th>25916</th>\n",
       "      <td>2020-04-19 23:55:00</td>\n",
       "      <td>4.35</td>\n",
       "      <td>4.35</td>\n",
       "      <td>20.6</td>\n",
       "      <td>42.3</td>\n",
       "      <td>1.76</td>\n",
       "      <td>7.70</td>\n",
       "      <td>2020-04-19 23:55:00</td>\n",
       "      <td>4.35</td>\n",
       "      <td>Sunday</td>\n",
       "    </tr>\n",
       "    <tr>\n",
       "      <th>25917</th>\n",
       "      <td>2020-04-19 23:56:00</td>\n",
       "      <td>4.21</td>\n",
       "      <td>4.22</td>\n",
       "      <td>20.6</td>\n",
       "      <td>42.3</td>\n",
       "      <td>1.78</td>\n",
       "      <td>7.69</td>\n",
       "      <td>2020-04-19 23:56:00</td>\n",
       "      <td>4.21</td>\n",
       "      <td>Sunday</td>\n",
       "    </tr>\n",
       "    <tr>\n",
       "      <th>25918</th>\n",
       "      <td>2020-04-19 23:57:00</td>\n",
       "      <td>5.07</td>\n",
       "      <td>5.07</td>\n",
       "      <td>20.6</td>\n",
       "      <td>42.3</td>\n",
       "      <td>1.76</td>\n",
       "      <td>7.66</td>\n",
       "      <td>2020-04-19 23:57:00</td>\n",
       "      <td>5.07</td>\n",
       "      <td>Sunday</td>\n",
       "    </tr>\n",
       "    <tr>\n",
       "      <th>25919</th>\n",
       "      <td>2020-04-19 23:58:00</td>\n",
       "      <td>3.90</td>\n",
       "      <td>3.90</td>\n",
       "      <td>20.6</td>\n",
       "      <td>42.3</td>\n",
       "      <td>1.77</td>\n",
       "      <td>7.71</td>\n",
       "      <td>2020-04-19 23:58:00</td>\n",
       "      <td>3.90</td>\n",
       "      <td>Sunday</td>\n",
       "    </tr>\n",
       "    <tr>\n",
       "      <th>25920</th>\n",
       "      <td>2020-04-19 23:59:00</td>\n",
       "      <td>4.64</td>\n",
       "      <td>4.64</td>\n",
       "      <td>20.6</td>\n",
       "      <td>42.3</td>\n",
       "      <td>1.74</td>\n",
       "      <td>7.70</td>\n",
       "      <td>2020-04-19 23:59:00</td>\n",
       "      <td>4.64</td>\n",
       "      <td>Sunday</td>\n",
       "    </tr>\n",
       "  </tbody>\n",
       "</table>\n",
       "</div>"
      ],
      "text/plain": [
       "                 REG_DATE  PM2.5  PM10.0  Temperature  Huminity  TVOC   CO2  \\\n",
       "NO                                                                            \n",
       "25916 2020-04-19 23:55:00   4.35    4.35         20.6      42.3  1.76  7.70   \n",
       "25917 2020-04-19 23:56:00   4.21    4.22         20.6      42.3  1.78  7.69   \n",
       "25918 2020-04-19 23:57:00   5.07    5.07         20.6      42.3  1.76  7.66   \n",
       "25919 2020-04-19 23:58:00   3.90    3.90         20.6      42.3  1.77  7.71   \n",
       "25920 2020-04-19 23:59:00   4.64    4.64         20.6      42.3  1.74  7.70   \n",
       "\n",
       "                       ds     y weekday  \n",
       "NO                                       \n",
       "25916 2020-04-19 23:55:00  4.35  Sunday  \n",
       "25917 2020-04-19 23:56:00  4.21  Sunday  \n",
       "25918 2020-04-19 23:57:00  5.07  Sunday  \n",
       "25919 2020-04-19 23:58:00  3.90  Sunday  \n",
       "25920 2020-04-19 23:59:00  4.64  Sunday  "
      ]
     },
     "execution_count": 22,
     "metadata": {},
     "output_type": "execute_result"
    }
   ],
   "source": [
    "df_sunday.tail()"
   ]
  },
  {
   "cell_type": "code",
   "execution_count": 23,
   "metadata": {},
   "outputs": [],
   "source": [
    "\n",
    "df_workday = pd.concat([df_monday,df_tuesday, df_wednesday, df_thursday, df_friday])\n",
    "df_weekend = pd.concat([df_saturday,df_sunday])\n",
    "#df_weekend = pd.concat([df_saturday])"
   ]
  },
  {
   "cell_type": "code",
   "execution_count": 24,
   "metadata": {},
   "outputs": [
    {
     "data": {
      "text/plain": [
       "(8640, 10)"
      ]
     },
     "execution_count": 24,
     "metadata": {},
     "output_type": "execute_result"
    }
   ],
   "source": [
    "df_weekend.shape"
   ]
  },
  {
   "cell_type": "code",
   "execution_count": 25,
   "metadata": {},
   "outputs": [
    {
     "data": {
      "text/html": [
       "<div>\n",
       "<style scoped>\n",
       "    .dataframe tbody tr th:only-of-type {\n",
       "        vertical-align: middle;\n",
       "    }\n",
       "\n",
       "    .dataframe tbody tr th {\n",
       "        vertical-align: top;\n",
       "    }\n",
       "\n",
       "    .dataframe thead th {\n",
       "        text-align: right;\n",
       "    }\n",
       "</style>\n",
       "<table border=\"1\" class=\"dataframe\">\n",
       "  <thead>\n",
       "    <tr style=\"text-align: right;\">\n",
       "      <th></th>\n",
       "      <th>PM2.5</th>\n",
       "      <th>PM10.0</th>\n",
       "      <th>Temperature</th>\n",
       "      <th>Huminity</th>\n",
       "      <th>TVOC</th>\n",
       "      <th>CO2</th>\n",
       "      <th>y</th>\n",
       "    </tr>\n",
       "  </thead>\n",
       "  <tbody>\n",
       "    <tr>\n",
       "      <th>count</th>\n",
       "      <td>17280.000000</td>\n",
       "      <td>17280.000000</td>\n",
       "      <td>17280.000000</td>\n",
       "      <td>17280.000000</td>\n",
       "      <td>17279.000000</td>\n",
       "      <td>17279.000000</td>\n",
       "      <td>17280.000000</td>\n",
       "    </tr>\n",
       "    <tr>\n",
       "      <th>mean</th>\n",
       "      <td>14.795528</td>\n",
       "      <td>14.822488</td>\n",
       "      <td>20.295770</td>\n",
       "      <td>25.242321</td>\n",
       "      <td>2.088653</td>\n",
       "      <td>4.455054</td>\n",
       "      <td>14.795528</td>\n",
       "    </tr>\n",
       "    <tr>\n",
       "      <th>std</th>\n",
       "      <td>7.727320</td>\n",
       "      <td>7.411921</td>\n",
       "      <td>1.169316</td>\n",
       "      <td>5.078978</td>\n",
       "      <td>0.290255</td>\n",
       "      <td>1.038293</td>\n",
       "      <td>7.727320</td>\n",
       "    </tr>\n",
       "    <tr>\n",
       "      <th>min</th>\n",
       "      <td>3.480000</td>\n",
       "      <td>6.190000</td>\n",
       "      <td>18.100000</td>\n",
       "      <td>15.000000</td>\n",
       "      <td>1.100000</td>\n",
       "      <td>2.150000</td>\n",
       "      <td>3.480000</td>\n",
       "    </tr>\n",
       "    <tr>\n",
       "      <th>25%</th>\n",
       "      <td>9.870000</td>\n",
       "      <td>12.380000</td>\n",
       "      <td>19.300000</td>\n",
       "      <td>22.300000</td>\n",
       "      <td>1.930000</td>\n",
       "      <td>3.840000</td>\n",
       "      <td>9.870000</td>\n",
       "    </tr>\n",
       "    <tr>\n",
       "      <th>50%</th>\n",
       "      <td>13.060000</td>\n",
       "      <td>12.380000</td>\n",
       "      <td>20.200000</td>\n",
       "      <td>24.500000</td>\n",
       "      <td>2.060000</td>\n",
       "      <td>4.310000</td>\n",
       "      <td>13.060000</td>\n",
       "    </tr>\n",
       "    <tr>\n",
       "      <th>75%</th>\n",
       "      <td>18.080000</td>\n",
       "      <td>18.570000</td>\n",
       "      <td>21.000000</td>\n",
       "      <td>26.800000</td>\n",
       "      <td>2.230000</td>\n",
       "      <td>4.880000</td>\n",
       "      <td>18.080000</td>\n",
       "    </tr>\n",
       "    <tr>\n",
       "      <th>max</th>\n",
       "      <td>74.570000</td>\n",
       "      <td>61.900000</td>\n",
       "      <td>25.200000</td>\n",
       "      <td>43.300000</td>\n",
       "      <td>6.860000</td>\n",
       "      <td>8.310000</td>\n",
       "      <td>74.570000</td>\n",
       "    </tr>\n",
       "  </tbody>\n",
       "</table>\n",
       "</div>"
      ],
      "text/plain": [
       "              PM2.5        PM10.0   Temperature      Huminity          TVOC  \\\n",
       "count  17280.000000  17280.000000  17280.000000  17280.000000  17279.000000   \n",
       "mean      14.795528     14.822488     20.295770     25.242321      2.088653   \n",
       "std        7.727320      7.411921      1.169316      5.078978      0.290255   \n",
       "min        3.480000      6.190000     18.100000     15.000000      1.100000   \n",
       "25%        9.870000     12.380000     19.300000     22.300000      1.930000   \n",
       "50%       13.060000     12.380000     20.200000     24.500000      2.060000   \n",
       "75%       18.080000     18.570000     21.000000     26.800000      2.230000   \n",
       "max       74.570000     61.900000     25.200000     43.300000      6.860000   \n",
       "\n",
       "                CO2             y  \n",
       "count  17279.000000  17280.000000  \n",
       "mean       4.455054     14.795528  \n",
       "std        1.038293      7.727320  \n",
       "min        2.150000      3.480000  \n",
       "25%        3.840000      9.870000  \n",
       "50%        4.310000     13.060000  \n",
       "75%        4.880000     18.080000  \n",
       "max        8.310000     74.570000  "
      ]
     },
     "execution_count": 25,
     "metadata": {},
     "output_type": "execute_result"
    }
   ],
   "source": [
    "df_workday.describe()"
   ]
  },
  {
   "cell_type": "code",
   "execution_count": 26,
   "metadata": {},
   "outputs": [
    {
     "data": {
      "text/html": [
       "<div>\n",
       "<style scoped>\n",
       "    .dataframe tbody tr th:only-of-type {\n",
       "        vertical-align: middle;\n",
       "    }\n",
       "\n",
       "    .dataframe tbody tr th {\n",
       "        vertical-align: top;\n",
       "    }\n",
       "\n",
       "    .dataframe thead th {\n",
       "        text-align: right;\n",
       "    }\n",
       "</style>\n",
       "<table border=\"1\" class=\"dataframe\">\n",
       "  <thead>\n",
       "    <tr style=\"text-align: right;\">\n",
       "      <th></th>\n",
       "      <th>PM2.5</th>\n",
       "      <th>PM10.0</th>\n",
       "      <th>Temperature</th>\n",
       "      <th>Huminity</th>\n",
       "      <th>TVOC</th>\n",
       "      <th>CO2</th>\n",
       "      <th>y</th>\n",
       "    </tr>\n",
       "  </thead>\n",
       "  <tbody>\n",
       "    <tr>\n",
       "      <th>count</th>\n",
       "      <td>8640.000000</td>\n",
       "      <td>8640.000000</td>\n",
       "      <td>8639.000000</td>\n",
       "      <td>8639.000000</td>\n",
       "      <td>8640.000000</td>\n",
       "      <td>8640.000000</td>\n",
       "      <td>8640.000000</td>\n",
       "    </tr>\n",
       "    <tr>\n",
       "      <th>mean</th>\n",
       "      <td>11.999606</td>\n",
       "      <td>11.973071</td>\n",
       "      <td>20.154786</td>\n",
       "      <td>29.661824</td>\n",
       "      <td>1.901799</td>\n",
       "      <td>5.217382</td>\n",
       "      <td>11.999606</td>\n",
       "    </tr>\n",
       "    <tr>\n",
       "      <th>std</th>\n",
       "      <td>8.427809</td>\n",
       "      <td>7.610504</td>\n",
       "      <td>0.765153</td>\n",
       "      <td>8.768501</td>\n",
       "      <td>0.219557</td>\n",
       "      <td>1.781602</td>\n",
       "      <td>8.427809</td>\n",
       "    </tr>\n",
       "    <tr>\n",
       "      <th>min</th>\n",
       "      <td>1.480000</td>\n",
       "      <td>0.000000</td>\n",
       "      <td>18.600000</td>\n",
       "      <td>13.300000</td>\n",
       "      <td>1.440000</td>\n",
       "      <td>1.880000</td>\n",
       "      <td>1.480000</td>\n",
       "    </tr>\n",
       "    <tr>\n",
       "      <th>25%</th>\n",
       "      <td>6.670000</td>\n",
       "      <td>6.190000</td>\n",
       "      <td>19.500000</td>\n",
       "      <td>23.700000</td>\n",
       "      <td>1.770000</td>\n",
       "      <td>3.940000</td>\n",
       "      <td>6.670000</td>\n",
       "    </tr>\n",
       "    <tr>\n",
       "      <th>50%</th>\n",
       "      <td>10.440000</td>\n",
       "      <td>11.840000</td>\n",
       "      <td>20.300000</td>\n",
       "      <td>30.500000</td>\n",
       "      <td>1.880000</td>\n",
       "      <td>5.160000</td>\n",
       "      <td>10.440000</td>\n",
       "    </tr>\n",
       "    <tr>\n",
       "      <th>75%</th>\n",
       "      <td>13.930000</td>\n",
       "      <td>12.380000</td>\n",
       "      <td>20.800000</td>\n",
       "      <td>37.300000</td>\n",
       "      <td>2.020000</td>\n",
       "      <td>6.930000</td>\n",
       "      <td>13.930000</td>\n",
       "    </tr>\n",
       "    <tr>\n",
       "      <th>max</th>\n",
       "      <td>67.030000</td>\n",
       "      <td>55.710000</td>\n",
       "      <td>22.000000</td>\n",
       "      <td>43.400000</td>\n",
       "      <td>2.470000</td>\n",
       "      <td>8.020000</td>\n",
       "      <td>67.030000</td>\n",
       "    </tr>\n",
       "  </tbody>\n",
       "</table>\n",
       "</div>"
      ],
      "text/plain": [
       "             PM2.5       PM10.0  Temperature     Huminity         TVOC  \\\n",
       "count  8640.000000  8640.000000  8639.000000  8639.000000  8640.000000   \n",
       "mean     11.999606    11.973071    20.154786    29.661824     1.901799   \n",
       "std       8.427809     7.610504     0.765153     8.768501     0.219557   \n",
       "min       1.480000     0.000000    18.600000    13.300000     1.440000   \n",
       "25%       6.670000     6.190000    19.500000    23.700000     1.770000   \n",
       "50%      10.440000    11.840000    20.300000    30.500000     1.880000   \n",
       "75%      13.930000    12.380000    20.800000    37.300000     2.020000   \n",
       "max      67.030000    55.710000    22.000000    43.400000     2.470000   \n",
       "\n",
       "               CO2            y  \n",
       "count  8640.000000  8640.000000  \n",
       "mean      5.217382    11.999606  \n",
       "std       1.781602     8.427809  \n",
       "min       1.880000     1.480000  \n",
       "25%       3.940000     6.670000  \n",
       "50%       5.160000    10.440000  \n",
       "75%       6.930000    13.930000  \n",
       "max       8.020000    67.030000  "
      ]
     },
     "execution_count": 26,
     "metadata": {},
     "output_type": "execute_result"
    }
   ],
   "source": [
    "df_weekend.describe()"
   ]
  },
  {
   "cell_type": "code",
   "execution_count": 27,
   "metadata": {},
   "outputs": [
    {
     "data": {
      "text/html": [
       "<div>\n",
       "<style scoped>\n",
       "    .dataframe tbody tr th:only-of-type {\n",
       "        vertical-align: middle;\n",
       "    }\n",
       "\n",
       "    .dataframe tbody tr th {\n",
       "        vertical-align: top;\n",
       "    }\n",
       "\n",
       "    .dataframe thead th {\n",
       "        text-align: right;\n",
       "    }\n",
       "</style>\n",
       "<table border=\"1\" class=\"dataframe\">\n",
       "  <thead>\n",
       "    <tr style=\"text-align: right;\">\n",
       "      <th></th>\n",
       "      <th>REG_DATE</th>\n",
       "      <th>PM2.5</th>\n",
       "      <th>PM10.0</th>\n",
       "      <th>Temperature</th>\n",
       "      <th>Huminity</th>\n",
       "      <th>TVOC</th>\n",
       "      <th>CO2</th>\n",
       "      <th>ds</th>\n",
       "      <th>y</th>\n",
       "      <th>weekday</th>\n",
       "    </tr>\n",
       "    <tr>\n",
       "      <th>NO</th>\n",
       "      <th></th>\n",
       "      <th></th>\n",
       "      <th></th>\n",
       "      <th></th>\n",
       "      <th></th>\n",
       "      <th></th>\n",
       "      <th></th>\n",
       "      <th></th>\n",
       "      <th></th>\n",
       "      <th></th>\n",
       "    </tr>\n",
       "  </thead>\n",
       "  <tbody>\n",
       "    <tr>\n",
       "      <th>5761</th>\n",
       "      <td>2020-04-06 00:00:00</td>\n",
       "      <td>7.83</td>\n",
       "      <td>6.19</td>\n",
       "      <td>19.1</td>\n",
       "      <td>23.8</td>\n",
       "      <td>1.95</td>\n",
       "      <td>3.92</td>\n",
       "      <td>2020-04-06 00:00:00</td>\n",
       "      <td>7.83</td>\n",
       "      <td>Monday</td>\n",
       "    </tr>\n",
       "    <tr>\n",
       "      <th>5762</th>\n",
       "      <td>2020-04-06 00:01:00</td>\n",
       "      <td>7.83</td>\n",
       "      <td>6.19</td>\n",
       "      <td>19.1</td>\n",
       "      <td>23.8</td>\n",
       "      <td>1.94</td>\n",
       "      <td>3.89</td>\n",
       "      <td>2020-04-06 00:01:00</td>\n",
       "      <td>7.83</td>\n",
       "      <td>Monday</td>\n",
       "    </tr>\n",
       "    <tr>\n",
       "      <th>5763</th>\n",
       "      <td>2020-04-06 00:02:00</td>\n",
       "      <td>8.12</td>\n",
       "      <td>6.19</td>\n",
       "      <td>19.1</td>\n",
       "      <td>23.9</td>\n",
       "      <td>1.92</td>\n",
       "      <td>3.92</td>\n",
       "      <td>2020-04-06 00:02:00</td>\n",
       "      <td>8.12</td>\n",
       "      <td>Monday</td>\n",
       "    </tr>\n",
       "    <tr>\n",
       "      <th>5764</th>\n",
       "      <td>2020-04-06 00:03:00</td>\n",
       "      <td>10.16</td>\n",
       "      <td>12.38</td>\n",
       "      <td>19.1</td>\n",
       "      <td>23.8</td>\n",
       "      <td>1.91</td>\n",
       "      <td>3.91</td>\n",
       "      <td>2020-04-06 00:03:00</td>\n",
       "      <td>10.16</td>\n",
       "      <td>Monday</td>\n",
       "    </tr>\n",
       "    <tr>\n",
       "      <th>5765</th>\n",
       "      <td>2020-04-06 00:04:00</td>\n",
       "      <td>11.90</td>\n",
       "      <td>12.38</td>\n",
       "      <td>19.1</td>\n",
       "      <td>23.9</td>\n",
       "      <td>1.93</td>\n",
       "      <td>3.95</td>\n",
       "      <td>2020-04-06 00:04:00</td>\n",
       "      <td>11.90</td>\n",
       "      <td>Monday</td>\n",
       "    </tr>\n",
       "  </tbody>\n",
       "</table>\n",
       "</div>"
      ],
      "text/plain": [
       "                REG_DATE  PM2.5  PM10.0  Temperature  Huminity  TVOC   CO2  \\\n",
       "NO                                                                           \n",
       "5761 2020-04-06 00:00:00   7.83    6.19         19.1      23.8  1.95  3.92   \n",
       "5762 2020-04-06 00:01:00   7.83    6.19         19.1      23.8  1.94  3.89   \n",
       "5763 2020-04-06 00:02:00   8.12    6.19         19.1      23.9  1.92  3.92   \n",
       "5764 2020-04-06 00:03:00  10.16   12.38         19.1      23.8  1.91  3.91   \n",
       "5765 2020-04-06 00:04:00  11.90   12.38         19.1      23.9  1.93  3.95   \n",
       "\n",
       "                      ds      y weekday  \n",
       "NO                                       \n",
       "5761 2020-04-06 00:00:00   7.83  Monday  \n",
       "5762 2020-04-06 00:01:00   7.83  Monday  \n",
       "5763 2020-04-06 00:02:00   8.12  Monday  \n",
       "5764 2020-04-06 00:03:00  10.16  Monday  \n",
       "5765 2020-04-06 00:04:00  11.90  Monday  "
      ]
     },
     "execution_count": 27,
     "metadata": {},
     "output_type": "execute_result"
    }
   ],
   "source": [
    "df_workday.head()"
   ]
  },
  {
   "cell_type": "markdown",
   "metadata": {},
   "source": [
    "### group by a single column\n",
    "df.groupby('column1')"
   ]
  },
  {
   "cell_type": "code",
   "execution_count": 28,
   "metadata": {},
   "outputs": [
    {
     "data": {
      "text/plain": [
       "<pandas.core.groupby.generic.DataFrameGroupBy object at 0x00000286AD2F5248>"
      ]
     },
     "execution_count": 28,
     "metadata": {},
     "output_type": "execute_result"
    }
   ],
   "source": [
    "df.groupby('weekday')"
   ]
  },
  {
   "cell_type": "code",
   "execution_count": 29,
   "metadata": {},
   "outputs": [],
   "source": [
    "week_df = df.groupby(df['weekday']).mean()"
   ]
  },
  {
   "cell_type": "code",
   "execution_count": 30,
   "metadata": {},
   "outputs": [
    {
     "data": {
      "text/html": [
       "<div>\n",
       "<style scoped>\n",
       "    .dataframe tbody tr th:only-of-type {\n",
       "        vertical-align: middle;\n",
       "    }\n",
       "\n",
       "    .dataframe tbody tr th {\n",
       "        vertical-align: top;\n",
       "    }\n",
       "\n",
       "    .dataframe thead th {\n",
       "        text-align: right;\n",
       "    }\n",
       "</style>\n",
       "<table border=\"1\" class=\"dataframe\">\n",
       "  <thead>\n",
       "    <tr style=\"text-align: right;\">\n",
       "      <th></th>\n",
       "      <th>PM2.5</th>\n",
       "      <th>PM10.0</th>\n",
       "      <th>Temperature</th>\n",
       "      <th>Huminity</th>\n",
       "      <th>TVOC</th>\n",
       "      <th>CO2</th>\n",
       "      <th>y</th>\n",
       "    </tr>\n",
       "    <tr>\n",
       "      <th>weekday</th>\n",
       "      <th></th>\n",
       "      <th></th>\n",
       "      <th></th>\n",
       "      <th></th>\n",
       "      <th></th>\n",
       "      <th></th>\n",
       "      <th></th>\n",
       "    </tr>\n",
       "  </thead>\n",
       "  <tbody>\n",
       "    <tr>\n",
       "      <th>Friday</th>\n",
       "      <td>17.002421</td>\n",
       "      <td>16.502553</td>\n",
       "      <td>20.953241</td>\n",
       "      <td>29.277060</td>\n",
       "      <td>2.243400</td>\n",
       "      <td>5.413275</td>\n",
       "      <td>17.002421</td>\n",
       "    </tr>\n",
       "    <tr>\n",
       "      <th>Monday</th>\n",
       "      <td>8.378153</td>\n",
       "      <td>8.730479</td>\n",
       "      <td>19.610347</td>\n",
       "      <td>23.084792</td>\n",
       "      <td>1.949441</td>\n",
       "      <td>3.890170</td>\n",
       "      <td>8.378153</td>\n",
       "    </tr>\n",
       "    <tr>\n",
       "      <th>Saturday</th>\n",
       "      <td>13.114808</td>\n",
       "      <td>13.139979</td>\n",
       "      <td>20.404168</td>\n",
       "      <td>30.553508</td>\n",
       "      <td>1.986215</td>\n",
       "      <td>5.449787</td>\n",
       "      <td>13.114808</td>\n",
       "    </tr>\n",
       "    <tr>\n",
       "      <th>Sunday</th>\n",
       "      <td>10.884405</td>\n",
       "      <td>10.806162</td>\n",
       "      <td>19.905463</td>\n",
       "      <td>28.770347</td>\n",
       "      <td>1.817382</td>\n",
       "      <td>4.984977</td>\n",
       "      <td>10.884405</td>\n",
       "    </tr>\n",
       "    <tr>\n",
       "      <th>Thursday</th>\n",
       "      <td>15.080028</td>\n",
       "      <td>15.104558</td>\n",
       "      <td>20.793750</td>\n",
       "      <td>22.629282</td>\n",
       "      <td>2.072097</td>\n",
       "      <td>4.080234</td>\n",
       "      <td>15.080028</td>\n",
       "    </tr>\n",
       "    <tr>\n",
       "      <th>Tuesday</th>\n",
       "      <td>13.542538</td>\n",
       "      <td>13.804740</td>\n",
       "      <td>19.885139</td>\n",
       "      <td>28.634375</td>\n",
       "      <td>2.186941</td>\n",
       "      <td>4.935684</td>\n",
       "      <td>13.542538</td>\n",
       "    </tr>\n",
       "    <tr>\n",
       "      <th>Wednesday</th>\n",
       "      <td>18.728806</td>\n",
       "      <td>18.989042</td>\n",
       "      <td>19.658646</td>\n",
       "      <td>21.875243</td>\n",
       "      <td>1.922243</td>\n",
       "      <td>3.664010</td>\n",
       "      <td>18.728806</td>\n",
       "    </tr>\n",
       "  </tbody>\n",
       "</table>\n",
       "</div>"
      ],
      "text/plain": [
       "               PM2.5     PM10.0  Temperature   Huminity      TVOC       CO2  \\\n",
       "weekday                                                                       \n",
       "Friday     17.002421  16.502553    20.953241  29.277060  2.243400  5.413275   \n",
       "Monday      8.378153   8.730479    19.610347  23.084792  1.949441  3.890170   \n",
       "Saturday   13.114808  13.139979    20.404168  30.553508  1.986215  5.449787   \n",
       "Sunday     10.884405  10.806162    19.905463  28.770347  1.817382  4.984977   \n",
       "Thursday   15.080028  15.104558    20.793750  22.629282  2.072097  4.080234   \n",
       "Tuesday    13.542538  13.804740    19.885139  28.634375  2.186941  4.935684   \n",
       "Wednesday  18.728806  18.989042    19.658646  21.875243  1.922243  3.664010   \n",
       "\n",
       "                   y  \n",
       "weekday               \n",
       "Friday     17.002421  \n",
       "Monday      8.378153  \n",
       "Saturday   13.114808  \n",
       "Sunday     10.884405  \n",
       "Thursday   15.080028  \n",
       "Tuesday    13.542538  \n",
       "Wednesday  18.728806  "
      ]
     },
     "execution_count": 30,
     "metadata": {},
     "output_type": "execute_result"
    }
   ],
   "source": [
    "week_df"
   ]
  },
  {
   "cell_type": "code",
   "execution_count": 31,
   "metadata": {},
   "outputs": [
    {
     "data": {
      "text/plain": [
       "{'Friday': Int64Index([ 1441,  1442,  1443,  1444,  1445,  1446,  1447,  1448,  1449,\n",
       "              1450,\n",
       "             ...\n",
       "             23031, 23032, 23033, 23034, 23035, 23036, 23037, 23038, 23039,\n",
       "             23040],\n",
       "            dtype='int64', name='NO', length=4320),\n",
       " 'Monday': Int64Index([ 5761,  5762,  5763,  5764,  5765,  5766,  5767,  5768,  5769,\n",
       "              5770,\n",
       "             ...\n",
       "             17271, 17272, 17273, 17274, 17275, 17276, 17277, 17278, 17279,\n",
       "             17280],\n",
       "            dtype='int64', name='NO', length=2880),\n",
       " 'Saturday': Int64Index([ 2881,  2882,  2883,  2884,  2885,  2886,  2887,  2888,  2889,\n",
       "              2890,\n",
       "             ...\n",
       "             24471, 24472, 24473, 24474, 24475, 24476, 24477, 24478, 24479,\n",
       "             24480],\n",
       "            dtype='int64', name='NO', length=4320),\n",
       " 'Sunday': Int64Index([ 4321,  4322,  4323,  4324,  4325,  4326,  4327,  4328,  4329,\n",
       "              4330,\n",
       "             ...\n",
       "             25911, 25912, 25913, 25914, 25915, 25916, 25917, 25918, 25919,\n",
       "             25920],\n",
       "            dtype='int64', name='NO', length=4320),\n",
       " 'Thursday': Int64Index([    1,     2,     3,     4,     5,     6,     7,     8,     9,\n",
       "                10,\n",
       "             ...\n",
       "             21591, 21592, 21593, 21594, 21595, 21596, 21597, 21598, 21599,\n",
       "             21600],\n",
       "            dtype='int64', name='NO', length=4320),\n",
       " 'Tuesday': Int64Index([ 7201,  7202,  7203,  7204,  7205,  7206,  7207,  7208,  7209,\n",
       "              7210,\n",
       "             ...\n",
       "             18711, 18712, 18713, 18714, 18715, 18716, 18717, 18718, 18719,\n",
       "             18720],\n",
       "            dtype='int64', name='NO', length=2880),\n",
       " 'Wednesday': Int64Index([ 8641,  8642,  8643,  8644,  8645,  8646,  8647,  8648,  8649,\n",
       "              8650,\n",
       "             ...\n",
       "             20151, 20152, 20153, 20154, 20155, 20156, 20157, 20158, 20159,\n",
       "             20160],\n",
       "            dtype='int64', name='NO', length=2880)}"
      ]
     },
     "execution_count": 31,
     "metadata": {},
     "output_type": "execute_result"
    }
   ],
   "source": [
    "df.groupby('weekday').groups"
   ]
  },
  {
   "cell_type": "code",
   "execution_count": 32,
   "metadata": {},
   "outputs": [],
   "source": [
    "df_workday = df_workday.rename(columns={'Huminity': 'Humidity', 'PM2.5' :'PM25', 'PM10.0':'PM100'})"
   ]
  },
  {
   "cell_type": "code",
   "execution_count": 33,
   "metadata": {},
   "outputs": [],
   "source": [
    "df_weekend = df_weekend.rename(columns={'Huminity': 'Humidity', 'PM2.5' :'PM25', 'PM10.0':'PM100'})"
   ]
  },
  {
   "cell_type": "code",
   "execution_count": 34,
   "metadata": {},
   "outputs": [
    {
     "data": {
      "text/plain": [
       "Index(['REG_DATE', 'PM25', 'PM100', 'Temperature', 'Humidity', 'TVOC', 'CO2',\n",
       "       'ds', 'y', 'weekday'],\n",
       "      dtype='object')"
      ]
     },
     "execution_count": 34,
     "metadata": {},
     "output_type": "execute_result"
    }
   ],
   "source": [
    "df_weekend.columns"
   ]
  },
  {
   "cell_type": "code",
   "execution_count": 35,
   "metadata": {},
   "outputs": [
    {
     "data": {
      "image/png": "[encoded data removed]",
      "text/plain": [
       "<Figure size 720x1440 with 10 Axes>"
      ]
     },
     "metadata": {
      "needs_background": "light"
     },
     "output_type": "display_data"
    }
   ],
   "source": [
    "fig, axes = plt.subplots(5,2, figsize=(10,20))\n",
    "x  = list(range(len(df_workday['PM25'])))\n",
    "axes[0][0].plot(x, df_workday['PM25'])\n",
    "axes[0][0].set_title ('workday PM2.5')\n",
    "\n",
    "x1  = list(range(len(df_weekend['PM25'])))\n",
    "axes[0][1].plot(x1, df_weekend['PM25'])\n",
    "axes[0][1].set_title ('weekend PM2.5') \n",
    "\n",
    "\n",
    "axes[1][0].plot(x, df_workday['Temperature'])\n",
    "axes[1][0].set_title ('workday Temperature')\n",
    "\n",
    "axes[1][1].plot(x1, df_weekend['Temperature'])\n",
    "axes[1][1].set_title ('weekend Temperature') \n",
    "\n",
    "axes[2][0].plot(x, df_workday['CO2'])\n",
    "axes[2][0].set_title ('workday CO2')\n",
    "\n",
    "axes[2][1].plot(x1, df_weekend['CO2'])\n",
    "axes[2][1].set_title ('weekend CO2') \n",
    "\n",
    "axes[3][0].plot(x, df_workday['Humidity'])\n",
    "axes[3][0].set_title ('workday Humidity')\n",
    "\n",
    "axes[3][1].plot(x1, df_weekend['Humidity'])\n",
    "axes[3][1].set_title ('weekend Humidity') \n",
    "\n",
    "axes[4][0].plot(x, df_workday['TVOC'])\n",
    "axes[4][0].set_title ('workday TVOC')\n",
    "\n",
    "axes[4][1].plot(x1, df_weekend['TVOC'])\n",
    "axes[4][1].set_title ('weekend TVOC') \n",
    "\n",
    "plt.show()"
   ]
  },
  {
   "cell_type": "code",
   "execution_count": 36,
   "metadata": {},
   "outputs": [],
   "source": [
    "import numpy as np\n",
    "\n",
    "def is_outlier(points, threshold=1):\n",
    "    if len(points.shape) == 1:\n",
    "        points = points[:, None]\n",
    "    \n",
    "    median = np.median(points, axis=0)\n",
    "    \n",
    "    diff = np.sum((points - median)**2, axis=-1)\n",
    "    diff = np.sqrt(diff)\n",
    "    \n",
    "    med_abs_deviation = np.median(diff)\n",
    "    modified_z_score = 0.6745 * diff / med_abs_deviation\n",
    "    \n",
    "    return modified_z_score > threshold\n",
    "\n"
   ]
  },
  {
   "cell_type": "code",
   "execution_count": 37,
   "metadata": {},
   "outputs": [
    {
     "data": {
      "text/plain": [
       "(17280,)"
      ]
     },
     "execution_count": 37,
     "metadata": {},
     "output_type": "execute_result"
    }
   ],
   "source": [
    "df_workday['PM25'].shape"
   ]
  },
  {
   "cell_type": "code",
   "execution_count": 38,
   "metadata": {},
   "outputs": [
    {
     "data": {
      "text/html": [
       "<div>\n",
       "<style scoped>\n",
       "    .dataframe tbody tr th:only-of-type {\n",
       "        vertical-align: middle;\n",
       "    }\n",
       "\n",
       "    .dataframe tbody tr th {\n",
       "        vertical-align: top;\n",
       "    }\n",
       "\n",
       "    .dataframe thead th {\n",
       "        text-align: right;\n",
       "    }\n",
       "</style>\n",
       "<table border=\"1\" class=\"dataframe\">\n",
       "  <thead>\n",
       "    <tr style=\"text-align: right;\">\n",
       "      <th></th>\n",
       "      <th>REG_DATE</th>\n",
       "      <th>PM25</th>\n",
       "      <th>PM100</th>\n",
       "      <th>Temperature</th>\n",
       "      <th>Humidity</th>\n",
       "      <th>TVOC</th>\n",
       "      <th>CO2</th>\n",
       "      <th>ds</th>\n",
       "      <th>y</th>\n",
       "      <th>weekday</th>\n",
       "    </tr>\n",
       "    <tr>\n",
       "      <th>NO</th>\n",
       "      <th></th>\n",
       "      <th></th>\n",
       "      <th></th>\n",
       "      <th></th>\n",
       "      <th></th>\n",
       "      <th></th>\n",
       "      <th></th>\n",
       "      <th></th>\n",
       "      <th></th>\n",
       "      <th></th>\n",
       "    </tr>\n",
       "  </thead>\n",
       "  <tbody>\n",
       "    <tr>\n",
       "      <th>5761</th>\n",
       "      <td>2020-04-06 00:00:00</td>\n",
       "      <td>7.83</td>\n",
       "      <td>6.19</td>\n",
       "      <td>19.1</td>\n",
       "      <td>23.8</td>\n",
       "      <td>1.95</td>\n",
       "      <td>3.92</td>\n",
       "      <td>2020-04-06 00:00:00</td>\n",
       "      <td>7.83</td>\n",
       "      <td>Monday</td>\n",
       "    </tr>\n",
       "    <tr>\n",
       "      <th>5762</th>\n",
       "      <td>2020-04-06 00:01:00</td>\n",
       "      <td>7.83</td>\n",
       "      <td>6.19</td>\n",
       "      <td>19.1</td>\n",
       "      <td>23.8</td>\n",
       "      <td>1.94</td>\n",
       "      <td>3.89</td>\n",
       "      <td>2020-04-06 00:01:00</td>\n",
       "      <td>7.83</td>\n",
       "      <td>Monday</td>\n",
       "    </tr>\n",
       "    <tr>\n",
       "      <th>5763</th>\n",
       "      <td>2020-04-06 00:02:00</td>\n",
       "      <td>8.12</td>\n",
       "      <td>6.19</td>\n",
       "      <td>19.1</td>\n",
       "      <td>23.9</td>\n",
       "      <td>1.92</td>\n",
       "      <td>3.92</td>\n",
       "      <td>2020-04-06 00:02:00</td>\n",
       "      <td>8.12</td>\n",
       "      <td>Monday</td>\n",
       "    </tr>\n",
       "    <tr>\n",
       "      <th>5764</th>\n",
       "      <td>2020-04-06 00:03:00</td>\n",
       "      <td>10.16</td>\n",
       "      <td>12.38</td>\n",
       "      <td>19.1</td>\n",
       "      <td>23.8</td>\n",
       "      <td>1.91</td>\n",
       "      <td>3.91</td>\n",
       "      <td>2020-04-06 00:03:00</td>\n",
       "      <td>10.16</td>\n",
       "      <td>Monday</td>\n",
       "    </tr>\n",
       "    <tr>\n",
       "      <th>5765</th>\n",
       "      <td>2020-04-06 00:04:00</td>\n",
       "      <td>11.90</td>\n",
       "      <td>12.38</td>\n",
       "      <td>19.1</td>\n",
       "      <td>23.9</td>\n",
       "      <td>1.93</td>\n",
       "      <td>3.95</td>\n",
       "      <td>2020-04-06 00:04:00</td>\n",
       "      <td>11.90</td>\n",
       "      <td>Monday</td>\n",
       "    </tr>\n",
       "  </tbody>\n",
       "</table>\n",
       "</div>"
      ],
      "text/plain": [
       "                REG_DATE   PM25  PM100  Temperature  Humidity  TVOC   CO2  \\\n",
       "NO                                                                          \n",
       "5761 2020-04-06 00:00:00   7.83   6.19         19.1      23.8  1.95  3.92   \n",
       "5762 2020-04-06 00:01:00   7.83   6.19         19.1      23.8  1.94  3.89   \n",
       "5763 2020-04-06 00:02:00   8.12   6.19         19.1      23.9  1.92  3.92   \n",
       "5764 2020-04-06 00:03:00  10.16  12.38         19.1      23.8  1.91  3.91   \n",
       "5765 2020-04-06 00:04:00  11.90  12.38         19.1      23.9  1.93  3.95   \n",
       "\n",
       "                      ds      y weekday  \n",
       "NO                                       \n",
       "5761 2020-04-06 00:00:00   7.83  Monday  \n",
       "5762 2020-04-06 00:01:00   7.83  Monday  \n",
       "5763 2020-04-06 00:02:00   8.12  Monday  \n",
       "5764 2020-04-06 00:03:00  10.16  Monday  \n",
       "5765 2020-04-06 00:04:00  11.90  Monday  "
      ]
     },
     "execution_count": 38,
     "metadata": {},
     "output_type": "execute_result"
    }
   ],
   "source": [
    "filtered = df_workday[~is_outlier(df_workday['PM25'])]\n",
    "\n",
    "filtered.head()"
   ]
  },
  {
   "cell_type": "code",
   "execution_count": 39,
   "metadata": {},
   "outputs": [
    {
     "data": {
      "image/png": "[encoded data removed]",
      "text/plain": [
       "<Figure size 432x288 with 2 Axes>"
      ]
     },
     "metadata": {
      "needs_background": "light"
     },
     "output_type": "display_data"
    }
   ],
   "source": [
    "buckets=30\n",
    "\n",
    "plt.figure()\n",
    "\n",
    "plt.subplot(211)\n",
    "plt.hist(df_workday['PM25'], buckets)\n",
    "plt.xlabel('Raw')\n",
    "\n",
    "plt.subplot(212)\n",
    "plt.hist(filtered['PM25'], buckets)\n",
    "plt.xlabel('Cleaned')\n",
    "\n",
    "plt.show()\n"
   ]
  },
  {
   "cell_type": "code",
   "execution_count": 40,
   "metadata": {},
   "outputs": [],
   "source": [
    "filtered1 = df_weekend[~is_outlier(df_weekend['PM25'])]"
   ]
  },
  {
   "cell_type": "code",
   "execution_count": 41,
   "metadata": {},
   "outputs": [
    {
     "data": {
      "image/png": "[encoded data removed]",
      "text/plain": [
       "<Figure size 432x288 with 2 Axes>"
      ]
     },
     "metadata": {
      "needs_background": "light"
     },
     "output_type": "display_data"
    }
   ],
   "source": [
    "buckets=30\n",
    "\n",
    "plt.figure()\n",
    "\n",
    "plt.subplot(211)\n",
    "plt.hist(df_weekend['PM25'], buckets)\n",
    "plt.xlabel('Raw')\n",
    "\n",
    "plt.subplot(212)\n",
    "plt.hist(filtered1['PM25'], buckets)\n",
    "plt.xlabel('Cleaned')\n",
    "\n",
    "plt.show()"
   ]
  },
  {
   "cell_type": "code",
   "execution_count": 42,
   "metadata": {},
   "outputs": [
    {
     "name": "stderr",
     "output_type": "stream",
     "text": [
      "C:\\Users\\yhkan\\anaconda3\\lib\\site-packages\\ipykernel_launcher.py:15: RuntimeWarning: invalid value encountered in greater\n",
      "  from ipykernel import kernelapp as app\n"
     ]
    }
   ],
   "source": [
    "filtered = df_weekend[~is_outlier(df_weekend['CO2'])]\n",
    "filtered1 = df_workday[~is_outlier(df_workday['CO2'])]"
   ]
  },
  {
   "cell_type": "code",
   "execution_count": 43,
   "metadata": {},
   "outputs": [
    {
     "data": {
      "image/png": "[encoded data removed]",
      "text/plain": [
       "<Figure size 432x288 with 2 Axes>"
      ]
     },
     "metadata": {
      "needs_background": "light"
     },
     "output_type": "display_data"
    }
   ],
   "source": [
    "buckets=30\n",
    "sensor_name = 'CO2'\n",
    "plt.figure()\n",
    "\n",
    "plt.subplot(211)\n",
    "plt.hist(df_weekend[sensor_name], buckets)\n",
    "plt.xlabel('Raw')\n",
    "\n",
    "plt.subplot(212)\n",
    "plt.hist(filtered[sensor_name], buckets)\n",
    "plt.xlabel('Cleaned')\n",
    "\n",
    "plt.show()"
   ]
  },
  {
   "cell_type": "code",
   "execution_count": 44,
   "metadata": {},
   "outputs": [
    {
     "name": "stderr",
     "output_type": "stream",
     "text": [
      "C:\\Users\\yhkan\\anaconda3\\lib\\site-packages\\numpy\\lib\\histograms.py:839: RuntimeWarning: invalid value encountered in greater_equal\n",
      "  keep = (tmp_a >= first_edge)\n",
      "C:\\Users\\yhkan\\anaconda3\\lib\\site-packages\\numpy\\lib\\histograms.py:840: RuntimeWarning: invalid value encountered in less_equal\n",
      "  keep &= (tmp_a <= last_edge)\n"
     ]
    },
    {
     "data": {
      "image/png": "[encoded data removed]",
      "text/plain": [
       "<Figure size 432x288 with 2 Axes>"
      ]
     },
     "metadata": {
      "needs_background": "light"
     },
     "output_type": "display_data"
    }
   ],
   "source": [
    "buckets=30\n",
    "sensor_name = 'CO2'\n",
    "plt.figure()\n",
    "\n",
    "plt.subplot(211)\n",
    "plt.hist(df_workday[sensor_name], buckets)\n",
    "plt.xlabel('Raw')\n",
    "\n",
    "plt.subplot(212)\n",
    "plt.hist(filtered1[sensor_name], buckets)\n",
    "plt.xlabel('Cleaned')\n",
    "\n",
    "plt.show()"
   ]
  },
  {
   "cell_type": "code",
   "execution_count": 45,
   "metadata": {},
   "outputs": [],
   "source": [
    "from pylab import *\n",
    "def moving_average(interval, window_size):\n",
    "    window = ones(int(window_size)) / float(window_size)\n",
    "    return convolve(interval, window, 'same')"
   ]
  },
  {
   "cell_type": "code",
   "execution_count": 46,
   "metadata": {},
   "outputs": [
    {
     "data": {
      "text/plain": [
       "[<matplotlib.lines.Line2D at 0x286af902dc8>]"
      ]
     },
     "execution_count": 46,
     "metadata": {},
     "output_type": "execute_result"
    },
    {
     "data": {
      "image/png": "[encoded data removed]",
      "text/plain": [
       "<Figure size 432x288 with 1 Axes>"
      ]
     },
     "metadata": {
      "needs_background": "light"
     },
     "output_type": "display_data"
    }
   ],
   "source": [
    "x  = list(range(len(df_workday['PM25'])))\n",
    "plt.plot(x, df_workday['PM25'])\n",
    " \n",
    "\n",
    "y_av = moving_average(df_workday['PM25'],10)\n",
    "plt.plot(x, y_av)"
   ]
  },
  {
   "cell_type": "code",
   "execution_count": 47,
   "metadata": {},
   "outputs": [
    {
     "data": {
      "text/plain": [
       "[<matplotlib.lines.Line2D at 0x286af88cd88>]"
      ]
     },
     "execution_count": 47,
     "metadata": {},
     "output_type": "execute_result"
    },
    {
     "data": {
      "image/png": "[encoded data removed]",
      "text/plain": [
       "<Figure size 432x288 with 1 Axes>"
      ]
     },
     "metadata": {
      "needs_background": "light"
     },
     "output_type": "display_data"
    }
   ],
   "source": [
    " \n",
    "x  = list(range(len(df_workday['CO2'])))\n",
    "plt.plot(x, df_workday['CO2'])\n",
    " \n",
    "\n",
    "y_av = moving_average(df_workday['CO2'],10)\n",
    "plt.plot(x, y_av)"
   ]
  },
  {
   "cell_type": "code",
   "execution_count": 48,
   "metadata": {},
   "outputs": [
    {
     "data": {
      "text/plain": [
       "[<matplotlib.lines.Line2D at 0x286ce3c82c8>]"
      ]
     },
     "execution_count": 48,
     "metadata": {},
     "output_type": "execute_result"
    },
    {
     "data": {
      "image/png": "[encoded data removed]",
      "text/plain": [
       "<Figure size 432x288 with 1 Axes>"
      ]
     },
     "metadata": {
      "needs_background": "light"
     },
     "output_type": "display_data"
    }
   ],
   "source": [
    "x  = list(range(len(df_weekend['CO2'])))\n",
    "plt.plot(x, df_weekend['CO2'], 'k.')\n",
    " \n",
    "\n",
    "y_av = moving_average(df_weekend['CO2'],10)\n",
    "plt.plot(x, y_av, 'r')"
   ]
  },
  {
   "cell_type": "markdown",
   "metadata": {},
   "source": [
    "!pip install fbprophet"
   ]
  },
  {
   "cell_type": "code",
   "execution_count": 49,
   "metadata": {},
   "outputs": [],
   "source": [
    "from fbprophet import Prophet "
   ]
  },
  {
   "cell_type": "code",
   "execution_count": 50,
   "metadata": {},
   "outputs": [
    {
     "data": {
      "text/html": [
       "<div>\n",
       "<style scoped>\n",
       "    .dataframe tbody tr th:only-of-type {\n",
       "        vertical-align: middle;\n",
       "    }\n",
       "\n",
       "    .dataframe tbody tr th {\n",
       "        vertical-align: top;\n",
       "    }\n",
       "\n",
       "    .dataframe thead th {\n",
       "        text-align: right;\n",
       "    }\n",
       "</style>\n",
       "<table border=\"1\" class=\"dataframe\">\n",
       "  <thead>\n",
       "    <tr style=\"text-align: right;\">\n",
       "      <th></th>\n",
       "      <th>ds</th>\n",
       "      <th>y</th>\n",
       "    </tr>\n",
       "  </thead>\n",
       "  <tbody>\n",
       "    <tr>\n",
       "      <th>2900</th>\n",
       "      <td>2016-01-16</td>\n",
       "      <td>7.817223</td>\n",
       "    </tr>\n",
       "    <tr>\n",
       "      <th>2901</th>\n",
       "      <td>2016-01-17</td>\n",
       "      <td>9.273878</td>\n",
       "    </tr>\n",
       "    <tr>\n",
       "      <th>2902</th>\n",
       "      <td>2016-01-18</td>\n",
       "      <td>10.333775</td>\n",
       "    </tr>\n",
       "    <tr>\n",
       "      <th>2903</th>\n",
       "      <td>2016-01-19</td>\n",
       "      <td>9.125871</td>\n",
       "    </tr>\n",
       "    <tr>\n",
       "      <th>2904</th>\n",
       "      <td>2016-01-20</td>\n",
       "      <td>8.891374</td>\n",
       "    </tr>\n",
       "  </tbody>\n",
       "</table>\n",
       "</div>"
      ],
      "text/plain": [
       "              ds          y\n",
       "2900  2016-01-16   7.817223\n",
       "2901  2016-01-17   9.273878\n",
       "2902  2016-01-18  10.333775\n",
       "2903  2016-01-19   9.125871\n",
       "2904  2016-01-20   8.891374"
      ]
     },
     "execution_count": 50,
     "metadata": {},
     "output_type": "execute_result"
    }
   ],
   "source": [
    "import pandas as pd\n",
    "\n",
    "url = \"https://raw.githubusercontent.com/facebook/prophet/master/examples/example_wp_log_peyton_manning.csv\"\n",
    "df = pd.read_csv(url)\n",
    "df.tail()"
   ]
  },
  {
   "cell_type": "code",
   "execution_count": 51,
   "metadata": {},
   "outputs": [],
   "source": [
    "import logging\n",
    "logging.getLogger('fbprophet').setLevel(logging.WARNING)"
   ]
  },
  {
   "cell_type": "code",
   "execution_count": 52,
   "metadata": {},
   "outputs": [
    {
     "data": {
      "text/plain": [
       "<fbprophet.forecaster.Prophet at 0x286ce41d108>"
      ]
     },
     "execution_count": 52,
     "metadata": {},
     "output_type": "execute_result"
    }
   ],
   "source": [
    "m = Prophet()\n",
    "m.fit(df)"
   ]
  },
  {
   "cell_type": "code",
   "execution_count": 53,
   "metadata": {},
   "outputs": [
    {
     "data": {
      "text/html": [
       "<div>\n",
       "<style scoped>\n",
       "    .dataframe tbody tr th:only-of-type {\n",
       "        vertical-align: middle;\n",
       "    }\n",
       "\n",
       "    .dataframe tbody tr th {\n",
       "        vertical-align: top;\n",
       "    }\n",
       "\n",
       "    .dataframe thead th {\n",
       "        text-align: right;\n",
       "    }\n",
       "</style>\n",
       "<table border=\"1\" class=\"dataframe\">\n",
       "  <thead>\n",
       "    <tr style=\"text-align: right;\">\n",
       "      <th></th>\n",
       "      <th>ds</th>\n",
       "    </tr>\n",
       "  </thead>\n",
       "  <tbody>\n",
       "    <tr>\n",
       "      <th>3265</th>\n",
       "      <td>2017-01-15</td>\n",
       "    </tr>\n",
       "    <tr>\n",
       "      <th>3266</th>\n",
       "      <td>2017-01-16</td>\n",
       "    </tr>\n",
       "    <tr>\n",
       "      <th>3267</th>\n",
       "      <td>2017-01-17</td>\n",
       "    </tr>\n",
       "    <tr>\n",
       "      <th>3268</th>\n",
       "      <td>2017-01-18</td>\n",
       "    </tr>\n",
       "    <tr>\n",
       "      <th>3269</th>\n",
       "      <td>2017-01-19</td>\n",
       "    </tr>\n",
       "  </tbody>\n",
       "</table>\n",
       "</div>"
      ],
      "text/plain": [
       "             ds\n",
       "3265 2017-01-15\n",
       "3266 2017-01-16\n",
       "3267 2017-01-17\n",
       "3268 2017-01-18\n",
       "3269 2017-01-19"
      ]
     },
     "execution_count": 53,
     "metadata": {},
     "output_type": "execute_result"
    }
   ],
   "source": [
    "future = m.make_future_dataframe(periods=365)\n",
    "future.tail()"
   ]
  },
  {
   "cell_type": "code",
   "execution_count": 54,
   "metadata": {},
   "outputs": [
    {
     "data": {
      "text/html": [
       "<div>\n",
       "<style scoped>\n",
       "    .dataframe tbody tr th:only-of-type {\n",
       "        vertical-align: middle;\n",
       "    }\n",
       "\n",
       "    .dataframe tbody tr th {\n",
       "        vertical-align: top;\n",
       "    }\n",
       "\n",
       "    .dataframe thead th {\n",
       "        text-align: right;\n",
       "    }\n",
       "</style>\n",
       "<table border=\"1\" class=\"dataframe\">\n",
       "  <thead>\n",
       "    <tr style=\"text-align: right;\">\n",
       "      <th></th>\n",
       "      <th>ds</th>\n",
       "      <th>trend</th>\n",
       "      <th>yhat_lower</th>\n",
       "      <th>yhat_upper</th>\n",
       "      <th>trend_lower</th>\n",
       "      <th>trend_upper</th>\n",
       "      <th>additive_terms</th>\n",
       "      <th>additive_terms_lower</th>\n",
       "      <th>additive_terms_upper</th>\n",
       "      <th>weekly</th>\n",
       "      <th>weekly_lower</th>\n",
       "      <th>weekly_upper</th>\n",
       "      <th>yearly</th>\n",
       "      <th>yearly_lower</th>\n",
       "      <th>yearly_upper</th>\n",
       "      <th>multiplicative_terms</th>\n",
       "      <th>multiplicative_terms_lower</th>\n",
       "      <th>multiplicative_terms_upper</th>\n",
       "      <th>yhat</th>\n",
       "    </tr>\n",
       "  </thead>\n",
       "  <tbody>\n",
       "    <tr>\n",
       "      <th>3265</th>\n",
       "      <td>2017-01-15</td>\n",
       "      <td>7.190587</td>\n",
       "      <td>7.513267</td>\n",
       "      <td>8.928310</td>\n",
       "      <td>6.841600</td>\n",
       "      <td>7.535413</td>\n",
       "      <td>1.018043</td>\n",
       "      <td>1.018043</td>\n",
       "      <td>1.018043</td>\n",
       "      <td>0.048285</td>\n",
       "      <td>0.048285</td>\n",
       "      <td>0.048285</td>\n",
       "      <td>0.969757</td>\n",
       "      <td>0.969757</td>\n",
       "      <td>0.969757</td>\n",
       "      <td>0.0</td>\n",
       "      <td>0.0</td>\n",
       "      <td>0.0</td>\n",
       "      <td>8.208630</td>\n",
       "    </tr>\n",
       "    <tr>\n",
       "      <th>3266</th>\n",
       "      <td>2017-01-16</td>\n",
       "      <td>7.189564</td>\n",
       "      <td>7.769021</td>\n",
       "      <td>9.223521</td>\n",
       "      <td>6.841239</td>\n",
       "      <td>7.536163</td>\n",
       "      <td>1.344084</td>\n",
       "      <td>1.344084</td>\n",
       "      <td>1.344084</td>\n",
       "      <td>0.352288</td>\n",
       "      <td>0.352288</td>\n",
       "      <td>0.352288</td>\n",
       "      <td>0.991796</td>\n",
       "      <td>0.991796</td>\n",
       "      <td>0.991796</td>\n",
       "      <td>0.0</td>\n",
       "      <td>0.0</td>\n",
       "      <td>0.0</td>\n",
       "      <td>8.533648</td>\n",
       "    </tr>\n",
       "    <tr>\n",
       "      <th>3267</th>\n",
       "      <td>2017-01-17</td>\n",
       "      <td>7.188540</td>\n",
       "      <td>7.626192</td>\n",
       "      <td>9.050530</td>\n",
       "      <td>6.840902</td>\n",
       "      <td>7.536372</td>\n",
       "      <td>1.132525</td>\n",
       "      <td>1.132525</td>\n",
       "      <td>1.132525</td>\n",
       "      <td>0.119634</td>\n",
       "      <td>0.119634</td>\n",
       "      <td>0.119634</td>\n",
       "      <td>1.012891</td>\n",
       "      <td>1.012891</td>\n",
       "      <td>1.012891</td>\n",
       "      <td>0.0</td>\n",
       "      <td>0.0</td>\n",
       "      <td>0.0</td>\n",
       "      <td>8.321065</td>\n",
       "    </tr>\n",
       "    <tr>\n",
       "      <th>3268</th>\n",
       "      <td>2017-01-18</td>\n",
       "      <td>7.187516</td>\n",
       "      <td>7.492070</td>\n",
       "      <td>8.847060</td>\n",
       "      <td>6.838673</td>\n",
       "      <td>7.535989</td>\n",
       "      <td>0.966176</td>\n",
       "      <td>0.966176</td>\n",
       "      <td>0.966176</td>\n",
       "      <td>-0.066664</td>\n",
       "      <td>-0.066664</td>\n",
       "      <td>-0.066664</td>\n",
       "      <td>1.032840</td>\n",
       "      <td>1.032840</td>\n",
       "      <td>1.032840</td>\n",
       "      <td>0.0</td>\n",
       "      <td>0.0</td>\n",
       "      <td>0.0</td>\n",
       "      <td>8.153693</td>\n",
       "    </tr>\n",
       "    <tr>\n",
       "      <th>3269</th>\n",
       "      <td>2017-01-19</td>\n",
       "      <td>7.186493</td>\n",
       "      <td>7.476408</td>\n",
       "      <td>8.865449</td>\n",
       "      <td>6.836444</td>\n",
       "      <td>7.535699</td>\n",
       "      <td>0.979138</td>\n",
       "      <td>0.979138</td>\n",
       "      <td>0.979138</td>\n",
       "      <td>-0.072261</td>\n",
       "      <td>-0.072261</td>\n",
       "      <td>-0.072261</td>\n",
       "      <td>1.051398</td>\n",
       "      <td>1.051398</td>\n",
       "      <td>1.051398</td>\n",
       "      <td>0.0</td>\n",
       "      <td>0.0</td>\n",
       "      <td>0.0</td>\n",
       "      <td>8.165630</td>\n",
       "    </tr>\n",
       "  </tbody>\n",
       "</table>\n",
       "</div>"
      ],
      "text/plain": [
       "             ds     trend  yhat_lower  yhat_upper  trend_lower  trend_upper  \\\n",
       "3265 2017-01-15  7.190587    7.513267    8.928310     6.841600     7.535413   \n",
       "3266 2017-01-16  7.189564    7.769021    9.223521     6.841239     7.536163   \n",
       "3267 2017-01-17  7.188540    7.626192    9.050530     6.840902     7.536372   \n",
       "3268 2017-01-18  7.187516    7.492070    8.847060     6.838673     7.535989   \n",
       "3269 2017-01-19  7.186493    7.476408    8.865449     6.836444     7.535699   \n",
       "\n",
       "      additive_terms  additive_terms_lower  additive_terms_upper    weekly  \\\n",
       "3265        1.018043              1.018043              1.018043  0.048285   \n",
       "3266        1.344084              1.344084              1.344084  0.352288   \n",
       "3267        1.132525              1.132525              1.132525  0.119634   \n",
       "3268        0.966176              0.966176              0.966176 -0.066664   \n",
       "3269        0.979138              0.979138              0.979138 -0.072261   \n",
       "\n",
       "      weekly_lower  weekly_upper    yearly  yearly_lower  yearly_upper  \\\n",
       "3265      0.048285      0.048285  0.969757      0.969757      0.969757   \n",
       "3266      0.352288      0.352288  0.991796      0.991796      0.991796   \n",
       "3267      0.119634      0.119634  1.012891      1.012891      1.012891   \n",
       "3268     -0.066664     -0.066664  1.032840      1.032840      1.032840   \n",
       "3269     -0.072261     -0.072261  1.051398      1.051398      1.051398   \n",
       "\n",
       "      multiplicative_terms  multiplicative_terms_lower  \\\n",
       "3265                   0.0                         0.0   \n",
       "3266                   0.0                         0.0   \n",
       "3267                   0.0                         0.0   \n",
       "3268                   0.0                         0.0   \n",
       "3269                   0.0                         0.0   \n",
       "\n",
       "      multiplicative_terms_upper      yhat  \n",
       "3265                         0.0  8.208630  \n",
       "3266                         0.0  8.533648  \n",
       "3267                         0.0  8.321065  \n",
       "3268                         0.0  8.153693  \n",
       "3269                         0.0  8.165630  "
      ]
     },
     "execution_count": 54,
     "metadata": {},
     "output_type": "execute_result"
    }
   ],
   "source": [
    "forecast = m.predict(future)\n",
    "forecast.tail()"
   ]
  },
  {
   "cell_type": "code",
   "execution_count": 55,
   "metadata": {},
   "outputs": [
    {
     "data": {
      "text/plain": [
       "<matplotlib.axes._subplots.AxesSubplot at 0x286ce4a6808>"
      ]
     },
     "execution_count": 55,
     "metadata": {},
     "output_type": "execute_result"
    },
    {
     "data": {
      "image/png": "[encoded data removed]",
      "text/plain": [
       "<Figure size 432x288 with 1 Axes>"
      ]
     },
     "metadata": {
      "needs_background": "light"
     },
     "output_type": "display_data"
    }
   ],
   "source": [
    "forecast.iloc[-365:, :].yhat.plot()"
   ]
  },
  {
   "cell_type": "code",
   "execution_count": 56,
   "metadata": {},
   "outputs": [
    {
     "data": {
      "image/png": "[encoded data removed]",
      "text/plain": [
       "<Figure size 720x432 with 1 Axes>"
      ]
     },
     "metadata": {},
     "output_type": "display_data"
    }
   ],
   "source": [
    "import matplotlib.pyplot as plt\n",
    "fig1 = m.plot(forecast, uncertainty=False)\n",
    "plt.show()"
   ]
  },
  {
   "cell_type": "code",
   "execution_count": 57,
   "metadata": {},
   "outputs": [
    {
     "data": {
      "image/png": "[encoded data removed]",
      "text/plain": [
       "<Figure size 648x648 with 3 Axes>"
      ]
     },
     "metadata": {},
     "output_type": "display_data"
    }
   ],
   "source": [
    "fig2 = m.plot_components(forecast)\n",
    "plt.show()"
   ]
  }
 ],
 "metadata": {
  "kernelspec": {
   "display_name": "Python 3",
   "language": "python",
   "name": "python3"
  },
  "language_info": {
   "codemirror_mode": {
    "name": "ipython",
    "version": 3
   },
   "file_extension": ".py",
   "mimetype": "text/x-python",
   "name": "python",
   "nbconvert_exporter": "python",
   "pygments_lexer": "ipython3",
   "version": "3.7.6"
  }
 },
 "nbformat": 4,
 "nbformat_minor": 2
}
