{
 "cells": [
  {
   "cell_type": "markdown",
   "metadata": {},
   "source": [
    "## Pandas 특징 \n",
    "\n",
    "• 구조화된 데이터에 적합\n",
    "\n",
    "• 이형의 컬럼을 갖는 테이블 자료 처리 \n",
    "\n",
    "• 시계열 형식의 자료 처리에 적합\n",
    "\n",
    "• 통계적 데이터 처리 기능을 제공 \n",
    "\n",
    "\n",
    "\n",
    "## Pandas를 사용한 데이터분석\n",
    "\n",
    "\n",
    "\n",
    "•\tReading Data From CSV, CSV에서 자료 읽기\n",
    "\n",
    "•\tUnderstanding the characteristics of  Data Frames, 데이터 프레임의 주요 특징을 이해한다\n",
    "\n",
    "•\tFormatting, cleaning and filtering Data Frames, 데이터 프레임 포멧팅, 정재(cleaning) 및 필터링 \n",
    "\n",
    "•\tGroup-by and Merge, 자료의 그룹핑 및 자료 통합\n",
    "\n",
    "•\tPlotting, 주요자료에 대한 플롯팅 \n",
    "\n",
    "\n",
    "\n",
    "[참고자료] \n",
    "\n",
    "https://towardsdatascience.com/a-practical-guide-for-exploratory-data-analysis-movies-on-streaming-platforms-5ea494fee9d2\n",
    "\n",
    "https://www.kaggle.com/ruchi798/movies-on-netflix-prime-video-hulu-and-disney"
   ]
  },
  {
   "cell_type": "code",
   "execution_count": 1,
   "metadata": {},
   "outputs": [],
   "source": [
    "import pandas as pd\n",
    "import numpy as np"
   ]
  },
  {
   "cell_type": "code",
   "execution_count": 2,
   "metadata": {},
   "outputs": [],
   "source": [
    "df = pd.read_csv(\"669193_1178490_compressed_MoviesOnStreamingPlatforms_updated.csv.zip\")"
   ]
  },
  {
   "cell_type": "code",
   "execution_count": 3,
   "metadata": {},
   "outputs": [
    {
     "data": {
      "text/plain": [
       "Index(['Unnamed: 0', 'ID', 'Title', 'Year', 'Age', 'IMDb', 'Rotten Tomatoes',\n",
       "       'Netflix', 'Hulu', 'Prime Video', 'Disney+', 'Type', 'Directors',\n",
       "       'Genres', 'Country', 'Language', 'Runtime'],\n",
       "      dtype='object')"
      ]
     },
     "execution_count": 3,
     "metadata": {},
     "output_type": "execute_result"
    }
   ],
   "source": [
    "df.columns"
   ]
  },
  {
   "cell_type": "markdown",
   "metadata": {},
   "source": [
    "“Unnamed: 0” 와 “ID” 컬럼은 중복으로 해상 컬럼은 데이터프레임에서 제외시킴 "
   ]
  },
  {
   "cell_type": "code",
   "execution_count": 4,
   "metadata": {},
   "outputs": [],
   "source": [
    "df.drop([\"Unnamed: 0\", \"ID\", \"Type\"], axis=1, inplace=True)"
   ]
  },
  {
   "cell_type": "code",
   "execution_count": 5,
   "metadata": {},
   "outputs": [
    {
     "data": {
      "text/html": [
       "<div>\n",
       "<style scoped>\n",
       "    .dataframe tbody tr th:only-of-type {\n",
       "        vertical-align: middle;\n",
       "    }\n",
       "\n",
       "    .dataframe tbody tr th {\n",
       "        vertical-align: top;\n",
       "    }\n",
       "\n",
       "    .dataframe thead th {\n",
       "        text-align: right;\n",
       "    }\n",
       "</style>\n",
       "<table border=\"1\" class=\"dataframe\">\n",
       "  <thead>\n",
       "    <tr style=\"text-align: right;\">\n",
       "      <th></th>\n",
       "      <th>Title</th>\n",
       "      <th>Year</th>\n",
       "      <th>Age</th>\n",
       "      <th>IMDb</th>\n",
       "      <th>Rotten Tomatoes</th>\n",
       "      <th>Netflix</th>\n",
       "      <th>Hulu</th>\n",
       "      <th>Prime Video</th>\n",
       "      <th>Disney+</th>\n",
       "      <th>Directors</th>\n",
       "      <th>Genres</th>\n",
       "      <th>Country</th>\n",
       "      <th>Language</th>\n",
       "      <th>Runtime</th>\n",
       "    </tr>\n",
       "  </thead>\n",
       "  <tbody>\n",
       "    <tr>\n",
       "      <th>0</th>\n",
       "      <td>Inception</td>\n",
       "      <td>2010</td>\n",
       "      <td>13+</td>\n",
       "      <td>8.8</td>\n",
       "      <td>87%</td>\n",
       "      <td>1</td>\n",
       "      <td>0</td>\n",
       "      <td>0</td>\n",
       "      <td>0</td>\n",
       "      <td>Christopher Nolan</td>\n",
       "      <td>Action,Adventure,Sci-Fi,Thriller</td>\n",
       "      <td>United States,United Kingdom</td>\n",
       "      <td>English,Japanese,French</td>\n",
       "      <td>148.0</td>\n",
       "    </tr>\n",
       "    <tr>\n",
       "      <th>1</th>\n",
       "      <td>The Matrix</td>\n",
       "      <td>1999</td>\n",
       "      <td>18+</td>\n",
       "      <td>8.7</td>\n",
       "      <td>87%</td>\n",
       "      <td>1</td>\n",
       "      <td>0</td>\n",
       "      <td>0</td>\n",
       "      <td>0</td>\n",
       "      <td>Lana Wachowski,Lilly Wachowski</td>\n",
       "      <td>Action,Sci-Fi</td>\n",
       "      <td>United States</td>\n",
       "      <td>English</td>\n",
       "      <td>136.0</td>\n",
       "    </tr>\n",
       "    <tr>\n",
       "      <th>2</th>\n",
       "      <td>Avengers: Infinity War</td>\n",
       "      <td>2018</td>\n",
       "      <td>13+</td>\n",
       "      <td>8.5</td>\n",
       "      <td>84%</td>\n",
       "      <td>1</td>\n",
       "      <td>0</td>\n",
       "      <td>0</td>\n",
       "      <td>0</td>\n",
       "      <td>Anthony Russo,Joe Russo</td>\n",
       "      <td>Action,Adventure,Sci-Fi</td>\n",
       "      <td>United States</td>\n",
       "      <td>English</td>\n",
       "      <td>149.0</td>\n",
       "    </tr>\n",
       "    <tr>\n",
       "      <th>3</th>\n",
       "      <td>Back to the Future</td>\n",
       "      <td>1985</td>\n",
       "      <td>7+</td>\n",
       "      <td>8.5</td>\n",
       "      <td>96%</td>\n",
       "      <td>1</td>\n",
       "      <td>0</td>\n",
       "      <td>0</td>\n",
       "      <td>0</td>\n",
       "      <td>Robert Zemeckis</td>\n",
       "      <td>Adventure,Comedy,Sci-Fi</td>\n",
       "      <td>United States</td>\n",
       "      <td>English</td>\n",
       "      <td>116.0</td>\n",
       "    </tr>\n",
       "    <tr>\n",
       "      <th>4</th>\n",
       "      <td>The Good, the Bad and the Ugly</td>\n",
       "      <td>1966</td>\n",
       "      <td>18+</td>\n",
       "      <td>8.8</td>\n",
       "      <td>97%</td>\n",
       "      <td>1</td>\n",
       "      <td>0</td>\n",
       "      <td>1</td>\n",
       "      <td>0</td>\n",
       "      <td>Sergio Leone</td>\n",
       "      <td>Western</td>\n",
       "      <td>Italy,Spain,West Germany</td>\n",
       "      <td>Italian</td>\n",
       "      <td>161.0</td>\n",
       "    </tr>\n",
       "  </tbody>\n",
       "</table>\n",
       "</div>"
      ],
      "text/plain": [
       "                            Title  Year  Age  IMDb Rotten Tomatoes  Netflix  \\\n",
       "0                       Inception  2010  13+   8.8             87%        1   \n",
       "1                      The Matrix  1999  18+   8.7             87%        1   \n",
       "2          Avengers: Infinity War  2018  13+   8.5             84%        1   \n",
       "3              Back to the Future  1985   7+   8.5             96%        1   \n",
       "4  The Good, the Bad and the Ugly  1966  18+   8.8             97%        1   \n",
       "\n",
       "   Hulu  Prime Video  Disney+                       Directors  \\\n",
       "0     0            0        0               Christopher Nolan   \n",
       "1     0            0        0  Lana Wachowski,Lilly Wachowski   \n",
       "2     0            0        0         Anthony Russo,Joe Russo   \n",
       "3     0            0        0                 Robert Zemeckis   \n",
       "4     0            1        0                    Sergio Leone   \n",
       "\n",
       "                             Genres                       Country  \\\n",
       "0  Action,Adventure,Sci-Fi,Thriller  United States,United Kingdom   \n",
       "1                     Action,Sci-Fi                 United States   \n",
       "2           Action,Adventure,Sci-Fi                 United States   \n",
       "3           Adventure,Comedy,Sci-Fi                 United States   \n",
       "4                           Western      Italy,Spain,West Germany   \n",
       "\n",
       "                  Language  Runtime  \n",
       "0  English,Japanese,French    148.0  \n",
       "1                  English    136.0  \n",
       "2                  English    149.0  \n",
       "3                  English    116.0  \n",
       "4                  Italian    161.0  "
      ]
     },
     "execution_count": 5,
     "metadata": {},
     "output_type": "execute_result"
    }
   ],
   "source": [
    "df.head()"
   ]
  },
  {
   "cell_type": "markdown",
   "metadata": {},
   "source": [
    "데이테의 전체 자료 이해하기 : 16k 행 and 14 열, NA 값 정보 얻기"
   ]
  },
  {
   "cell_type": "code",
   "execution_count": 6,
   "metadata": {},
   "outputs": [
    {
     "data": {
      "text/plain": [
       "(16744, 14)"
      ]
     },
     "execution_count": 6,
     "metadata": {},
     "output_type": "execute_result"
    }
   ],
   "source": [
    "df.shape"
   ]
  },
  {
   "cell_type": "code",
   "execution_count": 7,
   "metadata": {},
   "outputs": [
    {
     "data": {
      "text/plain": [
       "Title                  0\n",
       "Year                   0\n",
       "Age                 9390\n",
       "IMDb                 571\n",
       "Rotten Tomatoes    11586\n",
       "Netflix                0\n",
       "Hulu                   0\n",
       "Prime Video            0\n",
       "Disney+                0\n",
       "Directors            726\n",
       "Genres               275\n",
       "Country              435\n",
       "Language             599\n",
       "Runtime              592\n",
       "dtype: int64"
      ]
     },
     "execution_count": 7,
     "metadata": {},
     "output_type": "execute_result"
    }
   ],
   "source": [
    "df.isna().sum()"
   ]
  },
  {
   "cell_type": "markdown",
   "metadata": {},
   "source": [
    "전체 자료의  9% 의 행이 제거됨, 결측자료가 없음"
   ]
  },
  {
   "cell_type": "code",
   "execution_count": 8,
   "metadata": {},
   "outputs": [
    {
     "data": {
      "text/plain": [
       "Title          0\n",
       "Year           0\n",
       "IMDb           0\n",
       "Netflix        0\n",
       "Hulu           0\n",
       "Prime Video    0\n",
       "Disney+        0\n",
       "Directors      0\n",
       "Genres         0\n",
       "Country        0\n",
       "Language       0\n",
       "Runtime        0\n",
       "dtype: int64"
      ]
     },
     "execution_count": 8,
     "metadata": {},
     "output_type": "execute_result"
    }
   ],
   "source": [
    "# 열\n",
    "df.drop(['Age', 'Rotten Tomatoes'], axis=1, inplace=True)\n",
    "#행 \n",
    "df.dropna(axis=0, how='any', inplace=True)\n",
    "df.isna().sum().sum()"
   ]
  },
  {
   "cell_type": "markdown",
   "metadata": {},
   "source": [
    "장르 컬럼으로 그룹핑함"
   ]
  },
  {
   "cell_type": "code",
   "execution_count": 9,
   "metadata": {},
   "outputs": [
    {
     "data": {
      "text/plain": [
       "Genres\n",
       "Action                                                                 137\n",
       "Action,Adventure                                                        46\n",
       "Action,Adventure,Biography                                               3\n",
       "Action,Adventure,Biography,Drama,History                                 3\n",
       "Action,Adventure,Biography,Drama,Romance                                 1\n",
       "Action,Adventure,Comedy                                                 19\n",
       "Action,Adventure,Comedy,Crime                                            9\n",
       "Action,Adventure,Comedy,Crime,Drama,Romance                              1\n",
       "Action,Adventure,Comedy,Crime,Drama,Thriller                             2\n",
       "Action,Adventure,Comedy,Crime,Family                                     2\n",
       "Action,Adventure,Comedy,Crime,Family,Mystery                             2\n",
       "Action,Adventure,Comedy,Crime,Family,Mystery,Sci-Fi                      1\n",
       "Action,Adventure,Comedy,Crime,Family,Romance,Sport                       1\n",
       "Action,Adventure,Comedy,Crime,Horror,Sci-Fi,Thriller                     1\n",
       "Action,Adventure,Comedy,Crime,Mystery,Romance                            1\n",
       "Action,Adventure,Comedy,Crime,Romance,Western                            1\n",
       "Action,Adventure,Comedy,Crime,Thriller                                   1\n",
       "Action,Adventure,Comedy,Drama                                            5\n",
       "Action,Adventure,Comedy,Drama,Family                                     1\n",
       "Action,Adventure,Comedy,Drama,Family,Fantasy                             1\n",
       "Action,Adventure,Comedy,Drama,Family,Fantasy,Horror,Sci-Fi,Thriller      1\n",
       "Action,Adventure,Comedy,Drama,Family,War                                 1\n",
       "Action,Adventure,Comedy,Drama,Music,Western                              2\n",
       "Action,Adventure,Comedy,Drama,Musical,Thriller,Western                   2\n",
       "Action,Adventure,Comedy,Drama,Romance                                    3\n",
       "Action,Adventure,Comedy,Drama,Romance,War                                1\n",
       "Action,Adventure,Comedy,Drama,Sci-Fi                                     1\n",
       "Action,Adventure,Comedy,Drama,War                                        2\n",
       "Action,Adventure,Comedy,Drama,Western                                    2\n",
       "Action,Adventure,Comedy,Family,Fantasy                                   3\n",
       "                                                                      ... \n",
       "Short,Horror,Sci-Fi,Thriller                                             2\n",
       "Short,Horror,Sci-Fi,War                                                  1\n",
       "Short,Horror,Thriller                                                    1\n",
       "Short,Music                                                              1\n",
       "Short,Music,Romance                                                      1\n",
       "Short,Mystery,Sci-Fi                                                     1\n",
       "Short,Mystery,Thriller                                                   1\n",
       "Short,Romance                                                            1\n",
       "Short,Sci-Fi                                                             1\n",
       "Short,Thriller                                                           1\n",
       "Short,War                                                                1\n",
       "Sport                                                                    9\n",
       "Sport,Thriller                                                           1\n",
       "Thriller                                                               182\n",
       "Thriller,Action,Adventure,Drama,Horror                                   1\n",
       "Thriller,Crime                                                           1\n",
       "Thriller,Crime,Drama                                                     1\n",
       "Thriller,Drama                                                           5\n",
       "Thriller,Drama,Romance                                                   1\n",
       "Thriller,Horror                                                          3\n",
       "Thriller,Mystery                                                         2\n",
       "Thriller,War                                                             4\n",
       "War                                                                      5\n",
       "War,Documentary                                                          1\n",
       "War,Drama                                                                2\n",
       "Western                                                                110\n",
       "Western,Comedy                                                           2\n",
       "Western,Horror                                                           1\n",
       "Western,Mystery                                                          1\n",
       "Western,War                                                              1\n",
       "Name: Title, Length: 1824, dtype: int64"
      ]
     },
     "execution_count": 9,
     "metadata": {},
     "output_type": "execute_result"
    }
   ],
   "source": [
    "group_by_genres = df.groupby(by=['Genres'])\n",
    "genres_count = group_by_genres.count()\n",
    "genres_count_series = genres_count.iloc[:,0]\n",
    "genres_count_series"
   ]
  },
  {
   "cell_type": "code",
   "execution_count": 10,
   "metadata": {},
   "outputs": [
    {
     "data": {
      "text/plain": [
       "(1824,)"
      ]
     },
     "execution_count": 10,
     "metadata": {},
     "output_type": "execute_result"
    }
   ],
   "source": [
    "genres_count_series.shape"
   ]
  },
  {
   "cell_type": "markdown",
   "metadata": {},
   "source": [
    "주요장르에 대해 결과를 플롯팅함"
   ]
  },
  {
   "cell_type": "code",
   "execution_count": 11,
   "metadata": {},
   "outputs": [
    {
     "data": {
      "text/plain": [
       "Genres\n",
       "Drama                   1225\n",
       "Documentary             1034\n",
       "Comedy                   905\n",
       "Comedy,Drama             428\n",
       "Horror                   420\n",
       "Drama,Romance            381\n",
       "Comedy,Drama,Romance     322\n",
       "Horror,Thriller          292\n",
       "Name: Title, dtype: int64"
      ]
     },
     "execution_count": 11,
     "metadata": {},
     "output_type": "execute_result"
    }
   ],
   "source": [
    "genres_sort = genres_count_series.sort_values(ascending=False).head(8)\n",
    "genres_sort"
   ]
  },
  {
   "cell_type": "code",
   "execution_count": 33,
   "metadata": {},
   "outputs": [
    {
     "data": {
      "image/png": "[encoded data removed]",
      "text/plain": [
       "<Figure size 1440x360 with 1 Axes>"
      ]
     },
     "metadata": {
      "needs_background": "light"
     },
     "output_type": "display_data"
    }
   ],
   "source": [
    "from matplotlib import pyplot as plt\n",
    "    \n",
    "plt.figure(figsize=(20,5))\n",
    "plt.bar(genres_sort.index, genres_sort)\n",
    "plt.title('The number of Generes')\n",
    "plt.show()"
   ]
  },
  {
   "cell_type": "markdown",
   "metadata": {},
   "source": [
    "10대 최상위 장르"
   ]
  },
  {
   "cell_type": "code",
   "execution_count": 13,
   "metadata": {},
   "outputs": [],
   "source": [
    "most_genres = df.groupby('Genres').size().sort_values(ascending=False)[:10]"
   ]
  },
  {
   "cell_type": "code",
   "execution_count": 14,
   "metadata": {},
   "outputs": [
    {
     "data": {
      "text/plain": [
       "Genres\n",
       "Drama                   1225\n",
       "Documentary             1034\n",
       "Comedy                   905\n",
       "Comedy,Drama             428\n",
       "Horror                   420\n",
       "Drama,Romance            381\n",
       "Comedy,Drama,Romance     322\n",
       "Horror,Thriller          292\n",
       "Comedy,Romance           277\n",
       "Drama,Thriller           213\n",
       "dtype: int64"
      ]
     },
     "execution_count": 14,
     "metadata": {},
     "output_type": "execute_result"
    }
   ],
   "source": [
    "most_genres.head(10)"
   ]
  },
  {
   "cell_type": "markdown",
   "metadata": {},
   "source": [
    "연도별 영화 출시"
   ]
  },
  {
   "cell_type": "code",
   "execution_count": 35,
   "metadata": {},
   "outputs": [
    {
     "data": {
      "text/html": [
       "<div>\n",
       "<style scoped>\n",
       "    .dataframe tbody tr th:only-of-type {\n",
       "        vertical-align: middle;\n",
       "    }\n",
       "\n",
       "    .dataframe tbody tr th {\n",
       "        vertical-align: top;\n",
       "    }\n",
       "\n",
       "    .dataframe thead tr th {\n",
       "        text-align: left;\n",
       "    }\n",
       "\n",
       "    .dataframe thead tr:last-of-type th {\n",
       "        text-align: right;\n",
       "    }\n",
       "</style>\n",
       "<table border=\"1\" class=\"dataframe\">\n",
       "  <thead>\n",
       "    <tr>\n",
       "      <th></th>\n",
       "      <th>Year</th>\n",
       "    </tr>\n",
       "    <tr>\n",
       "      <th></th>\n",
       "      <th>size</th>\n",
       "    </tr>\n",
       "    <tr>\n",
       "      <th>Year</th>\n",
       "      <th></th>\n",
       "    </tr>\n",
       "  </thead>\n",
       "  <tbody>\n",
       "    <tr>\n",
       "      <th>2016</th>\n",
       "      <td>1059</td>\n",
       "    </tr>\n",
       "    <tr>\n",
       "      <th>2017</th>\n",
       "      <td>1244</td>\n",
       "    </tr>\n",
       "    <tr>\n",
       "      <th>2018</th>\n",
       "      <td>1055</td>\n",
       "    </tr>\n",
       "    <tr>\n",
       "      <th>2019</th>\n",
       "      <td>592</td>\n",
       "    </tr>\n",
       "    <tr>\n",
       "      <th>2020</th>\n",
       "      <td>111</td>\n",
       "    </tr>\n",
       "  </tbody>\n",
       "</table>\n",
       "</div>"
      ],
      "text/plain": [
       "      Year\n",
       "      size\n",
       "Year      \n",
       "2016  1059\n",
       "2017  1244\n",
       "2018  1055\n",
       "2019   592\n",
       "2020   111"
      ]
     },
     "execution_count": 35,
     "metadata": {},
     "output_type": "execute_result"
    }
   ],
   "source": [
    "movie_stats = df.groupby('Year').agg({'Year': [np.size]})\n",
    "movie_stats.tail(5)"
   ]
  },
  {
   "cell_type": "code",
   "execution_count": 16,
   "metadata": {},
   "outputs": [
    {
     "data": {
      "text/plain": [
       "(107, 1)"
      ]
     },
     "execution_count": 16,
     "metadata": {},
     "output_type": "execute_result"
    }
   ],
   "source": [
    "movie_stats.shape"
   ]
  },
  {
   "cell_type": "code",
   "execution_count": 17,
   "metadata": {},
   "outputs": [
    {
     "data": {
      "image/png": "[encoded data removed]",
      "text/plain": [
       "<Figure size 432x288 with 1 Axes>"
      ]
     },
     "metadata": {
      "needs_background": "light"
     },
     "output_type": "display_data"
    }
   ],
   "source": [
    "from matplotlib import pyplot as plt\n",
    "#x  = list(range(len(movie_stats)))\n",
    "plt.plot(movie_stats.index, movie_stats, 'ko--')\n",
    "plt.title('The number of movies')\n",
    "plt.show()\n",
    "\n",
    " "
   ]
  },
  {
   "cell_type": "code",
   "execution_count": 18,
   "metadata": {},
   "outputs": [
    {
     "data": {
      "image/png": "[encoded data removed]",
      "text/plain": [
       "<Figure size 432x288 with 1 Axes>"
      ]
     },
     "metadata": {
      "needs_background": "light"
     },
     "output_type": "display_data"
    }
   ],
   "source": [
    "from matplotlib import pyplot as plt\n",
    "#x  = list(range(len(movie_stats)))\n",
    "plt.plot(movie_stats.index, movie_stats,drawstyle='steps-post', label='steps-post')\n",
    "plt.title('The number of movies')\n",
    "plt.show()"
   ]
  },
  {
   "cell_type": "markdown",
   "metadata": {},
   "source": [
    "영화와 별점간의 의미가 없음을 발견함(title of movie and IMDb)"
   ]
  },
  {
   "cell_type": "code",
   "execution_count": 19,
   "metadata": {},
   "outputs": [
    {
     "data": {
      "text/html": [
       "<div>\n",
       "<style scoped>\n",
       "    .dataframe tbody tr th:only-of-type {\n",
       "        vertical-align: middle;\n",
       "    }\n",
       "\n",
       "    .dataframe tbody tr th {\n",
       "        vertical-align: top;\n",
       "    }\n",
       "\n",
       "    .dataframe thead tr th {\n",
       "        text-align: left;\n",
       "    }\n",
       "\n",
       "    .dataframe thead tr:last-of-type th {\n",
       "        text-align: right;\n",
       "    }\n",
       "</style>\n",
       "<table border=\"1\" class=\"dataframe\">\n",
       "  <thead>\n",
       "    <tr>\n",
       "      <th></th>\n",
       "      <th colspan=\"2\" halign=\"left\">IMDb</th>\n",
       "    </tr>\n",
       "    <tr>\n",
       "      <th></th>\n",
       "      <th>size</th>\n",
       "      <th>mean</th>\n",
       "    </tr>\n",
       "    <tr>\n",
       "      <th>Title</th>\n",
       "      <th></th>\n",
       "      <th></th>\n",
       "    </tr>\n",
       "  </thead>\n",
       "  <tbody>\n",
       "    <tr>\n",
       "      <th>Ánima</th>\n",
       "      <td>1.0</td>\n",
       "      <td>6.5</td>\n",
       "    </tr>\n",
       "    <tr>\n",
       "      <th>Æon Flux</th>\n",
       "      <td>1.0</td>\n",
       "      <td>5.4</td>\n",
       "    </tr>\n",
       "    <tr>\n",
       "      <th>Çok Filim Hareketler Bunlar</th>\n",
       "      <td>1.0</td>\n",
       "      <td>4.3</td>\n",
       "    </tr>\n",
       "    <tr>\n",
       "      <th>Öldür Beni Sevgilim</th>\n",
       "      <td>1.0</td>\n",
       "      <td>4.5</td>\n",
       "    </tr>\n",
       "    <tr>\n",
       "      <th>İncir Reçeli 2</th>\n",
       "      <td>1.0</td>\n",
       "      <td>6.1</td>\n",
       "    </tr>\n",
       "  </tbody>\n",
       "</table>\n",
       "</div>"
      ],
      "text/plain": [
       "                            IMDb     \n",
       "                            size mean\n",
       "Title                                \n",
       "Ánima                        1.0  6.5\n",
       "Æon Flux                     1.0  5.4\n",
       "Çok Filim Hareketler Bunlar  1.0  4.3\n",
       "Öldür Beni Sevgilim          1.0  4.5\n",
       "İncir Reçeli 2               1.0  6.1"
      ]
     },
     "execution_count": 19,
     "metadata": {},
     "output_type": "execute_result"
    }
   ],
   "source": [
    "movie_stats = df.groupby('Title').agg({'IMDb': [np.size, np.mean]})\n",
    "movie_stats.tail()"
   ]
  },
  {
   "cell_type": "markdown",
   "metadata": {},
   "source": [
    "다작 감독정보"
   ]
  },
  {
   "cell_type": "code",
   "execution_count": 20,
   "metadata": {},
   "outputs": [
    {
     "data": {
      "text/plain": [
       "Jay Chapman           35\n",
       "Joseph Kane           30\n",
       "Cheh Chang            26\n",
       "Sam Newfield          22\n",
       "Jim Wynorski          22\n",
       "David DeCoteau        21\n",
       "William Beaudine      21\n",
       "Jay Karas             20\n",
       "William Witney        17\n",
       "Scott L. Montoya      17\n",
       "Fred Olen Ray         16\n",
       "Mark Atkins           16\n",
       "Lesley Selander       16\n",
       "Paul Hoen             15\n",
       "Marcus Raboy          14\n",
       "William Nigh          14\n",
       "Robert N. Bradbury    13\n",
       "Manny Rodriguez       13\n",
       "Robert Stevenson      13\n",
       "Stuart Gillard        12\n",
       "Chia-Liang Liu        12\n",
       "Shannon Hartman       12\n",
       "Ryan Polito           11\n",
       "Edward L. Cahn        11\n",
       "Priyadarshan          11\n",
       "Name: Directors, dtype: int64"
      ]
     },
     "execution_count": 20,
     "metadata": {},
     "output_type": "execute_result"
    }
   ],
   "source": [
    "df.Directors.value_counts()[:25]"
   ]
  },
  {
   "cell_type": "markdown",
   "metadata": {},
   "source": [
    "영화 랭킹 "
   ]
  },
  {
   "cell_type": "code",
   "execution_count": 21,
   "metadata": {},
   "outputs": [
    {
     "data": {
      "text/plain": [
       "count    15233.000000\n",
       "mean         5.899580\n",
       "std          1.343047\n",
       "min          0.000000\n",
       "25%          5.100000\n",
       "50%          6.100000\n",
       "75%          6.900000\n",
       "max          9.300000\n",
       "Name: IMDb, dtype: float64"
      ]
     },
     "execution_count": 21,
     "metadata": {},
     "output_type": "execute_result"
    }
   ],
   "source": [
    "df['IMDb'].describe()"
   ]
  },
  {
   "cell_type": "code",
   "execution_count": 22,
   "metadata": {},
   "outputs": [
    {
     "data": {
      "image/png": "[encoded data removed]",
      "text/plain": [
       "<Figure size 432x288 with 1 Axes>"
      ]
     },
     "metadata": {
      "needs_background": "light"
     },
     "output_type": "display_data"
    }
   ],
   "source": [
    "from matplotlib import pyplot as plt\n",
    "%matplotlib inline\n",
    "plt.hist(df['IMDb'], bins=10)\n",
    "plt.show()"
   ]
  },
  {
   "cell_type": "code",
   "execution_count": 23,
   "metadata": {},
   "outputs": [
    {
     "data": {
      "image/png": "[encoded data removed]",
      "text/plain": [
       "<Figure size 720x432 with 1 Axes>"
      ]
     },
     "metadata": {
      "needs_background": "light"
     },
     "output_type": "display_data"
    }
   ],
   "source": [
    "from matplotlib import pyplot as plt\n",
    "import seaborn as  sns\n",
    "%matplotlib inline\n",
    "plt.figure(figsize=(10,6))\n",
    "plt.title(\"Distribution of IMDb Ratings\", fontsize=15)\n",
    "sns.distplot(df['IMDb'])\n",
    "plt.show()"
   ]
  },
  {
   "cell_type": "code",
   "execution_count": 24,
   "metadata": {},
   "outputs": [
    {
     "data": {
      "text/html": [
       "<div>\n",
       "<style scoped>\n",
       "    .dataframe tbody tr th:only-of-type {\n",
       "        vertical-align: middle;\n",
       "    }\n",
       "\n",
       "    .dataframe tbody tr th {\n",
       "        vertical-align: top;\n",
       "    }\n",
       "\n",
       "    .dataframe thead tr th {\n",
       "        text-align: left;\n",
       "    }\n",
       "\n",
       "    .dataframe thead tr:last-of-type th {\n",
       "        text-align: right;\n",
       "    }\n",
       "</style>\n",
       "<table border=\"1\" class=\"dataframe\">\n",
       "  <thead>\n",
       "    <tr>\n",
       "      <th></th>\n",
       "      <th colspan=\"2\" halign=\"left\">IMDb</th>\n",
       "    </tr>\n",
       "    <tr>\n",
       "      <th></th>\n",
       "      <th>mean</th>\n",
       "      <th>count</th>\n",
       "    </tr>\n",
       "    <tr>\n",
       "      <th>Directors</th>\n",
       "      <th></th>\n",
       "      <th></th>\n",
       "    </tr>\n",
       "  </thead>\n",
       "  <tbody>\n",
       "    <tr>\n",
       "      <th>Miguel Gaudêncio</th>\n",
       "      <td>9.3</td>\n",
       "      <td>1</td>\n",
       "    </tr>\n",
       "    <tr>\n",
       "      <th>Danny Wu</th>\n",
       "      <td>9.3</td>\n",
       "      <td>1</td>\n",
       "    </tr>\n",
       "    <tr>\n",
       "      <th>Rel Dowdell</th>\n",
       "      <td>9.1</td>\n",
       "      <td>1</td>\n",
       "    </tr>\n",
       "    <tr>\n",
       "      <th>Chris Leslie,Oggi Tomic</th>\n",
       "      <td>9.1</td>\n",
       "      <td>1</td>\n",
       "    </tr>\n",
       "    <tr>\n",
       "      <th>Paul Kakert</th>\n",
       "      <td>9.0</td>\n",
       "      <td>1</td>\n",
       "    </tr>\n",
       "    <tr>\n",
       "      <th>Tyrone D. Dixon</th>\n",
       "      <td>8.9</td>\n",
       "      <td>1</td>\n",
       "    </tr>\n",
       "    <tr>\n",
       "      <th>François Girard</th>\n",
       "      <td>8.9</td>\n",
       "      <td>1</td>\n",
       "    </tr>\n",
       "    <tr>\n",
       "      <th>Robert Rippberger</th>\n",
       "      <td>8.9</td>\n",
       "      <td>1</td>\n",
       "    </tr>\n",
       "    <tr>\n",
       "      <th>Laura Gamse,Jacques de Villiers</th>\n",
       "      <td>8.9</td>\n",
       "      <td>1</td>\n",
       "    </tr>\n",
       "    <tr>\n",
       "      <th>Samuel Rich,Gabriella Fritz</th>\n",
       "      <td>8.9</td>\n",
       "      <td>1</td>\n",
       "    </tr>\n",
       "  </tbody>\n",
       "</table>\n",
       "</div>"
      ],
      "text/plain": [
       "                                IMDb      \n",
       "                                mean count\n",
       "Directors                                 \n",
       "Miguel Gaudêncio                 9.3     1\n",
       "Danny Wu                         9.3     1\n",
       "Rel Dowdell                      9.1     1\n",
       "Chris Leslie,Oggi Tomic          9.1     1\n",
       "Paul Kakert                      9.0     1\n",
       "Tyrone D. Dixon                  8.9     1\n",
       "François Girard                  8.9     1\n",
       "Robert Rippberger                8.9     1\n",
       "Laura Gamse,Jacques de Villiers  8.9     1\n",
       "Samuel Rich,Gabriella Fritz      8.9     1"
      ]
     },
     "execution_count": 24,
     "metadata": {},
     "output_type": "execute_result"
    }
   ],
   "source": [
    "df[['IMDb','Directors']].groupby('Directors').agg(['mean','count']).sort_values(by=('IMDb','mean'), ascending=False)[:10]"
   ]
  },
  {
   "cell_type": "code",
   "execution_count": 25,
   "metadata": {},
   "outputs": [
    {
     "data": {
      "text/html": [
       "<div>\n",
       "<style scoped>\n",
       "    .dataframe tbody tr th:only-of-type {\n",
       "        vertical-align: middle;\n",
       "    }\n",
       "\n",
       "    .dataframe tbody tr th {\n",
       "        vertical-align: top;\n",
       "    }\n",
       "\n",
       "    .dataframe thead tr th {\n",
       "        text-align: left;\n",
       "    }\n",
       "\n",
       "    .dataframe thead tr:last-of-type th {\n",
       "        text-align: right;\n",
       "    }\n",
       "</style>\n",
       "<table border=\"1\" class=\"dataframe\">\n",
       "  <thead>\n",
       "    <tr>\n",
       "      <th></th>\n",
       "      <th colspan=\"2\" halign=\"left\">IMDb</th>\n",
       "    </tr>\n",
       "    <tr>\n",
       "      <th></th>\n",
       "      <th>mean</th>\n",
       "      <th>count</th>\n",
       "    </tr>\n",
       "    <tr>\n",
       "      <th>Directors</th>\n",
       "      <th></th>\n",
       "      <th></th>\n",
       "    </tr>\n",
       "  </thead>\n",
       "  <tbody>\n",
       "    <tr>\n",
       "      <th>Rocco Urbisci</th>\n",
       "      <td>8.460000</td>\n",
       "      <td>10</td>\n",
       "    </tr>\n",
       "    <tr>\n",
       "      <th>Hrishikesh Mukherjee</th>\n",
       "      <td>8.071429</td>\n",
       "      <td>7</td>\n",
       "    </tr>\n",
       "    <tr>\n",
       "      <th>Martin Scorsese</th>\n",
       "      <td>7.842857</td>\n",
       "      <td>7</td>\n",
       "    </tr>\n",
       "    <tr>\n",
       "      <th>Quentin Tarantino</th>\n",
       "      <td>7.816667</td>\n",
       "      <td>6</td>\n",
       "    </tr>\n",
       "    <tr>\n",
       "      <th>Stan Lathan</th>\n",
       "      <td>7.633333</td>\n",
       "      <td>6</td>\n",
       "    </tr>\n",
       "    <tr>\n",
       "      <th>James Algar</th>\n",
       "      <td>7.442857</td>\n",
       "      <td>7</td>\n",
       "    </tr>\n",
       "    <tr>\n",
       "      <th>Pier Paolo Pasolini</th>\n",
       "      <td>7.416667</td>\n",
       "      <td>6</td>\n",
       "    </tr>\n",
       "    <tr>\n",
       "      <th>Shannon Hartman</th>\n",
       "      <td>7.391667</td>\n",
       "      <td>12</td>\n",
       "    </tr>\n",
       "    <tr>\n",
       "      <th>Rory Kennedy</th>\n",
       "      <td>7.366667</td>\n",
       "      <td>6</td>\n",
       "    </tr>\n",
       "    <tr>\n",
       "      <th>Kinji Fukasaku</th>\n",
       "      <td>7.285714</td>\n",
       "      <td>7</td>\n",
       "    </tr>\n",
       "  </tbody>\n",
       "</table>\n",
       "</div>"
      ],
      "text/plain": [
       "                          IMDb      \n",
       "                          mean count\n",
       "Directors                           \n",
       "Rocco Urbisci         8.460000    10\n",
       "Hrishikesh Mukherjee  8.071429     7\n",
       "Martin Scorsese       7.842857     7\n",
       "Quentin Tarantino     7.816667     6\n",
       "Stan Lathan           7.633333     6\n",
       "James Algar           7.442857     7\n",
       "Pier Paolo Pasolini   7.416667     6\n",
       "Shannon Hartman       7.391667    12\n",
       "Rory Kennedy          7.366667     6\n",
       "Kinji Fukasaku        7.285714     7"
      ]
     },
     "execution_count": 25,
     "metadata": {},
     "output_type": "execute_result"
    }
   ],
   "source": [
    "directors = df[['IMDb','Directors']].groupby('Directors').agg(['mean','count'])\n",
    "directors[directors[('IMDb', 'count')] > 5].sort_values(by=('IMDb','mean'), ascending=False)[:10]"
   ]
  },
  {
   "cell_type": "markdown",
   "metadata": {},
   "source": [
    "상영시간(Running time) 살펴보기"
   ]
  },
  {
   "cell_type": "code",
   "execution_count": 26,
   "metadata": {},
   "outputs": [
    {
     "data": {
      "text/plain": [
       "count    15233.000000\n",
       "mean        94.478960\n",
       "std         24.343577\n",
       "min          1.000000\n",
       "25%         84.000000\n",
       "50%         92.000000\n",
       "75%        105.000000\n",
       "max        328.000000\n",
       "Name: Runtime, dtype: float64"
      ]
     },
     "execution_count": 26,
     "metadata": {},
     "output_type": "execute_result"
    }
   ],
   "source": [
    "df.Runtime.describe()"
   ]
  },
  {
   "cell_type": "code",
   "execution_count": 27,
   "metadata": {},
   "outputs": [
    {
     "name": "stdout",
     "output_type": "stream",
     "text": [
      "                     Title  Year  IMDb  Netflix  Hulu  Prime Video  Disney+  \\\n",
      "13048  Custer's Last Stand  1936   4.6        0     0            1        0   \n",
      "\n",
      "           Directors                                 Genres        Country  \\\n",
      "13048  Elmer Clifton  Adventure,History,Romance,War,Western  United States   \n",
      "\n",
      "      Language  Runtime  \n",
      "13048  English    328.0  \n"
     ]
    }
   ],
   "source": [
    "max_runtime = df['Runtime'].nlargest(5)\n",
    "\n",
    "print(df.nlargest(1, columns='Runtime'))"
   ]
  },
  {
   "cell_type": "code",
   "execution_count": 28,
   "metadata": {},
   "outputs": [
    {
     "data": {
      "image/png": "[encoded data removed]",
      "text/plain": [
       "<Figure size 720x432 with 1 Axes>"
      ]
     },
     "metadata": {
      "needs_background": "light"
     },
     "output_type": "display_data"
    }
   ],
   "source": [
    "plt.figure(figsize=(10,6))\n",
    "plt.title(\"Movie Length Distribution\", fontsize=15)\n",
    "sns.distplot(df.Runtime)\n",
    "plt.show()"
   ]
  },
  {
   "cell_type": "code",
   "execution_count": 29,
   "metadata": {},
   "outputs": [
    {
     "data": {
      "text/html": [
       "<div>\n",
       "<style scoped>\n",
       "    .dataframe tbody tr th:only-of-type {\n",
       "        vertical-align: middle;\n",
       "    }\n",
       "\n",
       "    .dataframe tbody tr th {\n",
       "        vertical-align: top;\n",
       "    }\n",
       "\n",
       "    .dataframe thead th {\n",
       "        text-align: right;\n",
       "    }\n",
       "</style>\n",
       "<table border=\"1\" class=\"dataframe\">\n",
       "  <thead>\n",
       "    <tr style=\"text-align: right;\">\n",
       "      <th></th>\n",
       "      <th>Title</th>\n",
       "      <th>Year</th>\n",
       "      <th>IMDb</th>\n",
       "      <th>Netflix</th>\n",
       "      <th>Hulu</th>\n",
       "      <th>Prime Video</th>\n",
       "      <th>Disney+</th>\n",
       "      <th>Directors</th>\n",
       "      <th>Genres</th>\n",
       "      <th>Country</th>\n",
       "      <th>Language</th>\n",
       "      <th>Runtime</th>\n",
       "    </tr>\n",
       "  </thead>\n",
       "  <tbody>\n",
       "    <tr>\n",
       "      <th>2626</th>\n",
       "      <td>Liefling The Movie</td>\n",
       "      <td>2010</td>\n",
       "      <td>6.3</td>\n",
       "      <td>1</td>\n",
       "      <td>0</td>\n",
       "      <td>0</td>\n",
       "      <td>0</td>\n",
       "      <td>Kendrick Hew</td>\n",
       "      <td>Short,Thriller</td>\n",
       "      <td>Canada</td>\n",
       "      <td>English</td>\n",
       "      <td>1.0</td>\n",
       "    </tr>\n",
       "    <tr>\n",
       "      <th>13048</th>\n",
       "      <td>Custer's Last Stand</td>\n",
       "      <td>1936</td>\n",
       "      <td>4.6</td>\n",
       "      <td>0</td>\n",
       "      <td>0</td>\n",
       "      <td>1</td>\n",
       "      <td>0</td>\n",
       "      <td>Elmer Clifton</td>\n",
       "      <td>Adventure,History,Romance,War,Western</td>\n",
       "      <td>United States</td>\n",
       "      <td>English</td>\n",
       "      <td>328.0</td>\n",
       "    </tr>\n",
       "  </tbody>\n",
       "</table>\n",
       "</div>"
      ],
      "text/plain": [
       "                     Title  Year  IMDb  Netflix  Hulu  Prime Video  Disney+  \\\n",
       "2626    Liefling The Movie  2010   6.3        1     0            0        0   \n",
       "13048  Custer's Last Stand  1936   4.6        0     0            1        0   \n",
       "\n",
       "           Directors                                 Genres        Country  \\\n",
       "2626    Kendrick Hew                         Short,Thriller         Canada   \n",
       "13048  Elmer Clifton  Adventure,History,Romance,War,Western  United States   \n",
       "\n",
       "      Language  Runtime  \n",
       "2626   English      1.0  \n",
       "13048  English    328.0  "
      ]
     },
     "execution_count": 29,
     "metadata": {},
     "output_type": "execute_result"
    }
   ],
   "source": [
    "df.query('Runtime > 300 or Runtime < 2')"
   ]
  },
  {
   "cell_type": "markdown",
   "metadata": {},
   "source": [
    "별점과 상영시간간에는 상관관계가 없음"
   ]
  },
  {
   "cell_type": "code",
   "execution_count": 30,
   "metadata": {},
   "outputs": [
    {
     "data": {
      "text/html": [
       "<div>\n",
       "<style scoped>\n",
       "    .dataframe tbody tr th:only-of-type {\n",
       "        vertical-align: middle;\n",
       "    }\n",
       "\n",
       "    .dataframe tbody tr th {\n",
       "        vertical-align: top;\n",
       "    }\n",
       "\n",
       "    .dataframe thead th {\n",
       "        text-align: right;\n",
       "    }\n",
       "</style>\n",
       "<table border=\"1\" class=\"dataframe\">\n",
       "  <thead>\n",
       "    <tr style=\"text-align: right;\">\n",
       "      <th></th>\n",
       "      <th>IMDb</th>\n",
       "      <th>Runtime</th>\n",
       "    </tr>\n",
       "  </thead>\n",
       "  <tbody>\n",
       "    <tr>\n",
       "      <th>IMDb</th>\n",
       "      <td>1.000000</td>\n",
       "      <td>0.107694</td>\n",
       "    </tr>\n",
       "    <tr>\n",
       "      <th>Runtime</th>\n",
       "      <td>0.107694</td>\n",
       "      <td>1.000000</td>\n",
       "    </tr>\n",
       "  </tbody>\n",
       "</table>\n",
       "</div>"
      ],
      "text/plain": [
       "             IMDb   Runtime\n",
       "IMDb     1.000000  0.107694\n",
       "Runtime  0.107694  1.000000"
      ]
     },
     "execution_count": 30,
     "metadata": {},
     "output_type": "execute_result"
    }
   ],
   "source": [
    "df[['IMDb','Runtime']].corr()"
   ]
  }
 ],
 "metadata": {
  "kernelspec": {
   "display_name": "Python 3",
   "language": "python",
   "name": "python3"
  },
  "language_info": {
   "codemirror_mode": {
    "name": "ipython",
    "version": 3
   },
   "file_extension": ".py",
   "mimetype": "text/x-python",
   "name": "python",
   "nbconvert_exporter": "python",
   "pygments_lexer": "ipython3",
   "version": "3.7.4"
  }
 },
 "nbformat": 4,
 "nbformat_minor": 2
}
