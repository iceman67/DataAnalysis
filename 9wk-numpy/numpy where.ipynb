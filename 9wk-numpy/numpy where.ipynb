{
 "cells": [
  {
   "cell_type": "markdown",
   "metadata": {},
   "source": [
    "\n",
    "#### How to use Python numpy.where() Method\n",
    "\n",
    "numpy-like boolean array\n",
    "https://www.journaldev.com/37898/python-numpy-where?utm_source=browser&utm_medium=rss_notification&utm_id=130675.16730106265"
   ]
  },
  {
   "cell_type": "code",
   "execution_count": 1,
   "metadata": {},
   "outputs": [
    {
     "name": "stdout",
     "output_type": "stream",
     "text": [
      "[0 1 2]\n"
     ]
    }
   ],
   "source": [
    "import numpy as np\n",
    " \n",
    "a = np.arange(10)\n",
    "print(a[a <= 2]) # Will only capture elements <= 2 and ignore others"
   ]
  },
  {
   "cell_type": "markdown",
   "metadata": {},
   "source": [
    "a의 요소값은 어떠한 규칙성이 없으며 b는 정규분포에 따라 행렬의 원소값을 초기화함 "
   ]
  },
  {
   "cell_type": "code",
   "execution_count": 2,
   "metadata": {},
   "outputs": [
    {
     "name": "stdout",
     "output_type": "stream",
     "text": [
      "[[0.22786117 0.20858094 0.41315306]\n",
      " [0.5437308  1.81619708 0.55612416]\n",
      " [0.6154272  0.35306349 0.30553576]]\n",
      "[[-0.95302129 -1.30047552  0.67290631]\n",
      " [ 0.02332209  0.86505198 -2.22343846]\n",
      " [-0.76928855  0.20081056 -0.69768889]]\n"
     ]
    }
   ],
   "source": [
    "import numpy as np\n",
    " \n",
    "a = np.empty([3, 3])\n",
    "print(a)\n",
    " \n",
    "b = np.random.randn(3,3)\n",
    "print(b)"
   ]
  },
  {
   "cell_type": "code",
   "execution_count": 3,
   "metadata": {},
   "outputs": [
    {
     "name": "stdout",
     "output_type": "stream",
     "text": [
      "[1. 2. 3. 4.]\n",
      "<class 'numpy.ndarray'>\n",
      "(4,)\n",
      "1\n",
      "(2, 4)\n",
      "2\n"
     ]
    }
   ],
   "source": [
    "import numpy as np\n",
    " \n",
    "x = np.array([1., 2., 3., 4.])\n",
    " \n",
    "print(x) # output: [1. 2. 3. 4.]\n",
    "print(type(x)) # output: <'numpy.ndarray'>\n",
    "print(x.shape) # output: (4,)\n",
    "print(np.ndim(x)) # output: 1\n",
    " \n",
    "y = np.array([\n",
    "    [1., 2., 3., 4.],\n",
    "    [9., 8., 7., 5.]\n",
    "])\n",
    " \n",
    "print(y.shape) # output: (2, 4)\n",
    "print(np.ndim(y)) # output: 2"
   ]
  },
  {
   "cell_type": "code",
   "execution_count": 4,
   "metadata": {},
   "outputs": [
    {
     "name": "stdout",
     "output_type": "stream",
     "text": [
      "[1 2 3]\n",
      "1\n",
      "True\n",
      "[1 2 3]\n",
      "[4 5 6]\n"
     ]
    }
   ],
   "source": [
    "# 원소 접근 \n",
    "x = np.array([\n",
    "    [1, 2, 3],\n",
    "    [4, 5, 6]\n",
    "])\n",
    " \n",
    "print(x[0]) # output: [1 2 3]\n",
    "print(x[0][0]) # output: 1\n",
    "print(x[0][0] == x[0,0]) # output: True\n",
    " \n",
    "for r in x:\n",
    "    print(r)\n",
    "# output:\n",
    "# [1 2 3]\n",
    "# [4 5 6]"
   ]
  },
  {
   "cell_type": "code",
   "execution_count": 5,
   "metadata": {},
   "outputs": [
    {
     "name": "stdout",
     "output_type": "stream",
     "text": [
      "[11 22 33]\n",
      "[ 9 18 27]\n",
      "[10 40 90]\n",
      "[10. 10. 10.]\n"
     ]
    }
   ],
   "source": [
    "a = np.array([10,20,30])\n",
    "b = np.array([1,2,3])\n",
    " \n",
    "print(a+b) # output: [11 22 33]\n",
    "print(a-b) # output: [ 9 18 27]\n",
    "print(a*b) # output: [10 40 90]\n",
    "print(a/b) # output: [10. 10. 10.]"
   ]
  },
  {
   "cell_type": "code",
   "execution_count": 2,
   "metadata": {},
   "outputs": [
    {
     "name": "stdout",
     "output_type": "stream",
     "text": [
      "[[-0.19057982  1.72793407  0.4639849 ]\n",
      " [-0.13266475  0.13398985 -0.85124968]]\n",
      "[[0.         1.72793407 0.4639849 ]\n",
      " [0.         0.13398985 0.        ]]\n"
     ]
    }
   ],
   "source": [
    "#  Replace Elements with numpy.where()\n",
    "import numpy as np\n",
    " \n",
    "# Random initialization of a (2D array)\n",
    "a = np.random.randn(2, 3)\n",
    "print(a)\n",
    " \n",
    "# b will be all elements of a whenever the condition holds true (i.e only positive elements)\n",
    "# Otherwise, set it as 0\n",
    "b = np.where(a > 0, a, 0)\n",
    " \n",
    "print(b)"
   ]
  },
  {
   "cell_type": "code",
   "execution_count": 3,
   "metadata": {},
   "outputs": [
    {
     "name": "stdout",
     "output_type": "stream",
     "text": [
      "(array([0, 0, 1], dtype=int64), array([1, 2, 2], dtype=int64))\n"
     ]
    }
   ],
   "source": [
    "# Using numpy.where() with only a condition\n",
    "\n",
    "import random\n",
    "import numpy as np\n",
    " \n",
    "a = np.random.randn(2, 3)\n",
    "b = np.where(a > 0)\n",
    "print(b)\n"
   ]
  },
  {
   "cell_type": "code",
   "execution_count": 4,
   "metadata": {},
   "outputs": [
    {
     "name": "stdout",
     "output_type": "stream",
     "text": [
      "[0 1 2 3 4 5 6 7 8 9]\n",
      "[ 0  1  2  3  4 50 60 70 80 90]\n"
     ]
    }
   ],
   "source": [
    "# np.asarray.nonzero()\n",
    "import numpy as np\n",
    " \n",
    "a = np.arange(10)\n",
    " \n",
    "b = np.where(a < 5, a, a * 10)\n",
    " \n",
    "print(a)\n",
    "print(b)"
   ]
  },
  {
   "cell_type": "code",
   "execution_count": 5,
   "metadata": {},
   "outputs": [
    {
     "name": "stdout",
     "output_type": "stream",
     "text": [
      "[[ 0  1  2  3]\n",
      " [ 4  5  6  7]\n",
      " [ 8  9 10 11]]\n",
      "[[0 1 2 3]]\n",
      "[[ 0  1  2  3]\n",
      " [ 4 10 20 30]\n",
      " [ 0 10 20 30]]\n"
     ]
    }
   ],
   "source": [
    "# Broadcasting with numpy.where()\n",
    "\n",
    "import numpy as np\n",
    " \n",
    "a = np.arange(12).reshape(3, 4)\n",
    " \n",
    "b = np.arange(4).reshape(1, 4)\n",
    " \n",
    "print(a)\n",
    "print(b)\n",
    " \n",
    "# Broadcasts (a < 5, a, and b * 10)\n",
    "# of shape (3, 4), (3, 4) and (1, 4)\n",
    "c = np.where(a < 5, a, b * 10)\n",
    " \n",
    "print(c)"
   ]
  },
  {
   "cell_type": "code",
   "execution_count": null,
   "metadata": {},
   "outputs": [],
   "source": []
  }
 ],
 "metadata": {
  "kernelspec": {
   "display_name": "Python 3",
   "language": "python",
   "name": "python3"
  },
  "language_info": {
   "codemirror_mode": {
    "name": "ipython",
    "version": 3
   },
   "file_extension": ".py",
   "mimetype": "text/x-python",
   "name": "python",
   "nbconvert_exporter": "python",
   "pygments_lexer": "ipython3",
   "version": "3.7.4"
  }
 },
 "nbformat": 4,
 "nbformat_minor": 2
}
