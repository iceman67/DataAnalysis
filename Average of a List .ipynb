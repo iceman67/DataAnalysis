{
 "cells": [
  {
   "cell_type": "markdown",
   "metadata": {},
   "source": [
    "#### Ways to Find The Average of a List in Python\n",
    "\n",
    "\n",
    "sum(input-list)\n",
    "\n",
    "Note: average = (sum)/(count)"
   ]
  },
  {
   "cell_type": "code",
   "execution_count": 1,
   "metadata": {},
   "outputs": [
    {
     "name": "stdout",
     "output_type": "stream",
     "text": [
      "Average value of the list:\n",
      "\n",
      "67.51375\n",
      "Average value of the list with precision upto 3 decimal value:\n",
      "\n",
      "67.514\n"
     ]
    }
   ],
   "source": [
    "inp_lst = [12, 45, 78, 36, 45, 237.11, -1, 88]\n",
    " \n",
    "sum_lst = sum(inp_lst)\n",
    " \n",
    "lst_avg = sum_lst/len(inp_lst)\n",
    "print(\"Average value of the list:\\n\") \n",
    "print(lst_avg) \n",
    "print(\"Average value of the list with precision upto 3 decimal value:\\n\")\n",
    "print(round(lst_avg,3))"
   ]
  },
  {
   "cell_type": "markdown",
   "metadata": {},
   "source": [
    "reduce() function is basically used to apply a particular(input) function to the set of elements passed to the function.\n",
    "\n",
    "reduce(function,input-list/sequence)\n",
    "\n",
    "lambda() function is used to build and form Anonymous functions i.e. function without a name or signature.\n",
    "\n",
    "Syntax:\n",
    "lambda arguments:function\n",
    "\n",
    "lambda 인자 : 표현식"
   ]
  },
  {
   "cell_type": "code",
   "execution_count": 13,
   "metadata": {},
   "outputs": [
    {
     "name": "stdout",
     "output_type": "stream",
     "text": [
      "30\n"
     ]
    },
    {
     "data": {
      "text/plain": [
       "7"
      ]
     },
     "execution_count": 13,
     "metadata": {},
     "output_type": "execute_result"
    }
   ],
   "source": [
    "sum = (lambda x,y: x + y)(10, 20)\n",
    "print (sum)\n",
    "sum = lambda a, b: a+b\n",
    "sum(3,4)"
   ]
  },
  {
   "cell_type": "code",
   "execution_count": 16,
   "metadata": {},
   "outputs": [
    {
     "name": "stdout",
     "output_type": "stream",
     "text": [
      "[0, 1, 4, 9, 16]\n"
     ]
    },
    {
     "data": {
      "text/plain": [
       "[144, 2025, 6084, 1296, 2025, 56221.15210000001, 1, 7744]"
      ]
     },
     "execution_count": 16,
     "metadata": {},
     "output_type": "execute_result"
    }
   ],
   "source": [
    "# 입력받은 자료형의 각 요소가 합수에 의해 수행된 결과를 묶어서 map iterator 객체로 리턴\n",
    "result = list(map(lambda x: x ** 2, range(5))) \n",
    "print(result)\n",
    "result = list(map(lambda i: i ** 2 , inp_lst))\n",
    "result"
   ]
  },
  {
   "cell_type": "code",
   "execution_count": 40,
   "metadata": {},
   "outputs": [
    {
     "data": {
      "text/plain": [
       "[1, 2, '3', 4, 5, '6', 7, 8, '9', 10]"
      ]
     },
     "execution_count": 40,
     "metadata": {},
     "output_type": "execute_result"
    }
   ],
   "source": [
    "a = [1, 2, 3, 4, 5, 6, 7, 8, 9, 10]\n",
    "\n",
    "list(map(lambda x: str(x) if x % 3 == 0 else x, a))"
   ]
  },
  {
   "cell_type": "code",
   "execution_count": 8,
   "metadata": {},
   "outputs": [
    {
     "data": {
      "text/plain": [
       "[12, 45, 78, 36, 45, 237.11, 88]"
      ]
     },
     "execution_count": 8,
     "metadata": {},
     "output_type": "execute_result"
    }
   ],
   "source": [
    "# 두번째 인수인 반복 가능한 자료형 요소들을 첫번째 인자 함수에 하나씩 입력하여 리턴값이 참인 것만 묶어서 반환\n",
    "result = list(filter(lambda x: x > 0, inp_lst))\n",
    "result"
   ]
  },
  {
   "cell_type": "code",
   "execution_count": 21,
   "metadata": {},
   "outputs": [
    {
     "data": {
      "text/plain": [
       "15"
      ]
     },
     "execution_count": 21,
     "metadata": {},
     "output_type": "execute_result"
    }
   ],
   "source": [
    "# reduce(함수, 순서형 자료)\n",
    "from functools import reduce\n",
    "reduce(lambda x, y: x+y, [1, 2, 3, 4, 5])\n",
    "# = ((((1+2)+3)+4)+5)\n",
    "reduce(lambda x, y: x + y, [1, 2, 3, 4,5], 0)"
   ]
  },
  {
   "cell_type": "code",
   "execution_count": 24,
   "metadata": {},
   "outputs": [
    {
     "data": {
      "text/plain": [
       "-1"
      ]
     },
     "execution_count": 24,
     "metadata": {},
     "output_type": "execute_result"
    }
   ],
   "source": [
    "# 최소값 구하기\n",
    "reduce(lambda x, y: x if x < y else y, inp_lst)"
   ]
  },
  {
   "cell_type": "code",
   "execution_count": 25,
   "metadata": {},
   "outputs": [
    {
     "data": {
      "text/plain": [
       "237.11"
      ]
     },
     "execution_count": 25,
     "metadata": {},
     "output_type": "execute_result"
    }
   ],
   "source": [
    "# 최대값 구하기\n",
    "reduce(lambda x, y: x if x > y else y, inp_lst)"
   ]
  },
  {
   "cell_type": "code",
   "execution_count": 9,
   "metadata": {},
   "outputs": [
    {
     "data": {
      "text/plain": [
       "237.11"
      ]
     },
     "execution_count": 9,
     "metadata": {},
     "output_type": "execute_result"
    }
   ],
   "source": [
    "# python3 부터 내장함수에서 빠짐\n",
    "\n",
    "from functools import reduce\n",
    "\n",
    "# 문제1. 전통적으로 최대값 구하기\n",
    "def maximum(li):\n",
    "    default = 0\n",
    "    for e in li:\n",
    "        if default < e:\n",
    "            default = e\n",
    "    return default\n",
    "maximum(inp_lst)\n",
    "\n",
    "# 문제1. reduce 활용하여 최대값 구하기\n",
    "reduce(lambda a,b: a if a > b else b ,inp_lst)"
   ]
  },
  {
   "cell_type": "code",
   "execution_count": 4,
   "metadata": {},
   "outputs": [
    {
     "name": "stdout",
     "output_type": "stream",
     "text": [
      "Average value of the list:\n",
      "\n",
      "67.51375\n",
      "Average value of the list with precision upto 3 decimal value:\n",
      "\n",
      "67.514\n"
     ]
    }
   ],
   "source": [
    "from functools import reduce\n",
    "\n",
    "inp_lst = [12, 45, 78, 36, 45, 237.11, -1, 88]\n",
    " \n",
    "lst_len= len(inp_lst)\n",
    " \n",
    "lst_avg = reduce(lambda x, y: x + y, inp_lst) /lst_len \n",
    "print(\"Average value of the list:\\n\") \n",
    "print(lst_avg) \n",
    "print(\"Average value of the list with precision upto 3 decimal value:\\n\")\n",
    "print(round(lst_avg,3))"
   ]
  },
  {
   "cell_type": "code",
   "execution_count": null,
   "metadata": {},
   "outputs": [],
   "source": [
    "import numpy\n",
    " \n",
    "inp_lst = [12, 45, 78, 36, 45, 237.11, -1, 88]\n",
    " \n",
    "lst_avg = numpy.average(inp_lst)\n",
    "print(\"Average value of the list:\\n\") \n",
    "print(lst_avg) \n",
    "print(\"Average value of the list with precision upto 3 decimal value:\\n\")\n",
    "print(round(lst_avg,3))"
   ]
  }
 ],
 "metadata": {
  "kernelspec": {
   "display_name": "Python 3",
   "language": "python",
   "name": "python3"
  },
  "language_info": {
   "codemirror_mode": {
    "name": "ipython",
    "version": 3
   },
   "file_extension": ".py",
   "mimetype": "text/x-python",
   "name": "python",
   "nbconvert_exporter": "python",
   "pygments_lexer": "ipython3",
   "version": "3.7.4"
  }
 },
 "nbformat": 4,
 "nbformat_minor": 2
}
