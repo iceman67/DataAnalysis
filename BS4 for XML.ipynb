{
 "cells": [
  {
   "cell_type": "code",
   "execution_count": 1,
   "metadata": {},
   "outputs": [],
   "source": [
    "from bs4 import BeautifulSoup"
   ]
  },
  {
   "cell_type": "code",
   "execution_count": 22,
   "metadata": {},
   "outputs": [],
   "source": [
    "html_doc = \"\"\"\n",
    "<html><head><title>The Dormouse's story</title></head>\n",
    "\n",
    "<p class=\"title\"><b>The Dormouse's story</b></p>\n",
    "\n",
    "<p class=\"story\">Once upon a time there were three little sisters; and their names were\n",
    "<a href=\"http://example.com/elsie\" class=\"sister\" id=\"link1\">Elsie</a>,\n",
    "<a href=\"http://example.com/lacie\" class=\"sister\" id=\"link2\">Lacie</a> and\n",
    "<a href=\"http://example.com/tillie\" class=\"sister\" id=\"link3\">Tillie</a>;\n",
    "and they lived at the bottom of a well.</p>\n",
    "\n",
    "<p class=\"story\">...</p>\n",
    "\"\"\""
   ]
  },
  {
   "cell_type": "code",
   "execution_count": 23,
   "metadata": {},
   "outputs": [
    {
     "name": "stdout",
     "output_type": "stream",
     "text": [
      "<html>\n",
      " <head>\n",
      "  <title>\n",
      "   The Dormouse's story\n",
      "  </title>\n",
      " </head>\n",
      " <body>\n",
      "  <p class=\"title\">\n",
      "   <b>\n",
      "    The Dormouse's story\n",
      "   </b>\n",
      "  </p>\n",
      "  <p class=\"story\">\n",
      "   Once upon a time there were three little sisters; and their names were\n",
      "   <a class=\"sister\" href=\"http://example.com/elsie\" id=\"link1\">\n",
      "    Elsie\n",
      "   </a>\n",
      "   ,\n",
      "   <a class=\"sister\" href=\"http://example.com/lacie\" id=\"link2\">\n",
      "    Lacie\n",
      "   </a>\n",
      "   and\n",
      "   <a class=\"sister\" href=\"http://example.com/tillie\" id=\"link3\">\n",
      "    Tillie\n",
      "   </a>\n",
      "   ;\n",
      "and they lived at the bottom of a well.\n",
      "  </p>\n",
      "  <p class=\"story\">\n",
      "   ...\n",
      "  </p>\n",
      " </body>\n",
      "</html>\n"
     ]
    }
   ],
   "source": [
    "soup = BeautifulSoup(html_doc)\n",
    "\n",
    "print(soup.prettify())"
   ]
  },
  {
   "cell_type": "code",
   "execution_count": 24,
   "metadata": {},
   "outputs": [
    {
     "data": {
      "text/plain": [
       "<title>The Dormouse's story</title>"
      ]
     },
     "execution_count": 24,
     "metadata": {},
     "output_type": "execute_result"
    }
   ],
   "source": [
    "soup.title\n",
    "# <title>The Dormouse's story</title>"
   ]
  },
  {
   "cell_type": "code",
   "execution_count": 25,
   "metadata": {},
   "outputs": [
    {
     "data": {
      "text/plain": [
       "'title'"
      ]
     },
     "execution_count": 25,
     "metadata": {},
     "output_type": "execute_result"
    }
   ],
   "source": [
    "soup.title.name\n",
    "# u'title'"
   ]
  },
  {
   "cell_type": "code",
   "execution_count": 26,
   "metadata": {},
   "outputs": [
    {
     "data": {
      "text/plain": [
       "\"The Dormouse's story\""
      ]
     },
     "execution_count": 26,
     "metadata": {},
     "output_type": "execute_result"
    }
   ],
   "source": [
    "soup.title.string\n",
    "# u'The Dormouse's story'"
   ]
  },
  {
   "cell_type": "code",
   "execution_count": 28,
   "metadata": {},
   "outputs": [
    {
     "data": {
      "text/plain": [
       "<p class=\"title\"><b>The Dormouse's story</b></p>"
      ]
     },
     "execution_count": 28,
     "metadata": {},
     "output_type": "execute_result"
    }
   ],
   "source": [
    "soup.p\n",
    "# <p class=\"title\"><b>The Dormouse's story</b></p>"
   ]
  },
  {
   "cell_type": "code",
   "execution_count": 29,
   "metadata": {},
   "outputs": [
    {
     "data": {
      "text/plain": [
       "['title']"
      ]
     },
     "execution_count": 29,
     "metadata": {},
     "output_type": "execute_result"
    }
   ],
   "source": [
    "soup.p['class']\n",
    "# u'title'"
   ]
  },
  {
   "cell_type": "code",
   "execution_count": 27,
   "metadata": {},
   "outputs": [
    {
     "data": {
      "text/plain": [
       "'head'"
      ]
     },
     "execution_count": 27,
     "metadata": {},
     "output_type": "execute_result"
    }
   ],
   "source": [
    "soup.title.parent.name\n",
    "# u'head'"
   ]
  },
  {
   "cell_type": "code",
   "execution_count": 31,
   "metadata": {},
   "outputs": [
    {
     "data": {
      "text/plain": [
       "<a class=\"sister\" href=\"http://example.com/elsie\" id=\"link1\">Elsie</a>"
      ]
     },
     "execution_count": 31,
     "metadata": {},
     "output_type": "execute_result"
    }
   ],
   "source": [
    "soup.a\n",
    "# <a class=\"sister\" href=\"http://example.com/elsie\" id=\"link1\">Elsie</a>"
   ]
  },
  {
   "cell_type": "code",
   "execution_count": 32,
   "metadata": {},
   "outputs": [
    {
     "data": {
      "text/plain": [
       "[<a class=\"sister\" href=\"http://example.com/elsie\" id=\"link1\">Elsie</a>,\n",
       " <a class=\"sister\" href=\"http://example.com/lacie\" id=\"link2\">Lacie</a>,\n",
       " <a class=\"sister\" href=\"http://example.com/tillie\" id=\"link3\">Tillie</a>]"
      ]
     },
     "execution_count": 32,
     "metadata": {},
     "output_type": "execute_result"
    }
   ],
   "source": [
    "soup.find_all('a')\n",
    "# [<a class=\"sister\" href=\"http://example.com/elsie\" id=\"link1\">Elsie</a>,\n",
    "#  <a class=\"sister\" href=\"http://example.com/lacie\" id=\"link2\">Lacie</a>,\n",
    "#  <a class=\"sister\" href=\"http://example.com/tillie\" id=\"link3\">Tillie</a>]"
   ]
  },
  {
   "cell_type": "code",
   "execution_count": 33,
   "metadata": {},
   "outputs": [
    {
     "data": {
      "text/plain": [
       "<a class=\"sister\" href=\"http://example.com/tillie\" id=\"link3\">Tillie</a>"
      ]
     },
     "execution_count": 33,
     "metadata": {},
     "output_type": "execute_result"
    }
   ],
   "source": [
    "soup.find(id=\"link3\")\n",
    "# <a class=\"sister\" href=\"http://example.com/tillie\" id=\"link3\">Tillie</a>"
   ]
  },
  {
   "cell_type": "code",
   "execution_count": 34,
   "metadata": {},
   "outputs": [
    {
     "name": "stdout",
     "output_type": "stream",
     "text": [
      "http://example.com/elsie\n",
      "http://example.com/lacie\n",
      "http://example.com/tillie\n"
     ]
    }
   ],
   "source": [
    "for link in soup.find_all('a'):\n",
    "    print(link.get('href'))\n",
    "# http://example.com/elsie\n",
    "# http://example.com/lacie\n",
    "# http://example.com/tillie"
   ]
  },
  {
   "cell_type": "markdown",
   "metadata": {},
   "source": [
    "XML 문서 파싱 및 처리"
   ]
  },
  {
   "cell_type": "code",
   "execution_count": 35,
   "metadata": {},
   "outputs": [],
   "source": [
    "from bs4 import BeautifulSoup"
   ]
  },
  {
   "cell_type": "code",
   "execution_count": 4,
   "metadata": {},
   "outputs": [],
   "source": [
    "with open(\"book.xml\", \"r\", encoding = \"utf-8\") as book_xml:\n",
    "      xml = book_xml.read()\n",
    "soup = BeautifulSoup(xml,\"html.parser\")\n"
   ]
  },
  {
   "cell_type": "code",
   "execution_count": 7,
   "metadata": {},
   "outputs": [
    {
     "name": "stdout",
     "output_type": "stream",
     "text": [
      "태백산맥\n",
      "Inside XML\n",
      "쉽게 배우는 영어\n"
     ]
    }
   ],
   "source": [
    "titles = soup.find_all('title')\n",
    "for title in titles:\n",
    "    print(title.get_text())\n",
    "  "
   ]
  },
  {
   "cell_type": "code",
   "execution_count": 8,
   "metadata": {},
   "outputs": [],
   "source": [
    "titles = soup.find_all('title')\n",
    "authors = soup.find_all('author')\n",
    "publishers = soup.find_all('publisher')\n",
    "prices = soup.find_all('price')"
   ]
  },
  {
   "cell_type": "code",
   "execution_count": 21,
   "metadata": {},
   "outputs": [
    {
     "name": "stdout",
     "output_type": "stream",
     "text": [
      "태백산맥,조정래,25000 원 \n",
      "Inside XML,홍질동,35000 원 \n",
      "쉽게 배우는 영어,채규태,20000 원 \n"
     ]
    }
   ],
   "source": [
    "for i in range(0, len(titles)):\n",
    "    print(titles[i].get_text(), end=',')\n",
    "    print(authors[i].get_text(),end=',')\n",
    "    print(prices[i].get_text(), \"원 \")\n",
    "     "
   ]
  },
  {
   "cell_type": "code",
   "execution_count": 73,
   "metadata": {},
   "outputs": [],
   "source": [
    "from bs4 import BeautifulSoup\n",
    "import requests as req\n",
    "    \n",
    "basic_url = \"http://www.kma.go.kr/XML/weather/sfc_web_map.xml\"\n",
    "resp = req.get(basic_url)\n",
    "#resp.content"
   ]
  },
  {
   "cell_type": "code",
   "execution_count": 70,
   "metadata": {},
   "outputs": [],
   "source": [
    "soup = BeautifulSoup(resp.content, \"xml\") "
   ]
  },
  {
   "cell_type": "code",
   "execution_count": 74,
   "metadata": {},
   "outputs": [
    {
     "data": {
      "text/plain": [
       "<?xml version=\"1.0\" encoding=\"utf-8\"?>\n",
       "<current xmlns:=\"current\">\n",
       "<weather day=\"12\" hour=\"21\" month=\"05\" year=\"2020\">\n",
       "<local desc=\"구름조금\" icon=\"02\" rn_hr1=\"0.0\" stn_id=\"90\" ta=\"17.1\">속초</local>\n",
       "<local desc=\"구름조금\" icon=\"02\" rn_hr1=\"1.3\" stn_id=\"93\" ta=\"12.7\">북춘천</local>\n",
       "<local desc=\"구름많음\" icon=\"03\" rn_hr1=\"2.2\" stn_id=\"95\" ta=\"14.6\">철원</local>\n",
       "<local desc=\"맑음\" icon=\"01\" rn_hr1=\"3.6\" stn_id=\"98\" ta=\"12.5\">동두천</local>\n",
       "<local desc=\"맑음\" icon=\"01\" rn_hr1=\"0.9\" stn_id=\"99\" ta=\"13.8\">파주</local>\n",
       "<local desc=\"맑음\" icon=\"01\" rn_hr1=\"1.8\" stn_id=\"100\" ta=\"9.3\">대관령</local>\n",
       "<local desc=\"-\" icon=\"\" rn_hr1=\"1.5\" stn_id=\"101\" ta=\"15.4\">춘천</local>\n",
       "<local desc=\"맑음\" icon=\"01\" rn_hr1=\"0.0\" stn_id=\"102\" ta=\"11.8\">백령도</local>\n",
       "<local desc=\"구름조금\" icon=\"02\" rn_hr1=\"0.0\" stn_id=\"104\" ta=\"16.4\">북강릉</local>\n",
       "<local desc=\"맑음\" icon=\"01\" stn_id=\"105\" ta=\"17.5\">강릉</local>\n",
       "<local desc=\"구름조금\" icon=\"02\" rn_hr1=\"0.0\" stn_id=\"106\" ta=\"17.1\">동해</local>\n",
       "<local desc=\"맑음\" icon=\"01\" rn_hr1=\"0.7\" stn_id=\"108\" ta=\"14.8\">서울</local>\n",
       "<local desc=\"맑음\" icon=\"01\" rn_hr1=\"0.3\" stn_id=\"112\" ta=\"14.6\">인천</local>\n",
       "<local desc=\"구름많음\" icon=\"03\" rn_hr1=\"0.8\" stn_id=\"114\" ta=\"14.4\">원주</local>\n",
       "<local desc=\"구름조금\" icon=\"02\" stn_id=\"115\" ta=\"16.6\">울릉도</local>\n",
       "<local desc=\"맑음\" icon=\"01\" rn_hr1=\"1.0\" stn_id=\"119\" ta=\"13.3\">수원</local>\n",
       "<local desc=\"맑음\" icon=\"01\" rn_hr1=\"1.4\" stn_id=\"121\" ta=\"14.6\">영월</local>\n",
       "<local desc=\"맑음\" icon=\"01\" rn_hr1=\"1.1\" stn_id=\"127\" ta=\"14.1\">충주</local>\n",
       "<local desc=\"맑음\" icon=\"01\" rn_hr1=\"0.0\" stn_id=\"129\" ta=\"13.2\">서산</local>\n",
       "<local desc=\"맑음\" icon=\"01\" stn_id=\"130\" ta=\"17.6\">울진</local>\n",
       "<local desc=\"맑음\" icon=\"01\" rn_hr1=\"0.0\" stn_id=\"131\" ta=\"15.1\">청주</local>\n",
       "<local desc=\"맑음\" icon=\"01\" rn_hr1=\"0.2\" stn_id=\"133\" ta=\"14.3\">대전</local>\n",
       "<local desc=\"맑음\" icon=\"01\" rn_hr1=\"0.0\" stn_id=\"135\" ta=\"13.8\">추풍령</local>\n",
       "<local desc=\"맑음\" icon=\"01\" stn_id=\"136\" ta=\"15.1\">안동</local>\n",
       "<local desc=\"맑음\" icon=\"01\" rn_hr1=\"0.0\" stn_id=\"137\" ta=\"15.5\">상주</local>\n",
       "<local desc=\"맑음\" icon=\"01\" stn_id=\"138\" ta=\"19.9\">포항</local>\n",
       "<local desc=\"맑음\" icon=\"01\" rn_hr1=\"0.0\" stn_id=\"140\" ta=\"13.0\">군산</local>\n",
       "<local desc=\"맑음\" icon=\"01\" stn_id=\"143\" ta=\"18.3\">대구</local>\n",
       "<local desc=\"맑음\" icon=\"01\" stn_id=\"146\" ta=\"12.6\">전주</local>\n",
       "<local desc=\"맑음\" icon=\"01\" stn_id=\"152\" ta=\"18.6\">울산</local>\n",
       "<local desc=\"맑음\" icon=\"01\" stn_id=\"155\" ta=\"18.4\">창원</local>\n",
       "<local desc=\"맑음\" icon=\"01\" stn_id=\"156\" ta=\"13.7\">광주</local>\n",
       "<local desc=\"맑음\" icon=\"01\" stn_id=\"159\" ta=\"17.4\">부산</local>\n",
       "<local desc=\"맑음\" icon=\"01\" stn_id=\"162\" ta=\"18.4\">통영</local>\n",
       "<local desc=\"맑음\" icon=\"01\" stn_id=\"165\" ta=\"13.5\">목포</local>\n",
       "<local desc=\"맑음\" icon=\"01\" stn_id=\"168\" ta=\"17.2\">여수</local>\n",
       "<local desc=\"맑음\" icon=\"01\" stn_id=\"169\" ta=\"12.1\">흑산도</local>\n",
       "<local desc=\"맑음\" icon=\"01\" stn_id=\"170\" ta=\"14.2\">완도</local>\n",
       "<local desc=\"맑음\" icon=\"01\" stn_id=\"172\" ta=\"11.9\">고창</local>\n",
       "<local desc=\"맑음\" icon=\"01\" stn_id=\"174\" ta=\"13.8\">순천</local>\n",
       "<local desc=\"맑음\" icon=\"01\" rn_hr1=\"0.0\" stn_id=\"177\" ta=\"13.5\">홍성</local>\n",
       "<local desc=\"구름조금\" icon=\"02\" stn_id=\"184\" ta=\"15.3\">제주</local>\n",
       "<local desc=\"구름많음\" icon=\"03\" stn_id=\"185\" ta=\"14.3\">고산</local>\n",
       "<local desc=\"구름많음\" icon=\"03\" stn_id=\"188\" ta=\"16.3\">성산</local>\n",
       "<local desc=\"구름조금\" icon=\"02\" stn_id=\"189\" ta=\"19.0\">서귀포</local>\n",
       "<local desc=\"맑음\" icon=\"01\" stn_id=\"192\" ta=\"17.0\">진주</local>\n",
       "<local desc=\"맑음\" icon=\"01\" rn_hr1=\"0.0\" stn_id=\"201\" ta=\"13.0\">강화</local>\n",
       "<local desc=\"맑음\" icon=\"01\" rn_hr1=\"3.0\" stn_id=\"202\" ta=\"15.0\">양평</local>\n",
       "<local desc=\"맑음\" icon=\"01\" rn_hr1=\"0.6\" stn_id=\"203\" ta=\"13.6\">이천</local>\n",
       "<local desc=\"맑음\" icon=\"01\" rn_hr1=\"1.5\" stn_id=\"211\" ta=\"11.9\">인제</local>\n",
       "<local desc=\"맑음\" icon=\"01\" rn_hr1=\"2.4\" stn_id=\"212\" ta=\"12.5\">홍천</local>\n",
       "<local desc=\"맑음\" icon=\"01\" rn_hr1=\"0.6\" stn_id=\"216\" ta=\"11.5\">태백</local>\n",
       "<local desc=\"구름조금\" icon=\"02\" rn_hr1=\"1.5\" stn_id=\"217\" ta=\"15.1\">정선군</local>\n",
       "<local desc=\"구름조금\" icon=\"02\" rn_hr1=\"2.0\" stn_id=\"221\" ta=\"13.4\">제천</local>\n",
       "<local desc=\"맑음\" icon=\"01\" rn_hr1=\"0.0\" stn_id=\"226\" ta=\"13.9\">보은</local>\n",
       "<local desc=\"맑음\" icon=\"01\" rn_hr1=\"0.0\" stn_id=\"232\" ta=\"13.5\">천안</local>\n",
       "<local desc=\"맑음\" icon=\"01\" stn_id=\"235\" ta=\"11.1\">보령</local>\n",
       "<local desc=\"맑음\" icon=\"01\" rn_hr1=\"0.2\" stn_id=\"236\" ta=\"13.6\">부여</local>\n",
       "<local desc=\"맑음\" icon=\"01\" rn_hr1=\"0.3\" stn_id=\"238\" ta=\"13.1\">금산</local>\n",
       "<local desc=\"맑음\" icon=\"01\" rn_hr1=\"0.0\" stn_id=\"239\" ta=\"13.5\">세종</local>\n",
       "<local desc=\"맑음\" icon=\"01\" stn_id=\"243\" ta=\"12.7\">부안</local>\n",
       "<local desc=\"맑음\" icon=\"01\" stn_id=\"244\" ta=\"11.4\">임실</local>\n",
       "<local desc=\"맑음\" icon=\"01\" stn_id=\"245\" ta=\"12.2\">정읍</local>\n",
       "<local desc=\"맑음\" icon=\"01\" stn_id=\"247\" ta=\"13.2\">남원</local>\n",
       "<local desc=\"맑음\" icon=\"01\" stn_id=\"248\" ta=\"11.4\">장수</local>\n",
       "<local desc=\"맑음\" icon=\"01\" stn_id=\"251\" ta=\"10.8\">고창군</local>\n",
       "<local desc=\"맑음\" icon=\"01\" stn_id=\"252\" ta=\"11.4\">영광군</local>\n",
       "<local desc=\"맑음\" icon=\"01\" stn_id=\"253\" ta=\"18.9\">김해시</local>\n",
       "<local desc=\"맑음\" icon=\"01\" stn_id=\"254\" ta=\"13.0\">순창군</local>\n",
       "<local desc=\"맑음\" icon=\"01\" stn_id=\"255\" ta=\"17.9\">북창원</local>\n",
       "<local desc=\"맑음\" icon=\"01\" stn_id=\"257\" ta=\"18.1\">양산시</local>\n",
       "<local desc=\"맑음\" icon=\"01\" stn_id=\"258\" ta=\"14.2\">보성군</local>\n",
       "<local desc=\"맑음\" icon=\"01\" stn_id=\"259\" ta=\"14.0\">강진군</local>\n",
       "<local desc=\"맑음\" icon=\"01\" stn_id=\"260\" ta=\"13.8\">장흥</local>\n",
       "<local desc=\"맑음\" icon=\"01\" stn_id=\"261\" ta=\"13.1\">해남</local>\n",
       "<local desc=\"맑음\" icon=\"01\" stn_id=\"262\" ta=\"14.3\">고흥</local>\n",
       "<local desc=\"맑음\" icon=\"01\" stn_id=\"263\" ta=\"17.2\">의령군</local>\n",
       "<local desc=\"맑음\" icon=\"01\" stn_id=\"264\" ta=\"14.1\">함양군</local>\n",
       "<local desc=\"맑음\" icon=\"01\" stn_id=\"266\" ta=\"16.1\">광양시</local>\n",
       "<local desc=\"맑음\" icon=\"01\" stn_id=\"268\" ta=\"13.1\">진도군</local>\n",
       "<local desc=\"맑음\" icon=\"01\" rn_hr1=\"0.0\" stn_id=\"271\" ta=\"14.6\">봉화</local>\n",
       "<local desc=\"구름조금\" icon=\"02\" rn_hr1=\"0.2\" stn_id=\"272\" ta=\"14.2\">영주</local>\n",
       "<local desc=\"맑음\" icon=\"01\" rn_hr1=\"0.0\" stn_id=\"273\" ta=\"14.4\">문경</local>\n",
       "<local desc=\"맑음\" icon=\"01\" stn_id=\"276\" ta=\"15.9\">청송군</local>\n",
       "<local desc=\"맑음\" icon=\"01\" stn_id=\"277\" ta=\"17.6\">영덕</local>\n",
       "<local desc=\"맑음\" icon=\"01\" stn_id=\"278\" ta=\"16.4\">의성</local>\n",
       "<local desc=\"맑음\" icon=\"01\" stn_id=\"279\" ta=\"17.1\">구미</local>\n",
       "<local desc=\"맑음\" icon=\"01\" stn_id=\"281\" ta=\"17.6\">영천</local>\n",
       "<local desc=\"맑음\" icon=\"01\" stn_id=\"283\" ta=\"18.9\">경주시</local>\n",
       "<local desc=\"맑음\" icon=\"01\" stn_id=\"284\" ta=\"13.9\">거창</local>\n",
       "<local desc=\"맑음\" icon=\"01\" stn_id=\"285\" ta=\"17.0\">합천</local>\n",
       "<local desc=\"맑음\" icon=\"01\" stn_id=\"288\" ta=\"18.6\">밀양</local>\n",
       "<local desc=\"맑음\" icon=\"01\" stn_id=\"289\" ta=\"14.6\">산청</local>\n",
       "<local desc=\"맑음\" icon=\"01\" stn_id=\"294\" ta=\"18.2\">거제</local>\n",
       "<local desc=\"맑음\" icon=\"01\" stn_id=\"295\" ta=\"17.7\">남해</local>\n",
       "</weather>\n",
       "</current>"
      ]
     },
     "execution_count": 74,
     "metadata": {},
     "output_type": "execute_result"
    }
   ],
   "source": [
    "soup"
   ]
  },
  {
   "cell_type": "code",
   "execution_count": 71,
   "metadata": {},
   "outputs": [],
   "source": [
    "locals = soup.find_all('local')"
   ]
  },
  {
   "cell_type": "code",
   "execution_count": 83,
   "metadata": {},
   "outputs": [
    {
     "name": "stdout",
     "output_type": "stream",
     "text": [
      "속초,17.1,구름조금\n",
      "북춘천,12.7,구름조금\n",
      "철원,14.6,구름많음\n",
      "동두천,12.5,맑음\n",
      "파주,13.8,맑음\n",
      "대관령,9.3,맑음\n",
      "춘천,15.4,-\n",
      "백령도,11.8,맑음\n",
      "북강릉,16.4,구름조금\n",
      "강릉,17.5,맑음\n",
      "동해,17.1,구름조금\n",
      "서울,14.8,맑음\n",
      "인천,14.6,맑음\n",
      "원주,14.4,구름많음\n",
      "울릉도,16.6,구름조금\n",
      "수원,13.3,맑음\n",
      "영월,14.6,맑음\n",
      "충주,14.1,맑음\n",
      "서산,13.2,맑음\n",
      "울진,17.6,맑음\n",
      "청주,15.1,맑음\n",
      "대전,14.3,맑음\n",
      "추풍령,13.8,맑음\n",
      "안동,15.1,맑음\n",
      "상주,15.5,맑음\n",
      "포항,19.9,맑음\n",
      "군산,13.0,맑음\n",
      "대구,18.3,맑음\n",
      "전주,12.6,맑음\n",
      "울산,18.6,맑음\n",
      "창원,18.4,맑음\n",
      "광주,13.7,맑음\n",
      "부산,17.4,맑음\n",
      "통영,18.4,맑음\n",
      "목포,13.5,맑음\n",
      "여수,17.2,맑음\n",
      "흑산도,12.1,맑음\n",
      "완도,14.2,맑음\n",
      "고창,11.9,맑음\n",
      "순천,13.8,맑음\n",
      "홍성,13.5,맑음\n",
      "제주,15.3,구름조금\n",
      "고산,14.3,구름많음\n",
      "성산,16.3,구름많음\n",
      "서귀포,19.0,구름조금\n",
      "진주,17.0,맑음\n",
      "강화,13.0,맑음\n",
      "양평,15.0,맑음\n",
      "이천,13.6,맑음\n",
      "인제,11.9,맑음\n",
      "홍천,12.5,맑음\n",
      "태백,11.5,맑음\n",
      "정선군,15.1,구름조금\n",
      "제천,13.4,구름조금\n",
      "보은,13.9,맑음\n",
      "천안,13.5,맑음\n",
      "보령,11.1,맑음\n",
      "부여,13.6,맑음\n",
      "금산,13.1,맑음\n",
      "세종,13.5,맑음\n",
      "부안,12.7,맑음\n",
      "임실,11.4,맑음\n",
      "정읍,12.2,맑음\n",
      "남원,13.2,맑음\n",
      "장수,11.4,맑음\n",
      "고창군,10.8,맑음\n",
      "영광군,11.4,맑음\n",
      "김해시,18.9,맑음\n",
      "순창군,13.0,맑음\n",
      "북창원,17.9,맑음\n",
      "양산시,18.1,맑음\n",
      "보성군,14.2,맑음\n",
      "강진군,14.0,맑음\n",
      "장흥,13.8,맑음\n",
      "해남,13.1,맑음\n",
      "고흥,14.3,맑음\n",
      "의령군,17.2,맑음\n",
      "함양군,14.1,맑음\n",
      "광양시,16.1,맑음\n",
      "진도군,13.1,맑음\n",
      "봉화,14.6,맑음\n",
      "영주,14.2,구름조금\n",
      "문경,14.4,맑음\n",
      "청송군,15.9,맑음\n",
      "영덕,17.6,맑음\n",
      "의성,16.4,맑음\n",
      "구미,17.1,맑음\n",
      "영천,17.6,맑음\n",
      "경주시,18.9,맑음\n",
      "거창,13.9,맑음\n",
      "합천,17.0,맑음\n",
      "밀양,18.6,맑음\n",
      "산청,14.6,맑음\n",
      "거제,18.2,맑음\n",
      "남해,17.7,맑음\n"
     ]
    }
   ],
   "source": [
    "temp = []\n",
    "for i in range(0, len(locals)):\n",
    "    print(locals[i].get_text(), end=\",\")\n",
    "    print(locals[i]['ta'], end=\",\")\n",
    "    print(locals[i]['desc'])\n",
    "    temp.append(float(locals[i]['ta']))"
   ]
  },
  {
   "cell_type": "code",
   "execution_count": 85,
   "metadata": {},
   "outputs": [],
   "source": [
    "import numpy as np\n",
    "\n",
    "ar = np.array(temp)"
   ]
  },
  {
   "cell_type": "code",
   "execution_count": 86,
   "metadata": {},
   "outputs": [
    {
     "data": {
      "text/plain": [
       "19.9"
      ]
     },
     "execution_count": 86,
     "metadata": {},
     "output_type": "execute_result"
    }
   ],
   "source": [
    "ar.max()"
   ]
  },
  {
   "cell_type": "code",
   "execution_count": 87,
   "metadata": {},
   "outputs": [
    {
     "data": {
      "text/plain": [
       "9.3"
      ]
     },
     "execution_count": 87,
     "metadata": {},
     "output_type": "execute_result"
    }
   ],
   "source": [
    "ar.min()"
   ]
  }
 ],
 "metadata": {
  "kernelspec": {
   "display_name": "Python 3",
   "language": "python",
   "name": "python3"
  },
  "language_info": {
   "codemirror_mode": {
    "name": "ipython",
    "version": 3
   },
   "file_extension": ".py",
   "mimetype": "text/x-python",
   "name": "python",
   "nbconvert_exporter": "python",
   "pygments_lexer": "ipython3",
   "version": "3.7.4"
  }
 },
 "nbformat": 4,
 "nbformat_minor": 2
}
