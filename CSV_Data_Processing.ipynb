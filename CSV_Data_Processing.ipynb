{
 "cells": [
  {
   "cell_type": "code",
   "execution_count": 1,
   "metadata": {},
   "outputs": [],
   "source": [
    "import pandas as pd"
   ]
  },
  {
   "cell_type": "markdown",
   "metadata": {},
   "source": [
    "오픈 API 호출을 통해 수집되어진 자료를 CSV로 저장하여 데이터 전처리 및 EDA 분석 수행"
   ]
  },
  {
   "cell_type": "code",
   "execution_count": 2,
   "metadata": {},
   "outputs": [],
   "source": [
    "localurl='April_sensor_data.csv'\n",
    "try:\n",
    "    df = pd.read_csv(localurl)\n",
    "except  OSError as err:\n",
    "    print(\"OS error: {0}\".format(err))\n"
   ]
  },
  {
   "cell_type": "code",
   "execution_count": 3,
   "metadata": {},
   "outputs": [
    {
     "data": {
      "text/html": [
       "<div>\n",
       "<style scoped>\n",
       "    .dataframe tbody tr th:only-of-type {\n",
       "        vertical-align: middle;\n",
       "    }\n",
       "\n",
       "    .dataframe tbody tr th {\n",
       "        vertical-align: top;\n",
       "    }\n",
       "\n",
       "    .dataframe thead th {\n",
       "        text-align: right;\n",
       "    }\n",
       "</style>\n",
       "<table border=\"1\" class=\"dataframe\">\n",
       "  <thead>\n",
       "    <tr style=\"text-align: right;\">\n",
       "      <th></th>\n",
       "      <th>NO</th>\n",
       "      <th>REG_DATE</th>\n",
       "      <th>PM2.5</th>\n",
       "      <th>PM10.0</th>\n",
       "      <th>Temperature</th>\n",
       "      <th>Huminity</th>\n",
       "      <th>TVOC</th>\n",
       "      <th>CO2</th>\n",
       "    </tr>\n",
       "  </thead>\n",
       "  <tbody>\n",
       "    <tr>\n",
       "      <th>0</th>\n",
       "      <td>1</td>\n",
       "      <td>2020-04-02 0:00</td>\n",
       "      <td>7.54</td>\n",
       "      <td>6.19</td>\n",
       "      <td>21.6</td>\n",
       "      <td>22.1</td>\n",
       "      <td>1.86</td>\n",
       "      <td>4.16</td>\n",
       "    </tr>\n",
       "    <tr>\n",
       "      <th>1</th>\n",
       "      <td>2</td>\n",
       "      <td>2020-04-02 0:01</td>\n",
       "      <td>7.83</td>\n",
       "      <td>6.19</td>\n",
       "      <td>21.6</td>\n",
       "      <td>22.1</td>\n",
       "      <td>1.85</td>\n",
       "      <td>4.15</td>\n",
       "    </tr>\n",
       "    <tr>\n",
       "      <th>2</th>\n",
       "      <td>3</td>\n",
       "      <td>2020-04-02 0:02</td>\n",
       "      <td>7.54</td>\n",
       "      <td>6.19</td>\n",
       "      <td>21.6</td>\n",
       "      <td>22.1</td>\n",
       "      <td>1.86</td>\n",
       "      <td>4.20</td>\n",
       "    </tr>\n",
       "    <tr>\n",
       "      <th>3</th>\n",
       "      <td>4</td>\n",
       "      <td>2020-04-02 0:03</td>\n",
       "      <td>7.83</td>\n",
       "      <td>6.19</td>\n",
       "      <td>21.5</td>\n",
       "      <td>22.1</td>\n",
       "      <td>1.81</td>\n",
       "      <td>4.17</td>\n",
       "    </tr>\n",
       "    <tr>\n",
       "      <th>4</th>\n",
       "      <td>5</td>\n",
       "      <td>2020-04-02 0:04</td>\n",
       "      <td>8.12</td>\n",
       "      <td>6.19</td>\n",
       "      <td>21.6</td>\n",
       "      <td>22.1</td>\n",
       "      <td>1.85</td>\n",
       "      <td>4.20</td>\n",
       "    </tr>\n",
       "  </tbody>\n",
       "</table>\n",
       "</div>"
      ],
      "text/plain": [
       "   NO         REG_DATE  PM2.5  PM10.0  Temperature  Huminity  TVOC   CO2\n",
       "0   1  2020-04-02 0:00   7.54    6.19         21.6      22.1  1.86  4.16\n",
       "1   2  2020-04-02 0:01   7.83    6.19         21.6      22.1  1.85  4.15\n",
       "2   3  2020-04-02 0:02   7.54    6.19         21.6      22.1  1.86  4.20\n",
       "3   4  2020-04-02 0:03   7.83    6.19         21.5      22.1  1.81  4.17\n",
       "4   5  2020-04-02 0:04   8.12    6.19         21.6      22.1  1.85  4.20"
      ]
     },
     "execution_count": 3,
     "metadata": {},
     "output_type": "execute_result"
    }
   ],
   "source": [
    "#관측값(관찰값)\n",
    "df.head()"
   ]
  },
  {
   "cell_type": "code",
   "execution_count": 4,
   "metadata": {},
   "outputs": [
    {
     "data": {
      "text/html": [
       "<div>\n",
       "<style scoped>\n",
       "    .dataframe tbody tr th:only-of-type {\n",
       "        vertical-align: middle;\n",
       "    }\n",
       "\n",
       "    .dataframe tbody tr th {\n",
       "        vertical-align: top;\n",
       "    }\n",
       "\n",
       "    .dataframe thead th {\n",
       "        text-align: right;\n",
       "    }\n",
       "</style>\n",
       "<table border=\"1\" class=\"dataframe\">\n",
       "  <thead>\n",
       "    <tr style=\"text-align: right;\">\n",
       "      <th></th>\n",
       "      <th>NO</th>\n",
       "      <th>REG_DATE</th>\n",
       "      <th>PM2.5</th>\n",
       "      <th>PM10.0</th>\n",
       "      <th>Temperature</th>\n",
       "      <th>Huminity</th>\n",
       "      <th>TVOC</th>\n",
       "      <th>CO2</th>\n",
       "    </tr>\n",
       "  </thead>\n",
       "  <tbody>\n",
       "    <tr>\n",
       "      <th>25915</th>\n",
       "      <td>25916</td>\n",
       "      <td>2020-04-19 23:55</td>\n",
       "      <td>4.35</td>\n",
       "      <td>4.35</td>\n",
       "      <td>20.6</td>\n",
       "      <td>42.3</td>\n",
       "      <td>1.76</td>\n",
       "      <td>7.70</td>\n",
       "    </tr>\n",
       "    <tr>\n",
       "      <th>25916</th>\n",
       "      <td>25917</td>\n",
       "      <td>2020-04-19 23:56</td>\n",
       "      <td>4.21</td>\n",
       "      <td>4.22</td>\n",
       "      <td>20.6</td>\n",
       "      <td>42.3</td>\n",
       "      <td>1.78</td>\n",
       "      <td>7.69</td>\n",
       "    </tr>\n",
       "    <tr>\n",
       "      <th>25917</th>\n",
       "      <td>25918</td>\n",
       "      <td>2020-04-19 23:57</td>\n",
       "      <td>5.07</td>\n",
       "      <td>5.07</td>\n",
       "      <td>20.6</td>\n",
       "      <td>42.3</td>\n",
       "      <td>1.76</td>\n",
       "      <td>7.66</td>\n",
       "    </tr>\n",
       "    <tr>\n",
       "      <th>25918</th>\n",
       "      <td>25919</td>\n",
       "      <td>2020-04-19 23:58</td>\n",
       "      <td>3.90</td>\n",
       "      <td>3.90</td>\n",
       "      <td>20.6</td>\n",
       "      <td>42.3</td>\n",
       "      <td>1.77</td>\n",
       "      <td>7.71</td>\n",
       "    </tr>\n",
       "    <tr>\n",
       "      <th>25919</th>\n",
       "      <td>25920</td>\n",
       "      <td>2020-04-19 23:59</td>\n",
       "      <td>4.64</td>\n",
       "      <td>4.64</td>\n",
       "      <td>20.6</td>\n",
       "      <td>42.3</td>\n",
       "      <td>1.74</td>\n",
       "      <td>7.70</td>\n",
       "    </tr>\n",
       "  </tbody>\n",
       "</table>\n",
       "</div>"
      ],
      "text/plain": [
       "          NO          REG_DATE  PM2.5  PM10.0  Temperature  Huminity  TVOC  \\\n",
       "25915  25916  2020-04-19 23:55   4.35    4.35         20.6      42.3  1.76   \n",
       "25916  25917  2020-04-19 23:56   4.21    4.22         20.6      42.3  1.78   \n",
       "25917  25918  2020-04-19 23:57   5.07    5.07         20.6      42.3  1.76   \n",
       "25918  25919  2020-04-19 23:58   3.90    3.90         20.6      42.3  1.77   \n",
       "25919  25920  2020-04-19 23:59   4.64    4.64         20.6      42.3  1.74   \n",
       "\n",
       "        CO2  \n",
       "25915  7.70  \n",
       "25916  7.69  \n",
       "25917  7.66  \n",
       "25918  7.71  \n",
       "25919  7.70  "
      ]
     },
     "execution_count": 4,
     "metadata": {},
     "output_type": "execute_result"
    }
   ],
   "source": [
    "df.tail()"
   ]
  },
  {
   "cell_type": "code",
   "execution_count": 5,
   "metadata": {},
   "outputs": [
    {
     "data": {
      "text/plain": [
       "Index(['NO', 'REG_DATE', 'PM2.5', 'PM10.0', 'Temperature', 'Huminity', 'TVOC',\n",
       "       'CO2'],\n",
       "      dtype='object')"
      ]
     },
     "execution_count": 5,
     "metadata": {},
     "output_type": "execute_result"
    }
   ],
   "source": [
    "df.columns"
   ]
  },
  {
   "cell_type": "code",
   "execution_count": 6,
   "metadata": {},
   "outputs": [],
   "source": [
    "df.drop('NO', axis=1, inplace=True)"
   ]
  },
  {
   "cell_type": "code",
   "execution_count": 7,
   "metadata": {},
   "outputs": [
    {
     "data": {
      "text/plain": [
       "Index(['REG_DATE', 'PM2.5', 'PM10.0', 'Temperature', 'Huminity', 'TVOC',\n",
       "       'CO2'],\n",
       "      dtype='object')"
      ]
     },
     "execution_count": 7,
     "metadata": {},
     "output_type": "execute_result"
    }
   ],
   "source": [
    "df.columns"
   ]
  },
  {
   "cell_type": "code",
   "execution_count": 8,
   "metadata": {},
   "outputs": [],
   "source": [
    "df = df.rename(columns={'Huminity': 'Humidity', 'PM2.5' :'PM25', 'PM10.0':'PM100'})"
   ]
  },
  {
   "cell_type": "code",
   "execution_count": 9,
   "metadata": {},
   "outputs": [
    {
     "data": {
      "text/plain": [
       "Index(['REG_DATE', 'PM25', 'PM100', 'Temperature', 'Humidity', 'TVOC', 'CO2'], dtype='object')"
      ]
     },
     "execution_count": 9,
     "metadata": {},
     "output_type": "execute_result"
    }
   ],
   "source": [
    "df.columns"
   ]
  },
  {
   "cell_type": "markdown",
   "metadata": {},
   "source": [
    "데이터 값 살펴보기"
   ]
  },
  {
   "cell_type": "code",
   "execution_count": 10,
   "metadata": {},
   "outputs": [
    {
     "data": {
      "text/plain": [
       "683    25.2\n",
       "680    25.1\n",
       "681    25.1\n",
       "682    25.1\n",
       "684    25.1\n",
       "Name: Temperature, dtype: float64"
      ]
     },
     "execution_count": 10,
     "metadata": {},
     "output_type": "execute_result"
    }
   ],
   "source": [
    "df['Temperature'].nlargest(5)"
   ]
  },
  {
   "cell_type": "code",
   "execution_count": 11,
   "metadata": {},
   "outputs": [
    {
     "data": {
      "text/plain": [
       "18.1"
      ]
     },
     "execution_count": 11,
     "metadata": {},
     "output_type": "execute_result"
    }
   ],
   "source": [
    "df['Temperature'].min() "
   ]
  },
  {
   "cell_type": "code",
   "execution_count": 12,
   "metadata": {},
   "outputs": [
    {
     "data": {
      "text/plain": [
       "25.2"
      ]
     },
     "execution_count": 12,
     "metadata": {},
     "output_type": "execute_result"
    }
   ],
   "source": [
    "df['Temperature'].max()"
   ]
  },
  {
   "cell_type": "code",
   "execution_count": 13,
   "metadata": {
    "scrolled": true
   },
   "outputs": [
    {
     "data": {
      "text/html": [
       "<div>\n",
       "<style scoped>\n",
       "    .dataframe tbody tr th:only-of-type {\n",
       "        vertical-align: middle;\n",
       "    }\n",
       "\n",
       "    .dataframe tbody tr th {\n",
       "        vertical-align: top;\n",
       "    }\n",
       "\n",
       "    .dataframe thead th {\n",
       "        text-align: right;\n",
       "    }\n",
       "</style>\n",
       "<table border=\"1\" class=\"dataframe\">\n",
       "  <thead>\n",
       "    <tr style=\"text-align: right;\">\n",
       "      <th></th>\n",
       "      <th>REG_DATE</th>\n",
       "      <th>PM25</th>\n",
       "      <th>PM100</th>\n",
       "      <th>Temperature</th>\n",
       "      <th>Humidity</th>\n",
       "      <th>TVOC</th>\n",
       "      <th>CO2</th>\n",
       "    </tr>\n",
       "  </thead>\n",
       "  <tbody>\n",
       "    <tr>\n",
       "      <th>683</th>\n",
       "      <td>2020-04-02 11:23</td>\n",
       "      <td>11.03</td>\n",
       "      <td>12.38</td>\n",
       "      <td>25.2</td>\n",
       "      <td>19.6</td>\n",
       "      <td>2.58</td>\n",
       "      <td>4.49</td>\n",
       "    </tr>\n",
       "    <tr>\n",
       "      <th>680</th>\n",
       "      <td>2020-04-02 11:20</td>\n",
       "      <td>10.74</td>\n",
       "      <td>12.38</td>\n",
       "      <td>25.1</td>\n",
       "      <td>19.7</td>\n",
       "      <td>2.63</td>\n",
       "      <td>4.62</td>\n",
       "    </tr>\n",
       "    <tr>\n",
       "      <th>681</th>\n",
       "      <td>2020-04-02 11:21</td>\n",
       "      <td>10.16</td>\n",
       "      <td>12.38</td>\n",
       "      <td>25.1</td>\n",
       "      <td>19.5</td>\n",
       "      <td>2.58</td>\n",
       "      <td>4.54</td>\n",
       "    </tr>\n",
       "    <tr>\n",
       "      <th>682</th>\n",
       "      <td>2020-04-02 11:22</td>\n",
       "      <td>10.45</td>\n",
       "      <td>12.38</td>\n",
       "      <td>25.1</td>\n",
       "      <td>19.5</td>\n",
       "      <td>2.58</td>\n",
       "      <td>4.46</td>\n",
       "    </tr>\n",
       "    <tr>\n",
       "      <th>684</th>\n",
       "      <td>2020-04-02 11:24</td>\n",
       "      <td>11.32</td>\n",
       "      <td>12.38</td>\n",
       "      <td>25.1</td>\n",
       "      <td>19.6</td>\n",
       "      <td>2.55</td>\n",
       "      <td>4.50</td>\n",
       "    </tr>\n",
       "  </tbody>\n",
       "</table>\n",
       "</div>"
      ],
      "text/plain": [
       "             REG_DATE   PM25  PM100  Temperature  Humidity  TVOC   CO2\n",
       "683  2020-04-02 11:23  11.03  12.38         25.2      19.6  2.58  4.49\n",
       "680  2020-04-02 11:20  10.74  12.38         25.1      19.7  2.63  4.62\n",
       "681  2020-04-02 11:21  10.16  12.38         25.1      19.5  2.58  4.54\n",
       "682  2020-04-02 11:22  10.45  12.38         25.1      19.5  2.58  4.46\n",
       "684  2020-04-02 11:24  11.32  12.38         25.1      19.6  2.55  4.50"
      ]
     },
     "execution_count": 13,
     "metadata": {},
     "output_type": "execute_result"
    }
   ],
   "source": [
    "df.nlargest(5, columns='Temperature')"
   ]
  },
  {
   "cell_type": "code",
   "execution_count": 14,
   "metadata": {},
   "outputs": [
    {
     "data": {
      "text/html": [
       "<div>\n",
       "<style scoped>\n",
       "    .dataframe tbody tr th:only-of-type {\n",
       "        vertical-align: middle;\n",
       "    }\n",
       "\n",
       "    .dataframe tbody tr th {\n",
       "        vertical-align: top;\n",
       "    }\n",
       "\n",
       "    .dataframe thead th {\n",
       "        text-align: right;\n",
       "    }\n",
       "</style>\n",
       "<table border=\"1\" class=\"dataframe\">\n",
       "  <thead>\n",
       "    <tr style=\"text-align: right;\">\n",
       "      <th></th>\n",
       "      <th>REG_DATE</th>\n",
       "      <th>PM25</th>\n",
       "      <th>PM100</th>\n",
       "      <th>Temperature</th>\n",
       "      <th>Humidity</th>\n",
       "      <th>TVOC</th>\n",
       "      <th>CO2</th>\n",
       "    </tr>\n",
       "  </thead>\n",
       "  <tbody>\n",
       "    <tr>\n",
       "      <th>10671</th>\n",
       "      <td>2020-04-09 9:51</td>\n",
       "      <td>14.22</td>\n",
       "      <td>12.38</td>\n",
       "      <td>18.1</td>\n",
       "      <td>21.0</td>\n",
       "      <td>1.39</td>\n",
       "      <td>3.22</td>\n",
       "    </tr>\n",
       "    <tr>\n",
       "      <th>10672</th>\n",
       "      <td>2020-04-09 9:52</td>\n",
       "      <td>13.35</td>\n",
       "      <td>12.38</td>\n",
       "      <td>18.1</td>\n",
       "      <td>21.1</td>\n",
       "      <td>1.42</td>\n",
       "      <td>3.25</td>\n",
       "    </tr>\n",
       "    <tr>\n",
       "      <th>10669</th>\n",
       "      <td>2020-04-09 9:49</td>\n",
       "      <td>15.09</td>\n",
       "      <td>12.38</td>\n",
       "      <td>18.2</td>\n",
       "      <td>20.9</td>\n",
       "      <td>1.38</td>\n",
       "      <td>3.29</td>\n",
       "    </tr>\n",
       "    <tr>\n",
       "      <th>10670</th>\n",
       "      <td>2020-04-09 9:50</td>\n",
       "      <td>14.22</td>\n",
       "      <td>12.38</td>\n",
       "      <td>18.2</td>\n",
       "      <td>21.0</td>\n",
       "      <td>1.35</td>\n",
       "      <td>3.22</td>\n",
       "    </tr>\n",
       "    <tr>\n",
       "      <th>10673</th>\n",
       "      <td>2020-04-09 9:53</td>\n",
       "      <td>13.06</td>\n",
       "      <td>12.38</td>\n",
       "      <td>18.2</td>\n",
       "      <td>21.1</td>\n",
       "      <td>1.44</td>\n",
       "      <td>3.27</td>\n",
       "    </tr>\n",
       "  </tbody>\n",
       "</table>\n",
       "</div>"
      ],
      "text/plain": [
       "              REG_DATE   PM25  PM100  Temperature  Humidity  TVOC   CO2\n",
       "10671  2020-04-09 9:51  14.22  12.38         18.1      21.0  1.39  3.22\n",
       "10672  2020-04-09 9:52  13.35  12.38         18.1      21.1  1.42  3.25\n",
       "10669  2020-04-09 9:49  15.09  12.38         18.2      20.9  1.38  3.29\n",
       "10670  2020-04-09 9:50  14.22  12.38         18.2      21.0  1.35  3.22\n",
       "10673  2020-04-09 9:53  13.06  12.38         18.2      21.1  1.44  3.27"
      ]
     },
     "execution_count": 14,
     "metadata": {},
     "output_type": "execute_result"
    }
   ],
   "source": [
    "df.nsmallest(5, columns='Temperature')"
   ]
  },
  {
   "cell_type": "code",
   "execution_count": 15,
   "metadata": {},
   "outputs": [
    {
     "data": {
      "text/plain": [
       "10671    18.1\n",
       "10672    18.1\n",
       "10669    18.2\n",
       "Name: Temperature, dtype: float64"
      ]
     },
     "execution_count": 15,
     "metadata": {},
     "output_type": "execute_result"
    }
   ],
   "source": [
    "df['Temperature'].nsmallest(3)"
   ]
  },
  {
   "cell_type": "code",
   "execution_count": 16,
   "metadata": {},
   "outputs": [
    {
     "data": {
      "text/plain": [
       "18.1"
      ]
     },
     "execution_count": 16,
     "metadata": {},
     "output_type": "execute_result"
    }
   ],
   "source": [
    "df['Temperature'].min()"
   ]
  },
  {
   "cell_type": "code",
   "execution_count": 17,
   "metadata": {},
   "outputs": [
    {
     "data": {
      "text/html": [
       "<div>\n",
       "<style scoped>\n",
       "    .dataframe tbody tr th:only-of-type {\n",
       "        vertical-align: middle;\n",
       "    }\n",
       "\n",
       "    .dataframe tbody tr th {\n",
       "        vertical-align: top;\n",
       "    }\n",
       "\n",
       "    .dataframe thead th {\n",
       "        text-align: right;\n",
       "    }\n",
       "</style>\n",
       "<table border=\"1\" class=\"dataframe\">\n",
       "  <thead>\n",
       "    <tr style=\"text-align: right;\">\n",
       "      <th></th>\n",
       "      <th>REG_DATE</th>\n",
       "      <th>PM25</th>\n",
       "      <th>PM100</th>\n",
       "      <th>Temperature</th>\n",
       "      <th>Humidity</th>\n",
       "      <th>TVOC</th>\n",
       "      <th>CO2</th>\n",
       "    </tr>\n",
       "  </thead>\n",
       "  <tbody>\n",
       "    <tr>\n",
       "      <th>5071</th>\n",
       "      <td>2020-04-05 12:31</td>\n",
       "      <td>15.38</td>\n",
       "      <td>18.57</td>\n",
       "      <td>19.5</td>\n",
       "      <td>13.3</td>\n",
       "      <td>1.55</td>\n",
       "      <td>1.92</td>\n",
       "    </tr>\n",
       "    <tr>\n",
       "      <th>5072</th>\n",
       "      <td>2020-04-05 12:32</td>\n",
       "      <td>16.54</td>\n",
       "      <td>18.57</td>\n",
       "      <td>19.5</td>\n",
       "      <td>13.4</td>\n",
       "      <td>1.56</td>\n",
       "      <td>1.98</td>\n",
       "    </tr>\n",
       "    <tr>\n",
       "      <th>5073</th>\n",
       "      <td>2020-04-05 12:33</td>\n",
       "      <td>15.67</td>\n",
       "      <td>18.57</td>\n",
       "      <td>19.6</td>\n",
       "      <td>13.4</td>\n",
       "      <td>1.53</td>\n",
       "      <td>1.90</td>\n",
       "    </tr>\n",
       "    <tr>\n",
       "      <th>5074</th>\n",
       "      <td>2020-04-05 12:34</td>\n",
       "      <td>15.09</td>\n",
       "      <td>12.38</td>\n",
       "      <td>19.6</td>\n",
       "      <td>13.4</td>\n",
       "      <td>1.55</td>\n",
       "      <td>1.98</td>\n",
       "    </tr>\n",
       "    <tr>\n",
       "      <th>5070</th>\n",
       "      <td>2020-04-05 12:30</td>\n",
       "      <td>15.67</td>\n",
       "      <td>18.57</td>\n",
       "      <td>19.5</td>\n",
       "      <td>13.5</td>\n",
       "      <td>1.54</td>\n",
       "      <td>1.98</td>\n",
       "    </tr>\n",
       "  </tbody>\n",
       "</table>\n",
       "</div>"
      ],
      "text/plain": [
       "              REG_DATE   PM25  PM100  Temperature  Humidity  TVOC   CO2\n",
       "5071  2020-04-05 12:31  15.38  18.57         19.5      13.3  1.55  1.92\n",
       "5072  2020-04-05 12:32  16.54  18.57         19.5      13.4  1.56  1.98\n",
       "5073  2020-04-05 12:33  15.67  18.57         19.6      13.4  1.53  1.90\n",
       "5074  2020-04-05 12:34  15.09  12.38         19.6      13.4  1.55  1.98\n",
       "5070  2020-04-05 12:30  15.67  18.57         19.5      13.5  1.54  1.98"
      ]
     },
     "execution_count": 17,
     "metadata": {},
     "output_type": "execute_result"
    }
   ],
   "source": [
    "df.nsmallest(5, columns='Humidity')"
   ]
  },
  {
   "cell_type": "code",
   "execution_count": 18,
   "metadata": {},
   "outputs": [
    {
     "data": {
      "text/html": [
       "<div>\n",
       "<style scoped>\n",
       "    .dataframe tbody tr th:only-of-type {\n",
       "        vertical-align: middle;\n",
       "    }\n",
       "\n",
       "    .dataframe tbody tr th {\n",
       "        vertical-align: top;\n",
       "    }\n",
       "\n",
       "    .dataframe thead th {\n",
       "        text-align: right;\n",
       "    }\n",
       "</style>\n",
       "<table border=\"1\" class=\"dataframe\">\n",
       "  <thead>\n",
       "    <tr style=\"text-align: right;\">\n",
       "      <th></th>\n",
       "      <th>REG_DATE</th>\n",
       "      <th>PM25</th>\n",
       "      <th>PM100</th>\n",
       "      <th>Temperature</th>\n",
       "      <th>Humidity</th>\n",
       "      <th>TVOC</th>\n",
       "      <th>CO2</th>\n",
       "    </tr>\n",
       "  </thead>\n",
       "  <tbody>\n",
       "    <tr>\n",
       "      <th>25735</th>\n",
       "      <td>2020-04-19 20:55</td>\n",
       "      <td>10.25</td>\n",
       "      <td>10.25</td>\n",
       "      <td>20.7</td>\n",
       "      <td>43.4</td>\n",
       "      <td>1.88</td>\n",
       "      <td>7.95</td>\n",
       "    </tr>\n",
       "    <tr>\n",
       "      <th>25736</th>\n",
       "      <td>2020-04-19 20:56</td>\n",
       "      <td>10.01</td>\n",
       "      <td>10.01</td>\n",
       "      <td>20.7</td>\n",
       "      <td>43.4</td>\n",
       "      <td>1.88</td>\n",
       "      <td>7.98</td>\n",
       "    </tr>\n",
       "    <tr>\n",
       "      <th>25737</th>\n",
       "      <td>2020-04-19 20:57</td>\n",
       "      <td>9.38</td>\n",
       "      <td>9.38</td>\n",
       "      <td>20.7</td>\n",
       "      <td>43.4</td>\n",
       "      <td>1.86</td>\n",
       "      <td>7.97</td>\n",
       "    </tr>\n",
       "    <tr>\n",
       "      <th>25740</th>\n",
       "      <td>2020-04-19 21:00</td>\n",
       "      <td>8.97</td>\n",
       "      <td>8.97</td>\n",
       "      <td>20.7</td>\n",
       "      <td>43.4</td>\n",
       "      <td>1.89</td>\n",
       "      <td>7.92</td>\n",
       "    </tr>\n",
       "    <tr>\n",
       "      <th>25741</th>\n",
       "      <td>2020-04-19 21:01</td>\n",
       "      <td>9.67</td>\n",
       "      <td>9.67</td>\n",
       "      <td>20.7</td>\n",
       "      <td>43.4</td>\n",
       "      <td>1.87</td>\n",
       "      <td>7.93</td>\n",
       "    </tr>\n",
       "  </tbody>\n",
       "</table>\n",
       "</div>"
      ],
      "text/plain": [
       "               REG_DATE   PM25  PM100  Temperature  Humidity  TVOC   CO2\n",
       "25735  2020-04-19 20:55  10.25  10.25         20.7      43.4  1.88  7.95\n",
       "25736  2020-04-19 20:56  10.01  10.01         20.7      43.4  1.88  7.98\n",
       "25737  2020-04-19 20:57   9.38   9.38         20.7      43.4  1.86  7.97\n",
       "25740  2020-04-19 21:00   8.97   8.97         20.7      43.4  1.89  7.92\n",
       "25741  2020-04-19 21:01   9.67   9.67         20.7      43.4  1.87  7.93"
      ]
     },
     "execution_count": 18,
     "metadata": {},
     "output_type": "execute_result"
    }
   ],
   "source": [
    "df.nlargest(5, columns='Humidity')"
   ]
  },
  {
   "cell_type": "markdown",
   "metadata": {},
   "source": [
    "최저습도일 때의 온도값을 얻어옴 \n"
   ]
  },
  {
   "cell_type": "code",
   "execution_count": 19,
   "metadata": {},
   "outputs": [
    {
     "data": {
      "text/plain": [
       "5071    19.5\n",
       "Name: Temperature, dtype: float64"
      ]
     },
     "execution_count": 19,
     "metadata": {},
     "output_type": "execute_result"
    }
   ],
   "source": [
    "df['Temperature'][df['Humidity']==df['Humidity'].min()]"
   ]
  },
  {
   "cell_type": "markdown",
   "metadata": {},
   "source": [
    "최저습도일 때의 행(row)값을 얻어옴"
   ]
  },
  {
   "cell_type": "code",
   "execution_count": 20,
   "metadata": {},
   "outputs": [
    {
     "data": {
      "text/html": [
       "<div>\n",
       "<style scoped>\n",
       "    .dataframe tbody tr th:only-of-type {\n",
       "        vertical-align: middle;\n",
       "    }\n",
       "\n",
       "    .dataframe tbody tr th {\n",
       "        vertical-align: top;\n",
       "    }\n",
       "\n",
       "    .dataframe thead th {\n",
       "        text-align: right;\n",
       "    }\n",
       "</style>\n",
       "<table border=\"1\" class=\"dataframe\">\n",
       "  <thead>\n",
       "    <tr style=\"text-align: right;\">\n",
       "      <th></th>\n",
       "      <th>REG_DATE</th>\n",
       "      <th>PM25</th>\n",
       "      <th>PM100</th>\n",
       "      <th>Temperature</th>\n",
       "      <th>Humidity</th>\n",
       "      <th>TVOC</th>\n",
       "      <th>CO2</th>\n",
       "    </tr>\n",
       "  </thead>\n",
       "  <tbody>\n",
       "    <tr>\n",
       "      <th>5071</th>\n",
       "      <td>2020-04-05 12:31</td>\n",
       "      <td>15.38</td>\n",
       "      <td>18.57</td>\n",
       "      <td>19.5</td>\n",
       "      <td>13.3</td>\n",
       "      <td>1.55</td>\n",
       "      <td>1.92</td>\n",
       "    </tr>\n",
       "  </tbody>\n",
       "</table>\n",
       "</div>"
      ],
      "text/plain": [
       "              REG_DATE   PM25  PM100  Temperature  Humidity  TVOC   CO2\n",
       "5071  2020-04-05 12:31  15.38  18.57         19.5      13.3  1.55  1.92"
      ]
     },
     "execution_count": 20,
     "metadata": {},
     "output_type": "execute_result"
    }
   ],
   "source": [
    "df[df['Humidity']==df['Humidity'].min()]"
   ]
  },
  {
   "cell_type": "markdown",
   "metadata": {},
   "source": [
    "최고습도일 때의 행(row)값을 얻어옴"
   ]
  },
  {
   "cell_type": "code",
   "execution_count": 21,
   "metadata": {},
   "outputs": [
    {
     "data": {
      "text/html": [
       "<div>\n",
       "<style scoped>\n",
       "    .dataframe tbody tr th:only-of-type {\n",
       "        vertical-align: middle;\n",
       "    }\n",
       "\n",
       "    .dataframe tbody tr th {\n",
       "        vertical-align: top;\n",
       "    }\n",
       "\n",
       "    .dataframe thead th {\n",
       "        text-align: right;\n",
       "    }\n",
       "</style>\n",
       "<table border=\"1\" class=\"dataframe\">\n",
       "  <thead>\n",
       "    <tr style=\"text-align: right;\">\n",
       "      <th></th>\n",
       "      <th>REG_DATE</th>\n",
       "      <th>PM25</th>\n",
       "      <th>PM100</th>\n",
       "      <th>Temperature</th>\n",
       "      <th>Humidity</th>\n",
       "      <th>TVOC</th>\n",
       "      <th>CO2</th>\n",
       "    </tr>\n",
       "  </thead>\n",
       "  <tbody>\n",
       "    <tr>\n",
       "      <th>25735</th>\n",
       "      <td>2020-04-19 20:55</td>\n",
       "      <td>10.25</td>\n",
       "      <td>10.25</td>\n",
       "      <td>20.7</td>\n",
       "      <td>43.4</td>\n",
       "      <td>1.88</td>\n",
       "      <td>7.95</td>\n",
       "    </tr>\n",
       "    <tr>\n",
       "      <th>25736</th>\n",
       "      <td>2020-04-19 20:56</td>\n",
       "      <td>10.01</td>\n",
       "      <td>10.01</td>\n",
       "      <td>20.7</td>\n",
       "      <td>43.4</td>\n",
       "      <td>1.88</td>\n",
       "      <td>7.98</td>\n",
       "    </tr>\n",
       "    <tr>\n",
       "      <th>25737</th>\n",
       "      <td>2020-04-19 20:57</td>\n",
       "      <td>9.38</td>\n",
       "      <td>9.38</td>\n",
       "      <td>20.7</td>\n",
       "      <td>43.4</td>\n",
       "      <td>1.86</td>\n",
       "      <td>7.97</td>\n",
       "    </tr>\n",
       "    <tr>\n",
       "      <th>25740</th>\n",
       "      <td>2020-04-19 21:00</td>\n",
       "      <td>8.97</td>\n",
       "      <td>8.97</td>\n",
       "      <td>20.7</td>\n",
       "      <td>43.4</td>\n",
       "      <td>1.89</td>\n",
       "      <td>7.92</td>\n",
       "    </tr>\n",
       "    <tr>\n",
       "      <th>25741</th>\n",
       "      <td>2020-04-19 21:01</td>\n",
       "      <td>9.67</td>\n",
       "      <td>9.67</td>\n",
       "      <td>20.7</td>\n",
       "      <td>43.4</td>\n",
       "      <td>1.87</td>\n",
       "      <td>7.93</td>\n",
       "    </tr>\n",
       "  </tbody>\n",
       "</table>\n",
       "</div>"
      ],
      "text/plain": [
       "               REG_DATE   PM25  PM100  Temperature  Humidity  TVOC   CO2\n",
       "25735  2020-04-19 20:55  10.25  10.25         20.7      43.4  1.88  7.95\n",
       "25736  2020-04-19 20:56  10.01  10.01         20.7      43.4  1.88  7.98\n",
       "25737  2020-04-19 20:57   9.38   9.38         20.7      43.4  1.86  7.97\n",
       "25740  2020-04-19 21:00   8.97   8.97         20.7      43.4  1.89  7.92\n",
       "25741  2020-04-19 21:01   9.67   9.67         20.7      43.4  1.87  7.93"
      ]
     },
     "execution_count": 21,
     "metadata": {},
     "output_type": "execute_result"
    }
   ],
   "source": [
    "df[df['Humidity']==df['Humidity'].max()].head()"
   ]
  },
  {
   "cell_type": "code",
   "execution_count": 22,
   "metadata": {},
   "outputs": [],
   "source": [
    "df_temp = df['Temperature']"
   ]
  },
  {
   "cell_type": "code",
   "execution_count": 23,
   "metadata": {},
   "outputs": [
    {
     "data": {
      "text/plain": [
       "count    25919.000000\n",
       "mean        20.248779\n",
       "std          1.054083\n",
       "min         18.100000\n",
       "25%         19.400000\n",
       "50%         20.200000\n",
       "75%         20.800000\n",
       "max         25.200000\n",
       "Name: Temperature, dtype: float64"
      ]
     },
     "execution_count": 23,
     "metadata": {},
     "output_type": "execute_result"
    }
   ],
   "source": [
    "df_temp.describe()"
   ]
  },
  {
   "cell_type": "code",
   "execution_count": 24,
   "metadata": {},
   "outputs": [],
   "source": [
    "import matplotlib.pyplot as plt\n",
    "#plt.style.use('seaborn-whitegrid')"
   ]
  },
  {
   "cell_type": "code",
   "execution_count": 25,
   "metadata": {},
   "outputs": [],
   "source": [
    "df_1 = df.drop('REG_DATE', axis=1)"
   ]
  },
  {
   "cell_type": "code",
   "execution_count": 26,
   "metadata": {},
   "outputs": [
    {
     "name": "stdout",
     "output_type": "stream",
     "text": [
      "count    25920.000000\n",
      "mean        13.863554\n",
      "std          8.075783\n",
      "min          1.480000\n",
      "25%          8.700000\n",
      "50%         12.190000\n",
      "75%         16.730000\n",
      "max         74.570000\n",
      "Name: PM25, dtype: float64\n",
      "count    25920.000000\n",
      "mean        13.872682\n",
      "std          7.598230\n",
      "min          0.000000\n",
      "25%          6.587500\n",
      "50%         12.380000\n",
      "75%         18.570000\n",
      "max         61.900000\n",
      "Name: PM100, dtype: float64\n",
      "count    25919.000000\n",
      "mean        20.248779\n",
      "std          1.054083\n",
      "min         18.100000\n",
      "25%         19.400000\n",
      "50%         20.200000\n",
      "75%         20.800000\n",
      "max         25.200000\n",
      "Name: Temperature, dtype: float64\n",
      "count    25919.000000\n",
      "mean        26.715375\n",
      "std          6.867535\n",
      "min         13.300000\n",
      "25%         22.300000\n",
      "50%         25.500000\n",
      "75%         30.500000\n",
      "max         43.400000\n",
      "Name: Humidity, dtype: float64\n",
      "count    25919.000000\n",
      "mean         2.026366\n",
      "std          0.282825\n",
      "min          1.100000\n",
      "25%          1.840000\n",
      "50%          2.010000\n",
      "75%          2.160000\n",
      "max          6.860000\n",
      "Name: TVOC, dtype: float64\n",
      "count    25919.000000\n",
      "mean         4.709173\n",
      "std          1.380514\n",
      "min          1.880000\n",
      "25%          3.870000\n",
      "50%          4.540000\n",
      "75%          5.180000\n",
      "max          8.310000\n",
      "Name: CO2, dtype: float64\n"
     ]
    }
   ],
   "source": [
    "#print(df_1['Temperature'].describe().transpose())\n",
    "# return the transpose \n",
    "#result = df_1.transpose() \n",
    "  \n",
    "# Print the result \n",
    "#print(result) \n",
    "\n",
    "for x in df_1.columns:\n",
    "    print(df_1[x].describe())"
   ]
  },
  {
   "cell_type": "code",
   "execution_count": 27,
   "metadata": {},
   "outputs": [
    {
     "data": {
      "text/plain": [
       "[<matplotlib.lines.Line2D at 0x1e91085db48>]"
      ]
     },
     "execution_count": 27,
     "metadata": {},
     "output_type": "execute_result"
    },
    {
     "data": {
      "image/png": "[encoded data removed]",
      "text/plain": [
       "<Figure size 432x288 with 6 Axes>"
      ]
     },
     "metadata": {
      "needs_background": "light"
     },
     "output_type": "display_data"
    }
   ],
   "source": [
    "figure, axes = plt.subplots(nrows=2, ncols=3)\n",
    "x  = list(range(len(df_1['Temperature'])))\n",
    "axes[0, 0].plot(x, df_1['PM25'])\n",
    "axes[0, 1].plot(x, df_1['PM100'])\n",
    "axes[0, 2].plot(x, df_1['Temperature'])\n",
    "axes[1, 0].plot(x, df_1['Humidity'])\n",
    "axes[1, 1].plot(x, df_1['TVOC'])\n",
    "axes[1, 2].plot(x, df_1['CO2'])\n",
    "\n"
   ]
  },
  {
   "cell_type": "code",
   "execution_count": 28,
   "metadata": {},
   "outputs": [
    {
     "data": {
      "text/plain": [
       "Text(0.5, 1.0, 'CO2')"
      ]
     },
     "execution_count": 28,
     "metadata": {},
     "output_type": "execute_result"
    },
    {
     "data": {
      "image/png": "[encoded data removed]",
      "text/plain": [
       "<Figure size 1080x1728 with 6 Axes>"
      ]
     },
     "metadata": {
      "needs_background": "light"
     },
     "output_type": "display_data"
    }
   ],
   "source": [
    "fig, axes = plt.subplots(6,1, figsize=(15,24))\n",
    "x  = list(range(len(df_1['Temperature'])))\n",
    "axes[0].plot(x, df_1['PM25'])\n",
    "axes[0].set_title ('PM2.5')\n",
    "axes[1].plot(x, df_1['PM100'])\n",
    "axes[1].set_title ('PM10')\n",
    "axes[2].plot(x, df_1['Temperature'])\n",
    "axes[2].set_title ('Temperature')\n",
    "\n",
    "axes[4].plot(x, df_1['Humidity'])\n",
    "axes[4].set_title ('Humidity')\n",
    "\n",
    "axes[3].plot(x, df_1['TVOC'])\n",
    "axes[3].set_title ('TVOC')\n",
    "axes[5].plot(x, df_1['CO2'])\n",
    "axes[5].set_title ('CO2')"
   ]
  },
  {
   "cell_type": "code",
   "execution_count": 29,
   "metadata": {},
   "outputs": [
    {
     "data": {
      "text/html": [
       "<div>\n",
       "<style scoped>\n",
       "    .dataframe tbody tr th:only-of-type {\n",
       "        vertical-align: middle;\n",
       "    }\n",
       "\n",
       "    .dataframe tbody tr th {\n",
       "        vertical-align: top;\n",
       "    }\n",
       "\n",
       "    .dataframe thead th {\n",
       "        text-align: right;\n",
       "    }\n",
       "</style>\n",
       "<table border=\"1\" class=\"dataframe\">\n",
       "  <thead>\n",
       "    <tr style=\"text-align: right;\">\n",
       "      <th></th>\n",
       "      <th>S1</th>\n",
       "      <th>S2</th>\n",
       "      <th>S3</th>\n",
       "      <th>S4</th>\n",
       "      <th>S5</th>\n",
       "      <th>S6</th>\n",
       "    </tr>\n",
       "  </thead>\n",
       "  <tbody>\n",
       "    <tr>\n",
       "      <th>S1</th>\n",
       "      <td>1.000000</td>\n",
       "      <td>0.978462</td>\n",
       "      <td>0.126186</td>\n",
       "      <td>0.086916</td>\n",
       "      <td>0.355466</td>\n",
       "      <td>0.106732</td>\n",
       "    </tr>\n",
       "    <tr>\n",
       "      <th>S2</th>\n",
       "      <td>0.978462</td>\n",
       "      <td>1.000000</td>\n",
       "      <td>0.121493</td>\n",
       "      <td>0.071399</td>\n",
       "      <td>0.346467</td>\n",
       "      <td>0.091029</td>\n",
       "    </tr>\n",
       "    <tr>\n",
       "      <th>S3</th>\n",
       "      <td>0.126186</td>\n",
       "      <td>0.121493</td>\n",
       "      <td>1.000000</td>\n",
       "      <td>0.179200</td>\n",
       "      <td>0.549721</td>\n",
       "      <td>0.369453</td>\n",
       "    </tr>\n",
       "    <tr>\n",
       "      <th>S4</th>\n",
       "      <td>0.086916</td>\n",
       "      <td>0.071399</td>\n",
       "      <td>0.179200</td>\n",
       "      <td>1.000000</td>\n",
       "      <td>0.250780</td>\n",
       "      <td>0.978920</td>\n",
       "    </tr>\n",
       "    <tr>\n",
       "      <th>S5</th>\n",
       "      <td>0.355466</td>\n",
       "      <td>0.346467</td>\n",
       "      <td>0.549721</td>\n",
       "      <td>0.250780</td>\n",
       "      <td>1.000000</td>\n",
       "      <td>0.349379</td>\n",
       "    </tr>\n",
       "    <tr>\n",
       "      <th>S6</th>\n",
       "      <td>0.106732</td>\n",
       "      <td>0.091029</td>\n",
       "      <td>0.369453</td>\n",
       "      <td>0.978920</td>\n",
       "      <td>0.349379</td>\n",
       "      <td>1.000000</td>\n",
       "    </tr>\n",
       "  </tbody>\n",
       "</table>\n",
       "</div>"
      ],
      "text/plain": [
       "          S1        S2        S3        S4        S5        S6\n",
       "S1  1.000000  0.978462  0.126186  0.086916  0.355466  0.106732\n",
       "S2  0.978462  1.000000  0.121493  0.071399  0.346467  0.091029\n",
       "S3  0.126186  0.121493  1.000000  0.179200  0.549721  0.369453\n",
       "S4  0.086916  0.071399  0.179200  1.000000  0.250780  0.978920\n",
       "S5  0.355466  0.346467  0.549721  0.250780  1.000000  0.349379\n",
       "S6  0.106732  0.091029  0.369453  0.978920  0.349379  1.000000"
      ]
     },
     "execution_count": 29,
     "metadata": {},
     "output_type": "execute_result"
    }
   ],
   "source": [
    "pd.DataFrame({'S1': df_1['PM25'], 'S2': df_1['PM100'], 'S3': df_1['Temperature'], 'S4': df_1['Humidity'], 'S5':df_1['TVOC'], 'S6' :df_1['CO2'] }).corr()"
   ]
  },
  {
   "cell_type": "code",
   "execution_count": 30,
   "metadata": {},
   "outputs": [
    {
     "data": {
      "image/png": "[encoded data removed]",
      "text/plain": [
       "<Figure size 432x288 with 1 Axes>"
      ]
     },
     "metadata": {
      "needs_background": "light"
     },
     "output_type": "display_data"
    }
   ],
   "source": [
    "plt.plot(x, df_temp, ':b', color='g')\n",
    "plt.xlim(0, 5)\n",
    "plt.ylim(15, 50);\n",
    "plt.axis('tight');\n",
    "plt.title(\"63_108\")\n",
    "plt.ylabel(\"Temp\");\n",
    "\n",
    "plt.show()"
   ]
  },
  {
   "cell_type": "code",
   "execution_count": 31,
   "metadata": {},
   "outputs": [
    {
     "data": {
      "text/plain": [
       "count    25919.000000\n",
       "mean        20.248779\n",
       "std          1.054083\n",
       "min         18.100000\n",
       "25%         19.400000\n",
       "50%         20.200000\n",
       "75%         20.800000\n",
       "max         25.200000\n",
       "Name: Temperature, dtype: float64"
      ]
     },
     "execution_count": 31,
     "metadata": {},
     "output_type": "execute_result"
    }
   ],
   "source": [
    "df_temp.describe()"
   ]
  },
  {
   "cell_type": "code",
   "execution_count": 32,
   "metadata": {},
   "outputs": [],
   "source": [
    "def z_score(df):\n",
    "    return ((df - df.mean())/df.std(ddof=0))"
   ]
  },
  {
   "cell_type": "code",
   "execution_count": 33,
   "metadata": {},
   "outputs": [
    {
     "data": {
      "text/plain": [
       "0        1.281917\n",
       "1        1.281917\n",
       "2        1.281917\n",
       "3        1.187046\n",
       "4        1.281917\n",
       "5        1.187046\n",
       "6        1.187046\n",
       "7        1.187046\n",
       "8        1.187046\n",
       "9        1.187046\n",
       "10       1.187046\n",
       "11       1.187046\n",
       "12       1.187046\n",
       "13       1.187046\n",
       "14       1.187046\n",
       "15       1.187046\n",
       "16       1.187046\n",
       "17       1.187046\n",
       "18       1.187046\n",
       "19       1.187046\n",
       "20       1.187046\n",
       "21       1.187046\n",
       "22       1.187046\n",
       "23       1.187046\n",
       "24       1.187046\n",
       "25       1.187046\n",
       "26       1.187046\n",
       "27       1.187046\n",
       "28       1.187046\n",
       "29       1.187046\n",
       "           ...   \n",
       "25890    0.333207\n",
       "25891    0.333207\n",
       "25892    0.333207\n",
       "25893    0.333207\n",
       "25894    0.333207\n",
       "25895    0.333207\n",
       "25896    0.333207\n",
       "25897    0.333207\n",
       "25898    0.333207\n",
       "25899    0.333207\n",
       "25900    0.333207\n",
       "25901    0.333207\n",
       "25902    0.333207\n",
       "25903    0.333207\n",
       "25904    0.333207\n",
       "25905    0.333207\n",
       "25906    0.333207\n",
       "25907    0.333207\n",
       "25908    0.333207\n",
       "25909    0.333207\n",
       "25910    0.333207\n",
       "25911    0.428078\n",
       "25912    0.428078\n",
       "25913    0.428078\n",
       "25914    0.428078\n",
       "25915    0.333207\n",
       "25916    0.333207\n",
       "25917    0.333207\n",
       "25918    0.333207\n",
       "25919    0.333207\n",
       "Name: Temperature, Length: 25920, dtype: float64"
      ]
     },
     "execution_count": 33,
     "metadata": {},
     "output_type": "execute_result"
    }
   ],
   "source": [
    "z_score(df_temp)"
   ]
  },
  {
   "cell_type": "code",
   "execution_count": 34,
   "metadata": {},
   "outputs": [],
   "source": [
    "import matplotlib.pyplot as plt\n",
    "def plot_zscore(df):\n",
    "    x = list(range(len(df_temp)))\n",
    "    y = z_score(df_temp)\n",
    "    plt.plot(x, y, ':b', color='g')\n",
    "    plt.plot(x, df_temp, ':b', color='r')\n",
    "    plt.show()"
   ]
  },
  {
   "cell_type": "code",
   "execution_count": 35,
   "metadata": {},
   "outputs": [
    {
     "data": {
      "image/png": "[encoded data removed]",
      "text/plain": [
       "<Figure size 432x288 with 1 Axes>"
      ]
     },
     "metadata": {
      "needs_background": "light"
     },
     "output_type": "display_data"
    }
   ],
   "source": [
    "plot_zscore(df_temp)"
   ]
  }
 ],
 "metadata": {
  "kernelspec": {
   "display_name": "Python 3",
   "language": "python",
   "name": "python3"
  },
  "language_info": {
   "codemirror_mode": {
    "name": "ipython",
    "version": 3
   },
   "file_extension": ".py",
   "mimetype": "text/x-python",
   "name": "python",
   "nbconvert_exporter": "python",
   "pygments_lexer": "ipython3",
   "version": "3.7.4"
  }
 },
 "nbformat": 4,
 "nbformat_minor": 2
}
