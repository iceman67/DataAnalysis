{
 "cells": [
  {
   "cell_type": "markdown",
   "metadata": {},
   "source": [
    "LINC 플러스 미니 프로젝트 진행을 위한 소개"
   ]
  },
  {
   "cell_type": "markdown",
   "metadata": {},
   "source": [
    "민간(로또)에서 제공하는 로또 복권 당첨정보를 활용함\n",
    "\n",
    "예) 1회차 로또 당첨정보\n",
    "https://www.geniecontents.com/api/v1/lotto?drawNo=1"
   ]
  },
  {
   "cell_type": "code",
   "execution_count": 1,
   "metadata": {},
   "outputs": [],
   "source": [
    "import requests\n",
    "#from bs4 import BeautifulSoup\n",
    "import pandas as pd\n",
    "import json # 웹상에서 데이터는 일반적으로 사전형으로 생긴 json이라는 파일형태로 주고받습니다."
   ]
  },
  {
   "cell_type": "code",
   "execution_count": null,
   "metadata": {},
   "outputs": [],
   "source": [
    "python 2.x 에서 '%s %s' % ('one', 'two')\n",
    "python 3.x 에서 '{} {}'.format ('one','two')\n",
    "\n",
    "name='Bob'\n",
    "'Hello, {}'.format(name)\n",
    "'Hello, Bob\n"
   ]
  },
  {
   "cell_type": "code",
   "execution_count": 2,
   "metadata": {},
   "outputs": [],
   "source": [
    "round = 1 # 예시로 첫번째 회차를 받아와 봅시다\n",
    "url = \"https://www.geniecontents.com/api/v1/lotto?drawNo={}\".format(round)"
   ]
  },
  {
   "cell_type": "code",
   "execution_count": 3,
   "metadata": {},
   "outputs": [],
   "source": [
    "response = requests.get(url)"
   ]
  },
  {
   "cell_type": "code",
   "execution_count": 4,
   "metadata": {},
   "outputs": [
    {
     "data": {
      "text/plain": [
       "'{\"resultCode\":\"R21000\",\"statusCode\":\"200\",\"body\":{\"drawDateYn\":\"N\",\"num6\":40,\"bonusNum\":16,\"totalSellingPrice\":3681782000,\"num1\":10,\"num5\":37,\"drawNo\":1,\"drawDate\":\"2002-12-07\",\"num4\":33,\"lottoResult\":[{\"sellingPriceByRank\":0,\"winningCnt\":0,\"rank\":\"FIRST\",\"winningPriceByRank\":0},{\"sellingPriceByRank\":143934100,\"winningCnt\":1,\"rank\":\"SECOND\",\"winningPriceByRank\":143934100},{\"sellingPriceByRank\":143934000,\"winningCnt\":28,\"rank\":\"THIRD\",\"winningPriceByRank\":5140500},{\"sellingPriceByRank\":287695800,\"winningCnt\":2537,\"rank\":\"FOURTH\",\"winningPriceByRank\":113400},{\"sellingPriceByRank\":401550000,\"winningCnt\":40155,\"rank\":\"FIFTH\",\"winningPriceByRank\":10000}],\"num3\":29,\"num2\":23}}'"
      ]
     },
     "execution_count": 4,
     "metadata": {},
     "output_type": "execute_result"
    }
   ],
   "source": [
    "response.text"
   ]
  },
  {
   "cell_type": "code",
   "execution_count": 5,
   "metadata": {},
   "outputs": [
    {
     "data": {
      "text/plain": [
       "{'resultCode': 'R21000',\n",
       " 'statusCode': '200',\n",
       " 'body': {'drawDateYn': 'N',\n",
       "  'num6': 40,\n",
       "  'bonusNum': 16,\n",
       "  'totalSellingPrice': 3681782000,\n",
       "  'num1': 10,\n",
       "  'num5': 37,\n",
       "  'drawNo': 1,\n",
       "  'drawDate': '2002-12-07',\n",
       "  'num4': 33,\n",
       "  'lottoResult': [{'sellingPriceByRank': 0,\n",
       "    'winningCnt': 0,\n",
       "    'rank': 'FIRST',\n",
       "    'winningPriceByRank': 0},\n",
       "   {'sellingPriceByRank': 143934100,\n",
       "    'winningCnt': 1,\n",
       "    'rank': 'SECOND',\n",
       "    'winningPriceByRank': 143934100},\n",
       "   {'sellingPriceByRank': 143934000,\n",
       "    'winningCnt': 28,\n",
       "    'rank': 'THIRD',\n",
       "    'winningPriceByRank': 5140500},\n",
       "   {'sellingPriceByRank': 287695800,\n",
       "    'winningCnt': 2537,\n",
       "    'rank': 'FOURTH',\n",
       "    'winningPriceByRank': 113400},\n",
       "   {'sellingPriceByRank': 401550000,\n",
       "    'winningCnt': 40155,\n",
       "    'rank': 'FIFTH',\n",
       "    'winningPriceByRank': 10000}],\n",
       "  'num3': 29,\n",
       "  'num2': 23}}"
      ]
     },
     "execution_count": 5,
     "metadata": {},
     "output_type": "execute_result"
    }
   ],
   "source": [
    "response_json = json.loads(response.text)\n",
    "response_json"
   ]
  },
  {
   "cell_type": "markdown",
   "metadata": {},
   "source": [
    "우승상금 구하기\n",
    "우승상금은 'body'안에 'lottoResult' 에 포함됨 "
   ]
  },
  {
   "cell_type": "code",
   "execution_count": 6,
   "metadata": {},
   "outputs": [
    {
     "data": {
      "text/plain": [
       "[{'sellingPriceByRank': 0,\n",
       "  'winningCnt': 0,\n",
       "  'rank': 'FIRST',\n",
       "  'winningPriceByRank': 0},\n",
       " {'sellingPriceByRank': 143934100,\n",
       "  'winningCnt': 1,\n",
       "  'rank': 'SECOND',\n",
       "  'winningPriceByRank': 143934100},\n",
       " {'sellingPriceByRank': 143934000,\n",
       "  'winningCnt': 28,\n",
       "  'rank': 'THIRD',\n",
       "  'winningPriceByRank': 5140500},\n",
       " {'sellingPriceByRank': 287695800,\n",
       "  'winningCnt': 2537,\n",
       "  'rank': 'FOURTH',\n",
       "  'winningPriceByRank': 113400},\n",
       " {'sellingPriceByRank': 401550000,\n",
       "  'winningCnt': 40155,\n",
       "  'rank': 'FIFTH',\n",
       "  'winningPriceByRank': 10000}]"
      ]
     },
     "execution_count": 6,
     "metadata": {},
     "output_type": "execute_result"
    }
   ],
   "source": [
    "winer_reward= response_json['body']['lottoResult']\n",
    "winer_reward"
   ]
  },
  {
   "cell_type": "code",
   "execution_count": 7,
   "metadata": {},
   "outputs": [
    {
     "data": {
      "text/html": [
       "<div>\n",
       "<style scoped>\n",
       "    .dataframe tbody tr th:only-of-type {\n",
       "        vertical-align: middle;\n",
       "    }\n",
       "\n",
       "    .dataframe tbody tr th {\n",
       "        vertical-align: top;\n",
       "    }\n",
       "\n",
       "    .dataframe thead th {\n",
       "        text-align: right;\n",
       "    }\n",
       "</style>\n",
       "<table border=\"1\" class=\"dataframe\">\n",
       "  <thead>\n",
       "    <tr style=\"text-align: right;\">\n",
       "      <th></th>\n",
       "      <th>rank</th>\n",
       "      <th>sellingPriceByRank</th>\n",
       "      <th>winningCnt</th>\n",
       "      <th>winningPriceByRank</th>\n",
       "    </tr>\n",
       "  </thead>\n",
       "  <tbody>\n",
       "    <tr>\n",
       "      <th>0</th>\n",
       "      <td>FIRST</td>\n",
       "      <td>0</td>\n",
       "      <td>0</td>\n",
       "      <td>0</td>\n",
       "    </tr>\n",
       "    <tr>\n",
       "      <th>1</th>\n",
       "      <td>SECOND</td>\n",
       "      <td>143934100</td>\n",
       "      <td>1</td>\n",
       "      <td>143934100</td>\n",
       "    </tr>\n",
       "    <tr>\n",
       "      <th>2</th>\n",
       "      <td>THIRD</td>\n",
       "      <td>143934000</td>\n",
       "      <td>28</td>\n",
       "      <td>5140500</td>\n",
       "    </tr>\n",
       "    <tr>\n",
       "      <th>3</th>\n",
       "      <td>FOURTH</td>\n",
       "      <td>287695800</td>\n",
       "      <td>2537</td>\n",
       "      <td>113400</td>\n",
       "    </tr>\n",
       "    <tr>\n",
       "      <th>4</th>\n",
       "      <td>FIFTH</td>\n",
       "      <td>401550000</td>\n",
       "      <td>40155</td>\n",
       "      <td>10000</td>\n",
       "    </tr>\n",
       "  </tbody>\n",
       "</table>\n",
       "</div>"
      ],
      "text/plain": [
       "     rank  sellingPriceByRank  winningCnt  winningPriceByRank\n",
       "0   FIRST                   0           0                   0\n",
       "1  SECOND           143934100           1           143934100\n",
       "2   THIRD           143934000          28             5140500\n",
       "3  FOURTH           287695800        2537              113400\n",
       "4   FIFTH           401550000       40155               10000"
      ]
     },
     "execution_count": 7,
     "metadata": {},
     "output_type": "execute_result"
    }
   ],
   "source": [
    "pd.DataFrame(response_json['body']['lottoResult'])"
   ]
  },
  {
   "cell_type": "markdown",
   "metadata": {},
   "source": [
    "당첨번호 구하기"
   ]
  },
  {
   "cell_type": "code",
   "execution_count": null,
   "metadata": {},
   "outputs": [],
   "source": [
    "lotto_number = []\n",
    "for i in range(1, 7):\n",
    "    lotto_number.append(response_json['body']['num{}'.format(i)])\n",
    "lotto_number"
   ]
  },
  {
   "cell_type": "markdown",
   "metadata": {},
   "source": [
    "보너스번호 구하기"
   ]
  },
  {
   "cell_type": "code",
   "execution_count": null,
   "metadata": {},
   "outputs": [],
   "source": [
    "bonus_number = response_json['body']['bonusNum']\n",
    "bonus_number"
   ]
  },
  {
   "cell_type": "code",
   "execution_count": null,
   "metadata": {},
   "outputs": [],
   "source": [
    "lotto_number.append(bonus_number)\n",
    "lotto_number"
   ]
  },
  {
   "cell_type": "markdown",
   "metadata": {},
   "source": [
    " 1회부터 10회까지 모든 당첨번호(보너스번호 포함)를 얻음"
   ]
  },
  {
   "cell_type": "code",
   "execution_count": 10,
   "metadata": {},
   "outputs": [],
   "source": [
    "total_lotto_number = []\n",
    "for round in range(1, 11):\n",
    "    url = \"https://www.geniecontents.com/api/v1/lotto?drawNo={}\".format(round)\n",
    "    response = requests.get(url)\n",
    "    response_json = json.loads(response.text)\n",
    "    lotto_number = []\n",
    "    for i in range(1, 7):\n",
    "        lotto_number.append(response_json['body']['num{}'.format(i)])\n",
    "    bonus_number = response_json['body']['bonusNum']\n",
    "    lotto_number.append(bonus_number)\n",
    "    \n",
    "    total_lotto_number.append(lotto_number)\n",
    "    "
   ]
  },
  {
   "cell_type": "code",
   "execution_count": 11,
   "metadata": {},
   "outputs": [
    {
     "data": {
      "text/plain": [
       "[[10, 23, 29, 33, 37, 40, 16],\n",
       " [9, 13, 21, 25, 32, 42, 2],\n",
       " [11, 16, 19, 21, 27, 31, 30],\n",
       " [14, 27, 30, 31, 40, 42, 2],\n",
       " [16, 24, 29, 40, 41, 42, 3],\n",
       " [14, 15, 26, 27, 40, 42, 34],\n",
       " [2, 9, 16, 25, 26, 40, 42],\n",
       " [8, 19, 25, 34, 37, 39, 9],\n",
       " [2, 4, 16, 17, 36, 39, 14],\n",
       " [9, 25, 30, 33, 41, 44, 6]]"
      ]
     },
     "execution_count": 11,
     "metadata": {},
     "output_type": "execute_result"
    }
   ],
   "source": [
    "total_lotto_number"
   ]
  }
 ],
 "metadata": {
  "kernelspec": {
   "display_name": "Python 3",
   "language": "python",
   "name": "python3"
  },
  "language_info": {
   "codemirror_mode": {
    "name": "ipython",
    "version": 3
   },
   "file_extension": ".py",
   "mimetype": "text/x-python",
   "name": "python",
   "nbconvert_exporter": "python",
   "pygments_lexer": "ipython3",
   "version": "3.7.2"
  }
 },
 "nbformat": 4,
 "nbformat_minor": 2
}
