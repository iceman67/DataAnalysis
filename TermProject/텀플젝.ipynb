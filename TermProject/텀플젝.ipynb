{
 "cells": [
  {
   "cell_type": "code",
   "execution_count": 1,
   "metadata": {},
   "outputs": [
    {
     "name": "stdout",
     "output_type": "stream",
     "text": [
      "ok\n"
     ]
    }
   ],
   "source": [
    "import requests\n",
    "from bs4  import BeautifulSoup\n",
    "import csv\n",
    "import time\n",
    "from datetime import datetime\n",
    "from urllib.request import urlopen\n",
    "import pandas as pd\n",
    "\n",
    "open_api_key = 'b11FuVZws1x5zxqr1hFoCuu%2BdUk0qC1h%2FxMmDXi9aeGU1TfRc%2B0UEPhCMzLznh8gC8wZkcMgAV%2FdvkpJqHq9Ng%3D%3D'\n",
    "params = '&numOfRows=10&pageNo=1&itemCode=PM10&dataGubun=HOUR&searchCondition=WEEK'\n",
    "open_url = 'http://openapi.airkorea.or.kr/openapi/services/rest/ArpltnInforInqireSvc/getCtprvnMesureLIst?ServiceKey=' + open_api_key + params + '&_returnType=json'\n",
    "\n",
    "res = requests.get(open_url)\n",
    "if res:\n",
    "    print('ok')\n",
    "else:\n",
    "    print('no')"
   ]
  },
  {
   "cell_type": "code",
   "execution_count": 2,
   "metadata": {},
   "outputs": [],
   "source": [
    "import json\n",
    "import pandas as pd\n",
    "\n",
    "text = res.text\n",
    "\n",
    "pm10Data = json.loads(text)\n",
    "pm10Len = len(pm10Data['list'])\n",
    "pm10DF = pd.DataFrame()\n",
    "pm10DF = pm10DF.append({\"seoul\":\"\",\"busan\":\"\",\"daegu\":\"\",\"incheon\":\"\",\"gwangju\":\"\",\"daejeon\":\"\",\"ulsan\":\"\",\"gyeonggi\":\"\",\"gangwon\":\"\",\"chungbuk\":\"\",\"chungnam\":\"\",\"jeonbuk\":\"\",\"jeonnam\":\"\",\"gyeongbuk\":\"\",\"gyeongnam\":\"\",\"jeju\":\"\",},ignore_index=True, sort=False)"
   ]
  },
  {
   "cell_type": "code",
   "execution_count": 3,
   "metadata": {},
   "outputs": [],
   "source": [
    "for i in range(pm10Len):\n",
    "    pm10DF.loc[i,\"seoul\"] = pm10Data['list'][i]['seoul']\n",
    "    pm10DF.loc[i,\"busan\"] = pm10Data['list'][i]['busan']\n",
    "    pm10DF.loc[i,\"daegu\"] = pm10Data['list'][i]['daegu']\n",
    "    pm10DF.loc[i,\"incheon\"] = pm10Data['list'][i]['incheon']\n",
    "    pm10DF.loc[i,\"gwangju\"] = pm10Data['list'][i]['gwangju']\n",
    "    pm10DF.loc[i,\"daejeon\"] = pm10Data['list'][i]['daejeon']\n",
    "    pm10DF.loc[i,\"ulsan\"] = pm10Data['list'][i]['ulsan']\n",
    "    pm10DF.loc[i,\"gyeonggi\"] = pm10Data['list'][i]['gyeonggi']\n",
    "    pm10DF.loc[i,\"gangwon\"] = pm10Data['list'][i]['gangwon']\n",
    "    pm10DF.loc[i,\"chungbuk\"] = pm10Data['list'][i]['chungbuk']\n",
    "    pm10DF.loc[i,\"chungnam\"] = pm10Data['list'][i]['chungnam']\n",
    "    pm10DF.loc[i,\"jeonbuk\"] = pm10Data['list'][i]['jeonbuk']\n",
    "    pm10DF.loc[i,\"jeonnam\"] = pm10Data['list'][i]['jeonnam']\n",
    "    pm10DF.loc[i,\"gyeongbuk\"] = pm10Data['list'][i]['gyeongbuk']\n",
    "    pm10DF.loc[i,\"gyeongnam\"] = pm10Data['list'][i]['gyeongnam']\n",
    "    pm10DF.loc[i,\"jeju\"] = pm10Data['list'][i]['jeju']"
   ]
  },
  {
   "cell_type": "code",
   "execution_count": 4,
   "metadata": {
    "scrolled": true
   },
   "outputs": [
    {
     "data": {
      "text/html": [
       "<div>\n",
       "<style scoped>\n",
       "    .dataframe tbody tr th:only-of-type {\n",
       "        vertical-align: middle;\n",
       "    }\n",
       "\n",
       "    .dataframe tbody tr th {\n",
       "        vertical-align: top;\n",
       "    }\n",
       "\n",
       "    .dataframe thead th {\n",
       "        text-align: right;\n",
       "    }\n",
       "</style>\n",
       "<table border=\"1\" class=\"dataframe\">\n",
       "  <thead>\n",
       "    <tr style=\"text-align: right;\">\n",
       "      <th></th>\n",
       "      <th>busan</th>\n",
       "      <th>chungbuk</th>\n",
       "      <th>chungnam</th>\n",
       "      <th>daegu</th>\n",
       "      <th>daejeon</th>\n",
       "      <th>gangwon</th>\n",
       "      <th>gwangju</th>\n",
       "      <th>gyeongbuk</th>\n",
       "      <th>gyeonggi</th>\n",
       "      <th>gyeongnam</th>\n",
       "      <th>incheon</th>\n",
       "      <th>jeju</th>\n",
       "      <th>jeonbuk</th>\n",
       "      <th>jeonnam</th>\n",
       "      <th>seoul</th>\n",
       "      <th>ulsan</th>\n",
       "    </tr>\n",
       "  </thead>\n",
       "  <tbody>\n",
       "    <tr>\n",
       "      <th>0</th>\n",
       "      <td>15</td>\n",
       "      <td>13</td>\n",
       "      <td>16</td>\n",
       "      <td>17</td>\n",
       "      <td>14</td>\n",
       "      <td>10</td>\n",
       "      <td>11</td>\n",
       "      <td>16</td>\n",
       "      <td>12</td>\n",
       "      <td>8</td>\n",
       "      <td>12</td>\n",
       "      <td>23</td>\n",
       "      <td>10</td>\n",
       "      <td>14</td>\n",
       "      <td>9</td>\n",
       "      <td>20</td>\n",
       "    </tr>\n",
       "    <tr>\n",
       "      <th>1</th>\n",
       "      <td>18</td>\n",
       "      <td>13</td>\n",
       "      <td>13</td>\n",
       "      <td>18</td>\n",
       "      <td>13</td>\n",
       "      <td>10</td>\n",
       "      <td>10</td>\n",
       "      <td>17</td>\n",
       "      <td>12</td>\n",
       "      <td>8</td>\n",
       "      <td>13</td>\n",
       "      <td>18</td>\n",
       "      <td>9</td>\n",
       "      <td>13</td>\n",
       "      <td>10</td>\n",
       "      <td>23</td>\n",
       "    </tr>\n",
       "    <tr>\n",
       "      <th>2</th>\n",
       "      <td>20</td>\n",
       "      <td>14</td>\n",
       "      <td>12</td>\n",
       "      <td>16</td>\n",
       "      <td>11</td>\n",
       "      <td>10</td>\n",
       "      <td>8</td>\n",
       "      <td>18</td>\n",
       "      <td>13</td>\n",
       "      <td>11</td>\n",
       "      <td>14</td>\n",
       "      <td>15</td>\n",
       "      <td>10</td>\n",
       "      <td>12</td>\n",
       "      <td>10</td>\n",
       "      <td>24</td>\n",
       "    </tr>\n",
       "    <tr>\n",
       "      <th>3</th>\n",
       "      <td>19</td>\n",
       "      <td>15</td>\n",
       "      <td>13</td>\n",
       "      <td>17</td>\n",
       "      <td>14</td>\n",
       "      <td>12</td>\n",
       "      <td>6</td>\n",
       "      <td>20</td>\n",
       "      <td>15</td>\n",
       "      <td>12</td>\n",
       "      <td>16</td>\n",
       "      <td>13</td>\n",
       "      <td>9</td>\n",
       "      <td>11</td>\n",
       "      <td>12</td>\n",
       "      <td>25</td>\n",
       "    </tr>\n",
       "    <tr>\n",
       "      <th>4</th>\n",
       "      <td>20</td>\n",
       "      <td>16</td>\n",
       "      <td>17</td>\n",
       "      <td>17</td>\n",
       "      <td>14</td>\n",
       "      <td>15</td>\n",
       "      <td>6</td>\n",
       "      <td>23</td>\n",
       "      <td>17</td>\n",
       "      <td>14</td>\n",
       "      <td>19</td>\n",
       "      <td>8</td>\n",
       "      <td>10</td>\n",
       "      <td>9</td>\n",
       "      <td>13</td>\n",
       "      <td>25</td>\n",
       "    </tr>\n",
       "    <tr>\n",
       "      <th>5</th>\n",
       "      <td>22</td>\n",
       "      <td>19</td>\n",
       "      <td>19</td>\n",
       "      <td>19</td>\n",
       "      <td>14</td>\n",
       "      <td>14</td>\n",
       "      <td>6</td>\n",
       "      <td>25</td>\n",
       "      <td>19</td>\n",
       "      <td>16</td>\n",
       "      <td>20</td>\n",
       "      <td>8</td>\n",
       "      <td>10</td>\n",
       "      <td>9</td>\n",
       "      <td>16</td>\n",
       "      <td>29</td>\n",
       "    </tr>\n",
       "    <tr>\n",
       "      <th>6</th>\n",
       "      <td>23</td>\n",
       "      <td>20</td>\n",
       "      <td>21</td>\n",
       "      <td>27</td>\n",
       "      <td>17</td>\n",
       "      <td>16</td>\n",
       "      <td>6</td>\n",
       "      <td>26</td>\n",
       "      <td>21</td>\n",
       "      <td>19</td>\n",
       "      <td>22</td>\n",
       "      <td>10</td>\n",
       "      <td>13</td>\n",
       "      <td>11</td>\n",
       "      <td>17</td>\n",
       "      <td>32</td>\n",
       "    </tr>\n",
       "    <tr>\n",
       "      <th>7</th>\n",
       "      <td>25</td>\n",
       "      <td>25</td>\n",
       "      <td>23</td>\n",
       "      <td>33</td>\n",
       "      <td>21</td>\n",
       "      <td>17</td>\n",
       "      <td>8</td>\n",
       "      <td>26</td>\n",
       "      <td>22</td>\n",
       "      <td>23</td>\n",
       "      <td>24</td>\n",
       "      <td>10</td>\n",
       "      <td>13</td>\n",
       "      <td>13</td>\n",
       "      <td>20</td>\n",
       "      <td>33</td>\n",
       "    </tr>\n",
       "    <tr>\n",
       "      <th>8</th>\n",
       "      <td>24</td>\n",
       "      <td>25</td>\n",
       "      <td>24</td>\n",
       "      <td>36</td>\n",
       "      <td>23</td>\n",
       "      <td>19</td>\n",
       "      <td>11</td>\n",
       "      <td>25</td>\n",
       "      <td>23</td>\n",
       "      <td>24</td>\n",
       "      <td>23</td>\n",
       "      <td>20</td>\n",
       "      <td>19</td>\n",
       "      <td>16</td>\n",
       "      <td>21</td>\n",
       "      <td>35</td>\n",
       "    </tr>\n",
       "    <tr>\n",
       "      <th>9</th>\n",
       "      <td>23</td>\n",
       "      <td>24</td>\n",
       "      <td>26</td>\n",
       "      <td>34</td>\n",
       "      <td>24</td>\n",
       "      <td>19</td>\n",
       "      <td>14</td>\n",
       "      <td>25</td>\n",
       "      <td>23</td>\n",
       "      <td>26</td>\n",
       "      <td>22</td>\n",
       "      <td>23</td>\n",
       "      <td>21</td>\n",
       "      <td>16</td>\n",
       "      <td>21</td>\n",
       "      <td>28</td>\n",
       "    </tr>\n",
       "  </tbody>\n",
       "</table>\n",
       "</div>"
      ],
      "text/plain": [
       "  busan chungbuk chungnam daegu daejeon gangwon gwangju gyeongbuk gyeonggi  \\\n",
       "0    15       13       16    17      14      10      11        16       12   \n",
       "1    18       13       13    18      13      10      10        17       12   \n",
       "2    20       14       12    16      11      10       8        18       13   \n",
       "3    19       15       13    17      14      12       6        20       15   \n",
       "4    20       16       17    17      14      15       6        23       17   \n",
       "5    22       19       19    19      14      14       6        25       19   \n",
       "6    23       20       21    27      17      16       6        26       21   \n",
       "7    25       25       23    33      21      17       8        26       22   \n",
       "8    24       25       24    36      23      19      11        25       23   \n",
       "9    23       24       26    34      24      19      14        25       23   \n",
       "\n",
       "  gyeongnam incheon jeju jeonbuk jeonnam seoul ulsan  \n",
       "0         8      12   23      10      14     9    20  \n",
       "1         8      13   18       9      13    10    23  \n",
       "2        11      14   15      10      12    10    24  \n",
       "3        12      16   13       9      11    12    25  \n",
       "4        14      19    8      10       9    13    25  \n",
       "5        16      20    8      10       9    16    29  \n",
       "6        19      22   10      13      11    17    32  \n",
       "7        23      24   10      13      13    20    33  \n",
       "8        24      23   20      19      16    21    35  \n",
       "9        26      22   23      21      16    21    28  "
      ]
     },
     "execution_count": 4,
     "metadata": {},
     "output_type": "execute_result"
    }
   ],
   "source": [
    "pm10DF.head(10)"
   ]
  },
  {
   "cell_type": "code",
   "execution_count": 5,
   "metadata": {},
   "outputs": [],
   "source": [
    "pm10DF_ulsan = pm10DF['ulsan']"
   ]
  },
  {
   "cell_type": "code",
   "execution_count": 6,
   "metadata": {},
   "outputs": [],
   "source": [
    "pm10DF.to_csv(\"xmlproj.csv\",header=False,index=False)"
   ]
  },
  {
   "cell_type": "code",
   "execution_count": 7,
   "metadata": {},
   "outputs": [],
   "source": [
    "pm10DF_chungbuk = pm10DF['chungbuk']"
   ]
  },
  {
   "cell_type": "code",
   "execution_count": 8,
   "metadata": {},
   "outputs": [
    {
     "data": {
      "text/plain": [
       "busan        1.518202e+18\n",
       "chungbuk     1.313142e+18\n",
       "chungnam     1.613121e+18\n",
       "daegu        1.718162e+18\n",
       "daejeon      1.413111e+18\n",
       "gangwon      1.010101e+18\n",
       "gwangju      1.110867e+12\n",
       "gyeongbuk    1.617182e+18\n",
       "gyeonggi     1.212132e+18\n",
       "gyeongnam    8.811121e+16\n",
       "incheon      1.213142e+18\n",
       "jeju         2.318151e+16\n",
       "jeonbuk      1.091091e+16\n",
       "jeonnam      1.413121e+16\n",
       "seoul        9.101012e+17\n",
       "ulsan        2.023243e+18\n",
       "dtype: float64"
      ]
     },
     "execution_count": 8,
     "metadata": {},
     "output_type": "execute_result"
    }
   ],
   "source": [
    "pm10DF.mean()"
   ]
  },
  {
   "cell_type": "code",
   "execution_count": 9,
   "metadata": {},
   "outputs": [],
   "source": [
    "import matplotlib.pyplot as plt\n",
    "x = list(range(len(pm10DF_ulsan)))\n"
   ]
  },
  {
   "cell_type": "code",
   "execution_count": 27,
   "metadata": {},
   "outputs": [
    {
     "data": {
      "image/png": "[encoded data removed]",
      "text/plain": [
       "<Figure size 432x288 with 1 Axes>"
      ]
     },
     "metadata": {
      "needs_background": "light"
     },
     "output_type": "display_data"
    }
   ],
   "source": [
    "plt.plot(x, pm10DF_ulsan, 'g*--', label='Ulsan')\n",
    "plt.plot(x, pm10DF_chungbuk,  'r*--', label='Chungbuk')\n",
    "plt.ylabel('PM10')\n",
    "plt.legend()\n",
    "plt.show()"
   ]
  },
  {
   "cell_type": "code",
   "execution_count": 11,
   "metadata": {},
   "outputs": [
    {
     "data": {
      "image/png": "[encoded data removed]",
      "text/plain": [
       "<Figure size 432x288 with 1 Axes>"
      ]
     },
     "metadata": {
      "needs_background": "light"
     },
     "output_type": "display_data"
    }
   ],
   "source": [
    "plt.bar(pm10DF['busan'], pm10DF['gyeonggi'],color='g')\n",
    "plt.show()"
   ]
  },
  {
   "cell_type": "code",
   "execution_count": 12,
   "metadata": {
    "scrolled": true
   },
   "outputs": [
    {
     "data": {
      "text/plain": [
       "[<matplotlib.lines.Line2D at 0x23b83684ec8>]"
      ]
     },
     "execution_count": 12,
     "metadata": {},
     "output_type": "execute_result"
    },
    {
     "data": {
      "image/png": "[encoded data removed]",
      "text/plain": [
       "<Figure size 432x288 with 1 Axes>"
      ]
     },
     "metadata": {
      "needs_background": "light"
     },
     "output_type": "display_data"
    }
   ],
   "source": [
    "fig=plt.figure()\n",
    "ax1=fig.add_subplot(1,2,1)\n",
    "ax1.plot(pm10DF['seoul'])"
   ]
  },
  {
   "cell_type": "code",
   "execution_count": 13,
   "metadata": {},
   "outputs": [
    {
     "data": {
      "text/plain": [
       "busan        25.0\n",
       "chungbuk     25.0\n",
       "chungnam     26.0\n",
       "daegu        36.0\n",
       "daejeon      24.0\n",
       "gangwon      19.0\n",
       "gwangju       8.0\n",
       "gyeongbuk    26.0\n",
       "gyeonggi     23.0\n",
       "gyeongnam     8.0\n",
       "incheon      24.0\n",
       "jeju          8.0\n",
       "jeonbuk       9.0\n",
       "jeonnam       9.0\n",
       "seoul         9.0\n",
       "ulsan        35.0\n",
       "dtype: float64"
      ]
     },
     "execution_count": 13,
     "metadata": {},
     "output_type": "execute_result"
    }
   ],
   "source": [
    "pm10DF.max()"
   ]
  },
  {
   "cell_type": "code",
   "execution_count": 14,
   "metadata": {},
   "outputs": [
    {
     "data": {
      "text/plain": [
       "'9'"
      ]
     },
     "execution_count": 14,
     "metadata": {},
     "output_type": "execute_result"
    }
   ],
   "source": [
    "pm10DF.iloc[1].max()"
   ]
  },
  {
   "cell_type": "code",
   "execution_count": 15,
   "metadata": {},
   "outputs": [
    {
     "data": {
      "text/plain": [
       "busan        15.0\n",
       "chungbuk     13.0\n",
       "chungnam     12.0\n",
       "daegu        16.0\n",
       "daejeon      11.0\n",
       "gangwon      10.0\n",
       "gwangju      10.0\n",
       "gyeongbuk    16.0\n",
       "gyeonggi     12.0\n",
       "gyeongnam    11.0\n",
       "incheon      12.0\n",
       "jeju         10.0\n",
       "jeonbuk      10.0\n",
       "jeonnam      11.0\n",
       "seoul        10.0\n",
       "ulsan        20.0\n",
       "dtype: float64"
      ]
     },
     "execution_count": 15,
     "metadata": {},
     "output_type": "execute_result"
    }
   ],
   "source": [
    "pm10DF.min()"
   ]
  },
  {
   "cell_type": "code",
   "execution_count": 17,
   "metadata": {},
   "outputs": [],
   "source": [
    "pm10DF_ulsan.to_csv(\"ulsan.csv\",header=False,index=False)\n",
    "pm10DF_chungbuk.to_csv(\"chungbuk.csv\",header=False,index=False)"
   ]
  }
 ],
 "metadata": {
  "kernelspec": {
   "display_name": "Python 3",
   "language": "python",
   "name": "python3"
  },
  "language_info": {
   "codemirror_mode": {
    "name": "ipython",
    "version": 3
   },
   "file_extension": ".py",
   "mimetype": "text/x-python",
   "name": "python",
   "nbconvert_exporter": "python",
   "pygments_lexer": "ipython3",
   "version": "3.7.6"
  }
 },
 "nbformat": 4,
 "nbformat_minor": 4
}
