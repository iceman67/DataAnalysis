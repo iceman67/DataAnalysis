{
 "cells": [
  {
   "cell_type": "code",
   "execution_count": null,
   "metadata": {
    "colab": {
     "base_uri": "https://localhost:8080/"
    },
    "id": "c2sb-Ib7dofh",
    "outputId": "7748f947-f166-4b0b-90d6-5371d6d1a431"
   },
   "outputs": [
    {
     "name": "stdout",
     "output_type": "stream",
     "text": [
      "Mounted at /content/drive\n"
     ]
    }
   ],
   "source": [
    "import os, sys\n",
    "from google.colab import drive\n",
    "drive.mount('/content/drive')\n",
    "\n",
    "my_path = '/content/notebooks'\n",
    "# Colab Notebooks 안에 my_env 폴더에 패키지 저장\n",
    "os.symlink('/content/drive/My Drive/Colab Notebooks/my_env', my_path)\n",
    "sys.path.insert(0, my_path)"
   ]
  },
  {
   "cell_type": "code",
   "execution_count": null,
   "metadata": {
    "colab": {
     "base_uri": "https://localhost:8080/"
    },
    "id": "NasNaN0EgpRv",
    "outputId": "0a6e3ab0-ad70-49c4-8372-981ff7294999"
   },
   "outputs": [
    {
     "name": "stdout",
     "output_type": "stream",
     "text": [
      "Append Complete!\n"
     ]
    }
   ],
   "source": [
    "import pandas as pd\n",
    "from bs4 import BeautifulSoup\n",
    "import requests\n",
    "import os\n",
    "\n",
    "\n",
    "AirInfo={}\n",
    "StationName = []\n",
    "CheckDate = []\n",
    "Data = []\n",
    "\n",
    "url='http://openapi.seoul.go.kr:8088/7250684472616c613538487170424f/xml/airPolutionInfo/1/5/'\n",
    "req=requests.get(url)\n",
    "html=req.text\n",
    "soup=BeautifulSoup(html, 'html.parser')\n",
    "\n",
    "\n",
    "Station = soup.find_all('area_nm')\n",
    "Date = soup.find_all('checkdate')\n",
    "Value = soup.find_all('pmq')\n",
    "\n",
    "    \n",
    "for code in Station:\n",
    "  StationName.append(code.text)\n",
    "for code in Date:\n",
    "  CheckDate.append(code.text)\n",
    "\n",
    "for code in Value:\n",
    "  Data.append(code.text)\n",
    "\n",
    "\n",
    "AirInfo['역명'] = StationName\n",
    "AirInfo['날짜'] = CheckDate\n",
    "AirInfo['수치'] = Data\n",
    "\n",
    "\n",
    "df = pd.DataFrame(AirInfo)\n",
    "\n",
    "\n",
    "\n",
    "if not os.path.exists('/content/drive/My Drive/Colab Notebooks/SubAir.csv'):\n",
    "  df.to_csv('/content/drive/My Drive/Colab Notebooks/SubAir.csv', header = True, index=False, mode='w', encoding='utf-8-sig')\n",
    "  print('Write complete!')\n",
    "else:\n",
    "  df.to_csv('/content/drive/My Drive/Colab Notebooks/SubAir.csv', header = False,index=False, mode='a', encoding='utf-8-sig')\n",
    "  print('Append Complete!')\n",
    "#df.to_csv('/content/drive/My Drive/Colab Notebooks/subwayair.csv', header=True, index = False, encoding='utf-8') # CSV append 저장 부분\n",
    "    "
   ]
  },
  {
   "cell_type": "markdown",
   "metadata": {
    "id": "pdoKidIphpdk"
   },
   "source": [
    "# 새 섹션"
   ]
  }
 ],
 "metadata": {
  "colab": {
   "collapsed_sections": [],
   "name": "XML텀프로젝트",
   "provenance": []
  },
  "kernelspec": {
   "display_name": "Python 3",
   "name": "python3"
  }
 },
 "nbformat": 4,
 "nbformat_minor": 0
}
