{
 "cells": [
  {
   "cell_type": "markdown",
   "metadata": {},
   "source": [
    "키보드를 통하여 학생 점수를 0점 숫자가 나올 때까지 입력받아 0점을 제외한 나머지 점수의 평균을 리턴하는 함수 만들기    "
   ]
  },
  {
   "cell_type": "code",
   "execution_count": 12,
   "metadata": {},
   "outputs": [
    {
     "name": "stdout",
     "output_type": "stream",
     "text": [
      "input number :\n",
      "10\n",
      "input number :\n",
      "20\n",
      "input number :\n",
      "0\n",
      "[10, 20]\n",
      "average = 15.000000\n"
     ]
    }
   ],
   "source": [
    "def get_average():\n",
    "    scores = []\n",
    "    while True:\n",
    "        print (\"input number :\")\n",
    "        score = int(input())\n",
    "        if score != 0:\n",
    "            scores.append(score) \n",
    "        else:\n",
    "            break\n",
    "    # print (scores)    \n",
    "    return sum(scores)/len(scores)\n",
    "    \n",
    "avg = get_average()\n",
    "print (\"average = %f\" % avg)"
   ]
  },
  {
   "cell_type": "code",
   "execution_count": null,
   "metadata": {},
   "outputs": [],
   "source": []
  }
 ],
 "metadata": {
  "kernelspec": {
   "display_name": "Python 3",
   "language": "python",
   "name": "python3"
  },
  "language_info": {
   "codemirror_mode": {
    "name": "ipython",
    "version": 3
   },
   "file_extension": ".py",
   "mimetype": "text/x-python",
   "name": "python",
   "nbconvert_exporter": "python",
   "pygments_lexer": "ipython3",
   "version": "3.7.4"
  }
 },
 "nbformat": 4,
 "nbformat_minor": 2
}
