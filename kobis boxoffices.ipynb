{
 "cells": [
  {
   "cell_type": "code",
   "execution_count": 1,
   "metadata": {},
   "outputs": [],
   "source": [
    "key='dac1451451ff54f43e1f0f59d3356f86'"
   ]
  },
  {
   "cell_type": "code",
   "execution_count": 7,
   "metadata": {},
   "outputs": [],
   "source": [
    "from bs4 import BeautifulSoup\n",
    "import requests as req\n",
    "  \n",
    "    \n",
    "basic_url = \"http://www.kobis.or.kr/kobisopenapi/webservice/rest/boxoffice/searchDailyBoxOfficeList.xml?\"\n",
    "mDate=20200401\n",
    "\n",
    "# key는 http://www.kobis.or.kr/kobisopenapi 에서 발급받아 사용하 \n",
    "mURL = basic_url + \"key=\" + key +\"&\" + 'targetDt='+ str(mDate)"
   ]
  },
  {
   "cell_type": "code",
   "execution_count": 3,
   "metadata": {},
   "outputs": [],
   "source": [
    "resp = req.get(mURL)"
   ]
  },
  {
   "cell_type": "code",
   "execution_count": 4,
   "metadata": {},
   "outputs": [],
   "source": [
    "soup = BeautifulSoup(resp.content, \"xml\") \n",
    "#soup"
   ]
  },
  {
   "cell_type": "code",
   "execution_count": 5,
   "metadata": {},
   "outputs": [],
   "source": [
    "titles = soup.find_all('movieNm')"
   ]
  },
  {
   "cell_type": "code",
   "execution_count": 6,
   "metadata": {},
   "outputs": [
    {
     "name": "stdout",
     "output_type": "stream",
     "text": [
      "엽문4: 더 파이널\n",
      "주디\n",
      "1917\n",
      "인비저블맨\n",
      "n번째 이별 중\n",
      "스케어리 스토리:어둠의 속삭임 \n",
      "날씨의 아이\n",
      "라라랜드\n",
      "너의 이름은.\n",
      "다크 워터스 \n"
     ]
    }
   ],
   "source": [
    "for i in range(0, len(titles)):\n",
    "    print(titles[i].get_text())\n",
    "    "
   ]
  },
  {
   "cell_type": "code",
   "execution_count": null,
   "metadata": {},
   "outputs": [],
   "source": []
  }
 ],
 "metadata": {
  "kernelspec": {
   "display_name": "Python 3",
   "language": "python",
   "name": "python3"
  },
  "language_info": {
   "codemirror_mode": {
    "name": "ipython",
    "version": 3
   },
   "file_extension": ".py",
   "mimetype": "text/x-python",
   "name": "python",
   "nbconvert_exporter": "python",
   "pygments_lexer": "ipython3",
   "version": "3.7.4"
  }
 },
 "nbformat": 4,
 "nbformat_minor": 2
}
