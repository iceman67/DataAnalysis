{
 "cells": [
  {
   "cell_type": "code",
   "execution_count": 1,
   "metadata": {},
   "outputs": [],
   "source": [
    "import json"
   ]
  },
  {
   "cell_type": "code",
   "execution_count": 9,
   "metadata": {},
   "outputs": [],
   "source": [
    "# some JSON:\n",
    "x = ' { \"name\":\"John\", \"age\":30, \"city\":\"New York\" }'"
   ]
  },
  {
   "cell_type": "code",
   "execution_count": 12,
   "metadata": {},
   "outputs": [
    {
     "name": "stdout",
     "output_type": "stream",
     "text": [
      "30\n",
      "John\n"
     ]
    }
   ],
   "source": [
    "# parse x:\n",
    "y = json.loads(x)\n",
    "# the result is a Python dictionary:\n",
    "print(y[\"age\"]) \n",
    "print(y[\"name\"]) "
   ]
  },
  {
   "cell_type": "code",
   "execution_count": 13,
   "metadata": {},
   "outputs": [],
   "source": [
    "with open(\"questions_and_answers.json\", \"r\", encoding = \"utf8\") as f:\n",
    "    contents = f.read()\n",
    "    json_ex = json.loads(contents)"
   ]
  },
  {
   "cell_type": "code",
   "execution_count": 14,
   "metadata": {},
   "outputs": [
    {
     "name": "stdout",
     "output_type": "stream",
     "text": [
      "Which one is correct team name in NBA? \n",
      "\n"
     ]
    }
   ],
   "source": [
    "print(json_ex[\"quiz\"][\"sport\"][\"q1\"][\"question\"] + \" \\n\")"
   ]
  },
  {
   "cell_type": "code",
   "execution_count": 15,
   "metadata": {},
   "outputs": [
    {
     "name": "stdout",
     "output_type": "stream",
     "text": [
      "1. New York Bulls\n",
      "2. Los Angeles Kings\n",
      "3. Golden State Warriors\n",
      "4. Huston Rocket\n"
     ]
    }
   ],
   "source": [
    "options = json_ex[\"quiz\"][\"sport\"][\"q1\"][\"options\"]\n",
    "for i in range(len(options)):\n",
    "    print(str(i+1) +\". \"+options[i])"
   ]
  },
  {
   "cell_type": "code",
   "execution_count": 16,
   "metadata": {},
   "outputs": [
    {
     "name": "stdout",
     "output_type": "stream",
     "text": [
      " \n",
      "answer Huston Rocket\n"
     ]
    }
   ],
   "source": [
    "print(\" \\n\" \"answer \" + json_ex[\"quiz\"][\"sport\"][\"q1\"][\"answer\"] )\n"
   ]
  },
  {
   "cell_type": "code",
   "execution_count": 17,
   "metadata": {},
   "outputs": [
    {
     "name": "stdout",
     "output_type": "stream",
     "text": [
      "{\"name\": \"John\", \"age\": 30, \"city\": \"New York\"}\n"
     ]
    }
   ],
   "source": [
    "# 파이썬 객체를 JSON 문자열로 변환\n",
    "x = {\n",
    "\"name\": \"John\",\n",
    "\"age\": 30,\n",
    "\"city\": \"New York\"\n",
    "}\n",
    "y = json.dumps(x)\n",
    "print(y) "
   ]
  }
 ],
 "metadata": {
  "kernelspec": {
   "display_name": "Python 3",
   "language": "python",
   "name": "python3"
  },
  "language_info": {
   "codemirror_mode": {
    "name": "ipython",
    "version": 3
   },
   "file_extension": ".py",
   "mimetype": "text/x-python",
   "name": "python",
   "nbconvert_exporter": "python",
   "pygments_lexer": "ipython3",
   "version": "3.7.4"
  }
 },
 "nbformat": 4,
 "nbformat_minor": 2
}
